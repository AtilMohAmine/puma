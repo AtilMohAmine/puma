{
 "cells": [
  {
   "cell_type": "markdown",
   "metadata": {
    "pycharm": {
     "name": "#%% md\n"
    }
   },
   "source": [
    "# Tutorial: STL generation and output\n",
    "\n",
    "In this tutorial, we will generate a water-tight STL file, visualize the STL, and output to file\n",
    "\n",
    "The pumapy STL generation uses the Lewiner marching cubes implementation from scikit-image. The c++ version of PuMA also includes an implementation of the original and Lewiner marching cubes. \n",
    "\n",
    "The Lewiner marching cubes method is used to generate STLs because the surface is guaranteed to be topologically correct (i.e watertight). The original marching cubes is suitable for visualization purposes, but had ambiguitites that resulted in small holes in the surface mesh. "
   ]
  },
  {
   "cell_type": "markdown",
   "metadata": {},
   "source": [
    "First, we must import puma:"
   ]
  },
  {
   "cell_type": "code",
   "execution_count": 1,
   "metadata": {
    "pycharm": {
     "name": "#%%\n"
    }
   },
   "outputs": [],
   "source": [
    "import numpy as np\n",
    "import os\n",
    "import sys\n",
    "\n",
    "# Note - \"conda activate puma\" must be run prior to calling pumapy\n",
    "import pumapy as puma\n",
    "\n",
    "# Note - the first time puma is run on a machine, the import command will take a couple minutes as the cython code has to be compiled"
   ]
  },
  {
   "cell_type": "markdown",
   "metadata": {},
   "source": [
    "Next we must either import or generate a material. Here we will import a material. If you prefer to generate a material instead, refer to the material generation tutorials. "
   ]
  },
  {
   "cell_type": "code",
   "execution_count": null,
   "metadata": {
    "pycharm": {
     "name": "#%%\n"
    }
   },
   "outputs": [],
   "source": [
    "# Next we will import an example tomography file of size 200^3 and voxel length 1.3e-6\n",
    "ws_imported = puma.import_3Dtiff(\"python/tests/testdata/200_FiberForm.tif\", 1.3e-6)\n"
   ]
  },
  {
   "cell_type": "markdown",
   "metadata": {},
   "source": [
    "The workspace above has not been segmented yet. In the case of generated workspaces, the generated material is typically stored for a grayscale [128,255] and the void phase is stored between [0,127]. \n",
    "\n",
    "In this case, the appropriate grayscale cutoff for the imported tomography sample is 90, such that [90,255] is material and [0,89] is the void. These values will be different for each tomography image. \n",
    "\n",
    "It is usually better to generate an STL based on a non-segmented material. This is because the segmentation process removes most of the information defining the surface from the tomography data. As an illustration, the code below will visualze the segmented and non-segmented versions of the imported tomography file. "
   ]
  },
  {
   "cell_type": "code",
   "execution_count": null,
   "metadata": {},
   "outputs": [],
   "source": [
    "ws_segmented = ws_imported.copy()\n",
    "ws_segmented.binarize(90)\n",
    "\n",
    "puma.render_contour(ws_imported, (90,255))\n",
    "puma.render_contour(ws_segmented, (1,1))\n"
   ]
  },
  {
   "cell_type": "markdown",
   "metadata": {},
   "source": [
    "As you can see, the non-segmented image provides a far superior surface representation. Because of this, we will use the non-segmented material for the STL generation. \n",
    "\n",
    "In order to output an STL, one must simply call the puma.export_stl function, as shown below:"
   ]
  },
  {
   "cell_type": "code",
   "execution_count": null,
   "metadata": {},
   "outputs": [],
   "source": [
    "filename = \"python/tests/out/FiberForm-nonsegmented.stl\"\n",
    "cutoff = (90,255)  # tuple containing the grayscale range of the material to be exported\n",
    "flag_closed_edges = True  # flag for whether to cap the regions of the material that intersect with the domain boundary\n",
    "\n",
    "puma.export_stl(filename, ws_imported, cutoff, flag_closed_edges)"
   ]
  },
  {
   "cell_type": "markdown",
   "metadata": {},
   "source": [
    "If you have no choice but to use a segmented image to export an stl, the flag_gauissian option can be set to True, which will apply a gauissian blur to the image prior to running the marching cubes algorithm. This will make the surface appear more smooth, but will also blur out any sharp features that may be present in the actual microstructure. "
   ]
  },
  {
   "cell_type": "code",
   "execution_count": null,
   "metadata": {},
   "outputs": [],
   "source": [
    "filename = \"python/tests/out/FiberForm-segmented.stl\"\n",
    "cutoff = (1,1)  # tuple containing the grayscale range of the material to be exported\n",
    "flag_closed_edges = True  # flag for whether to cap the regions of the material that intersect with the domain boundary\n",
    "\n",
    "puma.export_stl(filename, ws_segmented, cutoff, flag_closed_edges, flag_gaussian=False)\n",
    "\n",
    "filename = \"python/tests/out/FiberForm-segmented-gaussian.stl\"\n",
    "puma.export_stl(filename, ws_segmented, cutoff, flag_closed_edges, flag_gaussian=True)"
   ]
  },
  {
   "cell_type": "markdown",
   "metadata": {},
   "source": [
    "The STLs can be imported into other software for simulation or visualization purposes"
   ]
  },
  {
   "cell_type": "code",
   "execution_count": null,
   "metadata": {},
   "outputs": [],
   "source": []
  }
 ],
 "metadata": {
  "kernelspec": {
   "display_name": "Python 3",
   "language": "python",
   "name": "python3"
  },
  "language_info": {
   "codemirror_mode": {
    "name": "ipython",
    "version": 3
   },
   "file_extension": ".py",
   "mimetype": "text/x-python",
   "name": "python",
   "nbconvert_exporter": "python",
   "pygments_lexer": "ipython3",
   "version": "3.7.4"
  }
 },
 "nbformat": 4,
 "nbformat_minor": 4
}
