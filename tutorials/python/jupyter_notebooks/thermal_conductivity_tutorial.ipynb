{
 "cells": [
  {
   "cell_type": "markdown",
   "metadata": {
    "pycharm": {
     "name": "#%% md\n"
    }
   },
   "source": [
    "![puma logo](https://github.com/nasa/puma/raw/main/doc/source/puma_logo.png)\n",
    "# Welcome to the PuMA tutorial"
   ]
  },
  {
   "cell_type": "markdown",
   "metadata": {
    "pycharm": {
     "name": "#%% md\n"
    }
   },
   "source": [
    "The objective of this notebook is to familiarize new users with the main datastructures that stand at the basis of the PuMA project, and outline the functions to compute material properties (please refer to these papers ([1](https://www.sciencedirect.com/science/article/pii/S2352711018300281), [2](https://www.sciencedirect.com/science/article/pii/S235271102100090X)) for more details on the software)."
   ]
  },
  {
   "cell_type": "markdown",
   "metadata": {
    "pycharm": {
     "name": "#%% md\n"
    }
   },
   "source": [
    "# Installation setup and imports"
   ]
  },
  {
   "cell_type": "markdown",
   "metadata": {
    "pycharm": {
     "name": "#%% md\n"
    }
   },
   "source": [
    "The first code block will execute the necessary installation and package import. \n",
    "\n",
    "If you are running this jupyter notebook locally on your machine, assuming you have already installed the software, then the installation step will be skipped.\n"
   ]
  },
  {
   "cell_type": "code",
   "execution_count": 1,
   "metadata": {
    "pycharm": {
     "name": "#%%\n"
    }
   },
   "outputs": [],
   "source": [
    "if 'google.colab' in str(get_ipython()):\n",
    "    !pip install 'git+https://github.com/nasa/puma'\n",
    "    !pip install -q piglet pyvirtualdisplay\n",
    "    !apt-get -qq install xvfb\n",
    "\n",
    "import numpy as np\n",
    "import pumapy as puma\n",
    "import pyvista as pv\n",
    "import scipy.ndimage as nd\n",
    "import os\n",
    "import sys\n",
    "\n",
    "if 'google.colab' in str(get_ipython()):\n",
    "    from pyvirtualdisplay import Display\n",
    "    display = Display(visible=0, size=(600, 400))\n",
    "    display.start()  # necessary for pyvista interactive plots\n",
    "    \n",
    "else:  # NORMAL JUPYTER NOTEBOOK\n",
    "    # for interactive slicer (only static allowed on Colab)\n",
    "    %matplotlib widget"
   ]
  },
  {
   "cell_type": "markdown",
   "metadata": {
    "pycharm": {
     "name": "#%% md\n"
    }
   },
   "source": [
    "## Tutorial: Thermal Conductivity\n",
    "In this tutorial we demonstrate how to compute the effective thermal conductivity of a material based on its microstructure and constituent properties. In this example, we compute the thermal conductivity of FiberForm, a carbon fiber based material. \n",
    "\n",
    "Note: The sample size used in this example is very small, well below the size needed for a representative volume of the sample. "
   ]
  },
  {
   "cell_type": "markdown",
   "metadata": {
    "pycharm": {
     "name": "#%% md\n"
    }
   },
   "source": [
    "### Isotropic conductivity"
   ]
  },
  {
   "cell_type": "markdown",
   "metadata": {
    "pycharm": {
     "name": "#%% md\n"
    }
   },
   "source": [
    "We will show a thermal conductivity simulation based on a non-segmented representation of the material. In the example material used, the void phase is contained in grayscale range [0,89] and the solid phase is contained in the grayscale range of [90,255]. This range varies for each tomography sample.\n",
    "\n",
    "The outputs of the thermal conductivity simulation are the effective thermal conductivity tensor, the steady state temperature profile, and the steady state heat flux. "
   ]
  },
  {
   "cell_type": "code",
   "execution_count": 2,
   "metadata": {
    "pycharm": {
     "name": "#%%\n"
    }
   },
   "outputs": [
    {
     "name": "stdout",
     "output_type": "stream",
     "text": [
      "Importing /Users/josephferguson/miniconda/envs/puma/lib/python3.9/site-packages/pumapy/data/200_fiberform.tif ... Done\n",
      "Approximate memory requirement for simulation: 227.13 MB\n",
      "Creating conductivity matrix ... Done\n",
      "Initializing temperature field ... Done\n",
      "Setting up b matrix ... Done\n",
      "Assembling A matrix ... 100.0% Done\n",
      "Setting up preconditioner ...Done\n",
      "Time to assemble matrices:  0.4958141169999992\n",
      "Solving Ax=b using cg solver\n",
      "Iteration: 1301, driving modified residual = 0.0009861698 --> target = 0.0010000000 ... Done\n",
      "Time to solve:  32.606636559\n",
      "Computing flux from converged temperature field ... Done\n",
      "\n",
      "Effective tensor (first column): \n",
      "[0.8749046981927542, -0.21391987120312525, -0.11036496798052424]\n",
      "\n",
      "Approximate memory requirement for simulation: 227.13 MB\n",
      "Creating conductivity matrix ... Done\n",
      "Initializing temperature field ... Done\n",
      "Setting up b matrix ... Done\n",
      "Assembling A matrix ... 100.0% Done\n",
      "Setting up preconditioner ...Done\n",
      "Time to assemble matrices:  0.3579874780000054\n",
      "Solving Ax=b using cg solver\n",
      "Iteration: 689, driving modified residual = 0.0009856476 --> target = 0.0010000000 ... Done\n",
      "Time to solve:  16.834949619\n",
      "Computing flux from converged temperature field ... Done\n",
      "\n",
      "Effective tensor (second column): \n",
      "[-0.0010816800157170212, 1.4429906660071716, -0.042335863967808376]\n",
      "\n",
      "Approximate memory requirement for simulation: 227.13 MB\n",
      "Creating conductivity matrix ... Done\n",
      "Initializing temperature field ... Done\n",
      "Setting up b matrix ... Done\n",
      "Assembling A matrix ... 100.0% Done\n",
      "Setting up preconditioner ...Done\n",
      "Time to assemble matrices:  0.3729023819999995\n",
      "Solving Ax=b using cg solver\n",
      "Iteration: 951, driving modified residual = 0.0009957866 --> target = 0.0010000000 ... Done\n",
      "Time to solve:  23.437047484999994\n",
      "Computing flux from converged temperature field ... Done\n",
      "\n",
      "Effective tensor (third column): \n",
      "[-0.1499019425532782, 0.013558439468737821, 0.43375341235709086]\n",
      "\n",
      "Effective thermal conductivity tensor:\n",
      "[ 0.8749046981927542 -0.0010816800157170212 -0.1499019425532782 ]\n",
      "[ -0.21391987120312525 1.4429906660071716 0.013558439468737821 ]\n",
      "[ -0.11036496798052424 -0.042335863967808376 0.43375341235709086 ]\n"
     ]
    }
   ],
   "source": [
    "# Import an example tomography file of size 200^3 and voxel length 1.3e-6\n",
    "ws_fiberform = puma.import_3Dtiff(puma.path_to_example_file(\"200_fiberform.tif\"), 1.3e-6)\n",
    "\n",
    "# Cropping the 200x200x200 image into a 100x100x100 sample\n",
    "ws_fiberform.matrix = ws_fiberform.matrix[50:150, 50:150, 50:150]\n",
    "\n",
    "# Generating a conductivity map. This stores the conductivity values for each phase of the material\n",
    "cond_map = puma.IsotropicConductivityMap()\n",
    "# First, we set the conductivity of the void phase to be 0.0257 (air at STP)\n",
    "cond_map.add_material((0, 89), 0.0257)\n",
    "# Next we set the conductivity of the solid phase to be 12 (typical value for carbon fiber)\n",
    "cond_map.add_material((90, 255), 12)\n",
    "\n",
    "# The thermal conductivity calculation needs to be run for each of the three simulation directions. \n",
    "# For each simulation, a temperature gradient is forced in the simulation direction, and converged to steady state\n",
    "\n",
    "# Simulation inputs: \n",
    "#.  1. workspace - the computational domain for the simulation, containing your material microstructure\n",
    "#.  2. cond_map - the conductivity values for each material phase\n",
    "#.  3. direction - the simulation direction, 'x', 'y', or 'z'\n",
    "#.  4. side_bc - boundary condition in the non-simulation direction. Can be 'p' - periodic, 's' - symmetric, 'd' - dirichlet\n",
    "#.  5. tolerance - accuracy of the numerical solver, defaults to 1e-4. \n",
    "#.  6. maxiter - maximum number of iterations, defaults to 10,000\n",
    "#.  7. solver_type - the iterative solver used. Can be 'bicgstab', 'cg', 'gmres', or 'direct'. Defaults to 'bicgstab'\n",
    "\n",
    "k_eff_x, T_x, q_x = puma.compute_thermal_conductivity(ws_fiberform, cond_map, 'x', 's', tolerance=1e-3, solver_type='cg')\n",
    "k_eff_y, T_y, q_y = puma.compute_thermal_conductivity(ws_fiberform, cond_map, 'y', 's', tolerance=1e-3, solver_type='cg')\n",
    "k_eff_z, T_z, q_z = puma.compute_thermal_conductivity(ws_fiberform, cond_map, 'z', 's', tolerance=1e-3, solver_type='cg')\n",
    "\n",
    "print(\"Effective thermal conductivity tensor:\")\n",
    "print(\"[\", k_eff_x[0], k_eff_y[0], k_eff_z[0], \"]\")\n",
    "print(\"[\", k_eff_x[1], k_eff_y[1], k_eff_z[1], \"]\")\n",
    "print(\"[\", k_eff_x[2], k_eff_y[2], k_eff_z[2], \"]\")"
   ]
  },
  {
   "cell_type": "code",
   "execution_count": 3,
   "metadata": {
    "pycharm": {
     "name": "#%%\n"
    }
   },
   "outputs": [
    {
     "name": "stderr",
     "output_type": "stream",
     "text": [
      "\u001b[0m\u001b[33m2022-07-02 14:48:13.381 (  75.458s) [          2270EA]       vtkThreshold.cxx:96    WARN| vtkThreshold::ThresholdBetween was deprecated for VTK 9.1 and will be removed in a future version.\u001b[0m\n"
     ]
    },
    {
     "data": {
      "application/vnd.jupyter.widget-view+json": {
       "model_id": "40edc3ca2c4940189dc21ce402f154d5",
       "version_major": 2,
       "version_minor": 0
      },
      "text/plain": [
       "ViewInteractiveWidget(height=1200, layout=Layout(height='auto', width='100%'), width=1920)"
      ]
     },
     "metadata": {},
     "output_type": "display_data"
    }
   ],
   "source": [
    "# Visualize both the temperature field and the fibers\n",
    "p = pv.Plotter(notebook=True)\n",
    "p.add_text(\"Fibers with Temperature field for x simulation\")\n",
    "puma.render_contour(ws_fiberform, cutoff=(90, 255), notebook=True, add_to_plot=p, plot_directly=False)\n",
    "puma.render_volume(T_x[:, :2*T_x.shape[1]//3], solid_color=None, cmap='jet', notebook=True, add_to_plot=p, plot_directly=False)\n",
    "p.show()"
   ]
  },
  {
   "cell_type": "code",
   "execution_count": 4,
   "metadata": {
    "pycharm": {
     "name": "#%%\n"
    }
   },
   "outputs": [
    {
     "name": "stderr",
     "output_type": "stream",
     "text": [
      "\u001b[0m\u001b[33m2022-07-02 14:48:14.617 (  76.694s) [          2270EA]       vtkThreshold.cxx:96    WARN| vtkThreshold::ThresholdBetween was deprecated for VTK 9.1 and will be removed in a future version.\u001b[0m\n"
     ]
    },
    {
     "data": {
      "application/vnd.jupyter.widget-view+json": {
       "model_id": "9556307a24df4e37bc41d8a1edbbaa49",
       "version_major": 2,
       "version_minor": 0
      },
      "text/plain": [
       "ViewInteractiveWidget(height=1200, layout=Layout(height='auto', width='100%'), width=1920)"
      ]
     },
     "metadata": {},
     "output_type": "display_data"
    }
   ],
   "source": [
    "# Visualizing the flux magnitude: \n",
    "puma.render_volume(np.linalg.norm(q_x, axis=3), notebook=True, cmap='jet')"
   ]
  },
  {
   "cell_type": "markdown",
   "metadata": {
    "pycharm": {
     "name": "#%% md\n"
    }
   },
   "source": [
    "Below is an example of a thermal conductivity simulation, but now performed on a segmented image in order to show an alternative option."
   ]
  },
  {
   "cell_type": "code",
   "execution_count": 5,
   "metadata": {
    "pycharm": {
     "name": "#%%\n"
    }
   },
   "outputs": [
    {
     "name": "stdout",
     "output_type": "stream",
     "text": [
      "Approximate memory requirement for simulation: 227.13 MB\n",
      "Creating conductivity matrix ... Done\n",
      "Initializing temperature field ... Done\n",
      "Setting up b matrix ... Done\n",
      "Assembling A matrix ... 100.0% Done\n",
      "Setting up preconditioner ...Done\n",
      "Time to assemble matrices:  0.4871802360000004\n",
      "Solving Ax=b using cg solver\n",
      "Iteration: 1301, driving modified residual = 0.0009861698 --> target = 0.0010000000 ... Done\n",
      "Time to solve:  30.816589261999994\n",
      "Computing flux from converged temperature field ... Done\n",
      "\n",
      "Effective tensor (first column): \n",
      "[0.8749046981927542, -0.21391987120312525, -0.11036496798052424]\n",
      "\n",
      "Approximate memory requirement for simulation: 227.13 MB\n",
      "Creating conductivity matrix ... Done\n",
      "Initializing temperature field ... Done\n",
      "Setting up b matrix ... Done\n",
      "Assembling A matrix ... 100.0% Done\n",
      "Setting up preconditioner ...Done\n",
      "Time to assemble matrices:  0.3482955040000064\n",
      "Solving Ax=b using cg solver\n",
      "Iteration: 689, driving modified residual = 0.0009856476 --> target = 0.0010000000 ... Done\n",
      "Time to solve:  17.001847286\n",
      "Computing flux from converged temperature field ... Done\n",
      "\n",
      "Effective tensor (second column): \n",
      "[-0.0010816800157170212, 1.4429906660071716, -0.042335863967808376]\n",
      "\n",
      "Approximate memory requirement for simulation: 227.13 MB\n",
      "Creating conductivity matrix ... Done\n",
      "Initializing temperature field ... Done\n",
      "Setting up b matrix ... Done\n",
      "Assembling A matrix ... 100.0% Done\n",
      "Setting up preconditioner ...Done\n",
      "Time to assemble matrices:  0.35855780700001105\n",
      "Solving Ax=b using cg solver\n",
      "Iteration: 951, driving modified residual = 0.0009957866 --> target = 0.0010000000 ... Done\n",
      "Time to solve:  23.308966911\n",
      "Computing flux from converged temperature field ... Done\n",
      "\n",
      "Effective tensor (third column): \n",
      "[-0.1499019425532782, 0.013558439468737821, 0.43375341235709086]\n",
      "\n",
      "Effective thermal conductivity tensor:\n",
      "[ 0.8749046981927542 -0.0010816800157170212 -0.1499019425532782 ]\n",
      "[ -0.21391987120312525 1.4429906660071716 0.013558439468737821 ]\n",
      "[ -0.11036496798052424 -0.042335863967808376 0.43375341235709086 ]\n"
     ]
    }
   ],
   "source": [
    "# Segments the image. All values >= 90 are set to 1, and all values <90 are set to 0.\n",
    "ws_fiberform.binarize(90)\n",
    "\n",
    "# Generating a conductivity map. This stores the conductivity values for each phase of the material\n",
    "cond_map = puma.IsotropicConductivityMap()\n",
    "# First, we set the conductivity of the void phase to be 0.0257 (air at STP)\n",
    "cond_map.add_material((0, 0), 0.0257)\n",
    "# Next we set the conductivity of the solid phase to be 12 (typical value for carbon fiber)\n",
    "cond_map.add_material((1, 1), 12)\n",
    "# Note that the grayscale ranges have changed relative to the last example, since this image is already segmented\n",
    "\n",
    "# The thermal conductivity calculation needs to be run for each of the three simulation directions. \n",
    "# For each simulation, a temperature gradient is forced in the simulation direction, and converged to steady state\n",
    "\n",
    "# Simulation inputs: \n",
    "#.  1. workspace - the computational domain for the simulation, containing your material microstructure\n",
    "#.  2. cond_map - the conductivity values for each material phase\n",
    "#.  3. direction - the simulation direction, 'x', 'y', or 'z'\n",
    "#.  4. side_bc - boundary condition in the non-simulation direction. Can be 'p' - periodic, 's' - symmetric, 'd' - dirichlet\n",
    "#.  5. tolerance (optional) - accuracy of the numerical solver, defaults to 1e-4. \n",
    "#.  6. maxiter (optional) - maximum number of iterations, defaults to 10,000\n",
    "#.  7. solver_type (optional) - the iterative solver used. Can be 'bicgstab', 'cg', 'gmres', or 'direct'. Defaults to 'bicgstab'\n",
    "\n",
    "k_eff_x, T_x, q_x = puma.compute_thermal_conductivity(ws_fiberform, cond_map, 'x', 's', tolerance=1e-3, solver_type='cg')\n",
    "k_eff_y, T_y, q_y = puma.compute_thermal_conductivity(ws_fiberform, cond_map, 'y', 's', tolerance=1e-3, solver_type='cg')\n",
    "k_eff_z, T_z, q_z = puma.compute_thermal_conductivity(ws_fiberform, cond_map, 'z', 's', tolerance=1e-3, solver_type='cg')\n",
    "\n",
    "print(\"Effective thermal conductivity tensor:\")\n",
    "print(\"[\", k_eff_x[0], k_eff_y[0], k_eff_z[0], \"]\")\n",
    "print(\"[\", k_eff_x[1], k_eff_y[1], k_eff_z[1], \"]\")\n",
    "print(\"[\", k_eff_x[2], k_eff_y[2], k_eff_z[2], \"]\")\n"
   ]
  },
  {
   "cell_type": "code",
   "execution_count": 6,
   "metadata": {
    "pycharm": {
     "name": "#%%\n"
    }
   },
   "outputs": [
    {
     "name": "stderr",
     "output_type": "stream",
     "text": [
      "\u001b[0m\u001b[33m2022-07-02 14:49:27.972 ( 150.047s) [          2270EA]       vtkThreshold.cxx:96    WARN| vtkThreshold::ThresholdBetween was deprecated for VTK 9.1 and will be removed in a future version.\u001b[0m\n"
     ]
    },
    {
     "data": {
      "application/vnd.jupyter.widget-view+json": {
       "model_id": "405136b59cd34ef2aeee8fb487ef159e",
       "version_major": 2,
       "version_minor": 0
      },
      "text/plain": [
       "ViewInteractiveWidget(height=1200, layout=Layout(height='auto', width='100%'), width=1920)"
      ]
     },
     "metadata": {},
     "output_type": "display_data"
    }
   ],
   "source": [
    "# Visualizing the temperature field: \n",
    "puma.render_volume(T_y, solid_color=None, notebook=True, cmap='jet')"
   ]
  },
  {
   "cell_type": "code",
   "execution_count": 7,
   "metadata": {
    "pycharm": {
     "name": "#%%\n"
    }
   },
   "outputs": [
    {
     "name": "stderr",
     "output_type": "stream",
     "text": [
      "\u001b[0m\u001b[33m2022-07-02 14:49:28.709 ( 150.785s) [          2270EA]       vtkThreshold.cxx:96    WARN| vtkThreshold::ThresholdBetween was deprecated for VTK 9.1 and will be removed in a future version.\u001b[0m\n"
     ]
    },
    {
     "data": {
      "application/vnd.jupyter.widget-view+json": {
       "model_id": "5ce145f37cd041d3bad6c4c3fe215f82",
       "version_major": 2,
       "version_minor": 0
      },
      "text/plain": [
       "ViewInteractiveWidget(height=1200, layout=Layout(height='auto', width='100%'), width=1920)"
      ]
     },
     "metadata": {},
     "output_type": "display_data"
    }
   ],
   "source": [
    "# Visualizing the flux magnitude: \n",
    "puma.render_volume(np.linalg.norm(q_y, axis=3), notebook=True, cmap='jet')"
   ]
  },
  {
   "cell_type": "markdown",
   "metadata": {
    "pycharm": {
     "name": "#%% md\n"
    }
   },
   "source": [
    "### Anisotropic conductivity\n",
    "Next we show how to compute the conductivity if the constituent phases are anisotropic themselves. This solver is significantly slower because of the higher complexity of the numerical scheme used, namely the Multi-Point Flux Approximation (MPFA) (please refer to [this paper](https://www.sciencedirect.com/science/article/abs/pii/S092702562030447X) for more details on the anisotropic conductivity solver in PuMA). For this reason, we scale the domain by half in order to keep the runtime reasonable."
   ]
  },
  {
   "cell_type": "code",
   "execution_count": 8,
   "metadata": {
    "pycharm": {
     "name": "#%%\n"
    }
   },
   "outputs": [
    {
     "name": "stdout",
     "output_type": "stream",
     "text": [
      "Importing /Users/josephferguson/miniconda/envs/puma/lib/python3.9/site-packages/pumapy/data/200_fiberform.tif ... Done\n",
      "Rescaled workspace size: (100, 100, 100)\n",
      "First gradient computation ... Done\n",
      "Blurring of gradients ... Done\n",
      "Computing eigenvalue analysis ... Done\n"
     ]
    },
    {
     "data": {
      "text/plain": [
       "True"
      ]
     },
     "execution_count": 8,
     "metadata": {},
     "output_type": "execute_result"
    }
   ],
   "source": [
    "# Import an example tomography file of size 100^3 and voxel length 1.3e-6\n",
    "ws_fiberform = puma.import_3Dtiff(puma.path_to_example_file(\"200_fiberform.tif\"), 1.3e-6)\n",
    "ws_fiberform.rescale(0.5, False)\n",
    "\n",
    "# detect the fiber orientation using the Structure Tensor\n",
    "puma.compute_orientation_st(ws_fiberform, cutoff=(90, 255), sigma=1.4, rho=0.7)"
   ]
  },
  {
   "cell_type": "code",
   "execution_count": 9,
   "metadata": {
    "pycharm": {
     "name": "#%%\n"
    }
   },
   "outputs": [
    {
     "data": {
      "application/vnd.jupyter.widget-view+json": {
       "model_id": "f785d9dd319d4aa8b5bd8f40c2c502c0",
       "version_major": 2,
       "version_minor": 0
      },
      "text/plain": [
       "ViewInteractiveWidget(height=1200, layout=Layout(height='auto', width='100%'), width=1920)"
      ]
     },
     "metadata": {},
     "output_type": "display_data"
    }
   ],
   "source": [
    "# visualize the detected orientation field\n",
    "puma.render_orientation(ws_fiberform, notebook=True)"
   ]
  },
  {
   "cell_type": "code",
   "execution_count": 10,
   "metadata": {
    "pycharm": {
     "name": "#%%\n"
    }
   },
   "outputs": [
    {
     "name": "stdout",
     "output_type": "stream",
     "text": [
      "Initializing and padding domains ... Done\n",
      "Approximate memory requirement for simulation: 916.99 MB\n",
      "Initializing large data structures ... Done\n",
      "Assembling A matrix ... 100.0% Done\n",
      "Assembling b vector ... Done\n",
      "Time to assemble matrices:  21.50332982500001\n",
      "Solving Ax=b using bicgstab solver\n",
      "Iteration: 549, driving modified residual = 0.0009994285 --> target = 0.0010000000 ... Done\n",
      "Time to solve:  51.737833144000035\n",
      "Computing fluxes ... 100.0% Done\n",
      "\n",
      "Effective conductivity tensor (first column): \n",
      "[0.21129216777721985, -0.01041553787810401, -0.03670904977155545]\n",
      "\n",
      "Initializing and padding domains ... Done\n",
      "Approximate memory requirement for simulation: 916.99 MB\n",
      "Initializing large data structures ... Done\n",
      "Assembling A matrix ... 100.0% Done\n",
      "Assembling b vector ... Done\n",
      "Time to assemble matrices:  21.795465729\n",
      "Solving Ax=b using bicgstab solver\n",
      "Iteration: 588, driving modified residual = 0.0009849699 --> target = 0.00100000000 ... Done\n",
      "Time to solve:  75.43211734699997\n",
      "Computing fluxes ... 100.0% Done\n",
      "\n",
      "Effective conductivity tensor (second column): \n",
      "[-0.022891913563062315, 0.34094234786971483, 0.009225036499820215]\n",
      "\n",
      "Initializing and padding domains ... Done\n",
      "Approximate memory requirement for simulation: 916.99 MB\n",
      "Initializing large data structures ... Done\n",
      "Assembling A matrix ... 100.0% Done\n",
      "Assembling b vector ... Done\n",
      "Time to assemble matrices:  27.481541004999997\n",
      "Solving Ax=b using bicgstab solver\n",
      "Iteration: 1032, driving modified residual = 0.0009878417 --> target = 0.0010000000 ... Done\n",
      "Time to solve:  126.05023208100005\n",
      "Computing fluxes ... 100.0% Done\n",
      "\n",
      "Effective conductivity tensor (third column): \n",
      "[-0.008145129466916463, 0.0336027851368176, 0.08948035352048135]\n",
      "\n",
      "Effective thermal conductivity tensor:\n",
      "[ 0.21129216777721985 -0.022891913563062315 -0.008145129466916463 ]\n",
      "[ -0.01041553787810401 0.34094234786971483 0.0336027851368176 ]\n",
      "[ -0.03670904977155545 0.009225036499820215 0.08948035352048135 ]\n"
     ]
    }
   ],
   "source": [
    "# Generating a conductivity map. This stores the conductivity values for each phase of the material\n",
    "cond_map = puma.AnisotropicConductivityMap()\n",
    "# First, we set the conductivity of the void phase to be 0.0257 (air at STP)\n",
    "cond_map.add_isotropic_material((0, 89), 0.0257)\n",
    "# Next we set the conductivity of the fiber phase to be 12 along the fiber and 0.7 across it\n",
    "cond_map.add_material_to_orient((90, 255), 12., 0.7)\n",
    "\n",
    "# Simulation inputs: \n",
    "#.  1. workspace - the computational domain for the simulation, containing your material microstructure\n",
    "#.  2. cond_map - the conductivity values for each material phase\n",
    "#.  3. direction - the simulation direction, 'x', 'y', or 'z'\n",
    "#.  4. side_bc - boundary condition in the non-simulation direction. Can be 'p' - periodic, 's' - symmetric, 'd' - dirichlet\n",
    "#.  5. tolerance (optional) - accuracy of the numerical solver, defaults to 1e-4. \n",
    "#.  6. maxiter (optional) - maximum number of iterations, defaults to 10,000\n",
    "#.  7. solver_type (optional) - the iterative solver used. Can be 'bicgstab', 'cg', 'gmres', or 'direct'. Defaults to 'bicgstab'\n",
    "\n",
    "# When an anisotropic conductivity is fed, the solver automatically uses the MPFA finite volume method\n",
    "k_eff_x, T_x, q_x = puma.compute_thermal_conductivity(ws_fiberform, cond_map, 'x', 's')\n",
    "k_eff_y, T_y, q_y = puma.compute_thermal_conductivity(ws_fiberform, cond_map, 'y', 's')\n",
    "k_eff_z, T_z, q_z = puma.compute_thermal_conductivity(ws_fiberform, cond_map, 'z', 's')\n",
    "\n",
    "print(\"Effective thermal conductivity tensor:\")\n",
    "print(\"[\", k_eff_x[0], k_eff_y[0], k_eff_z[0], \"]\")\n",
    "print(\"[\", k_eff_x[1], k_eff_y[1], k_eff_z[1], \"]\")\n",
    "print(\"[\", k_eff_x[2], k_eff_y[2], k_eff_z[2], \"]\")"
   ]
  },
  {
   "cell_type": "markdown",
   "metadata": {
    "pycharm": {
     "name": "#%% md\n"
    }
   },
   "source": [
    "If the local phases are isotropic, the anisotropic solver can still be used (although it would not be convenient because it is slower). As proof that the two solvers are actually giving the same answer, we could run the following case, in which we compute the orientation and then set the same conductivity to both the conductivity components (i.e. along and across a fiber):"
   ]
  },
  {
   "cell_type": "code",
   "execution_count": 11,
   "metadata": {
    "pycharm": {
     "name": "#%%\n"
    }
   },
   "outputs": [
    {
     "name": "stdout",
     "output_type": "stream",
     "text": [
      "Importing /Users/josephferguson/miniconda/envs/puma/lib/python3.9/site-packages/pumapy/data/200_fiberform.tif ... Done\n",
      "Rescaled workspace size: (100, 100, 100)\n",
      "\n",
      "Isotropic solver\n",
      "Approximate memory requirement for simulation: 227.13 MB\n",
      "Creating conductivity matrix ... Done\n",
      "Initializing temperature field ... Done\n",
      "Setting up b matrix ... Done\n",
      "Assembling A matrix ... 100.0% Done\n",
      "Setting up preconditioner ...Done\n",
      "Time to assemble matrices:  0.4923489759999029\n",
      "Solving Ax=b using bicgstab solver\n",
      "Iteration: 583, driving modified residual = 0.0008472163 --> target = 0.0010000000 ... Done\n",
      "Time to solve:  36.92179269600001\n",
      "Computing flux from converged temperature field ... Done\n",
      "\n",
      "Effective tensor (first column): \n",
      "[0.6428980008299361, -0.06245961366793659, -0.1561057283970486]\n",
      "\n",
      "Approximate memory requirement for simulation: 227.13 MB\n",
      "Creating conductivity matrix ... Done\n",
      "Initializing temperature field ... Done\n",
      "Setting up b matrix ... Done\n",
      "Assembling A matrix ... 100.0% Done\n",
      "Setting up preconditioner ...Done\n",
      "Time to assemble matrices:  0.45706536500006223\n",
      "Solving Ax=b using bicgstab solver\n",
      "Iteration: 466, driving modified residual = 0.0009998015 --> target = 0.0010000000 ... Done\n",
      "Time to solve:  28.31002606300001\n",
      "Computing flux from converged temperature field ... Done\n",
      "\n",
      "Effective tensor (second column): \n",
      "[-0.09351746426461845, 0.9758897259649421, 0.0869901720749052]\n",
      "\n",
      "Approximate memory requirement for simulation: 227.13 MB\n",
      "Creating conductivity matrix ... Done\n",
      "Initializing temperature field ... Done\n",
      "Setting up b matrix ... Done\n",
      "Assembling A matrix ... 100.0% Done\n",
      "Setting up preconditioner ...Done\n",
      "Time to assemble matrices:  0.4580328310000823\n",
      "Solving Ax=b using bicgstab solver\n",
      "Iteration: 454, driving modified residual = 0.0008601394 --> target = 0.0010000000 ... Done\n",
      "Time to solve:  28.42138604799993\n",
      "Computing flux from converged temperature field ... Done\n",
      "\n",
      "Effective tensor (third column): \n",
      "[-0.06497561033235288, 0.12063676940978786, 0.39060393071349636]\n",
      "\n",
      "First gradient computation ... Done\n",
      "Blurring of gradients ... Done\n",
      "Computing eigenvalue analysis ... Done\n",
      "\n",
      "Anisotropic solver\n",
      "Initializing and padding domains ... Done\n",
      "Approximate memory requirement for simulation: 916.99 MB\n",
      "Initializing large data structures ... Done\n",
      "Assembling A matrix ... 100.0% Done\n",
      "Assembling b vector ... Done\n",
      "Time to assemble matrices:  26.850014964000025\n",
      "Solving Ax=b using bicgstab solver\n",
      "Iteration: 590, driving modified residual = 0.0009801504 --> target = 0.0010000000 ... Done\n",
      "Time to solve:  72.94016836799995\n",
      "Computing fluxes ... 100.0% Done\n",
      "\n",
      "Effective conductivity tensor (first column): \n",
      "[0.6540243706032757, -0.03918057692867446, -0.15470753228664064]\n",
      "\n",
      "Initializing and padding domains ... Done\n",
      "Approximate memory requirement for simulation: 916.99 MB\n",
      "Initializing large data structures ... Done\n",
      "Assembling A matrix ... 100.0% Done\n",
      "Assembling b vector ... Done\n",
      "Time to assemble matrices:  29.422090857999933\n",
      "Solving Ax=b using bicgstab solver\n",
      "Iteration: 484, driving modified residual = 0.0009680596 --> target = 0.0010000000 ... Done\n",
      "Time to solve:  59.589400223999974\n",
      "Computing fluxes ... 100.0% Done\n",
      "\n",
      "Effective conductivity tensor (second column): \n",
      "[-0.10544985219100414, 0.9878491230501882, 0.0857360078106727]\n",
      "\n",
      "Initializing and padding domains ... Done\n",
      "Approximate memory requirement for simulation: 916.99 MB\n",
      "Initializing large data structures ... Done\n",
      "Assembling A matrix ... 100.0% Done\n",
      "Assembling b vector ... Done\n",
      "Time to assemble matrices:  29.75941720900005\n",
      "Solving Ax=b using bicgstab solver\n",
      "Iteration: 561, driving modified residual = 0.0009521803 --> target = 0.0010000000 ... Done\n",
      "Time to solve:  76.485100956\n",
      "Computing fluxes ... 100.0% Done\n",
      "\n",
      "Effective conductivity tensor (third column): \n",
      "[-0.06464605854083044, 0.1286983113130366, 0.4003508186074865]\n",
      "\n",
      "\n",
      "Effective conductivity using isotropic solver\n",
      "[ 0.6428980008299361 -0.09351746426461845 -0.06497561033235288 ]\n",
      "[ -0.06245961366793659 0.9758897259649421 0.12063676940978786 ]\n",
      "[ -0.1561057283970486 0.0869901720749052 0.39060393071349636 ]\n",
      "\n",
      "Effective conductivity using anisotropic solver\n",
      "[ 0.6540243706032757 -0.10544985219100414 -0.06464605854083044 ]\n",
      "[ -0.03918057692867446 0.9878491230501882 0.1286983113130366 ]\n",
      "[ -0.15470753228664064 0.0857360078106727 0.4003508186074865 ]\n"
     ]
    }
   ],
   "source": [
    "ws_fiberform = puma.import_3Dtiff(puma.path_to_example_file(\"200_fiberform.tif\"), 1.3e-6)\n",
    "ws_fiberform.rescale(0.5, segmented=False)\n",
    "\n",
    "cond_map = puma.IsotropicConductivityMap()\n",
    "cond_map.add_material((0, 89), 0.0257)\n",
    "cond_map.add_material((90, 255), 12)\n",
    "\n",
    "print(\"\\nIsotropic solver\")\n",
    "k_eff_x, T_x, q_x = puma.compute_thermal_conductivity(ws_fiberform, cond_map, 'x', 's', tolerance=1e-3)\n",
    "k_eff_y, T_y, q_y = puma.compute_thermal_conductivity(ws_fiberform, cond_map, 'y', 's', tolerance=1e-3)\n",
    "k_eff_z, T_z, q_z = puma.compute_thermal_conductivity(ws_fiberform, cond_map, 'z', 's', tolerance=1e-3)\n",
    "\n",
    "puma.compute_orientation_st(ws_fiberform, cutoff=(90, 255), sigma=1.4, rho=0.7)\n",
    "\n",
    "cond_map = puma.AnisotropicConductivityMap()\n",
    "cond_map.add_isotropic_material((0, 89), 0.0257)\n",
    "cond_map.add_material_to_orient((90, 255), 12., 12)\n",
    "\n",
    "print(\"\\nAnisotropic solver\")\n",
    "k_eff_x_ani, T_x_ani, q_x_ani = puma.compute_thermal_conductivity(ws_fiberform, cond_map, 'x', 's', tolerance=1e-3)\n",
    "k_eff_y_ani, T_y_ani, q_y_ani = puma.compute_thermal_conductivity(ws_fiberform, cond_map, 'y', 's', tolerance=1e-3)\n",
    "k_eff_z_ani, T_z_ani, q_z_ani = puma.compute_thermal_conductivity(ws_fiberform, cond_map, 'z', 's', tolerance=1e-3)\n",
    "\n",
    "print(\"\\nEffective conductivity using isotropic solver\")\n",
    "print(\"[\", k_eff_x[0], k_eff_y[0], k_eff_z[0], \"]\")\n",
    "print(\"[\", k_eff_x[1], k_eff_y[1], k_eff_z[1], \"]\")\n",
    "print(\"[\", k_eff_x[2], k_eff_y[2], k_eff_z[2], \"]\")\n",
    "\n",
    "print(\"\\nEffective conductivity using anisotropic solver\")\n",
    "print(\"[\", k_eff_x_ani[0], k_eff_y_ani[0], k_eff_z_ani[0], \"]\")\n",
    "print(\"[\", k_eff_x_ani[1], k_eff_y_ani[1], k_eff_z_ani[1], \"]\")\n",
    "print(\"[\", k_eff_x_ani[2], k_eff_y_ani[2], k_eff_z_ani[2], \"]\")\n"
   ]
  },
  {
   "cell_type": "markdown",
   "metadata": {
    "pycharm": {
     "name": "#%% md\n"
    }
   },
   "source": [
    "As you can see, the tensors that have been estimated are very similar. The slight differences are coming from the high tolerance that was "
   ]
  }
 ],
 "metadata": {
  "kernelspec": {
   "display_name": "Python 3 (ipykernel)",
   "language": "python",
   "name": "python3"
  },
  "language_info": {
   "codemirror_mode": {
    "name": "ipython",
    "version": 3
   },
   "file_extension": ".py",
   "mimetype": "text/x-python",
   "name": "python",
   "nbconvert_exporter": "python",
   "pygments_lexer": "ipython3",
   "version": "3.9.13"
  },
  "toc-autonumbering": true
 },
 "nbformat": 4,
 "nbformat_minor": 4
}
