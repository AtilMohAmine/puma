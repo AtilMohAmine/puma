{
 "cells": [
  {
   "cell_type": "markdown",
   "metadata": {},
   "source": [
    "# Tutorial: Elasticity\n",
    "In this tutorial we demonstrate the use of the compute_elasticity and compute_stress_analysis functions. "
   ]
  },
  {
   "cell_type": "code",
   "execution_count": 1,
   "metadata": {},
   "outputs": [],
   "source": [
    "# ONLY FOR GOOGLE COLAB: Run this cell only the first time you open a tutorial\n",
    "if 'google.colab' in str(get_ipython()):\n",
    "    !pip install -q condacolab\n",
    "    import condacolab\n",
    "    condacolab.install()\n",
    "    !conda install -c fsemerar puma"
   ]
  },
  {
   "cell_type": "markdown",
   "metadata": {},
   "source": [
    "Let's start by importing pumapy, Numpy and Scipy ndimage."
   ]
  },
  {
   "cell_type": "code",
   "execution_count": 2,
   "metadata": {
    "pycharm": {
     "is_executing": true
    }
   },
   "outputs": [],
   "source": [
    "import os\n",
    "import pumapy as puma\n",
    "import numpy as np\n",
    "import scipy.ndimage as nd\n",
    "import pyvista as pv"
   ]
  },
  {
   "cell_type": "markdown",
   "metadata": {},
   "source": [
    "Now, we will run four different verification cases. Change the path of the file outputs:"
   ]
  },
  {
   "cell_type": "code",
   "execution_count": 3,
   "metadata": {},
   "outputs": [],
   "source": [
    "export_path = \"../tests/out/\"  # CHANGE THIS PATH"
   ]
  },
  {
   "cell_type": "markdown",
   "metadata": {},
   "source": [
    "### Verification 1: harmonic averaging, in series along x periodic sides"
   ]
  },
  {
   "cell_type": "code",
   "execution_count": 4,
   "metadata": {},
   "outputs": [
    {
     "name": "stdout",
     "output_type": "stream",
     "text": [
      "Initializing and padding domains ... Done\n",
      "Assembling b vector ... Done\n",
      "Initializing large data structures ... Done\n",
      "Assembling A matrix ... 100.0% Done\n",
      "Solving Ax=b system ... Direct solver ... Done\n",
      "Computing stresses ... 100.0% Done\n"
     ]
    }
   ],
   "source": [
    "export_name = 'halfmat'\n",
    "X = 20\n",
    "Y = 20\n",
    "Z = 20\n",
    "ws = puma.Workspace.from_shape_value((X, Y, Z), 1)\n",
    "ws[int(X / 2):] = 2\n",
    "# ws.show_matrix()\n",
    "\n",
    "elast_map = puma.ElasticityMap()\n",
    "elast_map.add_isotropic_material((1, 1), 200, 0.3)\n",
    "elast_map.add_isotropic_material((2, 2), 400, 0.1)\n",
    "\n",
    "_, u, s, t = puma.compute_elasticity(ws, elast_map, 'x', 'f', solver_type=\"direct\")"
   ]
  },
  {
   "cell_type": "code",
   "execution_count": 5,
   "metadata": {},
   "outputs": [
    {
     "data": {
      "text/plain": [
       "(20, 20, 20, 3)"
      ]
     },
     "execution_count": 5,
     "metadata": {},
     "output_type": "execute_result"
    }
   ],
   "source": [
    "s.shape"
   ]
  },
  {
   "cell_type": "code",
   "execution_count": 6,
   "metadata": {},
   "outputs": [
    {
     "data": {
      "application/vnd.jupyter.widget-view+json": {
       "model_id": "d349879c938d4485b9c52dba76ade04a",
       "version_major": 2,
       "version_minor": 0
      },
      "text/plain": [
       "ViewInteractiveWidget(height=1200, layout=Layout(height='auto', width='100%'), width=1920)"
      ]
     },
     "metadata": {},
     "output_type": "display_data"
    }
   ],
   "source": [
    "p = pv.Plotter(shape=(1, 3))\n",
    "p.subplot(0, 0)\n",
    "p.add_text(\"Displacement in x\")\n",
    "puma.render_volume(u[:, :, :, 0], notebook=True, add_to_plot=p, plot_directly=False, cmap='jet')\n",
    "p.subplot(0, 1)\n",
    "p.add_text(\"Displacement in y\")\n",
    "puma.render_volume(u[:, :, :, 1], notebook=True, add_to_plot=p, plot_directly=False, cmap='jet')\n",
    "p.subplot(0, 2)\n",
    "p.add_text(\"Displacement in z\")\n",
    "puma.render_volume(u[:, :, :, 2], notebook=True, add_to_plot=p, plot_directly=False, cmap='jet')\n",
    "p.show()"
   ]
  },
  {
   "cell_type": "code",
   "execution_count": 7,
   "metadata": {},
   "outputs": [
    {
     "data": {
      "application/vnd.jupyter.widget-view+json": {
       "model_id": "04d35cb8e5d14faaaa030202224d8065",
       "version_major": 2,
       "version_minor": 0
      },
      "text/plain": [
       "ViewInteractiveWidget(height=1200, layout=Layout(height='auto', width='100%'), width=1920)"
      ]
     },
     "metadata": {},
     "output_type": "display_data"
    }
   ],
   "source": [
    "p = pv.Plotter(shape=(1, 3))\n",
    "p.subplot(0, 0)\n",
    "p.add_text(\"XX stress\")\n",
    "puma.render_volume(s[:, :10, :, 0], notebook=True, add_to_plot=p, plot_directly=False, cmap='jet')\n",
    "p.subplot(0, 1)\n",
    "p.add_text(\"YY stress\")\n",
    "puma.render_volume(s[:, :10, :, 1], notebook=True, add_to_plot=p, plot_directly=False, cmap='jet')\n",
    "p.subplot(0, 2)\n",
    "p.add_text(\"ZZ stress\")\n",
    "puma.render_volume(s[:, :10, :, 2], notebook=True, add_to_plot=p, plot_directly=False, cmap='jet')\n",
    "p.show()"
   ]
  },
  {
   "cell_type": "code",
   "execution_count": 8,
   "metadata": {},
   "outputs": [
    {
     "data": {
      "application/vnd.jupyter.widget-view+json": {
       "model_id": "4c7060b6a2564d71a45319277a70c2b4",
       "version_major": 2,
       "version_minor": 0
      },
      "text/plain": [
       "ViewInteractiveWidget(height=1200, layout=Layout(height='auto', width='100%'), width=1920)"
      ]
     },
     "metadata": {},
     "output_type": "display_data"
    }
   ],
   "source": [
    "p = pv.Plotter(shape=(1, 3))\n",
    "p.subplot(0, 0)\n",
    "p.add_text(\"YZ stress\")\n",
    "puma.render_volume(t[:, :10, :, 0], notebook=True, add_to_plot=p, plot_directly=False, cmap='jet')\n",
    "p.subplot(0, 1)\n",
    "p.add_text(\"XZ stress\")\n",
    "puma.render_volume(t[:, :10, :, 1], notebook=True, add_to_plot=p, plot_directly=False, cmap='jet')\n",
    "p.subplot(0, 2)\n",
    "p.add_text(\"XY stress\")\n",
    "puma.render_volume(t[:, :10, :, 2], notebook=True, add_to_plot=p, plot_directly=False, cmap='jet')\n",
    "p.show()"
   ]
  },
  {
   "cell_type": "code",
   "execution_count": 9,
   "metadata": {},
   "outputs": [
    {
     "name": "stdout",
     "output_type": "stream",
     "text": [
      "Exporting ../tests/out/halfmat.vti ... Done\n"
     ]
    },
    {
     "data": {
      "text/plain": [
       "True"
      ]
     },
     "execution_count": 9,
     "metadata": {},
     "output_type": "execute_result"
    }
   ],
   "source": [
    "puma.export_vti(export_path + export_name, {\"ws\": ws, \"disp\": u, \"sigma\": s, \"tau\": t})"
   ]
  },
  {
   "cell_type": "markdown",
   "metadata": {},
   "source": [
    "### Verification 2: full built-in beam"
   ]
  },
  {
   "cell_type": "code",
   "execution_count": 10,
   "metadata": {},
   "outputs": [
    {
     "name": "stdout",
     "output_type": "stream",
     "text": [
      "Initializing and padding domains ... Done\n",
      "Assembling b vector ... Done\n",
      "Initializing large data structures ... Done\n",
      "Assembling A matrix ... 100.0% Done\n",
      "Solving Ax=b system ... Direct solver ... Done\n",
      "Computing stresses ... 100.0% Done\n"
     ]
    }
   ],
   "source": [
    "export_name = 'builtinbeam'\n",
    "X = 10\n",
    "Y = 50\n",
    "Z = 10\n",
    "ws = puma.Workspace.from_shape_value((X, Y, Z), 1)\n",
    "ws.voxel_length = 1\n",
    "\n",
    "elast_map = puma.ElasticityMap()\n",
    "elast_map.add_isotropic_material((1, 1), 200, 0.3)\n",
    "\n",
    "bc = puma.ElasticityBC.from_workspace(ws)\n",
    "bc[:, 0] = 0\n",
    "bc[:, -1, :, :2] = 0\n",
    "bc[:, -1, :, 2] = -1  # z displacement of -1\n",
    "# puma.Workspace.show_orientation(bc)\n",
    "\n",
    "u, s, t = puma.compute_stress_analysis(ws, elast_map, bc, side_bc='f', solver_type=\"direct\")"
   ]
  },
  {
   "cell_type": "code",
   "execution_count": 11,
   "metadata": {},
   "outputs": [
    {
     "data": {
      "application/vnd.jupyter.widget-view+json": {
       "model_id": "d62f5c4238b54506912a44c2fb3bce79",
       "version_major": 2,
       "version_minor": 0
      },
      "text/plain": [
       "ViewInteractiveWidget(height=1200, layout=Layout(height='auto', width='100%'), width=1920)"
      ]
     },
     "metadata": {},
     "output_type": "display_data"
    }
   ],
   "source": [
    "p = pv.Plotter(shape=(1, 3))\n",
    "p.subplot(0, 0)\n",
    "p.add_text(\"Displacement in x\")\n",
    "puma.render_volume(u[:, :, :, 0], notebook=True, add_to_plot=p, plot_directly=False, cmap='jet')\n",
    "p.subplot(0, 1)\n",
    "p.add_text(\"Displacement in y\")\n",
    "puma.render_volume(u[:, :, :, 1], notebook=True, add_to_plot=p, plot_directly=False, cmap='jet')\n",
    "p.subplot(0, 2)\n",
    "p.add_text(\"Displacement in z\")\n",
    "puma.render_volume(u[:, :, :, 2], notebook=True, add_to_plot=p, plot_directly=False, cmap='jet')\n",
    "p.show()"
   ]
  },
  {
   "cell_type": "code",
   "execution_count": 12,
   "metadata": {},
   "outputs": [
    {
     "data": {
      "application/vnd.jupyter.widget-view+json": {
       "model_id": "2a0fcd73811f45bba7ba2aad0fe8f201",
       "version_major": 2,
       "version_minor": 0
      },
      "text/plain": [
       "ViewInteractiveWidget(height=1200, layout=Layout(height='auto', width='100%'), width=1920)"
      ]
     },
     "metadata": {},
     "output_type": "display_data"
    }
   ],
   "source": [
    "p = pv.Plotter(shape=(1, 3))\n",
    "p.subplot(0, 0)\n",
    "p.add_text(\"XX stress\")\n",
    "puma.render_volume(s[:5, :, :, 0], notebook=True, add_to_plot=p, plot_directly=False, cmap='jet')\n",
    "p.subplot(0, 1)\n",
    "p.add_text(\"YY stress\")\n",
    "puma.render_volume(s[:5, :, :, 1], notebook=True, add_to_plot=p, plot_directly=False, cmap='jet')\n",
    "p.subplot(0, 2)\n",
    "p.add_text(\"ZZ stress\")\n",
    "puma.render_volume(s[:5, :, :, 2], notebook=True, add_to_plot=p, plot_directly=False, cmap='jet')\n",
    "p.show()"
   ]
  },
  {
   "cell_type": "code",
   "execution_count": 13,
   "metadata": {},
   "outputs": [
    {
     "data": {
      "application/vnd.jupyter.widget-view+json": {
       "model_id": "b24d6b16a2994aa3b413054a42c12281",
       "version_major": 2,
       "version_minor": 0
      },
      "text/plain": [
       "ViewInteractiveWidget(height=1200, layout=Layout(height='auto', width='100%'), width=1920)"
      ]
     },
     "metadata": {},
     "output_type": "display_data"
    }
   ],
   "source": [
    "p = pv.Plotter(shape=(1, 3))\n",
    "p.subplot(0, 0)\n",
    "p.add_text(\"YZ stress\")\n",
    "puma.render_volume(t[:5, :, :, 0], notebook=True, add_to_plot=p, plot_directly=False, cmap='jet')\n",
    "p.subplot(0, 1)\n",
    "p.add_text(\"XZ stress\")\n",
    "puma.render_volume(t[:5, :, :, 1], notebook=True, add_to_plot=p, plot_directly=False, cmap='jet')\n",
    "p.subplot(0, 2)\n",
    "p.add_text(\"XY stress\")\n",
    "puma.render_volume(t[:5, :, :, 2], notebook=True, add_to_plot=p, plot_directly=False, cmap='jet')\n",
    "p.show()"
   ]
  },
  {
   "cell_type": "code",
   "execution_count": 14,
   "metadata": {},
   "outputs": [
    {
     "name": "stdout",
     "output_type": "stream",
     "text": [
      "Exporting ../tests/out/builtinbeam.vti ... Done\n"
     ]
    },
    {
     "data": {
      "text/plain": [
       "True"
      ]
     },
     "execution_count": 14,
     "metadata": {},
     "output_type": "execute_result"
    }
   ],
   "source": [
    "puma.export_vti(export_path + export_name, {\"ws\": ws, \"disp\": u, \"sigma\": s, \"tau\": t})"
   ]
  },
  {
   "cell_type": "markdown",
   "metadata": {},
   "source": [
    "### Verification 3: plate with a hole"
   ]
  },
  {
   "cell_type": "code",
   "execution_count": 25,
   "metadata": {},
   "outputs": [
    {
     "name": "stdout",
     "output_type": "stream",
     "text": [
      "Initializing and padding domains ... Done\n",
      "Assembling b vector ... Done\n",
      "Initializing large data structures ... Done\n",
      "Assembling A matrix ... 100.0% Done\n",
      "Solving Ax=b system ... Direct solver ... Done\n",
      "Computing stresses ... 100.0% Done\n"
     ]
    }
   ],
   "source": [
    "export_name = 'platehole'\n",
    "X = 50\n",
    "Y = 50\n",
    "Z = 3\n",
    "ws = puma.Workspace.from_shape_value((X, Y, Z), 1)\n",
    "ws.voxel_length = 1\n",
    "\n",
    "mask = np.ones((X, Y, Z), dtype=bool)\n",
    "mask[X//2, Y//2] = 0\n",
    "distance_mask = nd.morphology.distance_transform_edt(mask)\n",
    "max_distance = np.max(distance_mask)\n",
    "distance_mask_display = (distance_mask*255./max_distance).astype(dtype=np.uint8)\n",
    "in_range = distance_mask <= 17\n",
    "ws[in_range] = 0\n",
    "\n",
    "elast_map = puma.ElasticityMap()\n",
    "elast_map.add_isotropic_material((1, 1), 200, 0.3)\n",
    "\n",
    "bc = puma.ElasticityBC.from_workspace(ws)\n",
    "bc[0, :, :, 0] = 0\n",
    "bc[-1, :, :, 0] = 1\n",
    "\n",
    "u, s, t = puma.compute_stress_analysis(ws, elast_map, bc, side_bc='f', solver_type=\"direct\")"
   ]
  },
  {
   "cell_type": "code",
   "execution_count": 26,
   "metadata": {},
   "outputs": [
    {
     "data": {
      "application/vnd.jupyter.widget-view+json": {
       "model_id": "28e74098918c4e1d955e7f1d5d94be71",
       "version_major": 2,
       "version_minor": 0
      },
      "text/plain": [
       "ViewInteractiveWidget(height=1200, layout=Layout(height='auto', width='100%'), width=1920)"
      ]
     },
     "metadata": {},
     "output_type": "display_data"
    }
   ],
   "source": [
    "p = pv.Plotter(shape=(1, 3))\n",
    "p.subplot(0, 0)\n",
    "p.add_text(\"Displacement in x\")\n",
    "puma.render_volume(u[:, :, :, 0], notebook=True, add_to_plot=p, plot_directly=False, cmap='jet')\n",
    "p.subplot(0, 1)\n",
    "p.add_text(\"Displacement in y\")\n",
    "puma.render_volume(u[:, :, :, 1], notebook=True, add_to_plot=p, plot_directly=False, cmap='jet')\n",
    "p.subplot(0, 2)\n",
    "p.add_text(\"Displacement in z\")\n",
    "puma.render_volume(u[:, :, :, 2], notebook=True, add_to_plot=p, plot_directly=False, cmap='jet')\n",
    "p.show(cpos=\"xy\")"
   ]
  },
  {
   "cell_type": "code",
   "execution_count": 27,
   "metadata": {},
   "outputs": [
    {
     "data": {
      "application/vnd.jupyter.widget-view+json": {
       "model_id": "97395ca96cd44438b5601e17a2112b03",
       "version_major": 2,
       "version_minor": 0
      },
      "text/plain": [
       "ViewInteractiveWidget(height=1200, layout=Layout(height='auto', width='100%'), width=1920)"
      ]
     },
     "metadata": {},
     "output_type": "display_data"
    }
   ],
   "source": [
    "p = pv.Plotter(shape=(1, 3))\n",
    "p.subplot(0, 0)\n",
    "p.add_text(\"XX stress\")\n",
    "puma.render_volume(s[:, :, 1:, 0], notebook=True, add_to_plot=p, plot_directly=False, cmap='jet')\n",
    "p.subplot(0, 1)\n",
    "p.add_text(\"YY stress\")\n",
    "puma.render_volume(s[:, :, 1:, 1], notebook=True, add_to_plot=p, plot_directly=False, cmap='jet')\n",
    "p.subplot(0, 2)\n",
    "p.add_text(\"ZZ stress\")\n",
    "puma.render_volume(s[:, :, 1:, 2], notebook=True, add_to_plot=p, plot_directly=False, cmap='jet')\n",
    "p.show(cpos=\"xy\")"
   ]
  },
  {
   "cell_type": "code",
   "execution_count": 28,
   "metadata": {},
   "outputs": [
    {
     "data": {
      "application/vnd.jupyter.widget-view+json": {
       "model_id": "6e26420aa7ae4f1ba1da497bc2cc7b63",
       "version_major": 2,
       "version_minor": 0
      },
      "text/plain": [
       "ViewInteractiveWidget(height=1200, layout=Layout(height='auto', width='100%'), width=1920)"
      ]
     },
     "metadata": {},
     "output_type": "display_data"
    }
   ],
   "source": [
    "p = pv.Plotter(shape=(1, 3))\n",
    "p.subplot(0, 0)\n",
    "p.add_text(\"YZ stress\")\n",
    "puma.render_volume(t[:, :, 1:, 0], notebook=True, add_to_plot=p, plot_directly=False, cmap='jet')\n",
    "p.subplot(0, 1)\n",
    "p.add_text(\"XZ stress\")\n",
    "puma.render_volume(t[:, :, 1:, 1], notebook=True, add_to_plot=p, plot_directly=False, cmap='jet')\n",
    "p.subplot(0, 2)\n",
    "p.add_text(\"XY stress\")\n",
    "puma.render_volume(t[:, :, 1:, 2], notebook=True, add_to_plot=p, plot_directly=False, cmap='jet')\n",
    "p.show(cpos=\"xy\")"
   ]
  },
  {
   "cell_type": "code",
   "execution_count": 19,
   "metadata": {},
   "outputs": [
    {
     "name": "stdout",
     "output_type": "stream",
     "text": [
      "Exporting ../tests/out/platehole.vti ... Done\n"
     ]
    },
    {
     "data": {
      "text/plain": [
       "True"
      ]
     },
     "execution_count": 19,
     "metadata": {},
     "output_type": "execute_result"
    }
   ],
   "source": [
    "puma.export_vti(export_path + export_name, {\"ws\": ws, \"disp\": u, \"sigma\": s, \"tau\": t})"
   ]
  },
  {
   "cell_type": "markdown",
   "metadata": {},
   "source": [
    "### Verification 4: cracked plate"
   ]
  },
  {
   "cell_type": "code",
   "execution_count": 20,
   "metadata": {},
   "outputs": [
    {
     "name": "stdout",
     "output_type": "stream",
     "text": [
      "Initializing and padding domains ... Done\n",
      "Assembling b vector ... Done\n",
      "Initializing large data structures ... Done\n",
      "Assembling A matrix ... 100.0% Done\n",
      "Solving Ax=b system ... Direct solver"
     ]
    },
    {
     "name": "stderr",
     "output_type": "stream",
     "text": [
      "/Users/fsemerar/opt/anaconda3/envs/puma/lib/python3.7/site-packages/scikits/umfpack/umfpack.py:721: UmfpackWarning: (almost) singular matrix! (estimated cond. number: 2.08e+12)\n",
      "  warnings.warn(msg, UmfpackWarning)\n"
     ]
    },
    {
     "name": "stdout",
     "output_type": "stream",
     "text": [
      " ... Done\n",
      "Computing stresses ... 100.0% Done\n"
     ]
    }
   ],
   "source": [
    "export_name = 'crackedplate'\n",
    "X = 25\n",
    "Y = 100\n",
    "Z = 3\n",
    "ws = puma.Workspace.from_shape_value((X, Y, Z), 1)\n",
    "ws.voxel_length = 1\n",
    "\n",
    "ws[:10, Y//2-1:Y//2+1] = 0\n",
    "\n",
    "elast_map = puma.ElasticityMap()\n",
    "elast_map.add_isotropic_material((1, 1), 200, 0.3)\n",
    "\n",
    "bc = puma.ElasticityBC.from_workspace(ws)\n",
    "bc[:, 0, :, 1] = 0\n",
    "bc[:, -1, :, 1] = 1\n",
    "\n",
    "u, s, t = puma.compute_stress_analysis(ws, elast_map, bc, side_bc='f', solver_type=\"direct\")"
   ]
  },
  {
   "cell_type": "code",
   "execution_count": 21,
   "metadata": {},
   "outputs": [
    {
     "data": {
      "application/vnd.jupyter.widget-view+json": {
       "model_id": "af7d350fa0614518af45e39957528171",
       "version_major": 2,
       "version_minor": 0
      },
      "text/plain": [
       "ViewInteractiveWidget(height=1200, layout=Layout(height='auto', width='100%'), width=1920)"
      ]
     },
     "metadata": {},
     "output_type": "display_data"
    }
   ],
   "source": [
    "p = pv.Plotter(shape=(1, 3))\n",
    "p.subplot(0, 0)\n",
    "p.add_text(\"Displacement in x\")\n",
    "puma.render_volume(u[:, :, :, 0], notebook=True, add_to_plot=p, plot_directly=False, cmap='jet')\n",
    "p.subplot(0, 1)\n",
    "p.add_text(\"Displacement in y\")\n",
    "puma.render_volume(u[:, :, :, 1], notebook=True, add_to_plot=p, plot_directly=False, cmap='jet')\n",
    "p.subplot(0, 2)\n",
    "p.add_text(\"Displacement in z\")\n",
    "puma.render_volume(u[:, :, :, 2], notebook=True, add_to_plot=p, plot_directly=False, cmap='jet')\n",
    "p.show(cpos=\"xy\")"
   ]
  },
  {
   "cell_type": "code",
   "execution_count": 22,
   "metadata": {},
   "outputs": [
    {
     "data": {
      "application/vnd.jupyter.widget-view+json": {
       "model_id": "131b3af504b14469b4d2be2bbefd2b2f",
       "version_major": 2,
       "version_minor": 0
      },
      "text/plain": [
       "ViewInteractiveWidget(height=1200, layout=Layout(height='auto', width='100%'), width=1920)"
      ]
     },
     "metadata": {},
     "output_type": "display_data"
    }
   ],
   "source": [
    "p = pv.Plotter(shape=(1, 3))\n",
    "p.subplot(0, 0)\n",
    "p.add_text(\"XX stress\")\n",
    "puma.render_volume(s[:, :, 1:, 0], notebook=True, add_to_plot=p, plot_directly=False, cmap='jet')\n",
    "p.subplot(0, 1)\n",
    "p.add_text(\"YY stress\")\n",
    "puma.render_volume(s[:, :, 1:, 1], notebook=True, add_to_plot=p, plot_directly=False, cmap='jet')\n",
    "p.subplot(0, 2)\n",
    "p.add_text(\"ZZ stress\")\n",
    "puma.render_volume(s[:, :, 1:, 2], notebook=True, add_to_plot=p, plot_directly=False, cmap='jet')\n",
    "p.show(cpos=\"xy\")"
   ]
  },
  {
   "cell_type": "code",
   "execution_count": 23,
   "metadata": {},
   "outputs": [
    {
     "data": {
      "application/vnd.jupyter.widget-view+json": {
       "model_id": "a41d418d6b7640ec988f610801d84630",
       "version_major": 2,
       "version_minor": 0
      },
      "text/plain": [
       "ViewInteractiveWidget(height=1200, layout=Layout(height='auto', width='100%'), width=1920)"
      ]
     },
     "metadata": {},
     "output_type": "display_data"
    }
   ],
   "source": [
    "p = pv.Plotter(shape=(1, 3))\n",
    "p.subplot(0, 0)\n",
    "p.add_text(\"YZ stress\")\n",
    "puma.render_volume(t[:, :, 1:, 0], notebook=True, add_to_plot=p, plot_directly=False, cmap='jet')\n",
    "p.subplot(0, 1)\n",
    "p.add_text(\"XZ stress\")\n",
    "puma.render_volume(t[:, :, 1:, 1], notebook=True, add_to_plot=p, plot_directly=False, cmap='jet')\n",
    "p.subplot(0, 2)\n",
    "p.add_text(\"XY stress\")\n",
    "puma.render_volume(t[:, :, 1:, 2], notebook=True, add_to_plot=p, plot_directly=False, cmap='jet')\n",
    "p.show(cpos=\"xy\")"
   ]
  },
  {
   "cell_type": "code",
   "execution_count": 24,
   "metadata": {},
   "outputs": [
    {
     "name": "stdout",
     "output_type": "stream",
     "text": [
      "Exporting ../tests/out/crackedplate.vti ... Done\n"
     ]
    },
    {
     "data": {
      "text/plain": [
       "True"
      ]
     },
     "execution_count": 24,
     "metadata": {},
     "output_type": "execute_result"
    }
   ],
   "source": [
    "puma.export_vti(export_path + export_name, {\"ws\": ws, \"disp\": u, \"sigma\": s, \"tau\": t})"
   ]
  }
 ],
 "metadata": {
  "kernelspec": {
   "display_name": "Python 3",
   "language": "python",
   "name": "python3"
  },
  "language_info": {
   "codemirror_mode": {
    "name": "ipython",
    "version": 3
   },
   "file_extension": ".py",
   "mimetype": "text/x-python",
   "name": "python",
   "nbconvert_exporter": "python",
   "pygments_lexer": "ipython3",
   "version": "3.7.9"
  }
 },
 "nbformat": 4,
 "nbformat_minor": 4
}
