{
 "cells": [
  {
   "cell_type": "markdown",
   "metadata": {},
   "source": [
    "# Tutorial: Weaves\n",
    "In this tutorial we demonstrate the creation of weaves using TexGen and how to import them into PuMApy. TexGen python scrips can be simply obtained by either following TexGen tutorials https://github.com/louisepb/TexGenScriptingGuide or by recording the actions in the TexGen GUI (of which there are already\n",
    "bundled executables for Windows at https://sourceforge.net/projects/texgen/files/). \n",
    "\n",
    "Let's start by importing PuMApy, Numpy and TexGen and creating a simple LayerToLayer weave using a TexGen python script. "
   ]
  },
  {
   "cell_type": "code",
   "execution_count": null,
   "metadata": {},
   "outputs": [],
   "source": [
    "# Run this line only the first time you open a tutorial in Google Colab\n",
    "pip install 'git+https://github.com/nasa/puma.git'"
   ]
  },
  {
   "cell_type": "code",
   "execution_count": 1,
   "metadata": {},
   "outputs": [],
   "source": [
    "import os\n",
    "pumadir = os.path.abspath('..')\n",
    "import pumapy as puma\n",
    "import numpy as np\n",
    "from TexGen.Core import *"
   ]
  },
  {
   "cell_type": "code",
   "execution_count": null,
   "metadata": {},
   "outputs": [],
   "source": [
    "NumBinderLayers = 2 \n",
    "NumXYarns = 3 \n",
    "NumYYarns = 4 \n",
    "XSpacing = 1.0\n",
    "YSpacing = 1.0 \n",
    "XHeight = 0.2 \n",
    "YHeight = 0.2 \n",
    "weave = CTextileLayerToLayer(NumXYarns, NumYYarns, XSpacing, YSpacing, XHeight, YHeight, NumBinderLayers)\n",
    "\n",
    "#set number of binder / warp yarns\n",
    "NumBinderYarns = 2\n",
    "NumWarpYarns = NumXYarns - NumBinderYarns\n",
    "weave.SetWarpRatio( NumWarpYarns )\n",
    "weave.SetBinderRatio( NumBinderYarns )\n",
    "\n",
    "#setup layers: 3 warp, 4 weft\n",
    "weave.SetupLayers( 3, 4, NumBinderLayers)\n",
    "\n",
    "#set yarn dimensions: widths / heights\n",
    "weave.SetYYarnWidths( 0.8 )\n",
    "weave.SetYYarnWidths( 0.8 )\n",
    "weave.SetBinderYarnWidths( 0.4 )\n",
    "weave.SetBinderYarnHeights( 0.1 )\n",
    "\n",
    "#define offsets for the two binder yarns\n",
    "P = [[0, 1, 3, 0],[3, 0, 0, 3]]\n",
    "\n",
    "#assign the z-positions to the binder yarns\n",
    "for y in range(NumWarpYarns,NumXYarns): #loop through number of binder yarns\n",
    "\toffset = 0 \n",
    "\tfor x in range(0,NumYYarns): #loop through the node positions\t\n",
    "\t\tweave.SetBinderPosition(x, y, P[y-NumWarpYarns][offset])\n",
    "\t\toffset = offset+1"
   ]
  },
  {
   "cell_type": "markdown",
   "metadata": {},
   "source": [
    "Next we create the domain, i.e. the lengths of the box containing the weave. In this case we will let TexGen figure it out automatically using the AssignDefaultDomain function:"
   ]
  },
  {
   "cell_type": "code",
   "execution_count": null,
   "metadata": {},
   "outputs": [],
   "source": [
    "weave.AssignDefaultDomain()\n",
    "domain = weave.GetDefaultDomain()"
   ]
  },
  {
   "cell_type": "markdown",
   "metadata": {},
   "source": [
    "Then, we pass the weave and the domain to the PuMApy exporter, which creates the voxel grid and exports it to a directory (expensive step ~1.5-2 mins):"
   ]
  },
  {
   "cell_type": "code",
   "execution_count": null,
   "metadata": {},
   "outputs": [],
   "source": [
    "puma.export_weave_vtu(pumadir + \"/tests/out/weavetest\", weave, domain, 200)"
   ]
  },
  {
   "cell_type": "markdown",
   "metadata": {},
   "source": [
    "This can be then read back into a pumapy.Workspace:"
   ]
  },
  {
   "cell_type": "code",
   "execution_count": null,
   "metadata": {},
   "outputs": [],
   "source": [
    "ws = puma.import_weave_vtu(pumadir + \"/tests/out/weavetest\")"
   ]
  },
  {
   "cell_type": "markdown",
   "metadata": {},
   "source": [
    "And we can volume render it (remember to close the popup window with 'q', not directly):"
   ]
  },
  {
   "cell_type": "code",
   "execution_count": null,
   "metadata": {},
   "outputs": [],
   "source": [
    "puma.render_volume(ws, cutoff=(1, np.unique(ws.matrix).size))"
   ]
  }
 ],
 "metadata": {
  "kernelspec": {
   "display_name": "Python 3",
   "language": "python",
   "name": "python3"
  },
  "language_info": {
   "codemirror_mode": {
    "name": "ipython",
    "version": 3
   },
   "file_extension": ".py",
   "mimetype": "text/x-python",
   "name": "python",
   "nbconvert_exporter": "python",
   "pygments_lexer": "ipython3",
   "version": "3.7.9"
  }
 },
 "nbformat": 4,
 "nbformat_minor": 4
}
