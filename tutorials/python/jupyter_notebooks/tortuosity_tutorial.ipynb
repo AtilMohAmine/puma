{
 "cells": [
  {
   "cell_type": "markdown",
   "metadata": {
    "pycharm": {
     "name": "#%% md\n"
    }
   },
   "source": [
    "![puma logo](https://github.com/nasa/puma/raw/main/doc/source/puma_logo.png)\n",
    "# Welcome to the PuMA tutorial"
   ]
  },
  {
   "cell_type": "markdown",
   "metadata": {
    "pycharm": {
     "name": "#%% md\n"
    }
   },
   "source": [
    "The objective of this notebook is to familiarize new users with the main datastructures that stand at the basis of the PuMA project, and outline the functions to compute material properties (please refer to these papers ([1](https://www.sciencedirect.com/science/article/pii/S2352711018300281), [2](https://www.sciencedirect.com/science/article/pii/S235271102100090X)) for more details on the software)."
   ]
  },
  {
   "cell_type": "markdown",
   "metadata": {
    "pycharm": {
     "name": "#%% md\n"
    }
   },
   "source": [
    "# Installation setup and imports"
   ]
  },
  {
   "cell_type": "markdown",
   "metadata": {
    "pycharm": {
     "name": "#%% md\n"
    }
   },
   "source": [
    "The first code block will execute the necessary installation and package import. \n",
    "\n",
    "If you are running this jupyter notebook locally on your machine, assuming you have already installed the software, then the installation step will be skipped.\n"
   ]
  },
  {
   "cell_type": "code",
   "execution_count": null,
   "metadata": {
    "pycharm": {
     "name": "#%%\n"
    }
   },
   "outputs": [],
   "source": [
    "if 'google.colab' in str(get_ipython()):\n",
    "    !pip install 'git+https://github.com/nasa/puma'\n",
    "    !pip install -q piglet pyvirtualdisplay\n",
    "    !apt-get -qq install xvfb\n",
    "\n",
    "import numpy as np\n",
    "import pumapy as puma\n",
    "import pyvista as pv\n",
    "import scipy.ndimage as nd\n",
    "import os\n",
    "import sys\n",
    "\n",
    "if 'google.colab' in str(get_ipython()):\n",
    "    from pyvirtualdisplay import Display\n",
    "    display = Display(visible=0, size=(600, 400))\n",
    "    display.start()  # necessary for pyvista interactive plots\n",
    "    \n",
    "else:  # NORMAL JUPYTER NOTEBOOK\n",
    "    # for interactive slicer (only static allowed on Colab)\n",
    "    %matplotlib widget"
   ]
  },
  {
   "cell_type": "markdown",
   "metadata": {
    "pycharm": {
     "name": "#%% md\n"
    }
   },
   "source": [
    "## Tutorial: Continuum Tortuosity\n",
    "In this tutorial we demonstrate how to compute the continuum tortuosity factors of a material based on its microstructure and constituent properties. In this example, we compute the continuum tortuosity of FiberForm, a carbon fiber based material. \n",
    "\n",
    "Note: the rarified tortuosity factors are not available in pumapy, but are available in the PuMA C++ library.\n",
    "\n",
    "Note: the sample size used in this example is very small, well below the size needed for a representative volume of the sample. "
   ]
  },
  {
   "cell_type": "markdown",
   "metadata": {
    "pycharm": {
     "name": "#%% md\n"
    }
   },
   "source": [
    "We will show a continuum tortuosity simulation based on a non-segmented representation of the material. In the example material used, the void phase is contained in grayscale range [0,89] and the solid phase is contained in the grayscale range of [90,255]. This range varies for each tomography sample.\n",
    "\n",
    "The outputs of the continuum tortuosity simulation are the continuum tortuosity factors, the effective diffusivity, the porosity, and the steady state concentration profile"
   ]
  },
  {
   "cell_type": "code",
   "execution_count": null,
   "metadata": {
    "pycharm": {
     "name": "#%%\n"
    }
   },
   "outputs": [],
   "source": [
    "# Import an example tomography file of size 200^3 and voxel length 1.3e-6\n",
    "ws_fiberform = puma.import_3Dtiff(puma.path_to_example_file(\"200_fiberform.tif\"), 1.3e-6)\n",
    "\n",
    "# The tortuosity calculation needs to be run for each of the three simulation directions. \n",
    "# For each simulation, a concentration gradient is forced in the simulation direction, and converged to steady state\n",
    "\n",
    "# Simulation inputs: \n",
    "#.  1. workspace - the computational domain for the simulation, containing your material microstructure\n",
    "#.  2. cutoff - the grayscale values for the void phase. [0,89] for this tomography sample\n",
    "#.  3. direction - the simulation direction, 'x', 'y', or 'z'\n",
    "#.  4. side_bc - boundary condition in the non-simulation direction. Can be 'p' - periodic, 's' - symmetric, 'd' - dirichlet\n",
    "#.  5. tolerance - accuracy of the numerical solver, defaults to 1e-4. \n",
    "#.  6. maxiter - maximum number of iterations, defaults to 10,000\n",
    "#.  7. solver_type - the iterative solver used. Can be 'bicgstab', 'cg', 'gmres', or 'direct'. Defaults to 'bicgstab'\n",
    "\n",
    "n_eff_x, Deff_x, poro, C_x = puma.compute_continuum_tortuosity(ws_fiberform, (0,89), 'x', side_bc='s', tolerance=1e-3, solver_type='cg')\n",
    "n_eff_y, Deff_y, poro, C_y = puma.compute_continuum_tortuosity(ws_fiberform, (0,89), 'y', side_bc='s', tolerance=1e-3, solver_type='cg')\n",
    "n_eff_z, Deff_z, poro, C_z = puma.compute_continuum_tortuosity(ws_fiberform, (0,89), 'z', side_bc='s', tolerance=1e-3, solver_type='cg')\n",
    "\n",
    "print(\"\\nEffective tortuosity factors:\")\n",
    "print(\"[\", n_eff_x[0], n_eff_y[0], n_eff_z[0], \"]\")\n",
    "print(\"[\", n_eff_x[1], n_eff_y[1], n_eff_z[1], \"]\")\n",
    "print(\"[\", n_eff_x[2], n_eff_y[2], n_eff_z[2], \"]\")\n",
    "\n",
    "print(\"Porosity of the material:\", poro)"
   ]
  },
  {
   "cell_type": "code",
   "execution_count": null,
   "metadata": {
    "pycharm": {
     "name": "#%%\n"
    }
   },
   "outputs": [],
   "source": [
    "# Visualizing the Concentration field: \n",
    "puma.render_volume(C_x, notebook=True, cmap='jet')"
   ]
  },
  {
   "cell_type": "markdown",
   "metadata": {
    "pycharm": {
     "name": "#%% md\n"
    }
   },
   "source": [
    "Below is an example of the exact same continuum tortuosity simulation, but now performed on a segmented image. If done correctly, both should produce identical results. "
   ]
  },
  {
   "cell_type": "code",
   "execution_count": null,
   "metadata": {
    "pycharm": {
     "name": "#%%\n"
    }
   },
   "outputs": [],
   "source": [
    "# Segments the image. All values >= 90 are set to 1, and all values <90 are set to 0\n",
    "ws_fiberform.binarize(90)\n",
    "\n",
    "# Simulation inputs: \n",
    "#.  1. workspace - the computational domain for the simulation, containing your material microstructure\n",
    "#.  2. cutoff - the grayscale values for the void phase. [0,89] for this tomography sample\n",
    "#.  3. direction - the simulation direction, 'x', 'y', or 'z'\n",
    "#.  4. side_bc - boundary condition in the non-simulation direction. Can be 'p' - periodic, 's' - symmetric, 'd' - dirichlet\n",
    "#.  5. tolerance - accuracy of the numerical solver, defaults to 1e-4. \n",
    "#.  6. maxiter - maximum number of iterations, defaults to 10,000\n",
    "#.  7. solver_type - the iterative solver used. Can be 'bicgstab', 'cg', 'gmres', or 'direct'. Defaults to 'bicgstab'\n",
    "\n",
    "n_eff_x, Deff_x, poro, C_x = puma.compute_continuum_tortuosity(ws_fiberform, (0,0), 'x', side_bc='s', tolerance=1e-3, solver_type='cg')\n",
    "n_eff_y, Deff_y, poro, C_y = puma.compute_continuum_tortuosity(ws_fiberform, (0,0), 'y', side_bc='s', tolerance=1e-3, solver_type='cg')\n",
    "n_eff_z, Deff_z, poro, C_z = puma.compute_continuum_tortuosity(ws_fiberform, (0,0), 'z', side_bc='s', tolerance=1e-3, solver_type='cg')\n",
    "\n",
    "print(\"\\nEffective tortuosity factors:\")\n",
    "print(\"[\", n_eff_x[0], n_eff_y[0], n_eff_z[0], \"]\")\n",
    "print(\"[\", n_eff_x[1], n_eff_y[1], n_eff_z[1], \"]\")\n",
    "print(\"[\", n_eff_x[2], n_eff_y[2], n_eff_z[2], \"]\")\n",
    "\n",
    "print(\"Porosity of the material:\", poro)"
   ]
  },
  {
   "cell_type": "code",
   "execution_count": null,
   "metadata": {
    "pycharm": {
     "name": "#%%\n"
    }
   },
   "outputs": [],
   "source": [
    "# Visualizing the Concentration field: \n",
    "puma.render_volume(C_x, notebook=True, cmap='jet')"
   ]
  }
 ],
 "metadata": {
  "kernelspec": {
   "display_name": "Python 3 (ipykernel)",
   "language": "python",
   "name": "python3"
  },
  "language_info": {
   "codemirror_mode": {
    "name": "ipython",
    "version": 3
   },
   "file_extension": ".py",
   "mimetype": "text/x-python",
   "name": "python",
   "nbconvert_exporter": "python",
   "pygments_lexer": "ipython3",
   "version": "3.9.13"
  },
  "toc-autonumbering": true
 },
 "nbformat": 4,
 "nbformat_minor": 4
}