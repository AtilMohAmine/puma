{
 "cells": [
  {
   "cell_type": "markdown",
   "metadata": {
    "pycharm": {
     "name": "#%% md\n"
    }
   },
   "source": [
    "# Run this line only the first time you open a tutorial in Google Colab\n",
    "pip install 'git+https://github.com/nasa/puma.git'# Tutorial: Generating Triply Periodic Minimal Surfaces\n",
    "In this tutorial we demonstrate how to generate a TPMS microstructure "
   ]
  },
  {
   "cell_type": "code",
   "execution_count": null,
   "metadata": {},
   "outputs": [],
   "source": [
    "# Run this line only the first time you open a tutorial in Google Colab\n",
    "pip install 'git+https://github.com/nasa/puma.git'"
   ]
  },
  {
   "cell_type": "markdown",
   "metadata": {},
   "source": [
    "First, we must import puma:"
   ]
  },
  {
   "cell_type": "code",
   "execution_count": 1,
   "metadata": {
    "pycharm": {
     "name": "#%%\n"
    }
   },
   "outputs": [],
   "source": [
    "import numpy as np\n",
    "import os\n",
    "import sys\n",
    "import pumapy as puma"
   ]
  },
  {
   "cell_type": "markdown",
   "metadata": {},
   "source": [
    "Next we generate the TPMS structure. There are three different equations that can be used in the TPMS generator: \n",
    "\n",
    "Equation 0: grayscale value = q + sin(wx)*sin(wy)*sin(wz) + sin(wx)*cos(wy)*cos(wz) + cos(wx)*sin(wy)*cos(wz) + cos(wx)*cos(wy)*sin(wz)\n",
    "\n",
    "Equation 1: grayscale value = q + cos(wx)*sin(wy) + cos(wy)*sin(wz) + cos(wi)*cos(wz)\n",
    "\n",
    "Equation 2: grayscale value = q + cos(wx) + cos(wy) + cos(wz)\n",
    "\n",
    "The values of w and q can either be provided as single values, or as a tuple. If a tuple is used, then the first and second values will be the minimum and maximum values for q and w, and the value will vary linearly between the two along the z-axis.\n",
    "\n",
    "The value of w controls the pore diameter and the value of q controls the porosity"
   ]
  },
  {
   "cell_type": "code",
   "execution_count": null,
   "metadata": {
    "pycharm": {
     "name": "#%%\n"
    }
   },
   "outputs": [],
   "source": [
    "size = (400,400,400)  # size of the domain, in voxels. \n",
    "w = 0.08  # value of w in the equations above\n",
    "q = 0.2  # value of q in the equations above\n",
    "\n",
    "ws_eq0 = puma.generate_tpms(size, w, q, equation = 0)\n",
    "ws_eq1 = puma.generate_tpms(size, w, q, equation = 1)\n",
    "ws_eq2 = puma.generate_tpms(size, w, q, equation = 2)\n",
    "\n"
   ]
  },
  {
   "cell_type": "markdown",
   "metadata": {},
   "source": [
    "The material is now stored in the puma workspace. By default, the grayscale range of [0,127] corresponds to the void space, and [128,255] contains the material. \n",
    "\n",
    "Next we will visualize slices of the domains: "
   ]
  },
  {
   "cell_type": "code",
   "execution_count": null,
   "metadata": {},
   "outputs": [],
   "source": [
    "puma.plot_slices(ws_eq0)\n",
    "puma.plot_slices(ws_eq1)\n",
    "puma.plot_slices(ws_eq2)"
   ]
  },
  {
   "cell_type": "markdown",
   "metadata": {},
   "source": [
    "Next, we will visualize the 3d Domains. To render the domain, the grayscale range corresponding to the material must be specified. In this case, the range of [128,255] corresponds to the material. "
   ]
  },
  {
   "cell_type": "code",
   "execution_count": null,
   "metadata": {},
   "outputs": [],
   "source": [
    "puma.render_contour(ws_eq0,(128,255))\n",
    "puma.render_contour(ws_eq1,(128,255))\n",
    "puma.render_contour(ws_eq2,(128,255))"
   ]
  },
  {
   "cell_type": "markdown",
   "metadata": {},
   "source": [
    "If you would like to segment the domain, that can be done using the binarize function, or the set_material_id function. "
   ]
  },
  {
   "cell_type": "code",
   "execution_count": null,
   "metadata": {},
   "outputs": [],
   "source": [
    "# binarize(128) sets all grayscale values below 128 to 0, and all grayscale values above and equal to 128 to 1\n",
    "ws_eq0.binarize(128)\n",
    "ws_eq1.binarize(128)\n",
    "ws_eq2.binarize(128)\n",
    "\n",
    "puma.plot_slices(ws_eq0)\n",
    "puma.plot_slices(ws_eq1)\n",
    "puma.plot_slices(ws_eq2)"
   ]
  },
  {
   "cell_type": "markdown",
   "metadata": {},
   "source": []
  }
 ],
 "metadata": {
  "kernelspec": {
   "display_name": "Python 3",
   "language": "python",
   "name": "python3"
  },
  "language_info": {
   "codemirror_mode": {
    "name": "ipython",
    "version": 3
   },
   "file_extension": ".py",
   "mimetype": "text/x-python",
   "name": "python",
   "nbconvert_exporter": "python",
   "pygments_lexer": "ipython3",
   "version": "3.7.9"
  }
 },
 "nbformat": 4,
 "nbformat_minor": 4
}
