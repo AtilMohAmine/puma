{
 "cells": [
  {
   "cell_type": "markdown",
   "metadata": {},
   "source": [
    "# Welcome to the pumapy tutorials"
   ]
  },
  {
   "cell_type": "markdown",
   "metadata": {
    "pycharm": {
     "name": "#%% md\n"
    }
   },
   "source": [
    "## Installation setup and imports"
   ]
  },
  {
   "cell_type": "code",
   "execution_count": null,
   "metadata": {},
   "outputs": [],
   "source": [
    "# GOOGLE COLAB: the first time you run this, it will take about 10 mins to setup\n",
    "if 'google.colab' in str(get_ipython()):  #\n",
    "    !pip install -q condacolab\n",
    "    import condacolab\n",
    "    condacolab.install()\n",
    "    # FEniCS-dolfin not working in Colab\n",
    "    !if [[ $(conda list puma) != *\"puma\"* ]]; then conda install -c fsemerar puma; fi\n",
    "    !pip install -q piglet pyvirtualdisplay\n",
    "    !apt-get -qq install xvfb\n",
    "    from pyvirtualdisplay import Display\n",
    "    display = Display(visible=0, size=(600, 400))\n",
    "    display.start()\n",
    "\n",
    "else:  # NORMAL JUPYTER NOTEBOOK\n",
    "    %matplotlib widget  # for interactive slicer (only static allowed on Colab)"
   ]
  },
  {
   "cell_type": "code",
   "execution_count": 1,
   "metadata": {},
   "outputs": [],
   "source": [
    "import numpy as np\n",
    "import pumapy as puma\n",
    "import pyvista as pv\n",
    "from TexGen.Core import *\n",
    "import scipy.ndimage as nd\n",
    "import os\n",
    "import sys"
   ]
  },
  {
   "cell_type": "markdown",
   "metadata": {},
   "source": [
    "## Tutorial 1: Workspace Manipulations\n",
    "In this tutorial we demonstrate how to create a workspace and perform basic operations on it, including cropping, rotation, thresholding."
   ]
  },
  {
   "cell_type": "markdown",
   "metadata": {},
   "source": [
    "A workspace is the datastructure at the basis of both PuMA and pumapy and it is basically a container for the material sample that you want to analyze. A workspace is made of little cubes, or voxels (i.e. 3D pixels), holding a value. This simple element definition (formally called Cartesian grid) allows for very fast operations. Inside a workspace object, two different arrays are defined: one called \"matrix\" and the other called \"orientation\". Both of these are nothing but a 3D Numpy array for the matrix (X,Y,Z dimensions of the domain) and a 4D Numpy array for the orientation (dimensions of X,Y,Z,3 for vectors throughout the domain). \n",
    "\n",
    "Next we show the different ways we have implemented to define a workspace class:"
   ]
  },
  {
   "cell_type": "code",
   "execution_count": 23,
   "metadata": {},
   "outputs": [
    {
     "name": "stdout",
     "output_type": "stream",
     "text": [
      "Shape of workspace 1: (10, 11, 12)\n",
      "\n",
      "Shape of workspace 2: (20, 31, 212)\n",
      "\n",
      "Matrix shape of workspace 3: (5, 6, 2)\n",
      "Orientation shape of workspace 3: (5, 6, 2, 3)\n",
      "Display Workspace 3 matrix\n",
      "\n",
      "3D Workspace:\n",
      "  o---> y\n",
      "  |\n",
      "x v\n",
      "[(:,:,0)\n",
      "[[1 1 1 1 1 1]\n",
      "[1 1 1 1 1 1]\n",
      "[1 1 1 1 1 1]\n",
      "[1 1 1 1 1 1]\n",
      "[1 1 1 1 1 1]\n",
      "\n",
      "(:,:,1)\n",
      "[[1 1 1 1 1 1]\n",
      "[1 1 1 1 1 1]\n",
      "[1 1 1 1 1 1]\n",
      "[1 1 1 1 1 1]\n",
      "[1 1 1 1 1 1]]\n",
      "\n",
      "Display Workspace 3 orientation\n",
      "\n",
      "3D Orientation:\n",
      "  o---> y\n",
      "  |\n",
      "x v\n",
      "[(:,:,0)\n",
      "[[(0.4, 2.0, 5.0) (0.4, 2.0, 5.0) (0.4, 2.0, 5.0) (0.4, 2.0, 5.0) (0.4, 2.0, 5.0) (0.4, 2.0, 5.0)]\n",
      "[(0.4, 2.0, 5.0) (0.4, 2.0, 5.0) (0.4, 2.0, 5.0) (0.4, 2.0, 5.0) (0.4, 2.0, 5.0) (0.4, 2.0, 5.0)]\n",
      "[(0.4, 2.0, 5.0) (0.4, 2.0, 5.0) (0.4, 2.0, 5.0) (0.4, 2.0, 5.0) (0.4, 2.0, 5.0) (0.4, 2.0, 5.0)]\n",
      "[(0.4, 2.0, 5.0) (0.4, 2.0, 5.0) (0.4, 2.0, 5.0) (0.4, 2.0, 5.0) (0.4, 2.0, 5.0) (0.4, 2.0, 5.0)]\n",
      "[(0.4, 2.0, 5.0) (0.4, 2.0, 5.0) (0.4, 2.0, 5.0) (0.4, 2.0, 5.0) (0.4, 2.0, 5.0) (0.4, 2.0, 5.0)]\n",
      "\n",
      "(:,:,1)\n",
      "[[(0.4, 2.0, 5.0) (0.4, 2.0, 5.0) (0.4, 2.0, 5.0) (0.4, 2.0, 5.0) (0.4, 2.0, 5.0) (0.4, 2.0, 5.0)]\n",
      "[(0.4, 2.0, 5.0) (0.4, 2.0, 5.0) (0.4, 2.0, 5.0) (0.4, 2.0, 5.0) (0.4, 2.0, 5.0) (0.4, 2.0, 5.0)]\n",
      "[(0.4, 2.0, 5.0) (0.4, 2.0, 5.0) (0.4, 2.0, 5.0) (0.4, 2.0, 5.0) (0.4, 2.0, 5.0) (0.4, 2.0, 5.0)]\n",
      "[(0.4, 2.0, 5.0) (0.4, 2.0, 5.0) (0.4, 2.0, 5.0) (0.4, 2.0, 5.0) (0.4, 2.0, 5.0) (0.4, 2.0, 5.0)]\n",
      "[(0.4, 2.0, 5.0) (0.4, 2.0, 5.0) (0.4, 2.0, 5.0) (0.4, 2.0, 5.0) (0.4, 2.0, 5.0) (0.4, 2.0, 5.0)]]\n",
      "\n",
      "Matrix shape of workspace 4: (10, 10, 10)\n",
      "\n",
      "Display Workspace 5\n",
      "\n",
      "3D Workspace:\n",
      "  o---> y\n",
      "  |\n",
      "x v\n",
      "[(:,:,0)\n",
      "[[3 0 0 2 4 2 4 0 0 1]\n",
      "[0 2 3 3 0 3 1 4 2 0]\n",
      "[1 1 2 0 0 3 2 2 2 4]\n",
      "[3 4 3 2 4 0 3 4 1 4]\n",
      "[2 0 2 0 1 3 2 4 3 0]\n",
      "[3 0 3 2 0 1 1 1 0 3]\n",
      "[2 1 2 1 3 3 0 0 3 4]\n",
      "[1 4 4 4 4 2 0 0 1 4]\n",
      "[1 2 4 3 0 0 1 0 2 2]\n",
      "[0 1 1 4 1 2 4 1 2 2]\n",
      "\n",
      "(:,:,1)\n",
      "[[2 1 4 0 1 3 0 4 0 3]\n",
      "[1 0 0 4 3 1 1 1 0 1]\n",
      "[2 1 0 2 0 0 2 1 1 4]\n",
      "[2 0 3 0 0 1 0 4 4 0]\n",
      "[2 1 4 2 2 3 0 1 1 3]\n",
      "[3 2 4 3 4 0 0 0 2 1]\n",
      "[3 3 2 3 1 1 3 2 2 2]\n",
      "[4 3 0 3 0 3 2 2 0 4]\n",
      "[4 3 1 3 2 4 3 3 2 4]\n",
      "[2 0 1 0 4 1 0 0 3 4]\n",
      "\n",
      "(:,:,2)\n",
      "[[2 4 0 3 4 1 2 2 3 2]\n",
      "[1 4 1 2 1 4 2 0 0 0]\n",
      "[4 4 0 2 2 2 1 1 2 1]\n",
      "[4 2 0 1 0 2 1 1 0 0]\n",
      "[0 0 2 0 0 4 3 0 0 1]\n",
      "[2 2 3 0 2 4 0 1 2 1]\n",
      "[4 4 1 4 3 1 0 3 3 0]\n",
      "[2 0 4 2 4 4 0 2 1 0]\n",
      "[4 2 0 1 2 2 3 0 4 3]\n",
      "[1 1 3 0 3 4 4 3 3 4]]\n",
      "\n",
      "Different ways to index the matrix array:\n",
      "3\n",
      "3\n"
     ]
    }
   ],
   "source": [
    "# defines a workspace full of zeros of shape 10x11x12\n",
    "ws1 = puma.Workspace.from_shape((10, 11, 12))\n",
    "print(\"Shape of workspace 1: {}\\n\".format(ws1.matrix.shape))\n",
    "\n",
    "# defines a workspace of shape 20x31x212, full of a custom value (in this case ones)\n",
    "ws2 = puma.Workspace.from_shape_value((20, 31, 212), 1)\n",
    "print(\"Shape of workspace 2: {}\\n\".format(ws2.matrix.shape))\n",
    "\n",
    "# defines a workspace of shape 5x6x2, full of a custom value (in this case ones) for the matrix array\n",
    "# and vectors for the orientation array\n",
    "ws3 = puma.Workspace.from_shape_value_vector((5, 6, 2), 1, (0.4, 2, 5))\n",
    "print(\"Matrix shape of workspace 3: {}\".format(ws3.matrix.shape))\n",
    "print(\"Orientation shape of workspace 3: {}\".format(ws3.orientation.shape))\n",
    "print(\"Display Workspace 3 matrix\")\n",
    "ws3.show_matrix()\n",
    "print(\"\\nDisplay Workspace 3 orientation\")\n",
    "ws3.show_orientation()\n",
    "\n",
    "# we can also convert a Numpy array into a Workspace directly by running:\n",
    "array = np.random.randint(5, size=(10, 10, 10))\n",
    "ws4 = puma.Workspace.from_array(array)\n",
    "print(\"\\nMatrix shape of workspace 4: {}\".format(ws4.get_shape()))\n",
    "\n",
    "# finally, we can also create an empty workspace object and assign its matrix directly (not recommended):\n",
    "ws5 = puma.Workspace()\n",
    "ws5.matrix = np.random.randint(5, size=(10, 10, 3))\n",
    "print(\"\\nDisplay Workspace 5\")\n",
    "ws5.show_matrix()\n",
    "\n",
    "print(\"\\nDifferent ways to index the matrix array:\")\n",
    "# N.B. the following commands are equivalent\n",
    "print(ws5[0, 0, 0])\n",
    "print(ws5.matrix[0, 0, 0])"
   ]
  },
  {
   "cell_type": "markdown",
   "metadata": {},
   "source": [
    "It is important to keep the first three dimensions (X,Y,Z) of the matrix and orientation class variables the same. This is automatically enforced by using the class methods, but it is not when assigning them directly as in the last example. \n",
    "\n",
    "We can import a tomography image directly into a workspace: "
   ]
  },
  {
   "cell_type": "code",
   "execution_count": 8,
   "metadata": {
    "pycharm": {
     "name": "#%%\n"
    }
   },
   "outputs": [
    {
     "name": "stdout",
     "output_type": "stream",
     "text": [
      "Importing /Users/fsemerar/opt/anaconda3/envs/puma/lib/python3.7/site-packages/pumapy/data/200_fiberform.tif ... Done\n"
     ]
    }
   ],
   "source": [
    "ws_raw = puma.import_3Dtiff(puma.path_to_example_file(\"200_fiberform.tif\"), 1.3e-6)"
   ]
  },
  {
   "cell_type": "markdown",
   "metadata": {},
   "source": [
    "The voxel length (in meters) of the workspace can either be set during import of a 3D tiff, or manually afterwards, as shown below: "
   ]
  },
  {
   "cell_type": "code",
   "execution_count": 3,
   "metadata": {},
   "outputs": [],
   "source": [
    "ws_raw.voxel_length = 1.3e-6"
   ]
  },
  {
   "cell_type": "markdown",
   "metadata": {},
   "source": [
    "We can visualize its slices by running the command below. By scrolling on top of the plot, you can slice through the material along the z axis. You can also use the left/right arrows on the keyboard to skip +/-10 slices or the up/down arrows to skip +/-100 slices. In addition, on the bottom of the plot, the (x,y) coordinates are shown along with the corresponding grayscale value. \n",
    "\n",
    "Note that in Colab only static plots are allowed, so an index can be specified to indicate the slice to show."
   ]
  },
  {
   "cell_type": "code",
   "execution_count": 4,
   "metadata": {
    "scrolled": false
   },
   "outputs": [
    {
     "data": {
      "application/vnd.jupyter.widget-view+json": {
       "model_id": "c612bf6455954115a6057a704446c143",
       "version_major": 2,
       "version_minor": 0
      },
      "text/plain": [
       "Canvas(toolbar=Toolbar(toolitems=[('Home', 'Reset original view', 'home', 'home'), ('Back', 'Back to previous …"
      ]
     },
     "metadata": {},
     "output_type": "display_data"
    }
   ],
   "source": [
    "slices = puma.plot_slices(ws_raw, slice_direction='z', crange=None, cmap='gray', index=1)"
   ]
  },
  {
   "cell_type": "markdown",
   "metadata": {},
   "source": [
    "Otherwise, we can also 3D render it as (see the visualization tutorial for more tips on this):"
   ]
  },
  {
   "cell_type": "code",
   "execution_count": 7,
   "metadata": {},
   "outputs": [
    {
     "data": {
      "application/vnd.jupyter.widget-view+json": {
       "model_id": "c777a6d90a134aa69c59ecf77050aa90",
       "version_major": 2,
       "version_minor": 0
      },
      "text/plain": [
       "ViewInteractiveWidget(height=1200, layout=Layout(height='auto', width='100%'), width=1920)"
      ]
     },
     "metadata": {},
     "output_type": "display_data"
    }
   ],
   "source": [
    "puma.render_volume(ws_raw, notebook=True)"
   ]
  },
  {
   "cell_type": "markdown",
   "metadata": {},
   "source": [
    "Next, we show how to manipulate the domain, e.g. crop, rescale, resize and rotate it. \n",
    "\n",
    "An approach to crop a domain is the following:"
   ]
  },
  {
   "cell_type": "code",
   "execution_count": 16,
   "metadata": {},
   "outputs": [
    {
     "name": "stdout",
     "output_type": "stream",
     "text": [
      "Shape of original workspace: (200, 200, 200)\n",
      "Shape of cropped workspace: (30, 165, 20)\n"
     ]
    }
   ],
   "source": [
    "ws_copy = ws_raw.copy()\n",
    "ws_copy.matrix = ws_copy[10:40, 35:, -20:]\n",
    "print(\"Shape of original workspace: {}\".format(ws_raw.get_shape()))\n",
    "print(\"Shape of cropped workspace: {}\".format(ws_copy.get_shape()))"
   ]
  },
  {
   "cell_type": "markdown",
   "metadata": {},
   "source": [
    "However, it is important to not fall in the trap of referencing the same Numpy array. Here is an example of how you SHOULD NOT perform cropping:"
   ]
  },
  {
   "cell_type": "code",
   "execution_count": 15,
   "metadata": {},
   "outputs": [
    {
     "name": "stdout",
     "output_type": "stream",
     "text": [
      "228\n",
      "228\n"
     ]
    }
   ],
   "source": [
    "ws_bad = puma.Workspace()\n",
    "ws_bad.matrix = ws_raw[10:40, 35:, -20:]  # WRONG: always make a copy first!\n",
    "ws_bad[0, 0, 0] = np.random.randint(0, 255)  # otherwise, this line also changes ws_raw\n",
    "print(ws_raw[10, 35, -20])\n",
    "print(ws_bad[0, 0, 0])"
   ]
  },
  {
   "cell_type": "markdown",
   "metadata": {},
   "source": [
    "As you can see from the output, both the original Workspace and the newly created one share the same Numpy array for the matrix class variable (the second one is only a section of it). This way, when one is changed, the other one will be changed as well. It is important to make a copy of a domain if the original workspace needs to be kept.\n",
    "\n",
    "Next, we show how we can rescale a domain by a factor or resize it to a specified size. "
   ]
  },
  {
   "cell_type": "code",
   "execution_count": 5,
   "metadata": {},
   "outputs": [
    {
     "name": "stdout",
     "output_type": "stream",
     "text": [
      "Rescaled workspace size: (100, 100, 100)\n"
     ]
    },
    {
     "data": {
      "application/vnd.jupyter.widget-view+json": {
       "model_id": "22375076e3ca446ebe07951118b93cbf",
       "version_major": 2,
       "version_minor": 0
      },
      "text/plain": [
       "Canvas(toolbar=Toolbar(toolitems=[('Home', 'Reset original view', 'home', 'home'), ('Back', 'Back to previous …"
      ]
     },
     "metadata": {},
     "output_type": "display_data"
    },
    {
     "data": {
      "text/plain": [
       "<pumapy.visualization.slicer.CompareSlicer at 0x7fa5d0d7b550>"
      ]
     },
     "execution_count": 5,
     "metadata": {},
     "output_type": "execute_result"
    }
   ],
   "source": [
    "ws_copy = ws_raw.copy()\n",
    "ws_copy.rescale(scale=0.5, segmented=False)\n",
    "\n",
    "# Notice that now the axis have different limits\n",
    "puma.compare_slices(ws_raw, ws_copy, index=50)"
   ]
  },
  {
   "cell_type": "markdown",
   "metadata": {
    "pycharm": {
     "name": "#%% md\n"
    }
   },
   "source": [
    "## Tutorial 2: import and export\n",
    "\n",
    "In this tutorial we demonstrate how to input and output a computational domain in PuMA"
   ]
  },
  {
   "cell_type": "markdown",
   "metadata": {},
   "source": [
    "### Explanation of data structures\n",
    "First, we give a brief explanation of the PuMA data structures. For a more detailed description, refer to the workspace manipulation tutorial.\n",
    "\n",
    "Microstructures in PuMA are stored in a data structure called a \"workspace\". The workspace class includes all of the data about the material microstructure, including a 3D matrix of grayscale values, which can be either raw data from tomographic images, or segmented values. \n",
    "\n",
    "Note that in Colab only static plots are allowed, so an index can be specified to indicate the slice to show.\n",
    "\n",
    "Examples of unsegmented and segmented workspaces are demonstrated below: "
   ]
  },
  {
   "cell_type": "code",
   "execution_count": 3,
   "metadata": {
    "pycharm": {
     "name": "#%%\n"
    }
   },
   "outputs": [
    {
     "name": "stdout",
     "output_type": "stream",
     "text": [
      "Importing /Users/fsemerar/opt/anaconda3/envs/puma/lib/python3.7/site-packages/pumapy/data/200_fiberform.tif ... Done\n"
     ]
    },
    {
     "data": {
      "application/vnd.jupyter.widget-view+json": {
       "model_id": "3977851968004bc89ef4c31d2fd9a4b0",
       "version_major": 2,
       "version_minor": 0
      },
      "text/plain": [
       "Canvas(toolbar=Toolbar(toolitems=[('Home', 'Reset original view', 'home', 'home'), ('Back', 'Back to previous …"
      ]
     },
     "metadata": {},
     "output_type": "display_data"
    },
    {
     "data": {
      "text/plain": [
       "<pumapy.visualization.slicer.CompareSlicer at 0x7fdf69d426d0>"
      ]
     },
     "execution_count": 3,
     "metadata": {},
     "output_type": "execute_result"
    }
   ],
   "source": [
    "ws_unsegmented = puma.import_3Dtiff(puma.path_to_example_file(\"200_fiberform.tif\"), 1.3e-6)\n",
    "ws_segmented = ws_unsegmented.copy()\n",
    "ws_segmented.binarize(90)\n",
    "\n",
    "puma.compare_slices(ws_unsegmented, ws_segmented,'z', index=1)"
   ]
  },
  {
   "cell_type": "markdown",
   "metadata": {},
   "source": [
    "The PuMA workspace class also contains other important information about the workspace. This includes the voxel length, which is the physical length, in meters, of each voxel of the image. Typical tomography data ranges from 1e-4 to 1e-7 meters in voxel length. If no value is provided to PuMA, the workspace class defaults to 1e-6 meters as a voxel length. This value can either be set during input-output or it can be set directly for the workspace class. \n",
    "\n",
    "An example is shown below, where the voxel length of a workspace class is manually changed"
   ]
  },
  {
   "cell_type": "code",
   "execution_count": 4,
   "metadata": {},
   "outputs": [],
   "source": [
    "ws_unsegmented.voxel_length = 1.5e-6"
   ]
  },
  {
   "cell_type": "markdown",
   "metadata": {},
   "source": [
    "The workspace class can also store the material orientation for each voxel in the domain. This data can either be imported, or can be computed using \"compute_orientation_st\" function, which applies the structure-tensor method to estimate the material orientation. "
   ]
  },
  {
   "cell_type": "markdown",
   "metadata": {},
   "source": [
    "### Workspace import and export\n",
    "Now we will give examples of input and output for the workspace class. \n",
    "\n",
    "PuMA import and export uses three different file types: 3D tiff, vti, and binary (extension is .pumapy)\n",
    "\n",
    "The 3D tiff images only include the 3D matrix data for the grayscale values. vti and binary, however, includes all data associated with the puma workspace class, including the matrix data, the orientation data (if used) and the voxel length. \n",
    "\n",
    "3D tiff images are often the exported data format for tomography imaging, so they are included in PuMA. If you have a tomographic image that uses a different file format, it is recommended to use an external image processing software (FIJI is recommended - https://imagej.net/software/fiji/) and convert the image to a 3D tiff before importing into pumapy.\n",
    "\n",
    "First, let's set where to export the output file:"
   ]
  },
  {
   "cell_type": "code",
   "execution_count": 14,
   "metadata": {},
   "outputs": [],
   "source": [
    "# Specify a path where to export file\n",
    "export_path = 'out'  # CHANGE THIS PATH\n",
    "\n",
    "if not os.path.exists(export_path):\n",
    "    os.makedirs(export_path)"
   ]
  },
  {
   "cell_type": "markdown",
   "metadata": {},
   "source": [
    "### Loading and exporting a .vti file"
   ]
  },
  {
   "cell_type": "markdown",
   "metadata": {},
   "source": [
    "Now, we will import an example file from the example data inside the folder pumapy.data:"
   ]
  },
  {
   "cell_type": "code",
   "execution_count": 15,
   "metadata": {
    "scrolled": false
   },
   "outputs": [
    {
     "name": "stdout",
     "output_type": "stream",
     "text": [
      "Importing /Users/fsemerar/opt/anaconda3/envs/puma/lib/python3.7/site-packages/pumapy/data/fibers_with_orientation.vti ... Done\n",
      "Voxel Length:  1.3e-06\n",
      "Domain shape:  (50, 50, 50)\n"
     ]
    }
   ],
   "source": [
    "ws_vtk = puma.import_vti(puma.path_to_example_file(\"fibers_with_orientation.vti\"))\n",
    "\n",
    "print(\"Voxel Length: \", ws_vtk.voxel_length)\n",
    "print(\"Domain shape: \", ws_vtk.get_shape())"
   ]
  },
  {
   "cell_type": "markdown",
   "metadata": {},
   "source": [
    "We can now visualize both the fibrous microstructure and the fiber orientation side by side (for more visualization tips, follow the visualization tutorial):"
   ]
  },
  {
   "cell_type": "code",
   "execution_count": 18,
   "metadata": {},
   "outputs": [
    {
     "data": {
      "application/vnd.jupyter.widget-view+json": {
       "model_id": "4d16d71bea404e15b898a29587758fff",
       "version_major": 2,
       "version_minor": 0
      },
      "text/plain": [
       "ViewInteractiveWidget(height=1200, layout=Layout(height='auto', width='100%'), width=1920)"
      ]
     },
     "metadata": {},
     "output_type": "display_data"
    }
   ],
   "source": [
    "p = pv.Plotter(shape=(1, 2), notebook=True)\n",
    "p.subplot(0, 0)\n",
    "p.add_text(\"Microstructure\")\n",
    "puma.render_contour(ws_vtk, (128, 255), notebook=True, add_to_plot=p, plot_directly=False)\n",
    "p.subplot(0, 1)\n",
    "p.add_text(\"Fiber orientation\")\n",
    "puma.render_orientation(ws_vtk, notebook=True, add_to_plot=p, plot_directly=False)\n",
    "p.show()"
   ]
  },
  {
   "cell_type": "markdown",
   "metadata": {},
   "source": [
    "Finally, we will export it again to our specified directory:"
   ]
  },
  {
   "cell_type": "code",
   "execution_count": 16,
   "metadata": {},
   "outputs": [
    {
     "name": "stdout",
     "output_type": "stream",
     "text": [
      "Exporting ../tests/out/fibers_with_orientation.vti ... Done\n"
     ]
    },
    {
     "data": {
      "text/plain": [
       "True"
      ]
     },
     "execution_count": 16,
     "metadata": {},
     "output_type": "execute_result"
    }
   ],
   "source": [
    "puma.export_vti(os.path.join(export_path, \"fibers_with_orientation.vti\"), ws_vtk)"
   ]
  },
  {
   "cell_type": "markdown",
   "metadata": {},
   "source": [
    "And that's it for exportint to vti!  Let's repeat the same steps for .pumapy and 3D tiffs."
   ]
  },
  {
   "cell_type": "markdown",
   "metadata": {},
   "source": [
    "### Loading and exporting a .pumapy binary file"
   ]
  },
  {
   "cell_type": "code",
   "execution_count": 9,
   "metadata": {},
   "outputs": [
    {
     "name": "stdout",
     "output_type": "stream",
     "text": [
      "Importing /Users/fsemerar/opt/anaconda3/envs/puma/lib/python3.7/site-packages/pumapy/data/fibers_with_orientation.pumapy ... Done\n",
      "Voxel Length:  1.3e-06\n",
      "Domain shape:  (50, 50, 50)\n"
     ]
    }
   ],
   "source": [
    "ws_binary = puma.import_bin(puma.path_to_example_file(\"fibers_with_orientation.pumapy\"))\n",
    "\n",
    "print(\"Voxel Length: \", ws_binary.voxel_length)\n",
    "print(\"Domain shape: \", ws_binary.get_shape())"
   ]
  },
  {
   "cell_type": "code",
   "execution_count": 10,
   "metadata": {},
   "outputs": [
    {
     "data": {
      "application/vnd.jupyter.widget-view+json": {
       "model_id": "42022c4cfd1f4867a6dba659e51eef74",
       "version_major": 2,
       "version_minor": 0
      },
      "text/plain": [
       "ViewInteractiveWidget(height=1200, layout=Layout(height='auto', width='100%'), width=1920)"
      ]
     },
     "metadata": {},
     "output_type": "display_data"
    }
   ],
   "source": [
    "p = pv.Plotter(shape=(1, 2), notebook=True)\n",
    "p.subplot(0, 0)\n",
    "p.add_text(\"Microstructure\")\n",
    "puma.render_contour(ws_binary, (128, 255), notebook=True, add_to_plot=p, plot_directly=False)\n",
    "p.subplot(0, 1)\n",
    "p.add_text(\"Fiber orientation\")\n",
    "puma.render_orientation(ws_binary, notebook=True, add_to_plot=p, plot_directly=False)\n",
    "p.show()"
   ]
  },
  {
   "cell_type": "code",
   "execution_count": 11,
   "metadata": {},
   "outputs": [
    {
     "name": "stdout",
     "output_type": "stream",
     "text": [
      "Exporting ./fibers_with_orientation.vti.pumapy ... Done\n"
     ]
    },
    {
     "data": {
      "text/plain": [
       "True"
      ]
     },
     "execution_count": 11,
     "metadata": {},
     "output_type": "execute_result"
    }
   ],
   "source": [
    "puma.export_bin(os.path.join(export_path, \"fibers_with_orientation.vti\"), ws_binary)"
   ]
  },
  {
   "cell_type": "markdown",
   "metadata": {},
   "source": [
    "### Loading and exporting a .tif stack"
   ]
  },
  {
   "cell_type": "code",
   "execution_count": 12,
   "metadata": {},
   "outputs": [
    {
     "name": "stdout",
     "output_type": "stream",
     "text": [
      "Importing /Users/fsemerar/opt/anaconda3/envs/puma/lib/python3.7/site-packages/pumapy/data/fibers.tif ... Done\n",
      "Voxel Length:  1e-06\n",
      "Domain shape:  (50, 50, 50)\n"
     ]
    },
    {
     "data": {
      "application/vnd.jupyter.widget-view+json": {
       "model_id": "2d953c079e2a4fd9ad6bd7a153ad7096",
       "version_major": 2,
       "version_minor": 0
      },
      "text/plain": [
       "ViewInteractiveWidget(height=1200, layout=Layout(height='auto', width='100%'), width=1920)"
      ]
     },
     "metadata": {},
     "output_type": "display_data"
    },
    {
     "name": "stdout",
     "output_type": "stream",
     "text": [
      "Exporting ./fibers.tif ... Done\n"
     ]
    },
    {
     "data": {
      "text/plain": [
       "True"
      ]
     },
     "execution_count": 12,
     "metadata": {},
     "output_type": "execute_result"
    }
   ],
   "source": [
    "ws_tiff = puma.import_3Dtiff(puma.path_to_example_file(\"50_artfibers.tif\"))\n",
    "\n",
    "print(\"Voxel Length: \", ws_tiff.voxel_length)\n",
    "print(\"Domain shape: \", ws_vtk.get_shape())\n",
    "\n",
    "puma.render_contour(ws_tiff, (128,255), notebook=True)\n",
    "\n",
    "puma.export_3Dtiff(os.path.join(export_path, \"50_artfibers.tif\"), ws_tiff)"
   ]
  },
  {
   "cell_type": "markdown",
   "metadata": {},
   "source": [
    "As you can see, with the 3D tiff import, the voxel length of the original workspace and the orientation is not preserved. The voxel length can be set by either adding it as an option to the 3D tiff import call, or by setting it directly: "
   ]
  },
  {
   "cell_type": "code",
   "execution_count": 13,
   "metadata": {},
   "outputs": [
    {
     "name": "stdout",
     "output_type": "stream",
     "text": [
      "Importing /Users/fsemerar/opt/anaconda3/envs/puma/lib/python3.7/site-packages/pumapy/data/fibers.tif ... Done\n",
      "Voxel Length - passed to input function:  1.3e-06\n",
      "Importing /Users/fsemerar/opt/anaconda3/envs/puma/lib/python3.7/site-packages/pumapy/data/fibers.tif ... Done\n",
      "Voxel Length - no input set:  1e-06\n",
      "Voxel Length - manually changed:  1.3e-06\n"
     ]
    }
   ],
   "source": [
    "ws_tiff = puma.import_3Dtiff(puma.path_to_example_file(\"50_artfibers.tif\"),1.3e-6)\n",
    "print(\"Voxel Length - passed to input function: \", ws_tiff.voxel_length)\n",
    "\n",
    "ws_tiff = puma.import_3Dtiff(puma.path_to_example_file(\"50_artfibers.tif\"))\n",
    "print(\"Voxel Length - no input set: \", ws_tiff.voxel_length)\n",
    "ws_tiff.voxel_length = 1.3e-6\n",
    "print(\"Voxel Length - manually changed: \", ws_tiff.voxel_length)"
   ]
  },
  {
   "cell_type": "markdown",
   "metadata": {
    "pycharm": {
     "name": "#%% md\n"
    }
   },
   "source": [
    "## Tutorial 3: 3D Visualization\n",
    "In this tutorial we demonstrate the use of the 3D Visualization capabilities in pumapy. The 3D visualization is based on a coupling with Pyvista. Visualization can be performed on either raw tomography samples (each material phase is composed of a range of grayscale values) or segmented images (each material phase is a single grayscale value). Pumapy can currently produce volume, contour and orientation renderings. Examples of each visualization are shown below. "
   ]
  },
  {
   "cell_type": "markdown",
   "metadata": {},
   "source": [
    "Next we must either import or generate a material to visualize. Computational domains are stored in the workspace class. Below we show an example of both importing and computationally generating a material:"
   ]
  },
  {
   "cell_type": "code",
   "execution_count": 2,
   "metadata": {
    "pycharm": {
     "name": "#%%\n"
    }
   },
   "outputs": [
    {
     "name": "stdout",
     "output_type": "stream",
     "text": [
      "Approximately 818.5111359011762 spheres to be generated\n",
      "Spheres Generated 1120  Porosity = 0.699999375 Importing /Users/fsemerar/Documents/PuMA_playground/puma-dev/python/pumapy/data/200_fiberform.tif ... Done\n"
     ]
    }
   ],
   "source": [
    "# Generating a workspace of randomly placed, intersecting spheres: with the inputs:\n",
    "#  - size of domain in voxels: (200,200,200)\n",
    "#  - diameter of each sphere in voxels: 20\n",
    "#  - porosity of generated material: 0.7\n",
    "ws_generated = puma.generate_random_spheres((200,200,200), 20, 0.7)\n",
    "\n",
    "# The voxel length (in meters) of the workspace defaults to 1 micron (1e-6 m).\n",
    "# To change the voxel length, modify the parameter directly: \n",
    "ws_generated.voxel_length = 1.3e-6\n",
    "\n",
    "# Next we will import an example tomography file of size 200^3 and voxel length 1.3e-6\n",
    "ws_imported = puma.import_3Dtiff(puma.path_to_example_file(\"200_fiberform.tif\"), 1.3e-6)"
   ]
  },
  {
   "cell_type": "markdown",
   "metadata": {},
   "source": [
    "The workspaces above have not been segmented yet. In the case of generated workspace, the generated material has been stored for a grayscale [128,255] and the void phase is stored between [0,127]. The appropriate grayscale cutoff for the imported tomography sample is 90, such that [90,255] is material and [0,89] is the air/void. These values will be different for each tomography image. \n",
    "\n",
    "First, we will generate both volume and contour renderings of the two materials without segmentation. Since we are running the rendering from a jupyter notebook, we need to specify it."
   ]
  },
  {
   "cell_type": "code",
   "execution_count": 3,
   "metadata": {},
   "outputs": [
    {
     "data": {
      "application/vnd.jupyter.widget-view+json": {
       "model_id": "44cdb3d04e5a423b8562dbb96c8e7fc5",
       "version_major": 2,
       "version_minor": 0
      },
      "text/plain": [
       "ViewInteractiveWidget(height=1200, layout=Layout(height='auto', width='100%'), width=1920)"
      ]
     },
     "metadata": {},
     "output_type": "display_data"
    }
   ],
   "source": [
    "# Generating contour (i.e. isosurface) rendering of the computationally generated material\n",
    "# The grayscale range of the material to be rendered is specified as (128,255) and is inclusive\n",
    "puma.render_contour(ws_generated, cutoff=(128, 255), notebook=True)"
   ]
  },
  {
   "cell_type": "code",
   "execution_count": 4,
   "metadata": {},
   "outputs": [
    {
     "data": {
      "application/vnd.jupyter.widget-view+json": {
       "model_id": "bdc1cd05a7d0412bb9bb8a90dcb18df3",
       "version_major": 2,
       "version_minor": 0
      },
      "text/plain": [
       "ViewInteractiveWidget(height=1200, layout=Layout(height='auto', width='100%'), width=1920)"
      ]
     },
     "metadata": {},
     "output_type": "display_data"
    }
   ],
   "source": [
    "# Generating volume (i.e. voxel) rendering of the computationally generated material\n",
    "puma.render_volume(ws_generated, cutoff=(128, 255), notebook=True)"
   ]
  },
  {
   "cell_type": "code",
   "execution_count": 5,
   "metadata": {},
   "outputs": [
    {
     "data": {
      "application/vnd.jupyter.widget-view+json": {
       "model_id": "4f66c67a2fc1433e9d03370f2123672e",
       "version_major": 2,
       "version_minor": 0
      },
      "text/plain": [
       "ViewInteractiveWidget(height=1200, layout=Layout(height='auto', width='100%'), width=1920)"
      ]
     },
     "metadata": {},
     "output_type": "display_data"
    }
   ],
   "source": [
    "# by choosing the \"edges\" style, we can visualize the triangulated surface\n",
    "puma.render_contour(ws_imported, cutoff=(90, 255), notebook=True, style=\"edges\")"
   ]
  },
  {
   "cell_type": "code",
   "execution_count": 6,
   "metadata": {},
   "outputs": [
    {
     "data": {
      "application/vnd.jupyter.widget-view+json": {
       "model_id": "9c16f8af54fd427090ade228e3dae331",
       "version_major": 2,
       "version_minor": 0
      },
      "text/plain": [
       "ViewInteractiveWidget(height=1200, layout=Layout(height='auto', width='100%'), width=1920)"
      ]
     },
     "metadata": {},
     "output_type": "display_data"
    }
   ],
   "source": [
    "puma.render_volume(ws_imported, cutoff=(90, 255), notebook=True)"
   ]
  },
  {
   "cell_type": "markdown",
   "metadata": {},
   "source": [
    "Next, we will segment the workspaces, such that all void voxels contain an ID of 0 and all solid voxels contain an ID of 1. This could be expanded for multi-phase domains. "
   ]
  },
  {
   "cell_type": "code",
   "execution_count": 7,
   "metadata": {},
   "outputs": [],
   "source": [
    "# Setting all grayscale values between 0 and 127, inclusive, to 0\n",
    "ws_generated.set_material_id((0, 127), 0)\n",
    "# Setting all grayscale values between 128 and 255, inclusive, to 1\n",
    "ws_generated.set_material_id((128, 255),1)\n",
    "# The above could also be achieved as: ws_generated.binarize_range((128, 255))\n",
    "\n",
    "# Now on the tomography, we can binarize it using a single threshold as:\n",
    "ws_imported.binarize(89)  # everything above 89 will be set 1, below to 0"
   ]
  },
  {
   "cell_type": "markdown",
   "metadata": {},
   "source": [
    "Now we will generate contour and volume renderings of the segmented files. Note that the grayscale values have changed. In the case of the contour render, the new grayscale values can be specified by either setting the appropriate range - (1,1) in this case, or by specifying the material ID value itself - 1 in this case. For the volume render, the range of grayscales to be considered must be included, in this case simply (1,1)"
   ]
  },
  {
   "cell_type": "code",
   "execution_count": 8,
   "metadata": {},
   "outputs": [
    {
     "data": {
      "application/vnd.jupyter.widget-view+json": {
       "model_id": "40cf87a95427431caa232bfb2d252c36",
       "version_major": 2,
       "version_minor": 0
      },
      "text/plain": [
       "ViewInteractiveWidget(height=1200, layout=Layout(height='auto', width='100%'), width=1920)"
      ]
     },
     "metadata": {},
     "output_type": "display_data"
    }
   ],
   "source": [
    "p = pv.Plotter(shape=(1, 2), notebook=True)\n",
    "p.subplot(0, 0)\n",
    "p.add_text(\"Surface\")\n",
    "puma.render_contour(ws_generated, cutoff=(1, 1), notebook=True, add_to_plot=p, plot_directly=False)\n",
    "p.subplot(0, 1)\n",
    "p.add_text(\"Voxels\")\n",
    "puma.render_volume(ws_generated, cutoff=(1, 1), notebook=True, add_to_plot=p, plot_directly=False)\n",
    "p.show()"
   ]
  },
  {
   "cell_type": "code",
   "execution_count": 9,
   "metadata": {},
   "outputs": [
    {
     "data": {
      "application/vnd.jupyter.widget-view+json": {
       "model_id": "47f0162cbed741f5b78301667b08f7bc",
       "version_major": 2,
       "version_minor": 0
      },
      "text/plain": [
       "ViewInteractiveWidget(height=1200, layout=Layout(height='auto', width='100%'), width=1920)"
      ]
     },
     "metadata": {},
     "output_type": "display_data"
    }
   ],
   "source": [
    "p = pv.Plotter(shape=(1, 2), notebook=True)\n",
    "p.subplot(0, 0)\n",
    "p.add_text(\"Surface\")\n",
    "puma.render_contour(ws_imported, cutoff=(1, 1), notebook=True, add_to_plot=p, plot_directly=False)\n",
    "p.subplot(0, 1)\n",
    "p.add_text(\"Voxels\")\n",
    "puma.render_volume(ws_imported, cutoff=(1, 1), notebook=True, add_to_plot=p, plot_directly=False)\n",
    "p.show()"
   ]
  },
  {
   "cell_type": "markdown",
   "metadata": {},
   "source": [
    "Note that the contour renders for the segmented images are significantly less smooth than for the non-segmented images. This is because for segmented images, the triangulation algorithms have significantly less degrees of freedom when assigning triangle angles, resulting in a rougher surface than for non-segmented images. "
   ]
  },
  {
   "cell_type": "markdown",
   "metadata": {
    "pycharm": {
     "name": "#%% md\n"
    }
   },
   "source": [
    "## Tutorial 4: Multi-phase material\n",
    "Although all of the required information for performing simulations on a multi-phase material are already present in the other tutorials, this tutorial is designed to help the user understand how to perform basic visualizations and simulations on a material with more than one solid phase. \n",
    "\n",
    "For the example here, we are using an artifically generated material with three phases: Random fibers, a bindnig material between the fibers, and randomly populated spheres "
   ]
  },
  {
   "cell_type": "markdown",
   "metadata": {},
   "source": [
    "### Material Generation\n",
    "\n",
    "First, we will generate a material with 2 different types of fibers, and one type of sphere. \n",
    "\n",
    "The two fibers will be stored with material ID 1, and 2, and the sphere will be stored with material ID 3. \n",
    "\n",
    "Specify the output directory for the files to be generated:"
   ]
  },
  {
   "cell_type": "code",
   "execution_count": 3,
   "metadata": {},
   "outputs": [],
   "source": [
    "export_path = \"out\"\n",
    "\n",
    "if not os.path.exists(export_path):\n",
    "    os.makedirs(export_path)"
   ]
  },
  {
   "cell_type": "code",
   "execution_count": 5,
   "metadata": {
    "pycharm": {
     "name": "#%%\n"
    }
   },
   "outputs": [
    {
     "name": "stdout",
     "output_type": "stream",
     "text": [
      "Generating fibers ... 100.0% \n",
      "Generated random fibers domain with porosity: 0.897187625\n",
      "Generating fibers ... 100.0% \n",
      "Generated random fibers domain with porosity: 0.900723\n",
      "Approximately 477.4648292756858 spheres to be generated\n",
      "Spheres Generated 711  Porosity = 0.799681 Exporting ../tests/out/multiphase.tif ... Done\n"
     ]
    }
   ],
   "source": [
    "size = (200,200,200)  # size of the domain, in voxels. \n",
    "radius = 8  # radius of the fibers to be generated, in voxels\n",
    "nFibers = None # Can specify either the number of fibers or the porosity\n",
    "porosity = 0.9  # porosity of the overall structure\n",
    "phi = 90 # A value between 0 and 90 that controls the amount that the fibers lie *out of* the XY plane,\n",
    "         # with 0 meaning all fibers lie in the XY plane, and 90 meaning that cylinders are randomly oriented out of the\n",
    "         # plane by as much as +/- 90 degrees.\n",
    "theta = 90 # A value between 0 and 90 that controls the amount of rotation *in the* XY plane,\n",
    "           # with 0 meaning all fibers point in the X-direction, and 90 meaning they are randomly rotated about the\n",
    "           # Z axis by as much as +/- 90 degrees.\n",
    "length = 200 # Length of the fibers to be generated\n",
    "\n",
    "ws_fibers1 = puma.generate_random_fibers(size,radius,nFibers,porosity,phi,theta,length)\n",
    "\n",
    "radius = 5  # creating smaller fibers for material #2\n",
    "length = 50\n",
    "\n",
    "ws_fibers2 = puma.generate_random_fibers(size,radius,nFibers,porosity,phi,theta,length)\n",
    "ws_fibers2.set_material_id((1,1),2)\n",
    "\n",
    "# combining fibers #1 and fibers #2 into a single domain, and setting the overlap to default to fibers #1\n",
    "ws_fibers1.matrix = ws_fibers1.matrix + ws_fibers2.matrix\n",
    "ws_fibers1.set_material_id((3,3),1) # setting the overlap, which would be 3, equal to 1\n",
    "\n",
    "\n",
    "# Generating the spheres\n",
    "diameter = 20  # diameter of the spheres to be generated, in voxels\n",
    "porosity = 0.8  # porosity of the overall structure\n",
    "allow_intersections = True # flag on whether to allow intersections between spheres. \n",
    "# Note: If allow_intersections is set to false, it will be significantly slower to generate,\n",
    "#.      and will usually require a fairly high porosity value to be generated\n",
    "\n",
    "ws_spheres = puma.generate_random_spheres(size, diameter, porosity, allow_intersections)\n",
    "ws_spheres.set_material_id((0,127),0)\n",
    "ws_spheres.set_material_id((128,255),3)\n",
    "\n",
    "# combining all three materials, with overlap defaulting to the sphere material\n",
    "ws_fibers1.matrix = ws_fibers1.matrix + ws_spheres.matrix\n",
    "ws_fibers1.set_material_id((4,5),3) # setting the overlap, which would be either 4 or 5, equal to 3\n",
    "\n",
    "puma.export_3Dtiff(os.path.join(export_path, \"multiphase.tif\"), ws_fibers1)\n",
    "\n",
    "ws_multiphase = ws_fibers1"
   ]
  },
  {
   "cell_type": "markdown",
   "metadata": {},
   "source": [
    "### Material Visualization\n",
    "\n",
    "Now we will plot a slice of the material and visualize each of the three phases:"
   ]
  },
  {
   "cell_type": "code",
   "execution_count": 6,
   "metadata": {},
   "outputs": [
    {
     "data": {
      "application/vnd.jupyter.widget-view+json": {
       "model_id": "87d591197a054a0ba3b16a5969945cf2",
       "version_major": 2,
       "version_minor": 0
      },
      "text/plain": [
       "Canvas(toolbar=Toolbar(toolitems=[('Home', 'Reset original view', 'home', 'home'), ('Back', 'Back to previous …"
      ]
     },
     "metadata": {},
     "output_type": "display_data"
    }
   ],
   "source": [
    "slices = puma.plot_slices(ws_multiphase, index=100)"
   ]
  },
  {
   "cell_type": "code",
   "execution_count": 7,
   "metadata": {},
   "outputs": [
    {
     "data": {
      "application/vnd.jupyter.widget-view+json": {
       "model_id": "d12cd12f98854d3ab7c30666bb211b43",
       "version_major": 2,
       "version_minor": 0
      },
      "text/plain": [
       "ViewInteractiveWidget(height=1200, layout=Layout(height='auto', width='100%'), width=1920)"
      ]
     },
     "metadata": {},
     "output_type": "display_data"
    }
   ],
   "source": [
    "puma.render_contour(ws_multiphase, cutoff=(1, 1), notebook=True)"
   ]
  },
  {
   "cell_type": "code",
   "execution_count": 8,
   "metadata": {},
   "outputs": [
    {
     "data": {
      "application/vnd.jupyter.widget-view+json": {
       "model_id": "542a93541e3945f4b7fc5b77b5df52fc",
       "version_major": 2,
       "version_minor": 0
      },
      "text/plain": [
       "ViewInteractiveWidget(height=1200, layout=Layout(height='auto', width='100%'), width=1920)"
      ]
     },
     "metadata": {},
     "output_type": "display_data"
    }
   ],
   "source": [
    "puma.render_contour(ws_multiphase, cutoff=(2, 2), notebook=True)"
   ]
  },
  {
   "cell_type": "code",
   "execution_count": 9,
   "metadata": {},
   "outputs": [
    {
     "data": {
      "application/vnd.jupyter.widget-view+json": {
       "model_id": "15828719a2de46958b5662eb173be917",
       "version_major": 2,
       "version_minor": 0
      },
      "text/plain": [
       "ViewInteractiveWidget(height=1200, layout=Layout(height='auto', width='100%'), width=1920)"
      ]
     },
     "metadata": {},
     "output_type": "display_data"
    }
   ],
   "source": [
    "puma.render_contour(ws_multiphase, cutoff=(3, 3), notebook=True)"
   ]
  },
  {
   "cell_type": "markdown",
   "metadata": {},
   "source": [
    "We can also visualize the three-phase material using either the volume_render for showing a voxel representation or the puma.render_contour_multiphase function for a smooth triangulated surface representation: "
   ]
  },
  {
   "cell_type": "code",
   "execution_count": 12,
   "metadata": {},
   "outputs": [
    {
     "data": {
      "application/vnd.jupyter.widget-view+json": {
       "model_id": "41dd1f18327d45da815c849130448968",
       "version_major": 2,
       "version_minor": 0
      },
      "text/plain": [
       "ViewInteractiveWidget(height=1200, layout=Layout(height='auto', width='100%'), width=1920)"
      ]
     },
     "metadata": {},
     "output_type": "display_data"
    }
   ],
   "source": [
    "puma.render_volume(ws_multiphase, cutoff=(1, 3), solid_color=None, notebook=True, cmap='gray')"
   ]
  },
  {
   "cell_type": "code",
   "execution_count": 13,
   "metadata": {},
   "outputs": [
    {
     "data": {
      "application/vnd.jupyter.widget-view+json": {
       "model_id": "ccc00e273057484d944037f1e430a979",
       "version_major": 2,
       "version_minor": 0
      },
      "text/plain": [
       "ViewInteractiveWidget(height=1200, layout=Layout(height='auto', width='100%'), width=1920)"
      ]
     },
     "metadata": {},
     "output_type": "display_data"
    }
   ],
   "source": [
    "cutoffs = [(1, 1)]  # material phase 1\n",
    "cutoffs.append((2, 2)) # material phase 2\n",
    "cutoffs.append((3, 3)) # material phase 3\n",
    "\n",
    "# if solid_colors is not provided, the color of the phases is randomized\n",
    "puma.render_contour_multiphase(ws_multiphase, cutoffs, notebook=True, \n",
    "                               solid_colors=((0., 0., 0.), (0.5, 0.5, 0.5), (1., 1., 1.)))"
   ]
  },
  {
   "cell_type": "markdown",
   "metadata": {},
   "source": [
    "### Volume Fractions\n",
    "\n",
    "To calculate the volume fractions of each material phase, we will use the puma.compute_volume_fraction function and specify the grayscale range of each material: "
   ]
  },
  {
   "cell_type": "code",
   "execution_count": 14,
   "metadata": {},
   "outputs": [
    {
     "name": "stdout",
     "output_type": "stream",
     "text": [
      "Volume Fraction of Void (Porosity): 0.64719075\n",
      "Volume Fraction of Phase 1: 0.080999\n",
      "Volume Fraction of Phase 2: 0.07149125\n",
      "Volume Fraction of Phase 3: 0.200319\n",
      "Volume Fraction of All Three Phases: 0.35280925\n"
     ]
    }
   ],
   "source": [
    "vf_void = puma.compute_volume_fraction(ws_multiphase, (0,0))\n",
    "vf_phase1 = puma.compute_volume_fraction(ws_multiphase, (1,1))\n",
    "vf_phase2 = puma.compute_volume_fraction(ws_multiphase, (2,2))\n",
    "vf_phase3 = puma.compute_volume_fraction(ws_multiphase, (3,3))\n",
    "vf_solid = puma.compute_volume_fraction(ws_multiphase, (1,3))\n",
    "\n",
    "print(\"Volume Fraction of Void (Porosity):\", vf_void)\n",
    "print(\"Volume Fraction of Phase 1:\", vf_phase1)\n",
    "print(\"Volume Fraction of Phase 2:\", vf_phase2)\n",
    "print(\"Volume Fraction of Phase 3:\", vf_phase3)\n",
    "print(\"Volume Fraction of All Three Phases:\", vf_solid)"
   ]
  },
  {
   "cell_type": "markdown",
   "metadata": {},
   "source": [
    "### Surface Area\n",
    "\n",
    "To calculate the total surface area of the entire material phase, we can use the puma.compute_surface_area function with the material cutoff of (1,3) which includes all 3 material phases"
   ]
  },
  {
   "cell_type": "code",
   "execution_count": null,
   "metadata": {},
   "outputs": [],
   "source": [
    "area, specific_area = puma.compute_surface_area(ws_multiphase, (1,3))\n",
    "print(\"Areas:\", area, specific_area)"
   ]
  },
  {
   "cell_type": "markdown",
   "metadata": {},
   "source": [
    "Computing the surface area of each individual phase is a little bit more tricky. To demonstrate, refer to the simple 2D schematic below of a 2-phase material.\n",
    "\n",
    "![image info](./pictures/multiphase.png)\n",
    "\n",
    "The materials are each labeled, 1, and 2, and the edge lengths are labeled a, b, and c. The total surface area of both materials is defined as A<sub>total</sub> = a + b. Assuming that your materials are stored with grayscale values 1 and 2, this total surface area is calculated as before in the 3-material example: puma.compute_surface_area(ws_multiphase, (1,2))\n",
    "\n",
    "However, if you want to know the surface area of an individual phase, there are two options. You can compute the total surface area of the individual phase, including the surface area contact with other material phases, or you can compute only the exposed surface area to the void phase. The latter would be the relevant quantity when computing, for example, the effective reactive surface area for chemical reactions. In the first case, the surface area can be calculated as\n",
    "\n",
    "Area = A<sub>1</sub> = a + c = puma.compute_surface_area(ws_multiphase, (1,2))\n",
    "\n",
    "Area = 0.5 ( A<sub>1</sub> + A<sub>1-2</sub> - A<sub>2</sub> ) = 0.5 * (a + b + a + c - b - c) = a\n",
    "\n",
    "which, written in puma commands, becomes --> Area = puma.compute_surface_area(ws_multiphase, (1,1)) + puma.compute_surface_area(ws_multiphase, (1,2)) - puma.compute_surface_area(ws_multiphase, (2,2))\n",
    "\n",
    "For our 3-phase material, it is quite similar:\n",
    "\n",
    "To compute the surface area of material 1 exposed to the void, \n",
    "\n",
    "Area = 0.5 ( A<sub>1</sub> + A<sub>1-2-3</sub> - A<sub>2-3</sub> ) = 0.5 * (a + d + f + a + b + c - d - b - c - f) = a\n",
    "\n",
    "    "
   ]
  },
  {
   "cell_type": "markdown",
   "metadata": {},
   "source": [
    "Below, we compute the exposed to void surface area of each of the three phases: Note that computing the surface area of the union between 1 and 3 requires extra steps, since using the surface area calculation on the domain with cutoffs (1,3) would include phase 2. Instead we copy the domain, set material 3 to an ID of 1, and then compute the surface area of material 1, which now includes material 3"
   ]
  },
  {
   "cell_type": "code",
   "execution_count": 15,
   "metadata": {},
   "outputs": [
    {
     "name": "stdout",
     "output_type": "stream",
     "text": [
      "Exposed Areas for Phase 1: 1.5702362499999998e-07 19925.34133509395\n",
      "Exposed Areas for Phase 2: 2.3113121875000003e-07 29329.143476276367\n",
      "Exposed Areas for Phase 3: 3.4602567187499997e-07 43908.54957535589\n"
     ]
    }
   ],
   "source": [
    "# Raw and specific surface area calculations\n",
    "Area_1, SSA_1 = puma.compute_surface_area(ws_multiphase, (1,1))  # a + d + f\n",
    "Area_2, SSA_2 = puma.compute_surface_area(ws_multiphase, (2,2))  # d + b + e\n",
    "Area_3, SSA_3 = puma.compute_surface_area(ws_multiphase, (3,3))  # f + e + c\n",
    "\n",
    "Area_12, SSA_12 = puma.compute_surface_area(ws_multiphase, (1,2))  # a + b + e + f\n",
    "Area_23, SSA_23 = puma.compute_surface_area(ws_multiphase, (2,3))  # d + b + c + f\n",
    "Area_123, SSA_123 = puma.compute_surface_area(ws_multiphase, (1,3)) # a \n",
    "\n",
    "ws_copy = ws_multiphase.copy()\n",
    "ws_copy.set_material_id((3,3),1)  # setting all of phase 3 to be equal to ID 1\n",
    "Area_13, SSA_13 = puma.compute_surface_area(ws_copy, (1,1))  # a + d + e + c\n",
    "\n",
    "# Now to compute the exposed surface areas for each phase: \n",
    "Exposed_Area_1 = 0.5 * (Area_1 + Area_123 - Area_23)\n",
    "Exposed_SSA_1 = 0.5 * (SSA_1 + SSA_123 - SSA_23)\n",
    "\n",
    "Exposed_Area_2 = 0.5 * (Area_2 + Area_123 - Area_13)\n",
    "Exposed_SSA_2 = 0.5 * (SSA_2 + SSA_123 - SSA_13)\n",
    "\n",
    "Exposed_Area_3 = 0.5 * (Area_3 + Area_123 - Area_12)\n",
    "Exposed_SSA_3 = 0.5 * (SSA_3 + SSA_123 - SSA_12)\n",
    "\n",
    "print(\"Exposed Areas for Phase 1:\", Exposed_Area_1, Exposed_SSA_1)\n",
    "print(\"Exposed Areas for Phase 2:\", Exposed_Area_2, Exposed_SSA_2)\n",
    "print(\"Exposed Areas for Phase 3:\", Exposed_Area_3, Exposed_SSA_3)"
   ]
  },
  {
   "cell_type": "markdown",
   "metadata": {},
   "source": [
    "As a check, we will test to make sure that the total exposed areas of each phase sum up to the total surface area of all of the material phases: "
   ]
  },
  {
   "cell_type": "code",
   "execution_count": 16,
   "metadata": {},
   "outputs": [
    {
     "name": "stdout",
     "output_type": "stream",
     "text": [
      "Sum of Exposed Phase Area: 93163.03438672621\n",
      "Total Area: 93446.15650409317\n",
      "Percent Error:  0.3029788789168235\n"
     ]
    }
   ],
   "source": [
    "print(\"Sum of Exposed Phase Area:\", Exposed_SSA_1 + Exposed_SSA_2 + Exposed_SSA_3)\n",
    "print(\"Total Area:\", SSA_123)\n",
    "print(\"Percent Error: \", np.abs((Exposed_SSA_1 + Exposed_SSA_2 + Exposed_SSA_3 - SSA_123)) / SSA_123 * 100.)"
   ]
  },
  {
   "cell_type": "markdown",
   "metadata": {},
   "source": [
    "We can see that the two values are very close but not exactly the same. This slight difference is simply numerical error from the triangulations and accounts for a 0.28% error in this case, which should not be too significant. "
   ]
  },
  {
   "cell_type": "markdown",
   "metadata": {},
   "source": [
    "### Tortuosity Factors\n",
    "\n",
    "Computing the tortuosity factors for a multi-phase material is not different than for a single phase material, since it is only the void phase that is specified for the calculation. \n",
    "\n",
    "To speed up the simulation, we will take a 100<sup>3</sup> subsection of the domain in order to perform the tortuosity simulation. Please note that this domain size is almost certainly not a representative volume, and a far larger size should be used when performing production simulations"
   ]
  },
  {
   "cell_type": "code",
   "execution_count": 18,
   "metadata": {},
   "outputs": [
    {
     "name": "stdout",
     "output_type": "stream",
     "text": [
      "Creating conductivity matrix ... Done\n",
      "Initializing temperature field ... Done\n",
      "Setting up b matrix ... Done\n",
      "Assembling A matrix ... 100.0% Done\n",
      "Setting up preconditioner ...Done\n",
      "Time to sep up A matrix:  0.3498098540000001\n",
      "Solving Ax=b system ... Conjugate Gradient:\n",
      "Iteration 305  Residual = 0.0009945377098144427  ... Done\n",
      "Time to solve:  6.430894485000067\n",
      "Computing flux from converged temperature field ... Done\n",
      "Computing effective conductivity... Time to compute fluxes:  0.038075946000049044\n",
      "Creating conductivity matrix ... Done\n",
      "Initializing temperature field ... Done\n",
      "Setting up b matrix ... Done\n",
      "Assembling A matrix ... 100.0% Done\n",
      "Setting up preconditioner ...Done\n",
      "Time to sep up A matrix:  0.323020991999897\n",
      "Solving Ax=b system ... Conjugate Gradient:\n",
      "Iteration 357  Residual = 0.0009988611845363317  ... Done\n",
      "Time to solve:  7.34019804400009\n",
      "Computing flux from converged temperature field ... Done\n",
      "Computing effective conductivity... Time to compute fluxes:  0.030127414000048702\n",
      "Creating conductivity matrix ... Done\n",
      "Initializing temperature field ... Done\n",
      "Setting up b matrix ... Done\n",
      "Assembling A matrix ... 100.0% Done\n",
      "Setting up preconditioner ...Done\n",
      "Time to sep up A matrix:  0.3110490799999752\n",
      "Solving Ax=b system ... Conjugate Gradient:\n",
      "Iteration 283  Residual = 0.0009907751600329846  ... Done\n",
      "Time to solve:  5.889244272000042\n",
      "Computing flux from converged temperature field ... Done\n",
      "Computing effective conductivity... Time to compute fluxes:  0.043556953000006615\n",
      "Effective tortuosity factors:\n",
      "[1.4080533899971923, -26.193109575544074, -26.59631444798206]\n",
      "[-31.320728901302967, 1.4132422402407987, -765.761357612734]\n",
      "[-41.73904343772802, -106.93328896085156, 1.3047812590905212]\n",
      "Porosity of the material: 0.659055\n"
     ]
    },
    {
     "ename": "IndexError",
     "evalue": "index 2 is out of bounds for axis 0 with size 2",
     "output_type": "error",
     "traceback": [
      "\u001B[0;31m---------------------------------------------------------------------------\u001B[0m",
      "\u001B[0;31mIndexError\u001B[0m                                Traceback (most recent call last)",
      "\u001B[0;32m<ipython-input-18-d407e5ec68a5>\u001B[0m in \u001B[0;36m<module>\u001B[0;34m\u001B[0m\n\u001B[1;32m     26\u001B[0m \u001B[0;34m\u001B[0m\u001B[0m\n\u001B[1;32m     27\u001B[0m \u001B[0;31m# Visualizing one slice of the Concentration field:\u001B[0m\u001B[0;34m\u001B[0m\u001B[0;34m\u001B[0m\u001B[0;34m\u001B[0m\u001B[0m\n\u001B[0;32m---> 28\u001B[0;31m \u001B[0mpuma\u001B[0m\u001B[0;34m.\u001B[0m\u001B[0mrender_volume\u001B[0m\u001B[0;34m(\u001B[0m\u001B[0mC_x\u001B[0m\u001B[0;34m[\u001B[0m\u001B[0;34m:\u001B[0m\u001B[0;34m,\u001B[0m\u001B[0;34m:\u001B[0m\u001B[0;34m,\u001B[0m\u001B[0;36m50\u001B[0m\u001B[0;34m]\u001B[0m\u001B[0;34m,\u001B[0m \u001B[0msolid_color\u001B[0m\u001B[0;34m=\u001B[0m\u001B[0;32mNone\u001B[0m\u001B[0;34m,\u001B[0m \u001B[0mnotebook\u001B[0m\u001B[0;34m=\u001B[0m\u001B[0;32mTrue\u001B[0m\u001B[0;34m,\u001B[0m \u001B[0mcmap\u001B[0m\u001B[0;34m=\u001B[0m\u001B[0;34m'jet'\u001B[0m\u001B[0;34m)\u001B[0m\u001B[0;34m\u001B[0m\u001B[0;34m\u001B[0m\u001B[0m\n\u001B[0m",
      "\u001B[0;32m~/Documents/PuMA_playground/puma-dev/python/pumapy/visualization/render.py\u001B[0m in \u001B[0;36mrender_volume\u001B[0;34m(workspace, cutoff, solid_color, style, origin, window_size, opacity, background, show_grid, plot_directly, show_axes, show_outline, cmap, add_to_plot, notebook)\u001B[0m\n\u001B[1;32m     45\u001B[0m     r = Renderer(add_to_plot, \"threshold\", workspace, cutoff, solid_color, style, origin, window_size, opacity,\n\u001B[1;32m     46\u001B[0m                  background, show_grid, plot_directly, show_axes, show_outline, cmap, None, notebook)\n\u001B[0;32m---> 47\u001B[0;31m     \u001B[0;32mreturn\u001B[0m \u001B[0mr\u001B[0m\u001B[0;34m.\u001B[0m\u001B[0mrender\u001B[0m\u001B[0;34m(\u001B[0m\u001B[0;34m)\u001B[0m\u001B[0;34m\u001B[0m\u001B[0;34m\u001B[0m\u001B[0m\n\u001B[0m\u001B[1;32m     48\u001B[0m \u001B[0;34m\u001B[0m\u001B[0m\n\u001B[1;32m     49\u001B[0m \u001B[0;34m\u001B[0m\u001B[0m\n",
      "\u001B[0;32m~/Documents/PuMA_playground/puma-dev/python/pumapy/visualization/render.py\u001B[0m in \u001B[0;36mrender\u001B[0;34m(self)\u001B[0m\n\u001B[1;32m    232\u001B[0m \u001B[0;34m\u001B[0m\u001B[0m\n\u001B[1;32m    233\u001B[0m     \u001B[0;32mdef\u001B[0m \u001B[0mrender\u001B[0m\u001B[0;34m(\u001B[0m\u001B[0mself\u001B[0m\u001B[0;34m)\u001B[0m\u001B[0;34m:\u001B[0m\u001B[0;34m\u001B[0m\u001B[0;34m\u001B[0m\u001B[0m\n\u001B[0;32m--> 234\u001B[0;31m         \u001B[0mself\u001B[0m\u001B[0;34m.\u001B[0m\u001B[0mbuild_plotter\u001B[0m\u001B[0;34m(\u001B[0m\u001B[0;34m)\u001B[0m\u001B[0;34m\u001B[0m\u001B[0;34m\u001B[0m\u001B[0m\n\u001B[0m\u001B[1;32m    235\u001B[0m \u001B[0;34m\u001B[0m\u001B[0m\n\u001B[1;32m    236\u001B[0m         \u001B[0;32mif\u001B[0m \u001B[0mself\u001B[0m\u001B[0;34m.\u001B[0m\u001B[0mplot_directly\u001B[0m\u001B[0;34m:\u001B[0m\u001B[0;34m\u001B[0m\u001B[0;34m\u001B[0m\u001B[0m\n",
      "\u001B[0;32m~/Documents/PuMA_playground/puma-dev/python/pumapy/visualization/render.py\u001B[0m in \u001B[0;36mbuild_plotter\u001B[0;34m(self)\u001B[0m\n\u001B[1;32m    247\u001B[0m \u001B[0;34m\u001B[0m\u001B[0m\n\u001B[1;32m    248\u001B[0m         \u001B[0;32mif\u001B[0m \u001B[0mself\u001B[0m\u001B[0;34m.\u001B[0m\u001B[0mfilter_type\u001B[0m \u001B[0;34m==\u001B[0m \u001B[0;34m\"threshold\"\u001B[0m\u001B[0;34m:\u001B[0m\u001B[0;34m\u001B[0m\u001B[0;34m\u001B[0m\u001B[0m\n\u001B[0;32m--> 249\u001B[0;31m             \u001B[0mself\u001B[0m\u001B[0;34m.\u001B[0m\u001B[0mgrid\u001B[0m\u001B[0;34m.\u001B[0m\u001B[0mdimensions\u001B[0m \u001B[0;34m=\u001B[0m \u001B[0mnp\u001B[0m\u001B[0;34m.\u001B[0m\u001B[0marray\u001B[0m\u001B[0;34m(\u001B[0m\u001B[0mself\u001B[0m\u001B[0;34m.\u001B[0m\u001B[0marray\u001B[0m\u001B[0;34m.\u001B[0m\u001B[0mshape\u001B[0m\u001B[0;34m)\u001B[0m \u001B[0;34m+\u001B[0m \u001B[0;36m1\u001B[0m\u001B[0;34m\u001B[0m\u001B[0;34m\u001B[0m\u001B[0m\n\u001B[0m\u001B[1;32m    250\u001B[0m             \u001B[0mself\u001B[0m\u001B[0;34m.\u001B[0m\u001B[0mgrid\u001B[0m\u001B[0;34m.\u001B[0m\u001B[0mcell_arrays\u001B[0m\u001B[0;34m[\u001B[0m\u001B[0;34m\"values\"\u001B[0m\u001B[0;34m]\u001B[0m \u001B[0;34m=\u001B[0m \u001B[0mself\u001B[0m\u001B[0;34m.\u001B[0m\u001B[0marray\u001B[0m\u001B[0;34m.\u001B[0m\u001B[0mflatten\u001B[0m\u001B[0;34m(\u001B[0m\u001B[0morder\u001B[0m\u001B[0;34m=\u001B[0m\u001B[0;34m\"F\"\u001B[0m\u001B[0;34m)\u001B[0m\u001B[0;34m\u001B[0m\u001B[0;34m\u001B[0m\u001B[0m\n\u001B[1;32m    251\u001B[0m             \u001B[0mself\u001B[0m\u001B[0;34m.\u001B[0m\u001B[0mfilter\u001B[0m \u001B[0;34m=\u001B[0m \u001B[0mself\u001B[0m\u001B[0;34m.\u001B[0m\u001B[0mgrid\u001B[0m\u001B[0;34m.\u001B[0m\u001B[0mthreshold\u001B[0m\u001B[0;34m(\u001B[0m\u001B[0mself\u001B[0m\u001B[0;34m.\u001B[0m\u001B[0mcutoff\u001B[0m\u001B[0;34m)\u001B[0m\u001B[0;34m\u001B[0m\u001B[0;34m\u001B[0m\u001B[0m\n",
      "\u001B[0;32m~/opt/anaconda3/envs/puma/lib/python3.7/site-packages/pyvista/core/grid.py\u001B[0m in \u001B[0;36mdimensions\u001B[0;34m(self, dims)\u001B[0m\n\u001B[1;32m     36\u001B[0m     \u001B[0;32mdef\u001B[0m \u001B[0mdimensions\u001B[0m\u001B[0;34m(\u001B[0m\u001B[0mself\u001B[0m\u001B[0;34m,\u001B[0m \u001B[0mdims\u001B[0m\u001B[0;34m)\u001B[0m\u001B[0;34m:\u001B[0m\u001B[0;34m\u001B[0m\u001B[0;34m\u001B[0m\u001B[0m\n\u001B[1;32m     37\u001B[0m         \u001B[0;34m\"\"\"Set the dataset dimensions. Pass a length three tuple of integers.\"\"\"\u001B[0m\u001B[0;34m\u001B[0m\u001B[0;34m\u001B[0m\u001B[0m\n\u001B[0;32m---> 38\u001B[0;31m         \u001B[0mnx\u001B[0m\u001B[0;34m,\u001B[0m \u001B[0mny\u001B[0m\u001B[0;34m,\u001B[0m \u001B[0mnz\u001B[0m \u001B[0;34m=\u001B[0m \u001B[0mdims\u001B[0m\u001B[0;34m[\u001B[0m\u001B[0;36m0\u001B[0m\u001B[0;34m]\u001B[0m\u001B[0;34m,\u001B[0m \u001B[0mdims\u001B[0m\u001B[0;34m[\u001B[0m\u001B[0;36m1\u001B[0m\u001B[0;34m]\u001B[0m\u001B[0;34m,\u001B[0m \u001B[0mdims\u001B[0m\u001B[0;34m[\u001B[0m\u001B[0;36m2\u001B[0m\u001B[0;34m]\u001B[0m\u001B[0;34m\u001B[0m\u001B[0;34m\u001B[0m\u001B[0m\n\u001B[0m\u001B[1;32m     39\u001B[0m         \u001B[0mself\u001B[0m\u001B[0;34m.\u001B[0m\u001B[0mSetDimensions\u001B[0m\u001B[0;34m(\u001B[0m\u001B[0mnx\u001B[0m\u001B[0;34m,\u001B[0m \u001B[0mny\u001B[0m\u001B[0;34m,\u001B[0m \u001B[0mnz\u001B[0m\u001B[0;34m)\u001B[0m\u001B[0;34m\u001B[0m\u001B[0;34m\u001B[0m\u001B[0m\n\u001B[1;32m     40\u001B[0m         \u001B[0mself\u001B[0m\u001B[0;34m.\u001B[0m\u001B[0mModified\u001B[0m\u001B[0;34m(\u001B[0m\u001B[0;34m)\u001B[0m\u001B[0;34m\u001B[0m\u001B[0;34m\u001B[0m\u001B[0m\n",
      "\u001B[0;31mIndexError\u001B[0m: index 2 is out of bounds for axis 0 with size 2"
     ]
    }
   ],
   "source": [
    "# The tortuosity calculation needs to be run for each of the three simulation directions. \n",
    "# For each simulation, a concentration gradient is forced in the simulation direction, and converged to steady state\n",
    "\n",
    "# Simulation inputs: \n",
    "#.  1. workspace - the computational domain for the simulation, containing your material microstructure\n",
    "#.  2. cutoff - the grayscale values for the void phase. [0,0] for this sample\n",
    "#.  3. direction - the simulation direction, 'x', 'y', or 'z'\n",
    "#.  4. side_bc - boundary condition in the non-simulation direction. Can be 'p' - periodic, 's' - symmetric, 'd' - dirichlet\n",
    "#.  5. tolerance - accuracy of the numerical solver, defaults to 1e-4. \n",
    "#.  6. maxiter - maximum number of iterations, defaults to 10,000\n",
    "#.  7. solver_type - the iterative solver used. Can be 'bicgstab', 'cg', 'gmres', or 'direct'. Defaults to 'bicgstab'\n",
    "\n",
    "ws_cropped = ws_multiphase.copy()  # creating a copy of the workspace to crop\n",
    "ws_cropped.matrix = ws_cropped.matrix[50:150,50:150,50:150]  # cropping the sample to 100^3\n",
    "\n",
    "n_eff_x, Deff_x, poro, C_x = puma.compute_continuum_tortuosity(ws_cropped, (0,0), 'x', side_bc='s', tolerance=1e-3, solver_type='cg')\n",
    "n_eff_y, Deff_y, poro, C_y = puma.compute_continuum_tortuosity(ws_cropped, (0,0), 'y', side_bc='s', tolerance=1e-3, solver_type='cg')\n",
    "n_eff_z, Deff_z, poro, C_z = puma.compute_continuum_tortuosity(ws_cropped, (0,0), 'z', side_bc='s', tolerance=1e-3, solver_type='cg')\n",
    "\n",
    "print(\"Effective tortuosity factors:\")\n",
    "print(n_eff_x)\n",
    "print(n_eff_y)\n",
    "print(n_eff_z)\n",
    "\n",
    "print(\"Porosity of the material:\", poro)"
   ]
  },
  {
   "cell_type": "code",
   "execution_count": 21,
   "metadata": {},
   "outputs": [
    {
     "data": {
      "application/vnd.jupyter.widget-view+json": {
       "model_id": "24911f7cbf19432f9c0ce7c4d45f84ec",
       "version_major": 2,
       "version_minor": 0
      },
      "text/plain": [
       "ViewInteractiveWidget(height=1200, layout=Layout(height='auto', width='100%'), width=1920)"
      ]
     },
     "metadata": {},
     "output_type": "display_data"
    }
   ],
   "source": [
    "# Visualizing the Concentration field for the simulation along the x-axis:  \n",
    "puma.render_volume(C_x, solid_color=None, notebook=True, cmap='jet')"
   ]
  },
  {
   "cell_type": "markdown",
   "metadata": {},
   "source": [
    "### Effective Thermal Conductivity\n",
    "\n",
    "Computing the effective thermal conductivity is also very similar to in a single-phase case. The only difference is that rather than two materials being specified (void and solid) in the conductivity map, an entry must be made for each material phase, and the corresponding constituent thermal conductivity must be set. "
   ]
  },
  {
   "cell_type": "code",
   "execution_count": 22,
   "metadata": {},
   "outputs": [
    {
     "name": "stdout",
     "output_type": "stream",
     "text": [
      "Creating conductivity matrix ... Done\n",
      "Initializing temperature field ... Done\n",
      "Setting up b matrix ... Done\n",
      "Assembling A matrix ... 100.0% Done\n",
      "Setting up preconditioner ...Done\n",
      "Time to sep up A matrix:  0.3023784849999629\n",
      "Solving Ax=b system ... Bicgstab:\n",
      "Iteration 1650  Residual = 0.0009330618568400429  ... Done\n",
      "Time to solve:  68.48759096200001\n",
      "Computing flux from converged temperature field ... Done\n",
      "Computing effective conductivity... Time to compute fluxes:  0.04502836300002855\n",
      "Creating conductivity matrix ... Done\n",
      "Initializing temperature field ... Done\n",
      "Setting up b matrix ... Done\n",
      "Assembling A matrix ... 100.0% Done\n",
      "Setting up preconditioner ...Done\n",
      "Time to sep up A matrix:  0.31116277899991474\n",
      "Solving Ax=b system ... Bicgstab:\n",
      "Iteration 1417  Residual = 0.0005765297166056445  ... Done\n",
      "Time to solve:  62.695709545\n",
      "Computing flux from converged temperature field ... Done\n",
      "Computing effective conductivity... Time to compute fluxes:  0.03980522999995628\n",
      "Creating conductivity matrix ... Done\n",
      "Initializing temperature field ... Done\n",
      "Setting up b matrix ... Done\n",
      "Assembling A matrix ... 100.0% Done\n",
      "Setting up preconditioner ...Done\n",
      "Time to sep up A matrix:  0.39360851599997204\n",
      "Solving Ax=b system ... Bicgstab:\n",
      "Iteration 1706  Residual = 0.0006672984889779957  ... Done\n",
      "Time to solve:  75.72628211999995\n",
      "Computing flux from converged temperature field ... Done\n",
      "Computing effective conductivity... Time to compute fluxes:  0.0534382870000627\n",
      "Effective thermal conductivity tensor:\n",
      "[1.4197158016345397, -0.11471970554368965, 0.506582252890505]\n",
      "[-0.11028805895141575, 1.3284663553492069, 0.04991627113517391]\n",
      "[0.44555715475705543, 0.06402170127591833, 2.2113469475362106]\n"
     ]
    },
    {
     "ename": "TypeError",
     "evalue": "render_volume() got an unexpected keyword argument 'color'",
     "output_type": "error",
     "traceback": [
      "\u001B[0;31m---------------------------------------------------------------------------\u001B[0m",
      "\u001B[0;31mTypeError\u001B[0m                                 Traceback (most recent call last)",
      "\u001B[0;32m<ipython-input-22-6eada007c57c>\u001B[0m in \u001B[0;36m<module>\u001B[0;34m\u001B[0m\n\u001B[1;32m     30\u001B[0m \u001B[0;34m\u001B[0m\u001B[0m\n\u001B[1;32m     31\u001B[0m \u001B[0;31m# Visualizing one slice of the temperature field:\u001B[0m\u001B[0;34m\u001B[0m\u001B[0;34m\u001B[0m\u001B[0;34m\u001B[0m\u001B[0m\n\u001B[0;32m---> 32\u001B[0;31m \u001B[0mpuma\u001B[0m\u001B[0;34m.\u001B[0m\u001B[0mrender_volume\u001B[0m\u001B[0;34m(\u001B[0m\u001B[0mT_x\u001B[0m\u001B[0;34m[\u001B[0m\u001B[0;34m:\u001B[0m\u001B[0;34m,\u001B[0m\u001B[0;34m:\u001B[0m\u001B[0;34m,\u001B[0m\u001B[0;36m50\u001B[0m\u001B[0;34m]\u001B[0m\u001B[0;34m,\u001B[0m \u001B[0mcolor\u001B[0m\u001B[0;34m=\u001B[0m\u001B[0;32mTrue\u001B[0m\u001B[0;34m)\u001B[0m\u001B[0;34m\u001B[0m\u001B[0;34m\u001B[0m\u001B[0m\n\u001B[0m",
      "\u001B[0;31mTypeError\u001B[0m: render_volume() got an unexpected keyword argument 'color'"
     ]
    }
   ],
   "source": [
    "# Generating a conductivity map. This stores the conductivity values for each phase of the material\n",
    "cond_map = puma.IsotropicConductivityMap()\n",
    "# First, we set the conductivity of the void phase to be 0.0257 (air at STP)\n",
    "cond_map.add_material((0, 0), 0.0257)\n",
    "# Next we set the conductivity of each of the three material phases\n",
    "cond_map.add_material((1, 1), 10)\n",
    "cond_map.add_material((2, 2), 20)\n",
    "cond_map.add_material((3, 3), 100)\n",
    "\n",
    "# The thermal conductivity calculation needs to be run for each of the three simulation directions. \n",
    "# For each simulation, a temperature gradient is forced in the simulation direction, and converged to steady state\n",
    "\n",
    "# Simulation inputs: \n",
    "#.  1. workspace - the computational domain for the simulation, containing your material microstructure\n",
    "#.  2. cond_map - the conductivity values for each material phase\n",
    "#.  3. direction - the simulation direction, 'x', 'y', or 'z'\n",
    "#.  4. side_bc - boundary condition in the non-simulation direction. Can be 'p' - periodic, 's' - symmetric, 'd' - dirichlet\n",
    "#.  5. tolerance - accuracy of the numerical solver, defaults to 1e-4. \n",
    "#.  6. maxiter - maximum number of iterations, defaults to 10,000\n",
    "#.  7. solver_type - the iterative solver used. Can be 'bicgstab', 'cg', 'gmres', or 'direct'. Defaults to 'bicgstab'\n",
    "\n",
    "k_eff_x, T_x, q_x = puma.compute_thermal_conductivity(ws_cropped,cond_map, 'x', 's', tolerance=1e-4, solver_type='bicgstab')\n",
    "k_eff_y, T_y, q_y = puma.compute_thermal_conductivity(ws_cropped,cond_map, 'y', 's', tolerance=1e-4, solver_type='bicgstab')\n",
    "k_eff_z, T_z, q_z = puma.compute_thermal_conductivity(ws_cropped,cond_map, 'z', 's', tolerance=1e-4, solver_type='bicgstab')\n",
    "\n",
    "print(\"Effective thermal conductivity tensor:\")\n",
    "print(k_eff_x)\n",
    "print(k_eff_y)\n",
    "print(k_eff_z)"
   ]
  },
  {
   "cell_type": "code",
   "execution_count": 23,
   "metadata": {},
   "outputs": [
    {
     "data": {
      "application/vnd.jupyter.widget-view+json": {
       "model_id": "df91f681c8ee4c6f9b398877cfb95f80",
       "version_major": 2,
       "version_minor": 0
      },
      "text/plain": [
       "ViewInteractiveWidget(height=1200, layout=Layout(height='auto', width='100%'), width=1920)"
      ]
     },
     "metadata": {},
     "output_type": "display_data"
    }
   ],
   "source": [
    "# Visualizing the temperature field for the simulation along the y-axis: \n",
    "puma.render_volume(T_y, solid_color=None, notebook=True, cmap='jet')"
   ]
  },
  {
   "cell_type": "markdown",
   "metadata": {
    "pycharm": {
     "name": "#%% md\n"
    }
   },
   "source": [
    "## Tutorial 5: Generating Random Fiber Structures\n",
    "In this tutorial we demonstrate how to generate a microstructure of random intersecting fibers"
   ]
  },
  {
   "cell_type": "markdown",
   "metadata": {},
   "source": [
    "We generate the fiber structure and store it into the PuMA workspace class. "
   ]
  },
  {
   "cell_type": "code",
   "execution_count": 5,
   "metadata": {
    "pycharm": {
     "name": "#%%\n"
    }
   },
   "outputs": [
    {
     "name": "stdout",
     "output_type": "stream",
     "text": [
      "Generating fibers ... 100.0% \n",
      "Generated random fibers domain with porosity: 0.8013315\n"
     ]
    }
   ],
   "source": [
    "size = (200, 200, 200)  # size of the domain, in voxels. \n",
    "radius = 8  # radius of the fibers to be generated, in voxels\n",
    "nFibers = None # Can specify either the number of fibers or the porosity\n",
    "porosity = 0.8  # porosity of the overall structure\n",
    "phi = 90 # A value between 0 and 90 that controls the amount that the fibers lie *out of* the XY plane,\n",
    "         # with 0 meaning all fibers lie in the XY plane, and 90 meaning that cylinders are randomly oriented out of the\n",
    "         # plane by as much as +/- 90 degrees.\n",
    "theta = 90 # A value between 0 and 90 that controls the amount of rotation *in the* XY plane,\n",
    "           # with 0 meaning all fibers point in the X-direction, and 90 meaning they are randomly rotated about the\n",
    "           # Z axis by as much as +/- 90 degrees.\n",
    "length = 200 # Length of the fibers to be generated\n",
    "\n",
    "ws_fibers = puma.generate_random_fibers(size, radius, nFibers, porosity, phi, theta, length)"
   ]
  },
  {
   "cell_type": "markdown",
   "metadata": {},
   "source": [
    "The material is now stored in the puma workspace, ws_fibers. By default, the grayscale value of 0 is assigned to the void space and a grayscale value of 1 is assigned to the material. \n",
    "\n",
    "Next we will visualize the domain: "
   ]
  },
  {
   "cell_type": "code",
   "execution_count": 6,
   "metadata": {},
   "outputs": [
    {
     "data": {
      "application/vnd.jupyter.widget-view+json": {
       "model_id": "c90dd4180925484c9487a28867a00179",
       "version_major": 2,
       "version_minor": 0
      },
      "text/plain": [
       "ViewInteractiveWidget(height=1200, layout=Layout(height='auto', width='100%'), width=1920)"
      ]
     },
     "metadata": {},
     "output_type": "display_data"
    }
   ],
   "source": [
    "# visualizing the solid domain\n",
    "puma.render_contour(ws_fibers, cutoff=(1, 1), notebook=True)"
   ]
  },
  {
   "cell_type": "markdown",
   "metadata": {},
   "source": [
    "If you would like to visualize the individual sices, this can be done using the plot_slices function"
   ]
  },
  {
   "cell_type": "code",
   "execution_count": 7,
   "metadata": {},
   "outputs": [
    {
     "data": {
      "application/vnd.jupyter.widget-view+json": {
       "model_id": "3b7dc04989d345dc899d7d99d5f17621",
       "version_major": 2,
       "version_minor": 0
      },
      "text/plain": [
       "Canvas(toolbar=Toolbar(toolitems=[('Home', 'Reset original view', 'home', 'home'), ('Back', 'Back to previous …"
      ]
     },
     "metadata": {},
     "output_type": "display_data"
    },
    {
     "data": {
      "text/plain": [
       "<pumapy.visualization.slicer.PlotSlicer at 0x7fe76938e690>"
      ]
     },
     "execution_count": 7,
     "metadata": {},
     "output_type": "execute_result"
    }
   ],
   "source": [
    "puma.plot_slices(ws_fibers)"
   ]
  },
  {
   "cell_type": "markdown",
   "metadata": {
    "pycharm": {
     "name": "#%% md\n"
    }
   },
   "source": [
    "## Tutorial 6: Generating Random Sphere Structures\n",
    "In this tutorial we demonstrate how to generate a microstructure of random intersecting spheres"
   ]
  },
  {
   "cell_type": "markdown",
   "metadata": {},
   "source": [
    "We generate the sphere structure and store it into the PuMA workspace class. "
   ]
  },
  {
   "cell_type": "code",
   "execution_count": 3,
   "metadata": {
    "pycharm": {
     "name": "#%%\n"
    }
   },
   "outputs": [
    {
     "name": "stdout",
     "output_type": "stream",
     "text": [
      "Approximately 3819.7186342054865 spheres to be generated\n",
      "Spheres Generated 4523  Porosity = 0.7999770625   "
     ]
    }
   ],
   "source": [
    "size = (400, 400, 400)  # size of the domain, in voxels. \n",
    "diameter = 20  # diameter of the spheres to be generated, in voxels\n",
    "porosity = 0.8  # porosity of the overall structure\n",
    "allow_intersections = True # flag on whether to allow intersections between spheres. \n",
    "# Note: If allow_intersections is set to false, it will be significantly slower to generate,\n",
    "#.      and will usually require a fairly high porosity value to be generated\n",
    "\n",
    "ws_spheres = puma.generate_random_spheres(size, diameter, porosity, allow_intersections)"
   ]
  },
  {
   "cell_type": "markdown",
   "metadata": {},
   "source": [
    "The material is now stored in the puma workspace, ws_spheres. By default, the grayscale range of [0,127] corresponds to the void space, and [128,255] contains the material. \n",
    "\n",
    "Next we will visualize the domain: "
   ]
  },
  {
   "cell_type": "code",
   "execution_count": 4,
   "metadata": {},
   "outputs": [
    {
     "data": {
      "application/vnd.jupyter.widget-view+json": {
       "model_id": "ec53e044945e4efd950732f2ee259ad2",
       "version_major": 2,
       "version_minor": 0
      },
      "text/plain": [
       "ViewInteractiveWidget(height=1200, layout=Layout(height='auto', width='100%'), width=1920)"
      ]
     },
     "metadata": {},
     "output_type": "display_data"
    }
   ],
   "source": [
    "# visualizing the solid domain, contained in [128,255] grayscale range. \n",
    "puma.render_contour(ws_spheres, cutoff=(128, 255), notebook=True)"
   ]
  },
  {
   "cell_type": "markdown",
   "metadata": {},
   "source": [
    "If you would like to segment the domain, that can be done using the binarize function, or the set_material_id function. "
   ]
  },
  {
   "cell_type": "code",
   "execution_count": 5,
   "metadata": {},
   "outputs": [
    {
     "data": {
      "application/vnd.jupyter.widget-view+json": {
       "model_id": "cf1005f0306844fa9571272d21e5fb69",
       "version_major": 2,
       "version_minor": 0
      },
      "text/plain": [
       "Canvas(toolbar=Toolbar(toolitems=[('Home', 'Reset original view', 'home', 'home'), ('Back', 'Back to previous …"
      ]
     },
     "metadata": {},
     "output_type": "display_data"
    },
    {
     "data": {
      "text/plain": [
       "<pumapy.visualization.slicer.CompareSlicer at 0x7fc2c833ab50>"
      ]
     },
     "execution_count": 5,
     "metadata": {},
     "output_type": "execute_result"
    }
   ],
   "source": [
    "ws_spheres_binary = ws_spheres.copy()\n",
    "\n",
    "# binarize(128) sets all grayscale values below 128 to 0, \n",
    "# and all grayscale values above and equal to 128 to 1\n",
    "ws_spheres_binary.binarize(128)\n",
    "\n",
    "puma.compare_slices(ws_spheres, ws_spheres_binary)"
   ]
  },
  {
   "cell_type": "markdown",
   "metadata": {
    "pycharm": {
     "name": "#%% md\n"
    }
   },
   "source": [
    "## Tutorial 7: Generating Triply Periodic Minimal Surfaces\n",
    "In this tutorial we demonstrate how to generate a TPMS microstructure "
   ]
  },
  {
   "cell_type": "markdown",
   "metadata": {},
   "source": [
    "We generate the TPMS structure. There are three different equations that can be used in the TPMS generator: \n",
    "\n",
    "Equation 0: grayscale value = q + sin(wx)*sin(wy)*sin(wz) + sin(wx)*cos(wy)*cos(wz) + cos(wx)*sin(wy)*cos(wz) + cos(wx)*cos(wy)*sin(wz)\n",
    "\n",
    "Equation 1: grayscale value = q + cos(wx)*sin(wy) + cos(wy)*sin(wz) + cos(wi)*cos(wz)\n",
    "\n",
    "Equation 2: grayscale value = q + cos(wx) + cos(wy) + cos(wz)\n",
    "\n",
    "The values of w and q can either be provided as single values, or as a tuple. If a tuple is used, then the first and second values will be the minimum and maximum values for q and w, and the value will vary linearly between the two along the z-axis.\n",
    "\n",
    "The value of w controls the pore diameter and the value of q controls the porosity"
   ]
  },
  {
   "cell_type": "code",
   "execution_count": 3,
   "metadata": {
    "pycharm": {
     "name": "#%%\n"
    }
   },
   "outputs": [
    {
     "name": "stdout",
     "output_type": "stream",
     "text": [
      "Generating TPMS ... 100.0% Generated in: 3.6708770619999997 seconds\n",
      "Generating TPMS ... 100.0% Generated in: 2.8307618539999995 seconds\n",
      "Generating TPMS ... 100.0% Generated in: 2.4955670889999997 seconds\n"
     ]
    }
   ],
   "source": [
    "size = (400, 400, 400)  # size of the domain, in voxels. \n",
    "w = 0.08  # value of w in the equations above\n",
    "q = 0.2  # value of q in the equations above\n",
    "\n",
    "ws_eq0 = puma.generate_tpms(size, w, q, equation=0)\n",
    "ws_eq1 = puma.generate_tpms(size, w, q, equation=1)\n",
    "ws_eq2 = puma.generate_tpms(size, w, q, equation=2)"
   ]
  },
  {
   "cell_type": "markdown",
   "metadata": {},
   "source": [
    "The material is now stored in the puma workspace. By default, the grayscale range of [0,127] corresponds to the void space, and [128,255] contains the material. \n",
    "\n",
    "Next we will visualize slices of the domains: "
   ]
  },
  {
   "cell_type": "code",
   "execution_count": 4,
   "metadata": {},
   "outputs": [
    {
     "data": {
      "application/vnd.jupyter.widget-view+json": {
       "model_id": "6e37581118cc40a486259d59a1529d22",
       "version_major": 2,
       "version_minor": 0
      },
      "text/plain": [
       "Canvas(toolbar=Toolbar(toolitems=[('Home', 'Reset original view', 'home', 'home'), ('Back', 'Back to previous …"
      ]
     },
     "metadata": {},
     "output_type": "display_data"
    },
    {
     "data": {
      "text/plain": [
       "<pumapy.visualization.slicer.PlotSlicer at 0x7fe530eb2350>"
      ]
     },
     "execution_count": 4,
     "metadata": {},
     "output_type": "execute_result"
    }
   ],
   "source": [
    "puma.plot_slices(ws_eq0)"
   ]
  },
  {
   "cell_type": "code",
   "execution_count": 5,
   "metadata": {},
   "outputs": [
    {
     "data": {
      "application/vnd.jupyter.widget-view+json": {
       "model_id": "2de042bc435041d9a0e7ea0d9c4e774c",
       "version_major": 2,
       "version_minor": 0
      },
      "text/plain": [
       "Canvas(toolbar=Toolbar(toolitems=[('Home', 'Reset original view', 'home', 'home'), ('Back', 'Back to previous …"
      ]
     },
     "metadata": {},
     "output_type": "display_data"
    },
    {
     "data": {
      "text/plain": [
       "<pumapy.visualization.slicer.PlotSlicer at 0x7fe52971d390>"
      ]
     },
     "execution_count": 5,
     "metadata": {},
     "output_type": "execute_result"
    }
   ],
   "source": [
    "puma.plot_slices(ws_eq1)"
   ]
  },
  {
   "cell_type": "code",
   "execution_count": 6,
   "metadata": {},
   "outputs": [
    {
     "data": {
      "application/vnd.jupyter.widget-view+json": {
       "model_id": "dc6a2e1391cf43188d076b84e466af1e",
       "version_major": 2,
       "version_minor": 0
      },
      "text/plain": [
       "Canvas(toolbar=Toolbar(toolitems=[('Home', 'Reset original view', 'home', 'home'), ('Back', 'Back to previous …"
      ]
     },
     "metadata": {},
     "output_type": "display_data"
    },
    {
     "data": {
      "text/plain": [
       "<pumapy.visualization.slicer.PlotSlicer at 0x7fe54926e890>"
      ]
     },
     "execution_count": 6,
     "metadata": {},
     "output_type": "execute_result"
    }
   ],
   "source": [
    "puma.plot_slices(ws_eq2)"
   ]
  },
  {
   "cell_type": "markdown",
   "metadata": {},
   "source": [
    "Next, we will visualize the 3d Domains. To render the domain, the grayscale range corresponding to the material must be specified. In this case, the range of [128,255] corresponds to the material. "
   ]
  },
  {
   "cell_type": "code",
   "execution_count": 7,
   "metadata": {},
   "outputs": [
    {
     "data": {
      "application/vnd.jupyter.widget-view+json": {
       "model_id": "3d3a563ac69f40feadc0398fd8a0b74a",
       "version_major": 2,
       "version_minor": 0
      },
      "text/plain": [
       "ViewInteractiveWidget(height=1200, layout=Layout(height='auto', width='100%'), width=1920)"
      ]
     },
     "metadata": {},
     "output_type": "display_data"
    }
   ],
   "source": [
    "puma.render_contour(ws_eq0, cutoff=(128, 255), notebook=True)"
   ]
  },
  {
   "cell_type": "code",
   "execution_count": 8,
   "metadata": {},
   "outputs": [
    {
     "data": {
      "application/vnd.jupyter.widget-view+json": {
       "model_id": "7f7c7466f53f4df09297a8fe3941bfba",
       "version_major": 2,
       "version_minor": 0
      },
      "text/plain": [
       "ViewInteractiveWidget(height=1200, layout=Layout(height='auto', width='100%'), width=1920)"
      ]
     },
     "metadata": {},
     "output_type": "display_data"
    }
   ],
   "source": [
    "puma.render_contour(ws_eq1, cutoff=(128, 255), notebook=True)"
   ]
  },
  {
   "cell_type": "code",
   "execution_count": 9,
   "metadata": {},
   "outputs": [
    {
     "data": {
      "application/vnd.jupyter.widget-view+json": {
       "model_id": "a99de999972d4ca58fc90acec1945e53",
       "version_major": 2,
       "version_minor": 0
      },
      "text/plain": [
       "ViewInteractiveWidget(height=1200, layout=Layout(height='auto', width='100%'), width=1920)"
      ]
     },
     "metadata": {},
     "output_type": "display_data"
    }
   ],
   "source": [
    "puma.render_contour(ws_eq2, cutoff=(128, 255), notebook=True)"
   ]
  },
  {
   "cell_type": "markdown",
   "metadata": {},
   "source": [
    "If you would like to segment the domain, that can be done using the binarize function, or the set_material_id function. "
   ]
  },
  {
   "cell_type": "code",
   "execution_count": 10,
   "metadata": {},
   "outputs": [],
   "source": [
    "# binarize(128) sets all grayscale values below 128 to 0, and all grayscale values above and equal to 128 to 1\n",
    "ws_eq0.binarize(128)\n",
    "ws_eq1.binarize(128)\n",
    "ws_eq2.binarize(128)"
   ]
  },
  {
   "cell_type": "code",
   "execution_count": 11,
   "metadata": {},
   "outputs": [
    {
     "data": {
      "application/vnd.jupyter.widget-view+json": {
       "model_id": "2f4e288e42524d99a14ca6d650c055fe",
       "version_major": 2,
       "version_minor": 0
      },
      "text/plain": [
       "Canvas(toolbar=Toolbar(toolitems=[('Home', 'Reset original view', 'home', 'home'), ('Back', 'Back to previous …"
      ]
     },
     "metadata": {},
     "output_type": "display_data"
    },
    {
     "data": {
      "text/plain": [
       "<pumapy.visualization.slicer.PlotSlicer at 0x7fe5296fd550>"
      ]
     },
     "execution_count": 11,
     "metadata": {},
     "output_type": "execute_result"
    }
   ],
   "source": [
    "puma.plot_slices(ws_eq0)"
   ]
  },
  {
   "cell_type": "code",
   "execution_count": 12,
   "metadata": {},
   "outputs": [
    {
     "data": {
      "application/vnd.jupyter.widget-view+json": {
       "model_id": "dcc23833320b44b888cf4b43cdc0edec",
       "version_major": 2,
       "version_minor": 0
      },
      "text/plain": [
       "Canvas(toolbar=Toolbar(toolitems=[('Home', 'Reset original view', 'home', 'home'), ('Back', 'Back to previous …"
      ]
     },
     "metadata": {},
     "output_type": "display_data"
    },
    {
     "data": {
      "text/plain": [
       "<pumapy.visualization.slicer.PlotSlicer at 0x7fe549c1b510>"
      ]
     },
     "execution_count": 12,
     "metadata": {},
     "output_type": "execute_result"
    }
   ],
   "source": [
    "puma.plot_slices(ws_eq1)"
   ]
  },
  {
   "cell_type": "code",
   "execution_count": 13,
   "metadata": {},
   "outputs": [
    {
     "data": {
      "application/vnd.jupyter.widget-view+json": {
       "model_id": "343becd33d0f45d5a8771a9cd45d9ec6",
       "version_major": 2,
       "version_minor": 0
      },
      "text/plain": [
       "Canvas(toolbar=Toolbar(toolitems=[('Home', 'Reset original view', 'home', 'home'), ('Back', 'Back to previous …"
      ]
     },
     "metadata": {},
     "output_type": "display_data"
    },
    {
     "data": {
      "text/plain": [
       "<pumapy.visualization.slicer.PlotSlicer at 0x7fe530621650>"
      ]
     },
     "execution_count": 13,
     "metadata": {},
     "output_type": "execute_result"
    }
   ],
   "source": [
    "puma.plot_slices(ws_eq2)"
   ]
  },
  {
   "cell_type": "markdown",
   "metadata": {},
   "source": [
    "## Tutorial 8: Weaves\n",
    "In this tutorial we demonstrate the creation of weaves using TexGen and how to import them into PuMApy. TexGen python scrips can be simply obtained by either following TexGen tutorials https://github.com/louisepb/TexGenScriptingGuide or by recording the actions in the TexGen GUI (of which there are already\n",
    "bundled executables for Windows at https://sourceforge.net/projects/texgen/files/). \n",
    "\n",
    "Let's start by creating a simple LayerToLayer weave using a TexGen python script. "
   ]
  },
  {
   "cell_type": "code",
   "execution_count": 18,
   "metadata": {},
   "outputs": [],
   "source": [
    "NumBinderLayers = 2 \n",
    "NumXYarns = 3 \n",
    "NumYYarns = 4 \n",
    "XSpacing = 1.0\n",
    "YSpacing = 1.0 \n",
    "XHeight = 0.2 \n",
    "YHeight = 0.2 \n",
    "weave = CTextileLayerToLayer(NumXYarns, NumYYarns, XSpacing, YSpacing, XHeight, YHeight, NumBinderLayers)\n",
    "\n",
    "#set number of binder / warp yarns\n",
    "NumBinderYarns = 2\n",
    "NumWarpYarns = NumXYarns - NumBinderYarns\n",
    "weave.SetWarpRatio(NumWarpYarns)\n",
    "weave.SetBinderRatio(NumBinderYarns)\n",
    "\n",
    "#setup layers: 3 warp, 4 weft\n",
    "weave.SetupLayers( 3, 4, NumBinderLayers)\n",
    "\n",
    "#set yarn dimensions: widths / heights\n",
    "weave.SetYYarnWidths(0.8)\n",
    "weave.SetYYarnWidths(0.8)\n",
    "weave.SetBinderYarnWidths(0.4)\n",
    "weave.SetBinderYarnHeights(0.1)\n",
    "\n",
    "#define offsets for the two binder yarns\n",
    "P = [[0, 1, 3, 0],[3, 0, 0, 3]]\n",
    "\n",
    "#assign the z-positions to the binder yarns\n",
    "for y in range(NumWarpYarns,NumXYarns): #loop through number of binder yarns\n",
    "\toffset = 0 \n",
    "\tfor x in range(NumYYarns): #loop through the node positions\t\n",
    "\t\tweave.SetBinderPosition(x, y, P[y-NumWarpYarns][offset])\n",
    "\t\toffset += 1"
   ]
  },
  {
   "cell_type": "markdown",
   "metadata": {},
   "source": [
    "Next we create the domain, i.e. the lengths of the box containing the weave. In this case we will let TexGen figure it out automatically using the AssignDefaultDomain function:"
   ]
  },
  {
   "cell_type": "code",
   "execution_count": 19,
   "metadata": {},
   "outputs": [],
   "source": [
    "weave.AssignDefaultDomain()\n",
    "domain = weave.GetDefaultDomain()"
   ]
  },
  {
   "cell_type": "markdown",
   "metadata": {},
   "source": [
    "Now we need to specify a folder to export our TexGen weave"
   ]
  },
  {
   "cell_type": "code",
   "execution_count": 20,
   "metadata": {},
   "outputs": [],
   "source": [
    "export_path = \"out\"  # CHANGE THIS PATH\n",
    "\n",
    "if not os.path.exists(export_path):\n",
    "    os.makedirs(export_path)"
   ]
  },
  {
   "cell_type": "markdown",
   "metadata": {},
   "source": [
    "Then, we pass the weave and the domain to the PuMApy exporter, which creates the voxel grid and exports it to the specified directory (expensive step ~1.5-2 mins):"
   ]
  },
  {
   "cell_type": "code",
   "execution_count": 21,
   "metadata": {},
   "outputs": [
    {
     "name": "stdout",
     "output_type": "stream",
     "text": [
      "Exporting ../tests/out/weavetest.vtu ... Done\n"
     ]
    },
    {
     "data": {
      "text/plain": [
       "'../tests/out/weavetest_200_151_89'"
      ]
     },
     "execution_count": 21,
     "metadata": {},
     "output_type": "execute_result"
    }
   ],
   "source": [
    "puma.export_weave_vtu(os.path.join(export_path, \"weavetest\"), weave, domain, 200)"
   ]
  },
  {
   "cell_type": "markdown",
   "metadata": {},
   "source": [
    "This can be then read back into a pumapy.Workspace:"
   ]
  },
  {
   "cell_type": "code",
   "execution_count": 25,
   "metadata": {},
   "outputs": [
    {
     "name": "stdout",
     "output_type": "stream",
     "text": [
      "Importing ../tests/out/weavetest_200_151_89.vtu ... Done\n"
     ]
    }
   ],
   "source": [
    "ws = puma.import_weave_vtu(os.path.join(export_path, \"weavetest_200\"))"
   ]
  },
  {
   "cell_type": "markdown",
   "metadata": {},
   "source": [
    "And we can volume render it (remember to close the popup window with 'q', not directly):"
   ]
  },
  {
   "cell_type": "code",
   "execution_count": 26,
   "metadata": {},
   "outputs": [
    {
     "data": {
      "application/vnd.jupyter.widget-view+json": {
       "model_id": "2c70ef427c0d4c6fb83851a7f62cae79",
       "version_major": 2,
       "version_minor": 0
      },
      "text/plain": [
       "ViewInteractiveWidget(height=1200, layout=Layout(height='auto', width='100%'), width=1920)"
      ]
     },
     "metadata": {},
     "output_type": "display_data"
    }
   ],
   "source": [
    "puma.render_volume(ws, cutoff=(1, ws.matrix.max()), solid_color=None, notebook=True, cmap='jet')"
   ]
  },
  {
   "cell_type": "markdown",
   "metadata": {
    "pycharm": {
     "name": "#%% md\n"
    }
   },
   "source": [
    "## Tutorial 9: STL generation and output\n",
    "\n",
    "In this tutorial, we will generate a water-tight STL file, visualize the STL, and output to file\n",
    "\n",
    "The pumapy STL generation uses the Lewiner marching cubes implementation from scikit-image. The C++ version of PuMA also includes an implementation of the original and Lewiner marching cubes. \n",
    "\n",
    "The Lewiner marching cubes method is used to generate STLs because the surface is guaranteed to be topologically correct (i.e watertight). The original marching cubes is suitable for visualization purposes, but had ambiguitites that resulted in small holes in the surface mesh. "
   ]
  },
  {
   "cell_type": "markdown",
   "metadata": {},
   "source": [
    "We must either import or generate a material. Here we will import a material. If you prefer to generate a material instead, refer to the material generation tutorials. "
   ]
  },
  {
   "cell_type": "code",
   "execution_count": 3,
   "metadata": {
    "pycharm": {
     "name": "#%%\n"
    }
   },
   "outputs": [
    {
     "name": "stdout",
     "output_type": "stream",
     "text": [
      "Importing /Users/fsemerar/Documents/PuMA_playground/puma-dev/python/pumapy/data/200_fiberform.tif ... Done\n"
     ]
    }
   ],
   "source": [
    "# Next we will import an example tomography file of size 200^3 and voxel length 1.3e-6\n",
    "ws_imported = puma.import_3Dtiff(puma.path_to_example_file(\"200_fiberform.tif\"), 1.3e-6)"
   ]
  },
  {
   "cell_type": "markdown",
   "metadata": {},
   "source": [
    "The workspace above has not been segmented yet. In the case of generated workspaces, the generated material is typically stored for a grayscale [128,255] and the void phase is stored between [0,127]. \n",
    "\n",
    "In this case, the appropriate grayscale cutoff for the imported tomography sample is 90, such that [90,255] is material and [0,89] is the void. These values will be different for each tomography image. \n",
    "\n",
    "It is usually better to generate an STL based on a non-segmented material. This is because the segmentation process removes most of the information defining the surface from the tomography data. As an illustration, the code below will visualze the segmented and non-segmented versions of the imported tomography file. "
   ]
  },
  {
   "cell_type": "code",
   "execution_count": 4,
   "metadata": {},
   "outputs": [],
   "source": [
    "ws_segmented = ws_imported.copy()\n",
    "ws_segmented.binarize(90)"
   ]
  },
  {
   "cell_type": "code",
   "execution_count": 9,
   "metadata": {},
   "outputs": [
    {
     "data": {
      "application/vnd.jupyter.widget-view+json": {
       "model_id": "3176dc49048a4ab8a9bdf136d61d5665",
       "version_major": 2,
       "version_minor": 0
      },
      "text/plain": [
       "ViewInteractiveWidget(height=1200, layout=Layout(height='auto', width='100%'), width=1920)"
      ]
     },
     "metadata": {},
     "output_type": "display_data"
    }
   ],
   "source": [
    "p = pv.Plotter(shape=(1, 2), notebook=True)\n",
    "p.subplot(0, 0)\n",
    "p.add_text(\"Raw grayscales\")\n",
    "puma.render_volume(ws_imported, notebook=True, add_to_plot=p, plot_directly=False)\n",
    "p.subplot(0, 1)\n",
    "p.add_text(\"Segmented\")\n",
    "puma.render_volume(ws_segmented, notebook=True, add_to_plot=p, plot_directly=False)\n",
    "p.update_scalar_bar_range(1)\n",
    "p.show()"
   ]
  },
  {
   "cell_type": "code",
   "execution_count": 12,
   "metadata": {},
   "outputs": [
    {
     "data": {
      "application/vnd.jupyter.widget-view+json": {
       "model_id": "8ba6e46a36ea4c1985e02ee1ad2f1340",
       "version_major": 2,
       "version_minor": 0
      },
      "text/plain": [
       "ViewInteractiveWidget(height=1200, layout=Layout(height='auto', width='100%'), width=1920)"
      ]
     },
     "metadata": {},
     "output_type": "display_data"
    }
   ],
   "source": [
    "p = pv.Plotter(shape=(1, 2), notebook=True)\n",
    "p.subplot(0, 0)\n",
    "p.add_text(\"Raw grayscales\")\n",
    "puma.render_contour(ws_imported, cutoff=(90, 255), notebook=True, add_to_plot=p, plot_directly=False)\n",
    "p.subplot(0, 1)\n",
    "p.add_text(\"Segmented\")\n",
    "puma.render_contour(ws_segmented, cutoff=(1, 1), notebook=True, add_to_plot=p, plot_directly=False)\n",
    "p.show()"
   ]
  },
  {
   "cell_type": "markdown",
   "metadata": {},
   "source": [
    "As you can see, the non-segmented image provides a far superior surface representation. Because of this, we will use the non-segmented material for the STL generation. \n",
    "\n",
    "In order to output an STL, one must simply call the puma.export_stl function, as shown below:"
   ]
  },
  {
   "cell_type": "markdown",
   "metadata": {},
   "source": [
    "Let's now export the STL. We need to first specify a path:"
   ]
  },
  {
   "cell_type": "code",
   "execution_count": 13,
   "metadata": {},
   "outputs": [],
   "source": [
    "export_path = \"out\"  # CHANGE THIS PATH\n",
    "\n",
    "if not os.path.exists(export_path):\n",
    "    os.makedirs(export_path)"
   ]
  },
  {
   "cell_type": "code",
   "execution_count": 14,
   "metadata": {},
   "outputs": [
    {
     "name": "stdout",
     "output_type": "stream",
     "text": [
      "Exporting ../tests/out/FiberForm-nonsegmented.stl ... Done\n"
     ]
    },
    {
     "data": {
      "text/plain": [
       "True"
      ]
     },
     "execution_count": 14,
     "metadata": {},
     "output_type": "execute_result"
    }
   ],
   "source": [
    "filename = \"FiberForm-nonsegmented.stl\"\n",
    "cutoff = (90,255)  # tuple containing the grayscale range of the material to be exported\n",
    "flag_closed_edges = True  # flag for whether to cap the regions of the material that intersect with the domain boundary\n",
    "\n",
    "puma.export_stl(os.path.join(export_path, filename), ws_imported, cutoff, flag_closed_edges)"
   ]
  },
  {
   "cell_type": "markdown",
   "metadata": {},
   "source": [
    "If you have no choice but to use a segmented image to export an stl, the flag_gauissian option can be set to True, which will apply a gauissian blur to the image prior to running the marching cubes algorithm. This will make the surface appear more smooth, but will also blur out any sharp features that may be present in the actual microstructure. "
   ]
  },
  {
   "cell_type": "code",
   "execution_count": 15,
   "metadata": {},
   "outputs": [
    {
     "name": "stdout",
     "output_type": "stream",
     "text": [
      "Exporting ../tests/out/FiberForm-segmented.stl ... Done\n",
      "Exporting ../tests/out/FiberForm-segmented-gaussian.stl ... Done\n"
     ]
    },
    {
     "data": {
      "text/plain": [
       "True"
      ]
     },
     "execution_count": 15,
     "metadata": {},
     "output_type": "execute_result"
    }
   ],
   "source": [
    "filename = \"FiberForm-segmented.stl\"\n",
    "cutoff = (1,1)  # tuple containing the grayscale range of the material to be exported\n",
    "flag_closed_edges = True  # flag for whether to cap the regions of the material that intersect with the domain boundary\n",
    "\n",
    "puma.export_stl(os.path.join(export_path, filename), ws_segmented, cutoff, flag_closed_edges, flag_gaussian=False)\n",
    "\n",
    "filename = \"FiberForm-segmented-gaussian.stl\"\n",
    "puma.export_stl(os.path.join(export_path, filename), ws_segmented, cutoff, flag_closed_edges, flag_gaussian=True)"
   ]
  },
  {
   "cell_type": "markdown",
   "metadata": {},
   "source": [
    "The STLs can be imported into other software for simulation or visualization purposes"
   ]
  },
  {
   "cell_type": "markdown",
   "metadata": {
    "pycharm": {
     "name": "#%% md\n"
    }
   },
   "source": [
    "## Tutorial 10: Calculating Surface Area\n",
    "In this tutorial we demonstrate how to calculate the surface area of a microstructure"
   ]
  },
  {
   "cell_type": "markdown",
   "metadata": {},
   "source": [
    "We import or generate the microstructure"
   ]
  },
  {
   "cell_type": "code",
   "execution_count": 3,
   "metadata": {
    "pycharm": {
     "name": "#%%\n"
    }
   },
   "outputs": [
    {
     "name": "stdout",
     "output_type": "stream",
     "text": [
      "Importing /Users/fsemerar/Documents/PuMA_playground/puma-dev/python/pumapy/data/200_fiberform.tif ... Done\n"
     ]
    }
   ],
   "source": [
    "ws_fiberform = puma.import_3Dtiff(puma.path_to_example_file(\"200_fiberform.tif\"), 1.3e-6)"
   ]
  },
  {
   "cell_type": "markdown",
   "metadata": {},
   "source": [
    "The calculation of the surface area requires the value for the voxel length to be set. The voxel length can be set during import, as shown above. The voxel length can also be set for the workspace directly, as shown below: "
   ]
  },
  {
   "cell_type": "code",
   "execution_count": 4,
   "metadata": {},
   "outputs": [],
   "source": [
    "ws_fiberform.voxel_length = 1.3e-6  # setting the voxel length in meters"
   ]
  },
  {
   "cell_type": "markdown",
   "metadata": {},
   "source": [
    "For an accurate calculation of the surface area, it is recommended to use an unsegmented domain. In a segmented domain, each phase is entire defined by a single grayscale value (i.e 0 for void and 1 for solid). In an unsegmented domain, the material phases are specified by a range of grayscale value. In the case of the imported tomography, the void range is [0,89] and the solid range is [90,255], as shown by the plotted slice below: "
   ]
  },
  {
   "cell_type": "code",
   "execution_count": 6,
   "metadata": {},
   "outputs": [
    {
     "data": {
      "application/vnd.jupyter.widget-view+json": {
       "model_id": "4f2ec75735a54662a6e84330b9cb988b",
       "version_major": 2,
       "version_minor": 0
      },
      "text/plain": [
       "Canvas(toolbar=Toolbar(toolitems=[('Home', 'Reset original view', 'home', 'home'), ('Back', 'Back to previous …"
      ]
     },
     "metadata": {},
     "output_type": "display_data"
    },
    {
     "data": {
      "text/plain": [
       "<pumapy.visualization.slicer.PlotSlicer at 0x7ffb40fceed0>"
      ]
     },
     "execution_count": 6,
     "metadata": {},
     "output_type": "execute_result"
    }
   ],
   "source": [
    "puma.plot_slices(ws_fiberform)"
   ]
  },
  {
   "cell_type": "markdown",
   "metadata": {},
   "source": [
    "An unsegmented domain is recommended because the surface are relies on the marching cubes triangulation of the isosurface, which is much more accurate for an unsegmented domain than a segmented domain. \n",
    "\n",
    "To calculate the surface area, we use the puma.compute_surface_area function: The function returns both the raw area and the specific surface area. The specific surface area is the more often used quantity, and defines the surface area divided by the volume of the domain, with units of 1/m. "
   ]
  },
  {
   "cell_type": "code",
   "execution_count": 7,
   "metadata": {},
   "outputs": [
    {
     "name": "stdout",
     "output_type": "stream",
     "text": [
      "Unsegmented: 6.964470459375e-07 40225.255792982614\n"
     ]
    }
   ],
   "source": [
    "cutoff = (90, 255)  # specifying the grayscale range of the phase of interest\n",
    "\n",
    "area_us, specific_area_us = puma.compute_surface_area(ws_fiberform, cutoff)\n",
    "print(\"Unsegmented:\",area_us,specific_area_us)"
   ]
  },
  {
   "cell_type": "markdown",
   "metadata": {},
   "source": [
    "If a segmented image must be used, a gaussian blur can be utilized to help smooth out the triangulation for the surface area calculation. Note, however, that this blurring would smear any sharp features present in the microstrucutre. It is more appropriate for segmented images of microstrucutres with smooth features. As an example, the above domain is segmented and the surface area calculated with and without the gaussian blur. "
   ]
  },
  {
   "cell_type": "code",
   "execution_count": 8,
   "metadata": {},
   "outputs": [
    {
     "name": "stdout",
     "output_type": "stream",
     "text": [
      "Segmented: 7.572584215625001e-07 43737.587640619306\n",
      "Percent Error:  8.731658204270326\n",
      "Segmented Gaussian: 6.556939106250001e-07 37871.44396784285\n",
      "Percent Error:  -5.85157702229053\n"
     ]
    }
   ],
   "source": [
    "ws_fiberform.binarize(90)  # segmenting the domain. [0,89] --> 0 and [90,255] --> 1\n",
    "cutoff = (1, 1)  # updating the cutoff now that the domain is segmented\n",
    "\n",
    "area, specific_area = puma.compute_surface_area(ws_fiberform, cutoff, flag_gaussian=False)\n",
    "print(\"Segmented:\",area,specific_area)\n",
    "print(\"Percent Error: \", (specific_area - specific_area_us)/specific_area_us * 100.)\n",
    "\n",
    "area, specific_area = puma.compute_surface_area(ws_fiberform, cutoff, flag_gaussian=True)\n",
    "print(\"Segmented Gaussian:\",area,specific_area)\n",
    "print(\"Percent Error: \", (specific_area - specific_area_us)/specific_area_us * 100.)"
   ]
  },
  {
   "cell_type": "markdown",
   "metadata": {
    "pycharm": {
     "name": "#%% md\n"
    }
   },
   "source": [
    "## Tutorial 11: Thermal Conductivity\n",
    "In this tutorial we demonstrate how to compute the effective thermal conductivity of a material based on its microstructure and constituent properties. In this example, we compute the thermal conductivity of FiberForm, a carbon fiber based material. \n",
    "\n",
    "Note: The sample size used in this example is very small, well below the size need for a representative volume of the sample. "
   ]
  },
  {
   "cell_type": "markdown",
   "metadata": {},
   "source": [
    "### Isotropic conductivity"
   ]
  },
  {
   "cell_type": "markdown",
   "metadata": {},
   "source": [
    "We will show a thermal conductivity simulation based on a non-segmented representation of the material. In the example material used, the void phase is contained in grayscale range [0,89] and the solid phase is contained in the grayscale range of [90,255]. This range varies for each tomography sample.\n",
    "\n",
    "The outputs of the thermal conductivity simulation are the effective thermal conductivity tensor, the steady state temperature profile, and the steady state heat flux. "
   ]
  },
  {
   "cell_type": "code",
   "execution_count": 7,
   "metadata": {
    "pycharm": {
     "name": "#%%\n"
    }
   },
   "outputs": [
    {
     "name": "stdout",
     "output_type": "stream",
     "text": [
      "Importing /Users/fsemerar/Documents/PuMA_playground/puma-dev/python/pumapy/data/200_fiberform.tif ... Done\n",
      "Creating conductivity matrix ... Done\n",
      "Initializing temperature field ... Done\n",
      "Setting up b matrix ... Done\n",
      "Assembling A matrix ... 100.0% Done\n",
      "Setting up preconditioner ...Done\n",
      "Time to sep up A matrix:  0.47483777499974167\n",
      "Solving Ax=b system ... Conjugate Gradient:\n",
      "Iteration 1301  Residual = 0.0009861697937639732  ... Done\n",
      "Time to solve:  28.17984823100005\n",
      "Computing flux from converged temperature field ... Done\n",
      "Computing effective conductivity... Time to compute fluxes:  0.04280447400014964\n",
      "Creating conductivity matrix ... Done\n",
      "Initializing temperature field ... Done\n",
      "Setting up b matrix ... Done\n",
      "Assembling A matrix ... 100.0% Done\n",
      "Setting up preconditioner ...Done\n",
      "Time to sep up A matrix:  0.31928571500020553\n",
      "Solving Ax=b system ... Conjugate Gradient:\n",
      "Iteration 689  Residual = 0.0009856475778077375  ... Done\n",
      "Time to solve:  15.175427306000074\n",
      "Computing flux from converged temperature field ... Done\n",
      "Computing effective conductivity... Time to compute fluxes:  0.03472201099975791\n",
      "Creating conductivity matrix ... Done\n",
      "Initializing temperature field ... Done\n",
      "Setting up b matrix ... Done\n",
      "Assembling A matrix ... 100.0% Done\n",
      "Setting up preconditioner ...Done\n",
      "Time to sep up A matrix:  0.32401214499986963\n",
      "Solving Ax=b system ... Conjugate Gradient:\n",
      "Iteration 951  Residual = 0.0009957866052538605  ... Done\n",
      "Time to solve:  21.041063223000037\n",
      "Computing flux from converged temperature field ... Done\n",
      "Computing effective conductivity... Time to compute fluxes:  0.041381602000001294\n",
      "Effective thermal conductivity tensor:\n",
      "[0.8749046981927511, -0.2139198712031244, -0.11036496798052439]\n",
      "[-0.0010816800157167866, 1.4429906660071705, -0.042335863967808175]\n",
      "[-0.1499019425532792, 0.01355843946873836, 0.43375341235709125]\n"
     ]
    }
   ],
   "source": [
    "# Import an example tomography file of size 200^3 and voxel length 1.3e-6\n",
    "ws_fiberform = puma.import_3Dtiff(puma.path_to_example_file(\"200_fiberform.tif\"), 1.3e-6)\n",
    "\n",
    "# Cropping the 200x200x200 image into a 100x100x100 sample\n",
    "ws_fiberform.matrix = ws_fiberform.matrix[50:150, 50:150, 50:150]\n",
    "\n",
    "# Generating a conductivity map. This stores the conductivity values for each phase of the material\n",
    "cond_map = puma.IsotropicConductivityMap()\n",
    "# First, we set the conductivity of the void phase to be 0.0257 (air at STP)\n",
    "cond_map.add_material((0, 89), 0.0257)\n",
    "# Next we set the conductivity of the solid phase to be 12 (typical value for carbon fiber)\n",
    "cond_map.add_material((90, 255), 12)\n",
    "\n",
    "# The thermal conductivity calculation needs to be run for each of the three simulation directions. \n",
    "# For each simulation, a temperature gradient is forced in the simulation direction, and converged to steady state\n",
    "\n",
    "# Simulation inputs: \n",
    "#.  1. workspace - the computational domain for the simulation, containing your material microstructure\n",
    "#.  2. cond_map - the conductivity values for each material phase\n",
    "#.  3. direction - the simulation direction, 'x', 'y', or 'z'\n",
    "#.  4. side_bc - boundary condition in the non-simulation direction. Can be 'p' - periodic, 's' - symmetric, 'd' - dirichlet\n",
    "#.  5. tolerance - accuracy of the numerical solver, defaults to 1e-4. \n",
    "#.  6. maxiter - maximum number of iterations, defaults to 10,000\n",
    "#.  7. solver_type - the iterative solver used. Can be 'bicgstab', 'cg', 'gmres', or 'direct'. Defaults to 'bicgstab'\n",
    "\n",
    "k_eff_x, T_x, q_x = puma.compute_thermal_conductivity(ws_fiberform, cond_map, 'x', 's', tolerance=1e-4, solver_type='cg')\n",
    "\n",
    "print(\"Effective thermal conductivity tensor:\")\n",
    "print(k_eff_x)"
   ]
  },
  {
   "cell_type": "code",
   "execution_count": 8,
   "metadata": {},
   "outputs": [
    {
     "data": {
      "application/vnd.jupyter.widget-view+json": {
       "model_id": "11b7144bbbe440efbf3067b0d29530ad",
       "version_major": 2,
       "version_minor": 0
      },
      "text/plain": [
       "ViewInteractiveWidget(height=1200, layout=Layout(height='auto', width='100%'), width=1920)"
      ]
     },
     "metadata": {},
     "output_type": "display_data"
    }
   ],
   "source": [
    "# Visualizing one slice of the temperature field: \n",
    "puma.render_volume(T_x, solid_color=None, notebook=True, cmap='jet')"
   ]
  },
  {
   "cell_type": "code",
   "execution_count": 20,
   "metadata": {},
   "outputs": [
    {
     "data": {
      "application/vnd.jupyter.widget-view+json": {
       "model_id": "4cba6cd82e7c4d81a6ac8a906b9d734d",
       "version_major": 2,
       "version_minor": 0
      },
      "text/plain": [
       "ViewInteractiveWidget(height=1200, layout=Layout(height='auto', width='100%'), width=1920)"
      ]
     },
     "metadata": {},
     "output_type": "display_data"
    }
   ],
   "source": [
    "# Visualizing the flux magnitude: \n",
    "puma.render_volume(np.linalg.norm(q_x, axis=3), notebook=True, cmap='jet')"
   ]
  },
  {
   "cell_type": "markdown",
   "metadata": {},
   "source": [
    "Below is an example of a thermal conductivity simulation along the y axis, but now performed on a segmented image in order to show an alternative option."
   ]
  },
  {
   "cell_type": "code",
   "execution_count": 9,
   "metadata": {},
   "outputs": [
    {
     "name": "stdout",
     "output_type": "stream",
     "text": [
      "Importing /Users/fsemerar/Documents/PuMA_playground/puma-dev/python/pumapy/data/200_fiberform.tif ... Done\n",
      "Creating conductivity matrix ... Done\n",
      "Initializing temperature field ... Done\n",
      "Setting up b matrix ... Done\n",
      "Assembling A matrix ... 100.0% Done\n",
      "Setting up preconditioner ...Done\n",
      "Time to sep up A matrix:  0.3681787200002873\n",
      "Solving Ax=b system ... Conjugate Gradient:\n",
      "Iteration 1301  Residual = 0.0009861697937639732  ... Done\n",
      "Time to solve:  28.10230088399976\n",
      "Computing flux from converged temperature field ... Done\n",
      "Computing effective conductivity... Time to compute fluxes:  0.04330263600013495\n",
      "Creating conductivity matrix ... Done\n",
      "Initializing temperature field ... Done\n",
      "Setting up b matrix ... Done\n",
      "Assembling A matrix ... 100.0% Done\n",
      "Setting up preconditioner ...Done\n",
      "Time to sep up A matrix:  0.3424343599999702\n",
      "Solving Ax=b system ... Conjugate Gradient:\n",
      "Iteration 689  Residual = 0.0009856475778077375  ... Done\n",
      "Time to solve:  15.856293318000098\n",
      "Computing flux from converged temperature field ... Done\n",
      "Computing effective conductivity... Time to compute fluxes:  0.04210894800007736\n",
      "Creating conductivity matrix ... Done\n",
      "Initializing temperature field ... Done\n",
      "Setting up b matrix ... Done\n",
      "Assembling A matrix ... 100.0% Done\n",
      "Setting up preconditioner ...Done\n",
      "Time to sep up A matrix:  0.4279063699996186\n",
      "Solving Ax=b system ... Conjugate Gradient:\n",
      "Iteration 951  Residual = 0.0009957866052538605  ... Done\n",
      "Time to solve:  22.601156163999804\n",
      "Computing flux from converged temperature field ... Done\n",
      "Computing effective conductivity... Time to compute fluxes:  0.054088096000214136\n",
      "Effective thermal conductivity tensor:\n",
      "[0.8749046981927511, -0.2139198712031244, -0.11036496798052439]\n",
      "[-0.0010816800157167866, 1.4429906660071705, -0.042335863967808175]\n",
      "[-0.1499019425532792, 0.01355843946873836, 0.43375341235709125]\n"
     ]
    }
   ],
   "source": [
    "# Segments the image. All values >= 90 are set to 1, and all values <90 are set to 0.\n",
    "ws_fiberform.binarize(90)\n",
    "\n",
    "# Generating a conductivity map. This stores the conductivity values for each phase of the material\n",
    "cond_map = puma.IsotropicConductivityMap()\n",
    "# First, we set the conductivity of the void phase to be 0.0257 (air at STP)\n",
    "cond_map.add_material((0, 0), 0.0257)\n",
    "# Next we set the conductivity of the solid phase to be 12 (typical value for carbon fiber)\n",
    "cond_map.add_material((1, 1), 12)\n",
    "# Note that the grayscale ranges have changed relative to the last example, since this image is already segmented\n",
    "\n",
    "# The thermal conductivity calculation needs to be run for each of the three simulation directions. \n",
    "# For each simulation, a temperature gradient is forced in the simulation direction, and converged to steady state\n",
    "\n",
    "# Simulation inputs: \n",
    "#.  1. workspace - the computational domain for the simulation, containing your material microstructure\n",
    "#.  2. cond_map - the conductivity values for each material phase\n",
    "#.  3. direction - the simulation direction, 'x', 'y', or 'z'\n",
    "#.  4. side_bc - boundary condition in the non-simulation direction. Can be 'p' - periodic, 's' - symmetric, 'd' - dirichlet\n",
    "#.  5. tolerance - accuracy of the numerical solver, defaults to 1e-4. \n",
    "#.  6. maxiter - maximum number of iterations, defaults to 10,000\n",
    "#.  7. solver_type - the iterative solver used. Can be 'bicgstab', 'cg', 'gmres', or 'direct'. Defaults to 'bicgstab'\n",
    "\n",
    "k_eff_y, T_y, q_y = puma.compute_thermal_conductivity(ws_fiberform, cond_map, 'y', 's', tolerance=1e-4, solver_type='cg')\n",
    "\n",
    "print(\"Effective thermal conductivity tensor:\")\n",
    "print(k_eff_y)"
   ]
  },
  {
   "cell_type": "code",
   "execution_count": 17,
   "metadata": {},
   "outputs": [
    {
     "data": {
      "application/vnd.jupyter.widget-view+json": {
       "model_id": "6cc6ed78add24615a305c24b6d648880",
       "version_major": 2,
       "version_minor": 0
      },
      "text/plain": [
       "ViewInteractiveWidget(height=1200, layout=Layout(height='auto', width='100%'), width=1920)"
      ]
     },
     "metadata": {},
     "output_type": "display_data"
    }
   ],
   "source": [
    "# Visualizing the temperature field: \n",
    "puma.render_volume(T_y, solid_color=None, notebook=True, cmap='jet')"
   ]
  },
  {
   "cell_type": "code",
   "execution_count": 18,
   "metadata": {},
   "outputs": [
    {
     "data": {
      "application/vnd.jupyter.widget-view+json": {
       "model_id": "81e2e0d0f5ae4fc187f144449da51f3b",
       "version_major": 2,
       "version_minor": 0
      },
      "text/plain": [
       "ViewInteractiveWidget(height=1200, layout=Layout(height='auto', width='100%'), width=1920)"
      ]
     },
     "metadata": {},
     "output_type": "display_data"
    }
   ],
   "source": [
    "# Visualizing the flux magnitude: \n",
    "puma.render_volume(np.linalg.norm(q_y, axis=3), notebook=True, cmap='jet')"
   ]
  },
  {
   "cell_type": "markdown",
   "metadata": {},
   "source": [
    "### Anisotropic conductivity\n",
    "Next we show how to compute the conductivity is the constituent phases are anisotropic themselves. This solver is significantly slower because of the higher complexity of the numerical scheme used. For this reason, we scale the domain by half in order to keep the runtime reasonable."
   ]
  },
  {
   "cell_type": "code",
   "execution_count": null,
   "metadata": {},
   "outputs": [],
   "source": [
    "# Import an example tomography file of size 100^3 and voxel length 1.3e-6\n",
    "ws_fiberform = puma.import_3Dtiff(puma.path_to_example_file(\"200_fiberform.tif\"), 1.3e-6)\n",
    "ws_fiberform.rescale(0.5, False)\n",
    "\n",
    "# detect the fiber orientation using the Structure Tensor\n",
    "puma.compute_orientation_st(ws_fiberform, sigma=1.4, rho=0.7, cutoff=(90, 255))"
   ]
  },
  {
   "cell_type": "code",
   "execution_count": 4,
   "metadata": {},
   "outputs": [
    {
     "data": {
      "application/vnd.jupyter.widget-view+json": {
       "model_id": "3b27a3b27e1142f8b866a1c41b1d1d4d",
       "version_major": 2,
       "version_minor": 0
      },
      "text/plain": [
       "ViewInteractiveWidget(height=1200, layout=Layout(height='auto', width='100%'), width=1920)"
      ]
     },
     "metadata": {},
     "output_type": "display_data"
    }
   ],
   "source": [
    "# visualize the detected orientation field\n",
    "puma.render_orientation(ws_fiberform, notebook=True)"
   ]
  },
  {
   "cell_type": "code",
   "execution_count": 3,
   "metadata": {},
   "outputs": [
    {
     "name": "stdout",
     "output_type": "stream",
     "text": [
      "Importing /Users/fsemerar/Documents/PuMA_playground/puma-dev/python/pumapy/data/200_fiberform.tif ... Done\n",
      "Rescaled workspace size: (100, 100, 100)\n",
      "First gradient computation ... Done\n",
      "Blurring of gradients ... Done\n",
      "Computing eigenvalue analysis ... Done\n",
      "Initializing and padding domains ... Done\n",
      "Assembling b vector ... Done\n",
      "Initializing large data structures ... Done\n",
      "Assembling A matrix ... 100.0% Done\n",
      "Solving Ax=b system ... Bicgstab:\n",
      "Iteration 566  Residual = 0.0009831141475288565  ... Done\n",
      "Computing fluxes ... 100.0% Done\n",
      "Effective thermal conductivity tensor:\n",
      "[-0.00800957052572341, 0.03337999395366265, 0.08958068952447776]\n"
     ]
    }
   ],
   "source": [
    "# Generating a conductivity map. This stores the conductivity values for each phase of the material\n",
    "cond_map = puma.AnisotropicConductivityMap()\n",
    "# First, we set the conductivity of the void phase to be 0.0257 (air at STP)\n",
    "cond_map.add_isotropic_material((0, 89), 0.0257)\n",
    "# Next we set the conductivity of the fiber phase to be 12 along the fiber and 0.7 across it\n",
    "cond_map.add_material_to_orient((90, 255), 12., 0.7)\n",
    "\n",
    "# Simulation inputs: \n",
    "#.  1. workspace - the computational domain for the simulation, containing your material microstructure\n",
    "#.  2. cond_map - the conductivity values for each material phase\n",
    "#.  3. direction - the simulation direction, 'x', 'y', or 'z'\n",
    "#.  4. side_bc - boundary condition in the non-simulation direction. Can be 'p' - periodic, 's' - symmetric, 'd' - dirichlet\n",
    "#.  5. tolerance - accuracy of the numerical solver, defaults to 1e-4. \n",
    "#.  6. maxiter - maximum number of iterations, defaults to 10,000\n",
    "#.  7. solver_type - the iterative solver used. Can be 'bicgstab', 'cg', 'gmres', or 'direct'. Defaults to 'bicgstab'\n",
    "\n",
    "# When an anisotropic conductivity is fed, the solver automatically uses the MPFA finite volume method\n",
    "k_eff_z, T_z, q_z = puma.compute_thermal_conductivity(ws_fiberform, cond_map, 'z', 's')\n",
    "\n",
    "print(\"Effective thermal conductivity tensor:\")\n",
    "print(k_eff_z)"
   ]
  },
  {
   "cell_type": "markdown",
   "metadata": {
    "pycharm": {
     "name": "#%% md\n"
    }
   },
   "source": [
    "## Tutorial 12: Continuum Tortuosity\n",
    "In this tutorial we demonstrate how to compute the continuum tortuosity factors of a material based on its microstructure and constituent properties. In this example, we compute the continuum tortuosity of FiberForm, a carbon fiber based material. \n",
    "\n",
    "Note: The rarified tortuosity factors are not available in pumapy, but are available in the c++ version of PuMA V3.0\n",
    "\n",
    "Note: The sample size used in this example is very small, well below the size neede for a representative volume of the sample. "
   ]
  },
  {
   "cell_type": "markdown",
   "metadata": {},
   "source": [
    "We will show a continuum tortuosity simulation based on a non-segmented representation of the material. In the example material used, the void phase is contained in grayscale range [0,89] and the solid phase is contained in the grayscale range of [90,255]. This range varies for each tomography sample.\n",
    "\n",
    "The outputs of the continuum tortuosity simulation are the continuum tortuosity factors, the effective diffusivity, the porosity, and the steady state concentration profile"
   ]
  },
  {
   "cell_type": "code",
   "execution_count": null,
   "metadata": {
    "pycharm": {
     "name": "#%%\n"
    }
   },
   "outputs": [
    {
     "name": "stdout",
     "output_type": "stream",
     "text": [
      "Importing /Users/fsemerar/Documents/PuMA_playground/puma-dev/python/pumapy/data/200_fiberform.tif ... Done\n",
      "Creating conductivity matrix ... Done\n",
      "Initializing temperature field ... Done\n",
      "Setting up b matrix ... Done\n",
      "Assembling A matrix ... 100.0% Done\n",
      "Setting up preconditioner ...Done\n",
      "Time to sep up A matrix:  4.974533780999991\n",
      "Solving Ax=b system ... Conjugate Gradient:\n",
      "Iteration 688  Residual = 0.0019952259590620444  ... Done\n",
      "Time to solve:  127.76841717299976\n",
      "Computing flux from converged temperature field ... Done\n",
      "Computing effective conductivity... Time to compute fluxes:  0.34023263000017323\n",
      "Creating conductivity matrix ... Done\n",
      "Initializing temperature field ... Done\n",
      "Setting up b matrix ... Done\n",
      "Assembling A matrix ... 100.0% Done\n",
      "Setting up preconditioner ...Done\n",
      "Time to sep up A matrix:  2.9754174359995886\n",
      "Solving Ax=b system ... Conjugate Gradient:\n",
      "Iteration 544  Residual = 0.0029363301244711634 "
     ]
    }
   ],
   "source": [
    "# Import an example tomography file of size 200^3 and voxel length 1.3e-6\n",
    "ws_fiberform = puma.import_3Dtiff(puma.path_to_example_file(\"200_fiberform.tif\"), 1.3e-6)\n",
    "\n",
    "# The tortuosity calculation needs to be run for each of the three simulation directions. \n",
    "# For each simulation, a concentration gradient is forced in the simulation direction, and converged to steady state\n",
    "\n",
    "# Simulation inputs: \n",
    "#.  1. workspace - the computational domain for the simulation, containing your material microstructure\n",
    "#.  2. cutoff - the grayscale values for the void phase. [0,89] for this tomography sample\n",
    "#.  3. direction - the simulation direction, 'x', 'y', or 'z'\n",
    "#.  4. side_bc - boundary condition in the non-simulation direction. Can be 'p' - periodic, 's' - symmetric, 'd' - dirichlet\n",
    "#.  5. tolerance - accuracy of the numerical solver, defaults to 1e-4. \n",
    "#.  6. maxiter - maximum number of iterations, defaults to 10,000\n",
    "#.  7. solver_type - the iterative solver used. Can be 'bicgstab', 'cg', 'gmres', or 'direct'. Defaults to 'bicgstab'\n",
    "\n",
    "n_eff_x, Deff_x, poro, C_x = puma.compute_continuum_tortuosity(ws_fiberform, (0,89), 'x', side_bc='s', tolerance=1e-3, solver_type='cg')\n",
    "n_eff_y, Deff_y, poro, C_y = puma.compute_continuum_tortuosity(ws_fiberform, (0,89), 'y', side_bc='s', tolerance=1e-3, solver_type='cg')\n",
    "n_eff_z, Deff_z, poro, C_z = puma.compute_continuum_tortuosity(ws_fiberform, (0,89), 'z', side_bc='s', tolerance=1e-3, solver_type='cg')\n",
    "\n",
    "print(\"Effective tortuosity factors:\")\n",
    "print(n_eff_x)\n",
    "print(n_eff_y)\n",
    "print(n_eff_z)\n",
    "\n",
    "print(\"Porosity of the material:\", poro)"
   ]
  },
  {
   "cell_type": "code",
   "execution_count": null,
   "metadata": {},
   "outputs": [],
   "source": [
    "# Visualizing the Concentration field: \n",
    "puma.render_volume(C_x, solid_color=None, notebook=True, cmap='jet')"
   ]
  },
  {
   "cell_type": "markdown",
   "metadata": {},
   "source": [
    "Below is an example of the exact same continuum tortuosity simulation, but now performed on a segmented image. If done correctly, both should produce identical results. "
   ]
  },
  {
   "cell_type": "code",
   "execution_count": null,
   "metadata": {},
   "outputs": [],
   "source": [
    "# Segments the image. All values >= 90 are set to 1, and all values <90 are set to 0\n",
    "ws_fiberform.binarize(90)\n",
    "\n",
    "# Simulation inputs: \n",
    "#.  1. workspace - the computational domain for the simulation, containing your material microstructure\n",
    "#.  2. cutoff - the grayscale values for the void phase. [0,89] for this tomography sample\n",
    "#.  3. direction - the simulation direction, 'x', 'y', or 'z'\n",
    "#.  4. side_bc - boundary condition in the non-simulation direction. Can be 'p' - periodic, 's' - symmetric, 'd' - dirichlet\n",
    "#.  5. tolerance - accuracy of the numerical solver, defaults to 1e-4. \n",
    "#.  6. maxiter - maximum number of iterations, defaults to 10,000\n",
    "#.  7. solver_type - the iterative solver used. Can be 'bicgstab', 'cg', 'gmres', or 'direct'. Defaults to 'bicgstab'\n",
    "\n",
    "n_eff_x, Deff_x, poro, C_x = puma.compute_continuum_tortuosity(ws_fiberform, (0,0), 'x', side_bc='s', tolerance=1e-3, solver_type='cg')\n",
    "n_eff_y, Deff_y, poro, C_y = puma.compute_continuum_tortuosity(ws_fiberform, (0,0), 'y', side_bc='s', tolerance=1e-3, solver_type='cg')\n",
    "n_eff_z, Deff_z, poro, C_z = puma.compute_continuum_tortuosity(ws_fiberform, (0,0), 'z', side_bc='s', tolerance=1e-3, solver_type='cg')\n",
    "\n",
    "print(\"Effective tortuosity factors:\")\n",
    "print(n_eff_x)\n",
    "print(n_eff_y)\n",
    "print(n_eff_z)\n",
    "\n",
    "print(\"Porosity of the material:\", poro)"
   ]
  },
  {
   "cell_type": "code",
   "execution_count": null,
   "metadata": {},
   "outputs": [],
   "source": [
    "# Visualizing the Concentration field: \n",
    "puma.render_volume(C_x, solid_color=None, notebook=True, cmap='jet')"
   ]
  },
  {
   "cell_type": "markdown",
   "metadata": {},
   "source": [
    "## Tutorial 13: Elasticity\n",
    "In this tutorial we demonstrate the use of the compute_elasticity and compute_stress_analysis functions. "
   ]
  },
  {
   "cell_type": "markdown",
   "metadata": {},
   "source": [
    "We will run four different verification cases. Change the path of the file outputs:"
   ]
  },
  {
   "cell_type": "code",
   "execution_count": 3,
   "metadata": {},
   "outputs": [],
   "source": [
    "export_path = \"out\"  # CHANGE THIS PATH\n",
    "\n",
    "if not os.path.exists(export_path):\n",
    "    os.makedirs(export_path)"
   ]
  },
  {
   "cell_type": "markdown",
   "metadata": {},
   "source": [
    "### Verification 1: harmonic averaging, in series along x periodic sides"
   ]
  },
  {
   "cell_type": "code",
   "execution_count": 4,
   "metadata": {},
   "outputs": [
    {
     "name": "stdout",
     "output_type": "stream",
     "text": [
      "Initializing and padding domains ... Done\n",
      "Assembling b vector ... Done\n",
      "Initializing large data structures ... Done\n",
      "Assembling A matrix ... 100.0% Done\n",
      "Solving Ax=b system ... Direct solver ... Done\n",
      "Computing stresses ... 100.0% Done\n"
     ]
    }
   ],
   "source": [
    "export_name = 'halfmat'\n",
    "X = 20\n",
    "Y = 20\n",
    "Z = 20\n",
    "ws = puma.Workspace.from_shape_value((X, Y, Z), 1)\n",
    "ws[int(X / 2):] = 2\n",
    "# ws.show_matrix()\n",
    "\n",
    "elast_map = puma.ElasticityMap()\n",
    "elast_map.add_isotropic_material((1, 1), 200, 0.3)\n",
    "elast_map.add_isotropic_material((2, 2), 400, 0.1)\n",
    "\n",
    "_, u, s, t = puma.compute_elasticity(ws, elast_map, 'x', 'f', solver_type=\"direct\")"
   ]
  },
  {
   "cell_type": "code",
   "execution_count": 5,
   "metadata": {},
   "outputs": [
    {
     "data": {
      "text/plain": [
       "(20, 20, 20, 3)"
      ]
     },
     "execution_count": 5,
     "metadata": {},
     "output_type": "execute_result"
    }
   ],
   "source": [
    "s.shape"
   ]
  },
  {
   "cell_type": "code",
   "execution_count": 6,
   "metadata": {},
   "outputs": [
    {
     "data": {
      "application/vnd.jupyter.widget-view+json": {
       "model_id": "d349879c938d4485b9c52dba76ade04a",
       "version_major": 2,
       "version_minor": 0
      },
      "text/plain": [
       "ViewInteractiveWidget(height=1200, layout=Layout(height='auto', width='100%'), width=1920)"
      ]
     },
     "metadata": {},
     "output_type": "display_data"
    }
   ],
   "source": [
    "p = pv.Plotter(shape=(1, 3))\n",
    "p.subplot(0, 0)\n",
    "p.add_text(\"Displacement in x\")\n",
    "puma.render_volume(u[:, :, :, 0], notebook=True, add_to_plot=p, plot_directly=False, cmap='jet')\n",
    "p.subplot(0, 1)\n",
    "p.add_text(\"Displacement in y\")\n",
    "puma.render_volume(u[:, :, :, 1], notebook=True, add_to_plot=p, plot_directly=False, cmap='jet')\n",
    "p.subplot(0, 2)\n",
    "p.add_text(\"Displacement in z\")\n",
    "puma.render_volume(u[:, :, :, 2], notebook=True, add_to_plot=p, plot_directly=False, cmap='jet')\n",
    "p.show()"
   ]
  },
  {
   "cell_type": "code",
   "execution_count": 7,
   "metadata": {},
   "outputs": [
    {
     "data": {
      "application/vnd.jupyter.widget-view+json": {
       "model_id": "04d35cb8e5d14faaaa030202224d8065",
       "version_major": 2,
       "version_minor": 0
      },
      "text/plain": [
       "ViewInteractiveWidget(height=1200, layout=Layout(height='auto', width='100%'), width=1920)"
      ]
     },
     "metadata": {},
     "output_type": "display_data"
    }
   ],
   "source": [
    "p = pv.Plotter(shape=(1, 3))\n",
    "p.subplot(0, 0)\n",
    "p.add_text(\"XX stress\")\n",
    "puma.render_volume(s[:, :10, :, 0], notebook=True, add_to_plot=p, plot_directly=False, cmap='jet')\n",
    "p.subplot(0, 1)\n",
    "p.add_text(\"YY stress\")\n",
    "puma.render_volume(s[:, :10, :, 1], notebook=True, add_to_plot=p, plot_directly=False, cmap='jet')\n",
    "p.subplot(0, 2)\n",
    "p.add_text(\"ZZ stress\")\n",
    "puma.render_volume(s[:, :10, :, 2], notebook=True, add_to_plot=p, plot_directly=False, cmap='jet')\n",
    "p.show()"
   ]
  },
  {
   "cell_type": "code",
   "execution_count": 8,
   "metadata": {},
   "outputs": [
    {
     "data": {
      "application/vnd.jupyter.widget-view+json": {
       "model_id": "4c7060b6a2564d71a45319277a70c2b4",
       "version_major": 2,
       "version_minor": 0
      },
      "text/plain": [
       "ViewInteractiveWidget(height=1200, layout=Layout(height='auto', width='100%'), width=1920)"
      ]
     },
     "metadata": {},
     "output_type": "display_data"
    }
   ],
   "source": [
    "p = pv.Plotter(shape=(1, 3))\n",
    "p.subplot(0, 0)\n",
    "p.add_text(\"YZ stress\")\n",
    "puma.render_volume(t[:, :10, :, 0], notebook=True, add_to_plot=p, plot_directly=False, cmap='jet')\n",
    "p.subplot(0, 1)\n",
    "p.add_text(\"XZ stress\")\n",
    "puma.render_volume(t[:, :10, :, 1], notebook=True, add_to_plot=p, plot_directly=False, cmap='jet')\n",
    "p.subplot(0, 2)\n",
    "p.add_text(\"XY stress\")\n",
    "puma.render_volume(t[:, :10, :, 2], notebook=True, add_to_plot=p, plot_directly=False, cmap='jet')\n",
    "p.show()"
   ]
  },
  {
   "cell_type": "code",
   "execution_count": 9,
   "metadata": {},
   "outputs": [
    {
     "name": "stdout",
     "output_type": "stream",
     "text": [
      "Exporting ../tests/out/halfmat.vti ... Done\n"
     ]
    },
    {
     "data": {
      "text/plain": [
       "True"
      ]
     },
     "execution_count": 9,
     "metadata": {},
     "output_type": "execute_result"
    }
   ],
   "source": [
    "puma.export_vti(export_path + export_name, {\"ws\": ws, \"disp\": u, \"sigma\": s, \"tau\": t})"
   ]
  },
  {
   "cell_type": "markdown",
   "metadata": {},
   "source": [
    "### Verification 2: full built-in beam"
   ]
  },
  {
   "cell_type": "code",
   "execution_count": 10,
   "metadata": {},
   "outputs": [
    {
     "name": "stdout",
     "output_type": "stream",
     "text": [
      "Initializing and padding domains ... Done\n",
      "Assembling b vector ... Done\n",
      "Initializing large data structures ... Done\n",
      "Assembling A matrix ... 100.0% Done\n",
      "Solving Ax=b system ... Direct solver ... Done\n",
      "Computing stresses ... 100.0% Done\n"
     ]
    }
   ],
   "source": [
    "export_name = 'builtinbeam'\n",
    "X = 10\n",
    "Y = 50\n",
    "Z = 10\n",
    "ws = puma.Workspace.from_shape_value((X, Y, Z), 1)\n",
    "ws.voxel_length = 1\n",
    "\n",
    "elast_map = puma.ElasticityMap()\n",
    "elast_map.add_isotropic_material((1, 1), 200, 0.3)\n",
    "\n",
    "bc = puma.ElasticityBC.from_workspace(ws)\n",
    "bc[:, 0] = 0\n",
    "bc[:, -1, :, :2] = 0\n",
    "bc[:, -1, :, 2] = -1  # z displacement of -1\n",
    "# puma.Workspace.show_orientation(bc)\n",
    "\n",
    "u, s, t = puma.compute_stress_analysis(ws, elast_map, bc, side_bc='f', solver_type=\"direct\")"
   ]
  },
  {
   "cell_type": "code",
   "execution_count": 11,
   "metadata": {},
   "outputs": [
    {
     "data": {
      "application/vnd.jupyter.widget-view+json": {
       "model_id": "d62f5c4238b54506912a44c2fb3bce79",
       "version_major": 2,
       "version_minor": 0
      },
      "text/plain": [
       "ViewInteractiveWidget(height=1200, layout=Layout(height='auto', width='100%'), width=1920)"
      ]
     },
     "metadata": {},
     "output_type": "display_data"
    }
   ],
   "source": [
    "p = pv.Plotter(shape=(1, 3))\n",
    "p.subplot(0, 0)\n",
    "p.add_text(\"Displacement in x\")\n",
    "puma.render_volume(u[:, :, :, 0], notebook=True, add_to_plot=p, plot_directly=False, cmap='jet')\n",
    "p.subplot(0, 1)\n",
    "p.add_text(\"Displacement in y\")\n",
    "puma.render_volume(u[:, :, :, 1], notebook=True, add_to_plot=p, plot_directly=False, cmap='jet')\n",
    "p.subplot(0, 2)\n",
    "p.add_text(\"Displacement in z\")\n",
    "puma.render_volume(u[:, :, :, 2], notebook=True, add_to_plot=p, plot_directly=False, cmap='jet')\n",
    "p.show()"
   ]
  },
  {
   "cell_type": "code",
   "execution_count": 12,
   "metadata": {},
   "outputs": [
    {
     "data": {
      "application/vnd.jupyter.widget-view+json": {
       "model_id": "2a0fcd73811f45bba7ba2aad0fe8f201",
       "version_major": 2,
       "version_minor": 0
      },
      "text/plain": [
       "ViewInteractiveWidget(height=1200, layout=Layout(height='auto', width='100%'), width=1920)"
      ]
     },
     "metadata": {},
     "output_type": "display_data"
    }
   ],
   "source": [
    "p = pv.Plotter(shape=(1, 3))\n",
    "p.subplot(0, 0)\n",
    "p.add_text(\"XX stress\")\n",
    "puma.render_volume(s[:5, :, :, 0], notebook=True, add_to_plot=p, plot_directly=False, cmap='jet')\n",
    "p.subplot(0, 1)\n",
    "p.add_text(\"YY stress\")\n",
    "puma.render_volume(s[:5, :, :, 1], notebook=True, add_to_plot=p, plot_directly=False, cmap='jet')\n",
    "p.subplot(0, 2)\n",
    "p.add_text(\"ZZ stress\")\n",
    "puma.render_volume(s[:5, :, :, 2], notebook=True, add_to_plot=p, plot_directly=False, cmap='jet')\n",
    "p.show()"
   ]
  },
  {
   "cell_type": "code",
   "execution_count": 13,
   "metadata": {},
   "outputs": [
    {
     "data": {
      "application/vnd.jupyter.widget-view+json": {
       "model_id": "b24d6b16a2994aa3b413054a42c12281",
       "version_major": 2,
       "version_minor": 0
      },
      "text/plain": [
       "ViewInteractiveWidget(height=1200, layout=Layout(height='auto', width='100%'), width=1920)"
      ]
     },
     "metadata": {},
     "output_type": "display_data"
    }
   ],
   "source": [
    "p = pv.Plotter(shape=(1, 3))\n",
    "p.subplot(0, 0)\n",
    "p.add_text(\"YZ stress\")\n",
    "puma.render_volume(t[:5, :, :, 0], notebook=True, add_to_plot=p, plot_directly=False, cmap='jet')\n",
    "p.subplot(0, 1)\n",
    "p.add_text(\"XZ stress\")\n",
    "puma.render_volume(t[:5, :, :, 1], notebook=True, add_to_plot=p, plot_directly=False, cmap='jet')\n",
    "p.subplot(0, 2)\n",
    "p.add_text(\"XY stress\")\n",
    "puma.render_volume(t[:5, :, :, 2], notebook=True, add_to_plot=p, plot_directly=False, cmap='jet')\n",
    "p.show()"
   ]
  },
  {
   "cell_type": "code",
   "execution_count": 14,
   "metadata": {},
   "outputs": [
    {
     "name": "stdout",
     "output_type": "stream",
     "text": [
      "Exporting ../tests/out/builtinbeam.vti ... Done\n"
     ]
    },
    {
     "data": {
      "text/plain": [
       "True"
      ]
     },
     "execution_count": 14,
     "metadata": {},
     "output_type": "execute_result"
    }
   ],
   "source": [
    "puma.export_vti(export_path + export_name, {\"ws\": ws, \"disp\": u, \"sigma\": s, \"tau\": t})"
   ]
  },
  {
   "cell_type": "markdown",
   "metadata": {},
   "source": [
    "### Verification 3: plate with a hole"
   ]
  },
  {
   "cell_type": "code",
   "execution_count": 25,
   "metadata": {},
   "outputs": [
    {
     "name": "stdout",
     "output_type": "stream",
     "text": [
      "Initializing and padding domains ... Done\n",
      "Assembling b vector ... Done\n",
      "Initializing large data structures ... Done\n",
      "Assembling A matrix ... 100.0% Done\n",
      "Solving Ax=b system ... Direct solver ... Done\n",
      "Computing stresses ... 100.0% Done\n"
     ]
    }
   ],
   "source": [
    "export_name = 'platehole'\n",
    "X = 50\n",
    "Y = 50\n",
    "Z = 3\n",
    "ws = puma.Workspace.from_shape_value((X, Y, Z), 1)\n",
    "ws.voxel_length = 1\n",
    "\n",
    "mask = np.ones((X, Y, Z), dtype=bool)\n",
    "mask[X//2, Y//2] = 0\n",
    "distance_mask = nd.morphology.distance_transform_edt(mask)\n",
    "max_distance = np.max(distance_mask)\n",
    "distance_mask_display = (distance_mask*255./max_distance).astype(dtype=np.uint8)\n",
    "in_range = distance_mask <= 17\n",
    "ws[in_range] = 0\n",
    "\n",
    "elast_map = puma.ElasticityMap()\n",
    "elast_map.add_isotropic_material((1, 1), 200, 0.3)\n",
    "\n",
    "bc = puma.ElasticityBC.from_workspace(ws)\n",
    "bc[0, :, :, 0] = 0\n",
    "bc[-1, :, :, 0] = 1\n",
    "\n",
    "u, s, t = puma.compute_stress_analysis(ws, elast_map, bc, side_bc='f', solver_type=\"direct\")"
   ]
  },
  {
   "cell_type": "code",
   "execution_count": 26,
   "metadata": {},
   "outputs": [
    {
     "data": {
      "application/vnd.jupyter.widget-view+json": {
       "model_id": "28e74098918c4e1d955e7f1d5d94be71",
       "version_major": 2,
       "version_minor": 0
      },
      "text/plain": [
       "ViewInteractiveWidget(height=1200, layout=Layout(height='auto', width='100%'), width=1920)"
      ]
     },
     "metadata": {},
     "output_type": "display_data"
    }
   ],
   "source": [
    "p = pv.Plotter(shape=(1, 3))\n",
    "p.subplot(0, 0)\n",
    "p.add_text(\"Displacement in x\")\n",
    "puma.render_volume(u[:, :, :, 0], notebook=True, add_to_plot=p, plot_directly=False, cmap='jet')\n",
    "p.subplot(0, 1)\n",
    "p.add_text(\"Displacement in y\")\n",
    "puma.render_volume(u[:, :, :, 1], notebook=True, add_to_plot=p, plot_directly=False, cmap='jet')\n",
    "p.subplot(0, 2)\n",
    "p.add_text(\"Displacement in z\")\n",
    "puma.render_volume(u[:, :, :, 2], notebook=True, add_to_plot=p, plot_directly=False, cmap='jet')\n",
    "p.show(cpos=\"xy\")"
   ]
  },
  {
   "cell_type": "code",
   "execution_count": 27,
   "metadata": {},
   "outputs": [
    {
     "data": {
      "application/vnd.jupyter.widget-view+json": {
       "model_id": "97395ca96cd44438b5601e17a2112b03",
       "version_major": 2,
       "version_minor": 0
      },
      "text/plain": [
       "ViewInteractiveWidget(height=1200, layout=Layout(height='auto', width='100%'), width=1920)"
      ]
     },
     "metadata": {},
     "output_type": "display_data"
    }
   ],
   "source": [
    "p = pv.Plotter(shape=(1, 3))\n",
    "p.subplot(0, 0)\n",
    "p.add_text(\"XX stress\")\n",
    "puma.render_volume(s[:, :, 1:, 0], notebook=True, add_to_plot=p, plot_directly=False, cmap='jet')\n",
    "p.subplot(0, 1)\n",
    "p.add_text(\"YY stress\")\n",
    "puma.render_volume(s[:, :, 1:, 1], notebook=True, add_to_plot=p, plot_directly=False, cmap='jet')\n",
    "p.subplot(0, 2)\n",
    "p.add_text(\"ZZ stress\")\n",
    "puma.render_volume(s[:, :, 1:, 2], notebook=True, add_to_plot=p, plot_directly=False, cmap='jet')\n",
    "p.show(cpos=\"xy\")"
   ]
  },
  {
   "cell_type": "code",
   "execution_count": 28,
   "metadata": {},
   "outputs": [
    {
     "data": {
      "application/vnd.jupyter.widget-view+json": {
       "model_id": "6e26420aa7ae4f1ba1da497bc2cc7b63",
       "version_major": 2,
       "version_minor": 0
      },
      "text/plain": [
       "ViewInteractiveWidget(height=1200, layout=Layout(height='auto', width='100%'), width=1920)"
      ]
     },
     "metadata": {},
     "output_type": "display_data"
    }
   ],
   "source": [
    "p = pv.Plotter(shape=(1, 3))\n",
    "p.subplot(0, 0)\n",
    "p.add_text(\"YZ stress\")\n",
    "puma.render_volume(t[:, :, 1:, 0], notebook=True, add_to_plot=p, plot_directly=False, cmap='jet')\n",
    "p.subplot(0, 1)\n",
    "p.add_text(\"XZ stress\")\n",
    "puma.render_volume(t[:, :, 1:, 1], notebook=True, add_to_plot=p, plot_directly=False, cmap='jet')\n",
    "p.subplot(0, 2)\n",
    "p.add_text(\"XY stress\")\n",
    "puma.render_volume(t[:, :, 1:, 2], notebook=True, add_to_plot=p, plot_directly=False, cmap='jet')\n",
    "p.show(cpos=\"xy\")"
   ]
  },
  {
   "cell_type": "code",
   "execution_count": 19,
   "metadata": {},
   "outputs": [
    {
     "name": "stdout",
     "output_type": "stream",
     "text": [
      "Exporting ../tests/out/platehole.vti ... Done\n"
     ]
    },
    {
     "data": {
      "text/plain": [
       "True"
      ]
     },
     "execution_count": 19,
     "metadata": {},
     "output_type": "execute_result"
    }
   ],
   "source": [
    "puma.export_vti(export_path + export_name, {\"ws\": ws, \"disp\": u, \"sigma\": s, \"tau\": t})"
   ]
  },
  {
   "cell_type": "markdown",
   "metadata": {},
   "source": [
    "### Verification 4: cracked plate"
   ]
  },
  {
   "cell_type": "code",
   "execution_count": 20,
   "metadata": {},
   "outputs": [
    {
     "name": "stdout",
     "output_type": "stream",
     "text": [
      "Initializing and padding domains ... Done\n",
      "Assembling b vector ... Done\n",
      "Initializing large data structures ... Done\n",
      "Assembling A matrix ... 100.0% Done\n",
      "Solving Ax=b system ... Direct solver"
     ]
    },
    {
     "name": "stderr",
     "output_type": "stream",
     "text": [
      "/Users/fsemerar/opt/anaconda3/envs/puma/lib/python3.7/site-packages/scikits/umfpack/umfpack.py:721: UmfpackWarning: (almost) singular matrix! (estimated cond. number: 2.08e+12)\n",
      "  warnings.warn(msg, UmfpackWarning)\n"
     ]
    },
    {
     "name": "stdout",
     "output_type": "stream",
     "text": [
      " ... Done\n",
      "Computing stresses ... 100.0% Done\n"
     ]
    }
   ],
   "source": [
    "export_name = 'crackedplate'\n",
    "X = 25\n",
    "Y = 100\n",
    "Z = 3\n",
    "ws = puma.Workspace.from_shape_value((X, Y, Z), 1)\n",
    "ws.voxel_length = 1\n",
    "\n",
    "ws[:10, Y//2-1:Y//2+1] = 0\n",
    "\n",
    "elast_map = puma.ElasticityMap()\n",
    "elast_map.add_isotropic_material((1, 1), 200, 0.3)\n",
    "\n",
    "bc = puma.ElasticityBC.from_workspace(ws)\n",
    "bc[:, 0, :, 1] = 0\n",
    "bc[:, -1, :, 1] = 1\n",
    "\n",
    "u, s, t = puma.compute_stress_analysis(ws, elast_map, bc, side_bc='f', solver_type=\"direct\")"
   ]
  },
  {
   "cell_type": "code",
   "execution_count": 21,
   "metadata": {},
   "outputs": [
    {
     "data": {
      "application/vnd.jupyter.widget-view+json": {
       "model_id": "af7d350fa0614518af45e39957528171",
       "version_major": 2,
       "version_minor": 0
      },
      "text/plain": [
       "ViewInteractiveWidget(height=1200, layout=Layout(height='auto', width='100%'), width=1920)"
      ]
     },
     "metadata": {},
     "output_type": "display_data"
    }
   ],
   "source": [
    "p = pv.Plotter(shape=(1, 3))\n",
    "p.subplot(0, 0)\n",
    "p.add_text(\"Displacement in x\")\n",
    "puma.render_volume(u[:, :, :, 0], notebook=True, add_to_plot=p, plot_directly=False, cmap='jet')\n",
    "p.subplot(0, 1)\n",
    "p.add_text(\"Displacement in y\")\n",
    "puma.render_volume(u[:, :, :, 1], notebook=True, add_to_plot=p, plot_directly=False, cmap='jet')\n",
    "p.subplot(0, 2)\n",
    "p.add_text(\"Displacement in z\")\n",
    "puma.render_volume(u[:, :, :, 2], notebook=True, add_to_plot=p, plot_directly=False, cmap='jet')\n",
    "p.show(cpos=\"xy\")"
   ]
  },
  {
   "cell_type": "code",
   "execution_count": 22,
   "metadata": {},
   "outputs": [
    {
     "data": {
      "application/vnd.jupyter.widget-view+json": {
       "model_id": "131b3af504b14469b4d2be2bbefd2b2f",
       "version_major": 2,
       "version_minor": 0
      },
      "text/plain": [
       "ViewInteractiveWidget(height=1200, layout=Layout(height='auto', width='100%'), width=1920)"
      ]
     },
     "metadata": {},
     "output_type": "display_data"
    }
   ],
   "source": [
    "p = pv.Plotter(shape=(1, 3))\n",
    "p.subplot(0, 0)\n",
    "p.add_text(\"XX stress\")\n",
    "puma.render_volume(s[:, :, 1:, 0], notebook=True, add_to_plot=p, plot_directly=False, cmap='jet')\n",
    "p.subplot(0, 1)\n",
    "p.add_text(\"YY stress\")\n",
    "puma.render_volume(s[:, :, 1:, 1], notebook=True, add_to_plot=p, plot_directly=False, cmap='jet')\n",
    "p.subplot(0, 2)\n",
    "p.add_text(\"ZZ stress\")\n",
    "puma.render_volume(s[:, :, 1:, 2], notebook=True, add_to_plot=p, plot_directly=False, cmap='jet')\n",
    "p.show(cpos=\"xy\")"
   ]
  },
  {
   "cell_type": "code",
   "execution_count": 23,
   "metadata": {},
   "outputs": [
    {
     "data": {
      "application/vnd.jupyter.widget-view+json": {
       "model_id": "a41d418d6b7640ec988f610801d84630",
       "version_major": 2,
       "version_minor": 0
      },
      "text/plain": [
       "ViewInteractiveWidget(height=1200, layout=Layout(height='auto', width='100%'), width=1920)"
      ]
     },
     "metadata": {},
     "output_type": "display_data"
    }
   ],
   "source": [
    "p = pv.Plotter(shape=(1, 3))\n",
    "p.subplot(0, 0)\n",
    "p.add_text(\"YZ stress\")\n",
    "puma.render_volume(t[:, :, 1:, 0], notebook=True, add_to_plot=p, plot_directly=False, cmap='jet')\n",
    "p.subplot(0, 1)\n",
    "p.add_text(\"XZ stress\")\n",
    "puma.render_volume(t[:, :, 1:, 1], notebook=True, add_to_plot=p, plot_directly=False, cmap='jet')\n",
    "p.subplot(0, 2)\n",
    "p.add_text(\"XY stress\")\n",
    "puma.render_volume(t[:, :, 1:, 2], notebook=True, add_to_plot=p, plot_directly=False, cmap='jet')\n",
    "p.show(cpos=\"xy\")"
   ]
  },
  {
   "cell_type": "code",
   "execution_count": 24,
   "metadata": {},
   "outputs": [
    {
     "name": "stdout",
     "output_type": "stream",
     "text": [
      "Exporting ../tests/out/crackedplate.vti ... Done\n"
     ]
    },
    {
     "data": {
      "text/plain": [
       "True"
      ]
     },
     "execution_count": 24,
     "metadata": {},
     "output_type": "execute_result"
    }
   ],
   "source": [
    "puma.export_vti(export_path + export_name, {\"ws\": ws, \"disp\": u, \"sigma\": s, \"tau\": t})"
   ]
  }
 ],
 "metadata": {
  "kernelspec": {
   "display_name": "Python 3",
   "language": "python",
   "name": "python3"
  },
  "language_info": {
   "codemirror_mode": {
    "name": "ipython",
    "version": 3
   },
   "file_extension": ".py",
   "mimetype": "text/x-python",
   "name": "python",
   "nbconvert_exporter": "python",
   "pygments_lexer": "ipython3",
   "version": "3.7.9"
  }
 },
 "nbformat": 4,
 "nbformat_minor": 4
}