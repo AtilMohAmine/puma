{
 "cells": [
  {
   "cell_type": "markdown",
   "metadata": {},
   "source": [
    "# Welcome to the pumapy tutorials"
   ]
  },
  {
   "cell_type": "markdown",
   "metadata": {},
   "source": [
    "The objective of this notebook is to familiarize new users with the main datastructures that stand at the basis of the pumapy package, and outline the functions to compute material properties."
   ]
  },
  {
   "cell_type": "markdown",
   "metadata": {
    "pycharm": {
     "name": "#%% md\n"
    }
   },
   "source": [
    "## Installation setup and imports"
   ]
  },
  {
   "cell_type": "markdown",
   "metadata": {},
   "source": [
    "Always run the following cells when you open the notebook or restart the kernel. This installs the dependencies in Colab (only the first time it is run) and imports the necessary modules to run the subsequent tutorials. On Colab, don't be surprised if the kernel crashes: this is intentional and it is to force its restart to complete the installation."
   ]
  },
  {
   "cell_type": "code",
   "execution_count": 7,
   "metadata": {},
   "outputs": [],
   "source": [
    "# GOOGLE COLAB: the first time you run this, it will take about 10-15 mins to finish the setup\n",
    "if 'google.colab' in str(get_ipython()):\n",
    "    !pip install -q condacolab\n",
    "    import condacolab\n",
    "    condacolab.install()\n",
    "    !pip install -q piglet pyvirtualdisplay\n",
    "    !apt-get -qq install xvfb\n",
    "    # FEniCS-dolfin not working in Colab\n",
    "    !if [[ $(conda list puma) != *\"puma\"* ]]; then conda install -c fsemerar puma; fi\n",
    "    try:\n",
    "        import pumapy as puma\n",
    "    except:  # Colab needs to restart kernel the first time puma is installed\n",
    "        import os; os.kill(os.getpid(), 9)  # intentionally crash kernel to force restart"
   ]
  },
  {
   "cell_type": "code",
   "execution_count": 9,
   "metadata": {},
   "outputs": [],
   "source": [
    "import numpy as np\n",
    "import pumapy as puma\n",
    "import pyvista as pv\n",
    "from TexGen.Core import *\n",
    "import scipy.ndimage as nd\n",
    "import os\n",
    "import sys\n",
    "if 'google.colab' in str(get_ipython()):\n",
    "    from pyvirtualdisplay import Display\n",
    "    display = Display(visible=0, size=(600, 400))\n",
    "    display.start()  # necessary for pyvista interactive plots\n",
    "    \n",
    "else:  # NORMAL JUPYTER NOTEBOOK\n",
    "    # for interactive slicer (only static allowed on Colab)\n",
    "    %matplotlib widget"
   ]
  },
  {
   "cell_type": "markdown",
   "metadata": {},
   "source": [
    "## Tutorial: Workspace Manipulations\n",
    "In this tutorial we demonstrate how to create a workspace and perform basic operations on it, including cropping, rotation, thresholding."
   ]
  },
  {
   "cell_type": "markdown",
   "metadata": {},
   "source": [
    "A workspace is the datastructure at the basis of both PuMA and pumapy and it is basically a container for the material sample that is being analyzed. A workspace is made of little cubes, or voxels (i.e. 3D pixels), holding a value. This simple element definition (formally called Cartesian grid) allows for very fast operations. Inside a workspace object, two different arrays are defined: one called \"matrix\" and the other called \"orientation\". Both of these are nothing but a 3D Numpy array for the matrix (X,Y,Z dimensions of the domain) and a 4D Numpy array for the orientation (dimensions of X,Y,Z,3 for vectors throughout the domain). \n",
    "\n",
    "Next we show the different ways we have implemented to define a workspace class. You can check how to use the methods by running the following commands:"
   ]
  },
  {
   "cell_type": "code",
   "execution_count": null,
   "metadata": {},
   "outputs": [],
   "source": [
    "help(puma.Workspace)  # all class methods"
   ]
  },
  {
   "cell_type": "code",
   "execution_count": null,
   "metadata": {},
   "outputs": [],
   "source": [
    "help(puma.Workspace.rescale)  # specific class method"
   ]
  },
  {
   "cell_type": "code",
   "execution_count": null,
   "metadata": {},
   "outputs": [],
   "source": [
    "# defines a workspace full of zeros of shape 10x11x12\n",
    "ws = puma.Workspace.from_shape((10, 11, 12))\n",
    "print(f\"Shape of workspace: {ws.matrix.shape}\")\n",
    "print(f\"Unique values in matrix: {ws.unique_values()}\")"
   ]
  },
  {
   "cell_type": "code",
   "execution_count": null,
   "metadata": {},
   "outputs": [],
   "source": [
    "# defines a workspace of shape 20x31x212, full of a custom value (in this case ones)\n",
    "ws = puma.Workspace.from_shape_value((20, 31, 212), 1)\n",
    "print(f\"Shape of workspace: {ws.matrix.shape}\")\n",
    "print(f\"Unique values in matrix: {ws.unique_values()}\")"
   ]
  },
  {
   "cell_type": "code",
   "execution_count": null,
   "metadata": {},
   "outputs": [],
   "source": [
    "# defines a workspace of shape 5x6x2, full of a custom value (in this case ones) for the matrix array\n",
    "# and vectors for the orientation array\n",
    "ws_with_orientation = puma.Workspace.from_shape_value_vector((5, 6, 2), 1, (0.4, 2, 5))\n",
    "print(f\"Matrix shape of workspace: {ws_with_orientation.matrix.shape}\")\n",
    "print(f\"Orientation shape of workspace: {ws_with_orientation.orientation.shape}\")\n",
    "print(\"Display Workspace matrix\")\n",
    "ws_with_orientation.show_matrix()"
   ]
  },
  {
   "cell_type": "code",
   "execution_count": null,
   "metadata": {},
   "outputs": [],
   "source": [
    "print(\"Display Workspace orientation\")\n",
    "ws_with_orientation.show_orientation()"
   ]
  },
  {
   "cell_type": "code",
   "execution_count": null,
   "metadata": {},
   "outputs": [],
   "source": [
    "# we can also convert a Numpy array into a Workspace directly by running:\n",
    "array = np.random.randint(5, size=(10, 10, 10))\n",
    "ws = puma.Workspace.from_array(array)\n",
    "print(f\"Matrix shape of workspace: {ws.get_shape()}\")"
   ]
  },
  {
   "cell_type": "code",
   "execution_count": null,
   "metadata": {},
   "outputs": [],
   "source": [
    "# finally, we can create an empty workspace object and assign its matrix directly (not recommended):\n",
    "ws = puma.Workspace()\n",
    "ws.matrix = np.random.randint(5, size=(10, 10, 3))\n",
    "print(\"Display Workspace\")\n",
    "ws.show_matrix()"
   ]
  },
  {
   "cell_type": "code",
   "execution_count": null,
   "metadata": {},
   "outputs": [],
   "source": [
    "# N.B. the following commands are equivalent\n",
    "print(\"Different ways to index the matrix array:\")\n",
    "print(ws[0, 0, 0])\n",
    "print(ws.matrix[0, 0, 0])"
   ]
  },
  {
   "cell_type": "markdown",
   "metadata": {},
   "source": [
    "It is important to keep the first three dimensions (X,Y,Z) of the matrix and orientation class variables the same. This is automatically enforced by using the class methods, but it is not when assigning them directly as in the last example. "
   ]
  },
  {
   "cell_type": "markdown",
   "metadata": {},
   "source": [
    "Let's now import a tomography image directly into a workspace (PuMA comes with some example files that can be imported using the path_to_example_file function as shown below): "
   ]
  },
  {
   "cell_type": "code",
   "execution_count": null,
   "metadata": {
    "pycharm": {
     "name": "#%%\n"
    }
   },
   "outputs": [],
   "source": [
    "ws_raw = puma.import_3Dtiff(puma.path_to_example_file(\"200_fiberform.tif\"), 1.3e-6)\n",
    "print(f\"Shape of workspace: {ws_raw.matrix.shape}\")"
   ]
  },
  {
   "cell_type": "markdown",
   "metadata": {},
   "source": [
    "This specific tiff stack is 8 bit, so the grayscale values will range from 0 to 255. PuMA can also import 16bit images, which allow a much larger range from 0 to 65535 (i.e. 2^16)."
   ]
  },
  {
   "cell_type": "markdown",
   "metadata": {},
   "source": [
    "The voxel length (in meters) of the workspace can either be set during import of a 3D tiff, or manually afterwards, as shown below: "
   ]
  },
  {
   "cell_type": "code",
   "execution_count": null,
   "metadata": {},
   "outputs": [],
   "source": [
    "ws_raw.voxel_length = 1.3e-6"
   ]
  },
  {
   "cell_type": "markdown",
   "metadata": {},
   "source": [
    "We can visualize its slices by running the command below. By scrolling on top of the plot, you can slice through the material along the z axis. You can also use the left/right arrows on the keyboard to skip +/-10 slices or the up/down arrows to skip +/-100 slices (if this does not work automatically, try clicking on the plot first). In addition, on the bottom of the plot, the (x,y) coordinates are shown along with the corresponding grayscale value. \n",
    "\n",
    "Note that in Colab only static plots are allowed, so an index can be specified to indicate the slice to show."
   ]
  },
  {
   "cell_type": "code",
   "execution_count": null,
   "metadata": {
    "scrolled": false
   },
   "outputs": [],
   "source": [
    "slices = puma.plot_slices(ws_raw, slice_direction='z', crange=None, cmap='gray', index=1)"
   ]
  },
  {
   "cell_type": "markdown",
   "metadata": {},
   "source": [
    "Otherwise, we can also 3D render it as (see the visualization tutorial for more tips on this):"
   ]
  },
  {
   "cell_type": "code",
   "execution_count": null,
   "metadata": {},
   "outputs": [],
   "source": [
    "puma.render_volume(ws_raw, notebook=True)"
   ]
  },
  {
   "cell_type": "markdown",
   "metadata": {},
   "source": [
    "Next, we show how to manipulate the domain, e.g. crop, rescale, resize and rotate it. \n",
    "\n",
    "An approach to crop a domain is the following:"
   ]
  },
  {
   "cell_type": "code",
   "execution_count": null,
   "metadata": {},
   "outputs": [],
   "source": [
    "ws_copy = ws_raw.copy()  # make a copy of the domain first\n",
    "ws_copy.matrix = ws_copy[10:40, 35:, -20:]  # crop the domain by selecting ranges\n",
    "print(f\"Shape of original workspace: {ws_raw.get_shape()}\")\n",
    "print(f\"Shape of cropped workspace: {ws_copy.get_shape()}\")"
   ]
  },
  {
   "cell_type": "markdown",
   "metadata": {},
   "source": [
    "However, it is important to not fall in the trap of referencing the same Numpy array. Here is an example of how you SHOULD NOT perform cropping:"
   ]
  },
  {
   "cell_type": "code",
   "execution_count": null,
   "metadata": {},
   "outputs": [],
   "source": [
    "ws_bad = puma.Workspace()\n",
    "ws_bad.matrix = ws_raw[10:40, 35:, -20:]  # WRONG: always make a copy first!\n",
    "ws_bad[0, 0, 0] = np.random.randint(0, 255)  # otherwise, this line also changes ws_raw\n",
    "print(ws_raw[10, 35, -20])\n",
    "print(ws_bad[0, 0, 0])"
   ]
  },
  {
   "cell_type": "markdown",
   "metadata": {},
   "source": [
    "As you can see from the output, both the original Workspace and the newly created one share the same Numpy array for the matrix class variable (the second one is only a section of it, also called a Numpy view). This way, when one is changed, the other one will be changed as well. It is important to make a copy of a domain if the original workspace needs to be kept.\n",
    "\n",
    "Next, we show how we can rescale a domain by a factor or resize it to a specified size. "
   ]
  },
  {
   "cell_type": "code",
   "execution_count": null,
   "metadata": {},
   "outputs": [],
   "source": [
    "ws_copy = ws_raw.copy()\n",
    "ws_copy.rescale(scale=0.5, segmented=False)\n",
    "\n",
    "# Notice that now the axis have different limits\n",
    "puma.compare_slices(ws_raw, ws_copy, index=50)"
   ]
  },
  {
   "cell_type": "markdown",
   "metadata": {
    "pycharm": {
     "name": "#%% md\n"
    }
   },
   "source": [
    "## Tutorial: import and export\n",
    "\n",
    "In this tutorial we demonstrate how to input and output a computational domain in PuMA"
   ]
  },
  {
   "cell_type": "markdown",
   "metadata": {},
   "source": [
    "### Explanation of data structures\n",
    "First, we give a brief explanation of the PuMA data structures. For a more detailed description, refer to the tutorial on Workspace Manipulations.\n",
    "\n",
    "Microstructures in PuMA are stored in a data structure called a \"workspace\". The workspace class includes all of the data about the material microstructure, including a 3D matrix of grayscale values, which can be either raw data from tomographic images, or segmented values. \n",
    "\n",
    "Note that in Colab only static plots are allowed, so an index can be specified to indicate the slice to show.\n",
    "\n",
    "Examples of unsegmented and segmented workspaces are demonstrated below: "
   ]
  },
  {
   "cell_type": "code",
   "execution_count": null,
   "metadata": {
    "pycharm": {
     "name": "#%%\n"
    }
   },
   "outputs": [],
   "source": [
    "ws_unsegmented = puma.import_3Dtiff(puma.path_to_example_file(\"200_fiberform.tif\"), 1.3e-6)\n",
    "ws_segmented = ws_unsegmented.copy()\n",
    "ws_segmented.binarize(90)\n",
    "\n",
    "puma.compare_slices(ws_unsegmented, ws_segmented,'z', index=1)"
   ]
  },
  {
   "cell_type": "markdown",
   "metadata": {},
   "source": [
    "The PuMA workspace class also contains other important information about the workspace. This includes the voxel length, which is the physical length (in meters) of each voxel of the image. Typical tomography data ranges from 1e-4 to 1e-7 meters in voxel length. If no value is provided to PuMA, the workspace class defaults to 1e-6 meters, i.e. one micron, as a voxel length. This value can either be set during input-output or it can be set directly for the workspace class. \n",
    "\n",
    "An example is shown below, where the voxel length of a workspace class is manually changed"
   ]
  },
  {
   "cell_type": "code",
   "execution_count": null,
   "metadata": {},
   "outputs": [],
   "source": [
    "ws_unsegmented.voxel_length = 1.5e-6"
   ]
  },
  {
   "cell_type": "markdown",
   "metadata": {},
   "source": [
    "The workspace class can also store the material orientation for each voxel in the domain. This data can either be imported, or can be computed using \"compute_orientation_st\" function, which applies the structure-tensor method to estimate the material orientation. "
   ]
  },
  {
   "cell_type": "markdown",
   "metadata": {},
   "source": [
    "### Workspace import and export\n",
    "Now we will give examples of input and output for the workspace class. \n",
    "\n",
    "PuMA import and export uses three different file types: 3D tiff, vti, and binary (extension is .pumapy)\n",
    "\n",
    "The 3D tiff images only include the 3D matrix data for the grayscale values. vti and binary, however, includes all data associated with the puma workspace class, including the matrix data, the orientation data (if used) and the voxel length. \n",
    "\n",
    "3D tiff images are often the exported data format for tomography imaging, so they are included in PuMA. If you have a tomographic image that uses a different file format, it is recommended to use an external image processing software (FIJI is recommended - https://imagej.net/software/fiji/) and convert the image to a 3D tiff before importing into pumapy. If tomographic reconstruction also needs to be performed, the python package called Tomopy (https://anaconda.org/conda-forge/tomopy) is recommended.\n",
    "\n",
    "First, let's set where to export the output file:"
   ]
  },
  {
   "cell_type": "code",
   "execution_count": null,
   "metadata": {},
   "outputs": [],
   "source": [
    "# Specify a path where to export file\n",
    "export_path = 'out'  # CHANGE THIS PATH\n",
    "\n",
    "if not os.path.exists(export_path):\n",
    "    os.makedirs(export_path)"
   ]
  },
  {
   "cell_type": "markdown",
   "metadata": {},
   "source": [
    "### Loading and exporting a .vti file"
   ]
  },
  {
   "cell_type": "markdown",
   "metadata": {},
   "source": [
    "Now, we will import an example file from the example data inside the folder pumapy.data:"
   ]
  },
  {
   "cell_type": "code",
   "execution_count": null,
   "metadata": {
    "scrolled": false
   },
   "outputs": [],
   "source": [
    "ws_vtk = puma.import_vti(puma.path_to_example_file(\"fibers_with_orientation.vti\"))\n",
    "\n",
    "print(\"Voxel Length: \", ws_vtk.voxel_length)\n",
    "print(\"Domain shape: \", ws_vtk.get_shape())"
   ]
  },
  {
   "cell_type": "markdown",
   "metadata": {},
   "source": [
    "We can now visualize both the fibrous microstructure and the fiber orientation side by side (for more visualization tips, follow the visualization tutorial):"
   ]
  },
  {
   "cell_type": "code",
   "execution_count": null,
   "metadata": {},
   "outputs": [],
   "source": [
    "p = pv.Plotter(shape=(1, 2), notebook=True)\n",
    "p.subplot(0, 0)\n",
    "p.add_text(\"Microstructure\")\n",
    "puma.render_contour(ws_vtk, (128, 255), notebook=True, add_to_plot=p, plot_directly=False)\n",
    "p.subplot(0, 1)\n",
    "p.add_text(\"Fiber orientation\")\n",
    "puma.render_orientation(ws_vtk, notebook=True, add_to_plot=p, plot_directly=False)\n",
    "p.show()"
   ]
  },
  {
   "cell_type": "markdown",
   "metadata": {},
   "source": [
    "Finally, we will export it again to our specified directory:"
   ]
  },
  {
   "cell_type": "code",
   "execution_count": null,
   "metadata": {},
   "outputs": [],
   "source": [
    "puma.export_vti(os.path.join(export_path, \"fibers_with_orientation.vti\"), ws_vtk)"
   ]
  },
  {
   "cell_type": "markdown",
   "metadata": {},
   "source": [
    "And that's it for exportint to vti!  Let's repeat the same steps for .pumapy and 3D tiffs."
   ]
  },
  {
   "cell_type": "markdown",
   "metadata": {},
   "source": [
    "### Loading and exporting a .pumapy binary file"
   ]
  },
  {
   "cell_type": "code",
   "execution_count": null,
   "metadata": {},
   "outputs": [],
   "source": [
    "ws_binary = puma.import_bin(puma.path_to_example_file(\"fibers_with_orientation.pumapy\"))\n",
    "\n",
    "print(\"Voxel Length: \", ws_binary.voxel_length)\n",
    "print(\"Domain shape: \", ws_binary.get_shape())"
   ]
  },
  {
   "cell_type": "code",
   "execution_count": null,
   "metadata": {},
   "outputs": [],
   "source": [
    "p = pv.Plotter(shape=(1, 2), notebook=True)\n",
    "p.subplot(0, 0)\n",
    "p.add_text(\"Microstructure\")\n",
    "puma.render_contour(ws_binary, (128, 255), notebook=True, add_to_plot=p, plot_directly=False)\n",
    "p.subplot(0, 1)\n",
    "p.add_text(\"Fiber orientation\")\n",
    "puma.render_orientation(ws_binary, notebook=True, add_to_plot=p, plot_directly=False)\n",
    "p.show()"
   ]
  },
  {
   "cell_type": "code",
   "execution_count": null,
   "metadata": {},
   "outputs": [],
   "source": [
    "puma.export_bin(os.path.join(export_path, \"fibers_with_orientation.vti\"), ws_binary)"
   ]
  },
  {
   "cell_type": "markdown",
   "metadata": {},
   "source": [
    "### Loading and exporting a .tif stack"
   ]
  },
  {
   "cell_type": "code",
   "execution_count": null,
   "metadata": {},
   "outputs": [],
   "source": [
    "ws_tiff = puma.import_3Dtiff(puma.path_to_example_file(\"50_artfibers.tif\"))\n",
    "\n",
    "print(\"Voxel Length: \", ws_tiff.voxel_length)\n",
    "print(\"Domain shape: \", ws_vtk.get_shape())\n",
    "\n",
    "puma.render_contour(ws_tiff, (128,255), notebook=True)\n",
    "\n",
    "puma.export_3Dtiff(os.path.join(export_path, \"50_artfibers.tif\"), ws_tiff)"
   ]
  },
  {
   "cell_type": "markdown",
   "metadata": {},
   "source": [
    "As you can see, with the 3D tiff import, the voxel length of the original workspace and the orientation is not preserved. The voxel length can be set by either adding it as an option to the 3D tiff import call, or by setting it directly: "
   ]
  },
  {
   "cell_type": "code",
   "execution_count": null,
   "metadata": {},
   "outputs": [],
   "source": [
    "ws_tiff = puma.import_3Dtiff(puma.path_to_example_file(\"50_artfibers.tif\"), 1.3e-6)\n",
    "print(\"Voxel Length - passed to input function: \", ws_tiff.voxel_length)\n",
    "\n",
    "ws_tiff = puma.import_3Dtiff(puma.path_to_example_file(\"50_artfibers.tif\"))\n",
    "print(\"Voxel Length - no input set: \", ws_tiff.voxel_length)\n",
    "ws_tiff.voxel_length = 1.3e-6\n",
    "print(\"Voxel Length - manually changed: \", ws_tiff.voxel_length)"
   ]
  },
  {
   "cell_type": "markdown",
   "metadata": {
    "pycharm": {
     "name": "#%% md\n"
    }
   },
   "source": [
    "## Tutorial: 3D Visualization\n",
    "In this tutorial we demonstrate the use of the 3D Visualization capabilities in pumapy. The 3D visualization is based on a coupling with Pyvista. Visualization can be performed on either raw tomography samples (each material phase is composed of a range of grayscale values) or segmented images (each material phase is a single grayscale value). Pumapy can currently produce volume, contour and orientation renderings. Examples of each visualization are shown below. "
   ]
  },
  {
   "cell_type": "markdown",
   "metadata": {},
   "source": [
    "Next we must either import or generate a material to visualize. Computational domains are stored in the workspace class. Below we show an example of both importing and computationally generating a material:"
   ]
  },
  {
   "cell_type": "code",
   "execution_count": null,
   "metadata": {
    "pycharm": {
     "name": "#%%\n"
    }
   },
   "outputs": [],
   "source": [
    "# Generating a workspace of randomly placed, intersecting spheres: with the inputs:\n",
    "#  - size of domain in voxels: (200,200,200)\n",
    "#  - diameter of each sphere in voxels: 20\n",
    "#  - porosity of generated material: 0.7\n",
    "ws_generated = puma.generate_random_spheres((200,200,200), 20, 0.7)\n",
    "\n",
    "# The voxel length (in meters) of the workspace defaults to 1 micron (1e-6 m).\n",
    "# To change the voxel length, modify the parameter directly: \n",
    "ws_generated.voxel_length = 1.3e-6\n",
    "\n",
    "# Next we will import an example tomography file of size 200^3 and voxel length 1.3e-6\n",
    "ws_imported = puma.import_3Dtiff(puma.path_to_example_file(\"200_fiberform.tif\"), 1.3e-6)"
   ]
  },
  {
   "cell_type": "markdown",
   "metadata": {},
   "source": [
    "The workspaces above have not been segmented yet. In the case of generated workspace, the generated material has been stored for a grayscale [128,255] and the void phase is stored between [0,127]. The appropriate grayscale cutoff for the imported tomography sample is 90, such that [90,255] is material and [0,89] is the air/void. These values will be different for each tomography image. \n",
    "\n",
    "First, we will generate both volume and contour renderings of the two materials without segmentation. Since we are running the rendering from a jupyter notebook, we need to specify it."
   ]
  },
  {
   "cell_type": "code",
   "execution_count": null,
   "metadata": {},
   "outputs": [],
   "source": [
    "# Generating contour (i.e. isosurface) rendering of the computationally generated material\n",
    "# The grayscale range of the material to be rendered is specified as (128,255) and is inclusive\n",
    "puma.render_contour(ws_generated, cutoff=(128, 255), notebook=True)"
   ]
  },
  {
   "cell_type": "code",
   "execution_count": null,
   "metadata": {},
   "outputs": [],
   "source": [
    "# Generating volume (i.e. voxel) rendering of the computationally generated material\n",
    "puma.render_volume(ws_generated, cutoff=(128, 255), notebook=True)"
   ]
  },
  {
   "cell_type": "code",
   "execution_count": null,
   "metadata": {},
   "outputs": [],
   "source": [
    "# by choosing the \"edges\" style, we can visualize the triangulated surface\n",
    "puma.render_contour(ws_imported, cutoff=(90, 255), notebook=True, style=\"edges\")"
   ]
  },
  {
   "cell_type": "code",
   "execution_count": null,
   "metadata": {},
   "outputs": [],
   "source": [
    "puma.render_volume(ws_imported, cutoff=(90, 255), notebook=True)"
   ]
  },
  {
   "cell_type": "markdown",
   "metadata": {},
   "source": [
    "Next, we will segment the workspaces, such that all void voxels contain an ID of 0 and all solid voxels contain an ID of 1. This could be expanded for multi-phase domains. "
   ]
  },
  {
   "cell_type": "code",
   "execution_count": null,
   "metadata": {},
   "outputs": [],
   "source": [
    "# Setting all grayscale values between 0 and 127, inclusive, to 0\n",
    "ws_generated.set_material_id((0, 127), 0)\n",
    "# Setting all grayscale values between 128 and 255, inclusive, to 1\n",
    "ws_generated.set_material_id((128, 255),1)\n",
    "# The above could also be achieved as: ws_generated.binarize_range((128, 255))\n",
    "\n",
    "# Now on the tomography, we can binarize it using a single threshold as:\n",
    "ws_imported.binarize(89)  # everything above 89 will be set 1, below to 0"
   ]
  },
  {
   "cell_type": "markdown",
   "metadata": {},
   "source": [
    "Now we will generate contour and volume renderings of the segmented files. Note that the grayscale values have changed."
   ]
  },
  {
   "cell_type": "code",
   "execution_count": null,
   "metadata": {},
   "outputs": [],
   "source": [
    "p = pv.Plotter(shape=(1, 2), notebook=True)\n",
    "p.subplot(0, 0)\n",
    "p.add_text(\"Surface\")\n",
    "puma.render_contour(ws_generated, cutoff=(1, 1), notebook=True, add_to_plot=p, plot_directly=False)\n",
    "p.subplot(0, 1)\n",
    "p.add_text(\"Voxels\")\n",
    "puma.render_volume(ws_generated, cutoff=(1, 1), notebook=True, add_to_plot=p, plot_directly=False)\n",
    "p.show()"
   ]
  },
  {
   "cell_type": "code",
   "execution_count": null,
   "metadata": {},
   "outputs": [],
   "source": [
    "p = pv.Plotter(shape=(1, 2), notebook=True)\n",
    "p.subplot(0, 0)\n",
    "p.add_text(\"Surface\")\n",
    "puma.render_contour(ws_imported, cutoff=(1, 1), notebook=True, add_to_plot=p, plot_directly=False)\n",
    "p.subplot(0, 1)\n",
    "p.add_text(\"Voxels\")\n",
    "puma.render_volume(ws_imported, cutoff=(1, 1), notebook=True, add_to_plot=p, plot_directly=False)\n",
    "p.show()"
   ]
  },
  {
   "cell_type": "markdown",
   "metadata": {},
   "source": [
    "Note that the contour renders for the segmented images are significantly less smooth than for the non-segmented images. This is because for segmented images, the triangulation algorithms have significantly less degrees of freedom when assigning triangle angles, resulting in a rougher surface than for non-segmented images. "
   ]
  },
  {
   "cell_type": "markdown",
   "metadata": {
    "pycharm": {
     "name": "#%% md\n"
    }
   },
   "source": [
    "## Tutorial: Generating Random Fiber Structures\n",
    "In this tutorial we demonstrate how to generate a microstructure of random intersecting fibers"
   ]
  },
  {
   "cell_type": "markdown",
   "metadata": {},
   "source": [
    "We generate the fiber structure and store it into the PuMA workspace class. "
   ]
  },
  {
   "cell_type": "code",
   "execution_count": null,
   "metadata": {
    "pycharm": {
     "name": "#%%\n"
    }
   },
   "outputs": [],
   "source": [
    "size = (200, 200, 200)  # size of the domain, in voxels. \n",
    "radius = 8  # radius of the fibers to be generated, in voxels\n",
    "nFibers = None # Can specify either the number of fibers or the porosity\n",
    "porosity = 0.8  # porosity of the overall structure\n",
    "phi = 90 # A value between 0 and 90 that controls the amount that the fibers lie *out of* the XY plane,\n",
    "         # with 0 meaning all fibers lie in the XY plane, and 90 meaning that cylinders are randomly oriented out of the\n",
    "         # plane by as much as +/- 90 degrees.\n",
    "theta = 90 # A value between 0 and 90 that controls the amount of rotation *in the* XY plane,\n",
    "           # with 0 meaning all fibers point in the X-direction, and 90 meaning they are randomly rotated about the\n",
    "           # Z axis by as much as +/- 90 degrees.\n",
    "length = 200 # Length of the fibers to be generated\n",
    "\n",
    "ws_fibers = puma.generate_random_fibers(size, radius, nFibers, porosity, phi, theta, length)"
   ]
  },
  {
   "cell_type": "markdown",
   "metadata": {},
   "source": [
    "The material is now stored in the puma workspace, ws_fibers. By default, the grayscale value of 0 is assigned to the void space and a grayscale value of 1 is assigned to the material. \n",
    "\n",
    "Next we will visualize the domain: "
   ]
  },
  {
   "cell_type": "code",
   "execution_count": null,
   "metadata": {},
   "outputs": [],
   "source": [
    "# visualizing the solid domain\n",
    "puma.render_contour(ws_fibers, cutoff=(1, 1), notebook=True)"
   ]
  },
  {
   "cell_type": "markdown",
   "metadata": {},
   "source": [
    "If you would like to visualize the individual sices, this can be done using the plot_slices function"
   ]
  },
  {
   "cell_type": "code",
   "execution_count": null,
   "metadata": {},
   "outputs": [],
   "source": [
    "puma.plot_slices(ws_fibers)"
   ]
  },
  {
   "cell_type": "markdown",
   "metadata": {
    "pycharm": {
     "name": "#%% md\n"
    }
   },
   "source": [
    "## Tutorial: Generating Random Sphere Structures\n",
    "In this tutorial we demonstrate how to generate a microstructure of random intersecting spheres"
   ]
  },
  {
   "cell_type": "markdown",
   "metadata": {},
   "source": [
    "We generate the sphere structure and store it into the PuMA workspace class. "
   ]
  },
  {
   "cell_type": "code",
   "execution_count": null,
   "metadata": {
    "pycharm": {
     "name": "#%%\n"
    }
   },
   "outputs": [],
   "source": [
    "size = (400, 400, 400)  # size of the domain, in voxels. \n",
    "diameter = 20  # diameter of the spheres to be generated, in voxels\n",
    "porosity = 0.8  # porosity of the overall structure\n",
    "allow_intersections = True # flag on whether to allow intersections between spheres. \n",
    "# Note: If allow_intersections is set to false, it will be significantly slower to generate,\n",
    "#.      and will usually require a fairly high porosity value to be generated\n",
    "\n",
    "ws_spheres = puma.generate_random_spheres(size, diameter, porosity, allow_intersections)"
   ]
  },
  {
   "cell_type": "markdown",
   "metadata": {},
   "source": [
    "The material is now stored in the puma workspace, ws_spheres. By default, the grayscale range of [0,127] corresponds to the void space, and [128,255] contains the material. \n",
    "\n",
    "Next we will visualize the domain: "
   ]
  },
  {
   "cell_type": "code",
   "execution_count": null,
   "metadata": {},
   "outputs": [],
   "source": [
    "# visualizing the solid domain, contained in [128,255] grayscale range. \n",
    "puma.render_contour(ws_spheres, cutoff=(128, 255), notebook=True)"
   ]
  },
  {
   "cell_type": "markdown",
   "metadata": {},
   "source": [
    "If you would like to segment the domain, that can be done using the binarize function, or the set_material_id function. "
   ]
  },
  {
   "cell_type": "code",
   "execution_count": null,
   "metadata": {},
   "outputs": [],
   "source": [
    "ws_spheres_binary = ws_spheres.copy()\n",
    "\n",
    "# binarize(128) sets all grayscale values below 128 to 0, \n",
    "# and all grayscale values above and equal to 128 to 1\n",
    "ws_spheres_binary.binarize(128)\n",
    "\n",
    "puma.compare_slices(ws_spheres, ws_spheres_binary)"
   ]
  },
  {
   "cell_type": "markdown",
   "metadata": {
    "pycharm": {
     "name": "#%% md\n"
    }
   },
   "source": [
    "## Tutorial: Generating Triply Periodic Minimal Surfaces\n",
    "In this tutorial we demonstrate how to generate a TPMS microstructure "
   ]
  },
  {
   "cell_type": "markdown",
   "metadata": {},
   "source": [
    "We generate the TPMS structure. There are three different equations that can be used in the TPMS generator: \n",
    "\n",
    "Equation 0: grayscale value = q + sin(wx)*sin(wy)*sin(wz) + sin(wx)*cos(wy)*cos(wz) + cos(wx)*sin(wy)*cos(wz) + cos(wx)*cos(wy)*sin(wz)\n",
    "\n",
    "Equation 1: grayscale value = q + cos(wx)*sin(wy) + cos(wy)*sin(wz) + cos(wi)*cos(wz)\n",
    "\n",
    "Equation 2: grayscale value = q + cos(wx) + cos(wy) + cos(wz)\n",
    "\n",
    "The values of w and q can either be provided as single values, or as a tuple. If a tuple is used, then the first and second values will be the minimum and maximum values for q and w, and the value will vary linearly between the two along the z-axis.\n",
    "\n",
    "The value of w controls the pore diameter and the value of q controls the porosity"
   ]
  },
  {
   "cell_type": "code",
   "execution_count": null,
   "metadata": {
    "pycharm": {
     "name": "#%%\n"
    }
   },
   "outputs": [],
   "source": [
    "size = (400, 400, 400)  # size of the domain, in voxels. \n",
    "w = 0.08  # value of w in the equations above\n",
    "q = 0.2  # value of q in the equations above\n",
    "\n",
    "ws_eq0 = puma.generate_tpms(size, w, q, equation=0)\n",
    "ws_eq1 = puma.generate_tpms(size, w, q, equation=1)\n",
    "ws_eq2 = puma.generate_tpms(size, w, q, equation=2)"
   ]
  },
  {
   "cell_type": "markdown",
   "metadata": {},
   "source": [
    "The material is now stored in the puma workspace. By default, the grayscale range of [0,127] corresponds to the void space, and [128,255] contains the material. \n",
    "\n",
    "Next we will visualize slices of the domains: "
   ]
  },
  {
   "cell_type": "code",
   "execution_count": null,
   "metadata": {},
   "outputs": [],
   "source": [
    "puma.plot_slices(ws_eq0)"
   ]
  },
  {
   "cell_type": "code",
   "execution_count": null,
   "metadata": {},
   "outputs": [],
   "source": [
    "puma.plot_slices(ws_eq1)"
   ]
  },
  {
   "cell_type": "code",
   "execution_count": null,
   "metadata": {},
   "outputs": [],
   "source": [
    "puma.plot_slices(ws_eq2)"
   ]
  },
  {
   "cell_type": "markdown",
   "metadata": {},
   "source": [
    "Next, we will visualize the 3d Domains. To render the domain, the grayscale range corresponding to the material must be specified. In this case, the range of [128,255] corresponds to the material. "
   ]
  },
  {
   "cell_type": "code",
   "execution_count": null,
   "metadata": {},
   "outputs": [],
   "source": [
    "puma.render_contour(ws_eq0, cutoff=(128, 255), notebook=True)"
   ]
  },
  {
   "cell_type": "code",
   "execution_count": null,
   "metadata": {},
   "outputs": [],
   "source": [
    "puma.render_contour(ws_eq1, cutoff=(128, 255), notebook=True)"
   ]
  },
  {
   "cell_type": "code",
   "execution_count": null,
   "metadata": {},
   "outputs": [],
   "source": [
    "puma.render_contour(ws_eq2, cutoff=(128, 255), notebook=True)"
   ]
  },
  {
   "cell_type": "markdown",
   "metadata": {},
   "source": [
    "If you would like to segment the domain, that can be done using the binarize function, or the set_material_id function. "
   ]
  },
  {
   "cell_type": "code",
   "execution_count": null,
   "metadata": {},
   "outputs": [],
   "source": [
    "# binarize(128) sets all grayscale values below 128 to 0, and all grayscale values above and equal to 128 to 1\n",
    "ws_eq0.binarize(128)\n",
    "ws_eq1.binarize(128)\n",
    "ws_eq2.binarize(128)"
   ]
  },
  {
   "cell_type": "code",
   "execution_count": null,
   "metadata": {},
   "outputs": [],
   "source": [
    "puma.plot_slices(ws_eq0)"
   ]
  },
  {
   "cell_type": "code",
   "execution_count": null,
   "metadata": {},
   "outputs": [],
   "source": [
    "puma.plot_slices(ws_eq1)"
   ]
  },
  {
   "cell_type": "code",
   "execution_count": null,
   "metadata": {},
   "outputs": [],
   "source": [
    "puma.plot_slices(ws_eq2)"
   ]
  },
  {
   "cell_type": "markdown",
   "metadata": {},
   "source": [
    "## Tutorial: Weaves\n",
    "In this tutorial we demonstrate the creation of weaves using TexGen and how to import them into pumapy. TexGen python scrips can be simply obtained by either following TexGen tutorials https://github.com/louisepb/TexGenScriptingGuide or by recording the actions in the TexGen GUI (of which there are already\n",
    "bundled executables for Windows at https://sourceforge.net/projects/texgen/files/). \n",
    "\n",
    "Let's start by creating a simple LayerToLayer weave using a TexGen python script. "
   ]
  },
  {
   "cell_type": "code",
   "execution_count": null,
   "metadata": {},
   "outputs": [],
   "source": [
    "NumBinderLayers = 2 \n",
    "NumXYarns = 3 \n",
    "NumYYarns = 4 \n",
    "XSpacing = 1.0\n",
    "YSpacing = 1.0 \n",
    "XHeight = 0.2 \n",
    "YHeight = 0.2 \n",
    "weave = CTextileLayerToLayer(NumXYarns, NumYYarns, XSpacing, YSpacing, XHeight, YHeight, NumBinderLayers)\n",
    "\n",
    "#set number of binder / warp yarns\n",
    "NumBinderYarns = 2\n",
    "NumWarpYarns = NumXYarns - NumBinderYarns\n",
    "weave.SetWarpRatio(NumWarpYarns)\n",
    "weave.SetBinderRatio(NumBinderYarns)\n",
    "\n",
    "#setup layers: 3 warp, 4 weft\n",
    "weave.SetupLayers( 3, 4, NumBinderLayers)\n",
    "\n",
    "#set yarn dimensions: widths / heights\n",
    "weave.SetYYarnWidths(0.8)\n",
    "weave.SetYYarnWidths(0.8)\n",
    "weave.SetBinderYarnWidths(0.4)\n",
    "weave.SetBinderYarnHeights(0.1)\n",
    "\n",
    "#define offsets for the two binder yarns\n",
    "P = [[0, 1, 3, 0],[3, 0, 0, 3]]\n",
    "\n",
    "#assign the z-positions to the binder yarns\n",
    "for y in range(NumWarpYarns,NumXYarns): #loop through number of binder yarns\n",
    "\toffset = 0 \n",
    "\tfor x in range(NumYYarns): #loop through the node positions\t\n",
    "\t\tweave.SetBinderPosition(x, y, P[y-NumWarpYarns][offset])\n",
    "\t\toffset += 1"
   ]
  },
  {
   "cell_type": "markdown",
   "metadata": {},
   "source": [
    "Next we create the domain, i.e. the lengths of the box containing the weave. In this case we will let TexGen figure it out automatically using the AssignDefaultDomain function:"
   ]
  },
  {
   "cell_type": "code",
   "execution_count": null,
   "metadata": {},
   "outputs": [],
   "source": [
    "weave.AssignDefaultDomain()\n",
    "domain = weave.GetDefaultDomain()"
   ]
  },
  {
   "cell_type": "markdown",
   "metadata": {},
   "source": [
    "Now we need to specify a folder to export our TexGen weave"
   ]
  },
  {
   "cell_type": "code",
   "execution_count": null,
   "metadata": {},
   "outputs": [],
   "source": [
    "export_path = \"out\"  # CHANGE THIS PATH\n",
    "\n",
    "if not os.path.exists(export_path):\n",
    "    os.makedirs(export_path)"
   ]
  },
  {
   "cell_type": "markdown",
   "metadata": {},
   "source": [
    "Then, we pass the weave and the domain to the PuMApy exporter, which creates the voxel grid and exports it to the specified directory (expensive step ~1.5-2 mins):"
   ]
  },
  {
   "cell_type": "code",
   "execution_count": null,
   "metadata": {},
   "outputs": [],
   "source": [
    "puma.export_weave_vtu(os.path.join(export_path, \"weavetest\"), weave, domain, 200)"
   ]
  },
  {
   "cell_type": "markdown",
   "metadata": {},
   "source": [
    "This can be then read back into a pumapy.Workspace:"
   ]
  },
  {
   "cell_type": "code",
   "execution_count": null,
   "metadata": {},
   "outputs": [],
   "source": [
    "ws = puma.import_weave_vtu(os.path.join(export_path, \"weavetest_200\"))"
   ]
  },
  {
   "cell_type": "markdown",
   "metadata": {},
   "source": [
    "And we can volume render it:"
   ]
  },
  {
   "cell_type": "code",
   "execution_count": null,
   "metadata": {
    "scrolled": true
   },
   "outputs": [],
   "source": [
    "puma.render_volume(ws, cutoff=(1, ws.matrix.max()), solid_color=None, notebook=True, cmap='jet')"
   ]
  },
  {
   "cell_type": "markdown",
   "metadata": {
    "pycharm": {
     "name": "#%% md\n"
    }
   },
   "source": [
    "## Tutorial: STL generation and output\n",
    "\n",
    "In this tutorial, we will generate a water-tight STL file, visualize the STL, and output to file\n",
    "\n",
    "The pumapy STL generation uses the Lewiner marching cubes implementation from scikit-image. The C++ version of PuMA also includes an implementation of the original and Lewiner marching cubes. \n",
    "\n",
    "The Lewiner marching cubes method is used to generate STLs because the surface is guaranteed to be topologically correct (i.e watertight). The original marching cubes is suitable for visualization purposes, but had ambiguitites that resulted in small holes in the surface mesh. "
   ]
  },
  {
   "cell_type": "markdown",
   "metadata": {},
   "source": [
    "We must either import or generate a material. Here we will import a material. If you prefer to generate a material instead, refer to the material generation tutorials. "
   ]
  },
  {
   "cell_type": "code",
   "execution_count": null,
   "metadata": {
    "pycharm": {
     "name": "#%%\n"
    }
   },
   "outputs": [],
   "source": [
    "# Next we will import an example tomography file of size 200^3 and voxel length 1.3e-6\n",
    "ws_imported = puma.import_3Dtiff(puma.path_to_example_file(\"200_fiberform.tif\"), 1.3e-6)"
   ]
  },
  {
   "cell_type": "markdown",
   "metadata": {},
   "source": [
    "The workspace above has not been segmented yet. In the case of generated workspaces, the generated material is typically stored for a grayscale [128,255] and the void phase is stored between [0,127]. \n",
    "\n",
    "In this case, the appropriate grayscale cutoff for the imported tomography sample is 90, such that [90,255] is material and [0,89] is the void. These values will be different for each tomography image. \n",
    "\n",
    "It is usually better to generate an STL based on a non-segmented material. This is because the segmentation process removes most of the information defining the surface from the tomography data. As an illustration, the code below will visualze the segmented and non-segmented versions of the imported tomography file. "
   ]
  },
  {
   "cell_type": "code",
   "execution_count": null,
   "metadata": {},
   "outputs": [],
   "source": [
    "ws_segmented = ws_imported.copy()\n",
    "ws_segmented.binarize(90)"
   ]
  },
  {
   "cell_type": "code",
   "execution_count": null,
   "metadata": {},
   "outputs": [],
   "source": [
    "p = pv.Plotter(shape=(1, 2), notebook=True)\n",
    "p.subplot(0, 0)\n",
    "p.add_text(\"Raw grayscales\")\n",
    "puma.render_volume(ws_imported, notebook=True, add_to_plot=p, plot_directly=False)\n",
    "p.subplot(0, 1)\n",
    "p.add_text(\"Segmented\")\n",
    "puma.render_volume(ws_segmented, notebook=True, add_to_plot=p, plot_directly=False)\n",
    "p.update_scalar_bar_range(1)\n",
    "p.show()"
   ]
  },
  {
   "cell_type": "code",
   "execution_count": null,
   "metadata": {},
   "outputs": [],
   "source": [
    "p = pv.Plotter(shape=(1, 2), notebook=True)\n",
    "p.subplot(0, 0)\n",
    "p.add_text(\"Raw grayscales\")\n",
    "puma.render_contour(ws_imported, cutoff=(90, 255), notebook=True, add_to_plot=p, plot_directly=False)\n",
    "p.subplot(0, 1)\n",
    "p.add_text(\"Segmented\")\n",
    "puma.render_contour(ws_segmented, cutoff=(1, 1), notebook=True, add_to_plot=p, plot_directly=False)\n",
    "p.show()"
   ]
  },
  {
   "cell_type": "markdown",
   "metadata": {},
   "source": [
    "As you can see, the non-segmented image provides a far superior surface representation. Because of this, we will use the non-segmented material for the STL generation. \n",
    "\n",
    "In order to output an STL, one must simply call the puma.export_stl function, as shown below:"
   ]
  },
  {
   "cell_type": "markdown",
   "metadata": {},
   "source": [
    "Let's now export the STL. We need to first specify a path:"
   ]
  },
  {
   "cell_type": "code",
   "execution_count": null,
   "metadata": {},
   "outputs": [],
   "source": [
    "export_path = \"out\"  # CHANGE THIS PATH\n",
    "\n",
    "if not os.path.exists(export_path):\n",
    "    os.makedirs(export_path)"
   ]
  },
  {
   "cell_type": "code",
   "execution_count": null,
   "metadata": {},
   "outputs": [],
   "source": [
    "filename = \"FiberForm-nonsegmented.stl\"\n",
    "cutoff = (90,255)  # tuple containing the grayscale range of the material to be exported\n",
    "flag_closed_edges = True  # flag for whether to cap the regions of the material that intersect with the domain boundary\n",
    "\n",
    "puma.export_stl(os.path.join(export_path, filename), ws_imported, cutoff, flag_closed_edges)"
   ]
  },
  {
   "cell_type": "markdown",
   "metadata": {},
   "source": [
    "If you have no choice but to use a segmented image to export an stl, the flag_gauissian option can be set to True, which will apply a Gaussian blur to the image prior to running the marching cubes algorithm. This will make the surface appear more smooth, but will also blur out any sharp features that may be present in the actual microstructure. "
   ]
  },
  {
   "cell_type": "code",
   "execution_count": null,
   "metadata": {},
   "outputs": [],
   "source": [
    "filename = \"FiberForm-segmented.stl\"\n",
    "cutoff = (1,1)  # tuple containing the grayscale range of the material to be exported\n",
    "flag_closed_edges = True  # flag for whether to cap the regions of the material that intersect with the domain boundary\n",
    "\n",
    "puma.export_stl(os.path.join(export_path, filename), ws_segmented, cutoff, flag_closed_edges, flag_gaussian=False)\n",
    "\n",
    "filename = \"FiberForm-segmented-gaussian.stl\"\n",
    "puma.export_stl(os.path.join(export_path, filename), ws_segmented, cutoff, flag_closed_edges, flag_gaussian=True)"
   ]
  },
  {
   "cell_type": "markdown",
   "metadata": {},
   "source": [
    "The STLs can be imported into other software for simulation or visualization purposes"
   ]
  },
  {
   "cell_type": "markdown",
   "metadata": {
    "pycharm": {
     "name": "#%% md\n"
    }
   },
   "source": [
    "## Tutorial: Calculating Surface Area\n",
    "In this tutorial we demonstrate how to calculate the surface area of a microstructure"
   ]
  },
  {
   "cell_type": "markdown",
   "metadata": {},
   "source": [
    "We import or generate the microstructure"
   ]
  },
  {
   "cell_type": "code",
   "execution_count": null,
   "metadata": {
    "pycharm": {
     "name": "#%%\n"
    }
   },
   "outputs": [],
   "source": [
    "ws_fiberform = puma.import_3Dtiff(puma.path_to_example_file(\"200_fiberform.tif\"), 1.3e-6)"
   ]
  },
  {
   "cell_type": "markdown",
   "metadata": {},
   "source": [
    "The calculation of the surface area requires the value for the voxel length to be set. The voxel length can be set during import, as shown above. The voxel length can also be set for the workspace directly, as shown below: "
   ]
  },
  {
   "cell_type": "code",
   "execution_count": null,
   "metadata": {},
   "outputs": [],
   "source": [
    "ws_fiberform.voxel_length = 1.3e-6  # setting the voxel length in meters"
   ]
  },
  {
   "cell_type": "markdown",
   "metadata": {},
   "source": [
    "For an accurate calculation of the surface area, it is recommended to use an unsegmented domain. In a segmented domain, each phase is defined by a single grayscale value (i.e. 0 for void and 1 for solid). In an unsegmented domain, the material phases are specified by a range of grayscale value. In the case of the imported tomography, the void range is [0,89] and the solid range is [90,255], as shown by the plotted slice below: "
   ]
  },
  {
   "cell_type": "code",
   "execution_count": null,
   "metadata": {},
   "outputs": [],
   "source": [
    "puma.plot_slices(ws_fiberform)"
   ]
  },
  {
   "cell_type": "markdown",
   "metadata": {},
   "source": [
    "An unsegmented domain is recommended because the surface are relies on the marching cubes triangulation of the isosurface, which is much more accurate for an unsegmented domain than a segmented domain. \n",
    "\n",
    "To calculate the surface area, we use the puma.compute_surface_area function: The function returns both the raw area and the specific surface area. The specific surface area is the more often used quantity, and defines the surface area divided by the volume of the domain, with units of 1/m. "
   ]
  },
  {
   "cell_type": "code",
   "execution_count": null,
   "metadata": {},
   "outputs": [],
   "source": [
    "cutoff = (90, 255)  # specifying the grayscale range of the phase of interest\n",
    "\n",
    "area_us, specific_area_us = puma.compute_surface_area(ws_fiberform, cutoff)\n",
    "print(\"Unsegmented:\",area_us,specific_area_us)"
   ]
  },
  {
   "cell_type": "markdown",
   "metadata": {},
   "source": [
    "If a segmented image must be used, a Gaussian blur can be utilized to help smooth out the triangulation for the surface area calculation. Note, however, that this blurring would smear any sharp features present in the microstrucutre. It is more appropriate for segmented images of microstrucutres with smooth features. As an example, the above domain is segmented and the surface area calculated with and without the Gaussian blur. "
   ]
  },
  {
   "cell_type": "code",
   "execution_count": null,
   "metadata": {},
   "outputs": [],
   "source": [
    "ws_fiberform.binarize(90)  # segmenting the domain. [0,89] --> 0 and [90,255] --> 1\n",
    "cutoff = (1, 1)  # updating the cutoff now that the domain is segmented\n",
    "\n",
    "area, specific_area = puma.compute_surface_area(ws_fiberform, cutoff, flag_gaussian=False)\n",
    "print(\"Segmented:\",area,specific_area)\n",
    "print(\"Percent Error: \", (specific_area - specific_area_us)/specific_area_us * 100.)\n",
    "\n",
    "area, specific_area = puma.compute_surface_area(ws_fiberform, cutoff, flag_gaussian=True)\n",
    "print(\"Segmented Gaussian:\",area,specific_area)\n",
    "print(\"Percent Error: \", (specific_area - specific_area_us)/specific_area_us * 100.)"
   ]
  },
  {
   "cell_type": "markdown",
   "metadata": {
    "pycharm": {
     "name": "#%% md\n"
    }
   },
   "source": [
    "## Tutorial: Thermal Conductivity\n",
    "In this tutorial we demonstrate how to compute the effective thermal conductivity of a material based on its microstructure and constituent properties. In this example, we compute the thermal conductivity of FiberForm, a carbon fiber based material. \n",
    "\n",
    "Note: The sample size used in this example is very small, well below the size needed for a representative volume of the sample. "
   ]
  },
  {
   "cell_type": "markdown",
   "metadata": {},
   "source": [
    "### Isotropic conductivity"
   ]
  },
  {
   "cell_type": "markdown",
   "metadata": {},
   "source": [
    "We will show a thermal conductivity simulation based on a non-segmented representation of the material. In the example material used, the void phase is contained in grayscale range [0,89] and the solid phase is contained in the grayscale range of [90,255]. This range varies for each tomography sample.\n",
    "\n",
    "The outputs of the thermal conductivity simulation are the effective thermal conductivity tensor, the steady state temperature profile, and the steady state heat flux. "
   ]
  },
  {
   "cell_type": "code",
   "execution_count": null,
   "metadata": {
    "pycharm": {
     "name": "#%%\n"
    }
   },
   "outputs": [],
   "source": [
    "# Import an example tomography file of size 200^3 and voxel length 1.3e-6\n",
    "ws_fiberform = puma.import_3Dtiff(puma.path_to_example_file(\"200_fiberform.tif\"), 1.3e-6)\n",
    "\n",
    "# Cropping the 200x200x200 image into a 100x100x100 sample\n",
    "ws_fiberform.matrix = ws_fiberform.matrix[50:150, 50:150, 50:150]\n",
    "\n",
    "# Generating a conductivity map. This stores the conductivity values for each phase of the material\n",
    "cond_map = puma.IsotropicConductivityMap()\n",
    "# First, we set the conductivity of the void phase to be 0.0257 (air at STP)\n",
    "cond_map.add_material((0, 89), 0.0257)\n",
    "# Next we set the conductivity of the solid phase to be 12 (typical value for carbon fiber)\n",
    "cond_map.add_material((90, 255), 12)\n",
    "\n",
    "# The thermal conductivity calculation needs to be run for each of the three simulation directions. \n",
    "# For each simulation, a temperature gradient is forced in the simulation direction, and converged to steady state\n",
    "\n",
    "# Simulation inputs: \n",
    "#.  1. workspace - the computational domain for the simulation, containing your material microstructure\n",
    "#.  2. cond_map - the conductivity values for each material phase\n",
    "#.  3. direction - the simulation direction, 'x', 'y', or 'z'\n",
    "#.  4. side_bc - boundary condition in the non-simulation direction. Can be 'p' - periodic, 's' - symmetric, 'd' - dirichlet\n",
    "#.  5. tolerance - accuracy of the numerical solver, defaults to 1e-4. \n",
    "#.  6. maxiter - maximum number of iterations, defaults to 10,000\n",
    "#.  7. solver_type - the iterative solver used. Can be 'bicgstab', 'cg', 'gmres', or 'direct'. Defaults to 'bicgstab'\n",
    "\n",
    "k_eff_x, T_x, q_x = puma.compute_thermal_conductivity(ws_fiberform, cond_map, 'x', 's', tolerance=1e-2, solver_type='cg')\n",
    "\n",
    "print(\"Effective thermal conductivity tensor:\")\n",
    "print(k_eff_x)"
   ]
  },
  {
   "cell_type": "code",
   "execution_count": null,
   "metadata": {},
   "outputs": [],
   "source": [
    "# Visualizing one slice of the temperature field: \n",
    "# puma.render_volume(T_x, solid_color=None, notebook=True, cmap='jet')\n",
    "\n",
    "p = pv.Plotter(notebook=True)\n",
    "p.add_text(\"Fibers with Temperature field for x simulation\")\n",
    "puma.render_contour(ws_fiberform, cutoff=(90, 255), notebook=True, add_to_plot=p, plot_directly=False)\n",
    "puma.render_volume(T_x[:, :2*T_x.shape[1]//3], solid_color=None, cmap='jet', notebook=True, add_to_plot=p, plot_directly=False)\n",
    "p.show()"
   ]
  },
  {
   "cell_type": "code",
   "execution_count": null,
   "metadata": {},
   "outputs": [],
   "source": [
    "# Visualizing the flux magnitude: \n",
    "puma.render_volume(np.linalg.norm(q_x, axis=3), notebook=True, cmap='jet')"
   ]
  },
  {
   "cell_type": "markdown",
   "metadata": {},
   "source": [
    "Below is an example of a thermal conductivity simulation along the y axis, but now performed on a segmented image in order to show an alternative option."
   ]
  },
  {
   "cell_type": "code",
   "execution_count": null,
   "metadata": {},
   "outputs": [],
   "source": [
    "# Segments the image. All values >= 90 are set to 1, and all values <90 are set to 0.\n",
    "ws_fiberform.binarize(90)\n",
    "\n",
    "# Generating a conductivity map. This stores the conductivity values for each phase of the material\n",
    "cond_map = puma.IsotropicConductivityMap()\n",
    "# First, we set the conductivity of the void phase to be 0.0257 (air at STP)\n",
    "cond_map.add_material((0, 0), 0.0257)\n",
    "# Next we set the conductivity of the solid phase to be 12 (typical value for carbon fiber)\n",
    "cond_map.add_material((1, 1), 12)\n",
    "# Note that the grayscale ranges have changed relative to the last example, since this image is already segmented\n",
    "\n",
    "# The thermal conductivity calculation needs to be run for each of the three simulation directions. \n",
    "# For each simulation, a temperature gradient is forced in the simulation direction, and converged to steady state\n",
    "\n",
    "# Simulation inputs: \n",
    "#.  1. workspace - the computational domain for the simulation, containing your material microstructure\n",
    "#.  2. cond_map - the conductivity values for each material phase\n",
    "#.  3. direction - the simulation direction, 'x', 'y', or 'z'\n",
    "#.  4. side_bc - boundary condition in the non-simulation direction. Can be 'p' - periodic, 's' - symmetric, 'd' - dirichlet\n",
    "#.  5. tolerance (optional) - accuracy of the numerical solver, defaults to 1e-4. \n",
    "#.  6. maxiter (optional) - maximum number of iterations, defaults to 10,000\n",
    "#.  7. solver_type (optional) - the iterative solver used. Can be 'bicgstab', 'cg', 'gmres', or 'direct'. Defaults to 'bicgstab'\n",
    "\n",
    "k_eff_y, T_y, q_y = puma.compute_thermal_conductivity(ws_fiberform, cond_map, 'y', 's', tolerance=1e-2, solver_type='cg')\n",
    "\n",
    "print(\"Effective thermal conductivity tensor:\")\n",
    "print(k_eff_y)"
   ]
  },
  {
   "cell_type": "code",
   "execution_count": null,
   "metadata": {},
   "outputs": [],
   "source": [
    "# Visualizing the temperature field: \n",
    "puma.render_volume(T_y, solid_color=None, notebook=True, cmap='jet')"
   ]
  },
  {
   "cell_type": "code",
   "execution_count": null,
   "metadata": {},
   "outputs": [],
   "source": [
    "# Visualizing the flux magnitude: \n",
    "puma.render_volume(np.linalg.norm(q_y, axis=3), notebook=True, cmap='jet')"
   ]
  },
  {
   "cell_type": "markdown",
   "metadata": {},
   "source": [
    "### Anisotropic conductivity\n",
    "Next we show how to compute the conductivity if the constituent phases are anisotropic themselves. This solver is significantly slower because of the higher complexity of the numerical scheme used, namely the Multi-Point Flux Approximation (MPFA). For this reason, we scale the domain by half in order to keep the runtime reasonable."
   ]
  },
  {
   "cell_type": "code",
   "execution_count": null,
   "metadata": {},
   "outputs": [],
   "source": [
    "# Import an example tomography file of size 100^3 and voxel length 1.3e-6\n",
    "ws_fiberform = puma.import_3Dtiff(puma.path_to_example_file(\"200_fiberform.tif\"), 1.3e-6)\n",
    "ws_fiberform.rescale(0.5, False)\n",
    "\n",
    "# detect the fiber orientation using the Structure Tensor\n",
    "puma.compute_orientation_st(ws_fiberform, sigma=1.4, rho=0.7, cutoff=(90, 255))"
   ]
  },
  {
   "cell_type": "code",
   "execution_count": null,
   "metadata": {},
   "outputs": [],
   "source": [
    "# visualize the detected orientation field\n",
    "puma.render_orientation(ws_fiberform, notebook=True)"
   ]
  },
  {
   "cell_type": "code",
   "execution_count": null,
   "metadata": {},
   "outputs": [],
   "source": [
    "# Generating a conductivity map. This stores the conductivity values for each phase of the material\n",
    "cond_map = puma.AnisotropicConductivityMap()\n",
    "# First, we set the conductivity of the void phase to be 0.0257 (air at STP)\n",
    "cond_map.add_isotropic_material((0, 89), 0.0257)\n",
    "# Next we set the conductivity of the fiber phase to be 12 along the fiber and 0.7 across it\n",
    "cond_map.add_material_to_orient((90, 255), 12., 0.7)\n",
    "\n",
    "# Simulation inputs: \n",
    "#.  1. workspace - the computational domain for the simulation, containing your material microstructure\n",
    "#.  2. cond_map - the conductivity values for each material phase\n",
    "#.  3. direction - the simulation direction, 'x', 'y', or 'z'\n",
    "#.  4. side_bc - boundary condition in the non-simulation direction. Can be 'p' - periodic, 's' - symmetric, 'd' - dirichlet\n",
    "#.  5. tolerance (optional) - accuracy of the numerical solver, defaults to 1e-4. \n",
    "#.  6. maxiter (optional) - maximum number of iterations, defaults to 10,000\n",
    "#.  7. solver_type (optional) - the iterative solver used. Can be 'bicgstab', 'cg', 'gmres', or 'direct'. Defaults to 'bicgstab'\n",
    "\n",
    "# When an anisotropic conductivity is fed, the solver automatically uses the MPFA finite volume method\n",
    "k_eff_z, T_z, q_z = puma.compute_thermal_conductivity(ws_fiberform, cond_map, 'z', 's')\n",
    "\n",
    "print(\"Effective thermal conductivity tensor:\")\n",
    "print(k_eff_z)"
   ]
  },
  {
   "cell_type": "markdown",
   "metadata": {},
   "source": [
    "If the local phases are isotropic, the anisotropic solver can still be used (although it would not be convenient because slower). As proof that the two solvers are actually giving the same answer, we could run the following case, in which we compute the orientation and then set the same conductivity to both the conductivity components (i.e. along and across a fiber):"
   ]
  },
  {
   "cell_type": "code",
   "execution_count": null,
   "metadata": {},
   "outputs": [],
   "source": [
    "ws_fiberform = puma.import_3Dtiff(puma.path_to_example_file(\"200_fiberform.tif\"), 1.3e-6)\n",
    "ws_fiberform.rescale(0.5, segmented=False)\n",
    "\n",
    "cond_map = puma.IsotropicConductivityMap()\n",
    "cond_map.add_material((0, 89), 0.0257)\n",
    "cond_map.add_material((90, 255), 12)\n",
    "\n",
    "print(\"\\nIsotropic solver\")\n",
    "k_eff_x, T_x, q_x = puma.compute_thermal_conductivity(ws_fiberform, cond_map, 'x', 's', tolerance=1e-2)\n",
    "k_eff_y, T_y, q_y = puma.compute_thermal_conductivity(ws_fiberform, cond_map, 'y', 's', tolerance=1e-2)\n",
    "k_eff_z, T_z, q_z = puma.compute_thermal_conductivity(ws_fiberform, cond_map, 'z', 's', tolerance=1e-2)\n",
    "\n",
    "puma.compute_orientation_st(ws_fiberform, sigma=1.4, rho=0.7, cutoff=(90, 255))\n",
    "\n",
    "cond_map = puma.AnisotropicConductivityMap()\n",
    "cond_map.add_isotropic_material((0, 89), 0.0257)\n",
    "cond_map.add_material_to_orient((90, 255), 12., 12)\n",
    "\n",
    "print(\"\\nAnisotropic solver\")\n",
    "k_eff_x_ani, T_x_ani, q_x_ani = puma.compute_thermal_conductivity(ws_fiberform, cond_map, 'x', 's', tolerance=1e-2)\n",
    "k_eff_y_ani, T_y_ani, q_y_ani = puma.compute_thermal_conductivity(ws_fiberform, cond_map, 'y', 's', tolerance=1e-2)\n",
    "k_eff_z_ani, T_z_ani, q_z_ani = puma.compute_thermal_conductivity(ws_fiberform, cond_map, 'z', 's', tolerance=1e-2)\n",
    "\n",
    "print(\"\\nEffective conductivity using isotropic solver\")\n",
    "print(np.round(k_eff_x, 5))\n",
    "print(np.round(k_eff_y, 5))\n",
    "print(np.round(k_eff_z, 5))\n",
    "\n",
    "print(\"\\nEffective conductivity using anisotropic solver\")\n",
    "print(np.round(k_eff_x_ani, 5))\n",
    "print(np.round(k_eff_y_ani, 5))\n",
    "print(np.round(k_eff_z_ani, 5))"
   ]
  },
  {
   "cell_type": "markdown",
   "metadata": {},
   "source": [
    "As you can see, the tensors that have been estimated are very similar. The slight differences are coming from the high tolerance that was "
   ]
  },
  {
   "cell_type": "markdown",
   "metadata": {
    "pycharm": {
     "name": "#%% md\n"
    }
   },
   "source": [
    "## Tutorial: Continuum Tortuosity\n",
    "In this tutorial we demonstrate how to compute the continuum tortuosity factors of a material based on its microstructure and constituent properties. In this example, we compute the continuum tortuosity of FiberForm, a carbon fiber based material. \n",
    "\n",
    "Note: the rarified tortuosity factors are not available in pumapy, but are available in the PuMA C++ library.\n",
    "\n",
    "Note: the sample size used in this example is very small, well below the size needed for a representative volume of the sample. "
   ]
  },
  {
   "cell_type": "markdown",
   "metadata": {},
   "source": [
    "We will show a continuum tortuosity simulation based on a non-segmented representation of the material. In the example material used, the void phase is contained in grayscale range [0,89] and the solid phase is contained in the grayscale range of [90,255]. This range varies for each tomography sample.\n",
    "\n",
    "The outputs of the continuum tortuosity simulation are the continuum tortuosity factors, the effective diffusivity, the porosity, and the steady state concentration profile"
   ]
  },
  {
   "cell_type": "code",
   "execution_count": null,
   "metadata": {
    "pycharm": {
     "name": "#%%\n"
    }
   },
   "outputs": [],
   "source": [
    "# Import an example tomography file of size 200^3 and voxel length 1.3e-6\n",
    "ws_fiberform = puma.import_3Dtiff(puma.path_to_example_file(\"200_fiberform.tif\"), 1.3e-6)\n",
    "\n",
    "# The tortuosity calculation needs to be run for each of the three simulation directions. \n",
    "# For each simulation, a concentration gradient is forced in the simulation direction, and converged to steady state\n",
    "\n",
    "# Simulation inputs: \n",
    "#.  1. workspace - the computational domain for the simulation, containing your material microstructure\n",
    "#.  2. cutoff - the grayscale values for the void phase. [0,89] for this tomography sample\n",
    "#.  3. direction - the simulation direction, 'x', 'y', or 'z'\n",
    "#.  4. side_bc - boundary condition in the non-simulation direction. Can be 'p' - periodic, 's' - symmetric, 'd' - dirichlet\n",
    "#.  5. tolerance - accuracy of the numerical solver, defaults to 1e-4. \n",
    "#.  6. maxiter - maximum number of iterations, defaults to 10,000\n",
    "#.  7. solver_type - the iterative solver used. Can be 'bicgstab', 'cg', 'gmres', or 'direct'. Defaults to 'bicgstab'\n",
    "\n",
    "n_eff_x, Deff_x, poro, C_x = puma.compute_continuum_tortuosity(ws_fiberform, (0,89), 'x', side_bc='s', tolerance=1e-2, solver_type='cg')\n",
    "n_eff_y, Deff_y, poro, C_y = puma.compute_continuum_tortuosity(ws_fiberform, (0,89), 'y', side_bc='s', tolerance=1e-2, solver_type='cg')\n",
    "n_eff_z, Deff_z, poro, C_z = puma.compute_continuum_tortuosity(ws_fiberform, (0,89), 'z', side_bc='s', tolerance=1e-2, solver_type='cg')\n",
    "\n",
    "print(\"\\nEffective tortuosity factors:\")\n",
    "print(n_eff_x)\n",
    "print(n_eff_y)\n",
    "print(n_eff_z)\n",
    "\n",
    "print(\"Porosity of the material:\", poro)"
   ]
  },
  {
   "cell_type": "code",
   "execution_count": null,
   "metadata": {},
   "outputs": [],
   "source": [
    "# Visualizing the Concentration field: \n",
    "puma.render_volume(C_x, solid_color=None, notebook=True, cmap='jet')"
   ]
  },
  {
   "cell_type": "markdown",
   "metadata": {},
   "source": [
    "Below is an example of the exact same continuum tortuosity simulation, but now performed on a segmented image. If done correctly, both should produce identical results. "
   ]
  },
  {
   "cell_type": "code",
   "execution_count": null,
   "metadata": {},
   "outputs": [],
   "source": [
    "# Segments the image. All values >= 90 are set to 1, and all values <90 are set to 0\n",
    "ws_fiberform.binarize(90)\n",
    "\n",
    "# Simulation inputs: \n",
    "#.  1. workspace - the computational domain for the simulation, containing your material microstructure\n",
    "#.  2. cutoff - the grayscale values for the void phase. [0,89] for this tomography sample\n",
    "#.  3. direction - the simulation direction, 'x', 'y', or 'z'\n",
    "#.  4. side_bc - boundary condition in the non-simulation direction. Can be 'p' - periodic, 's' - symmetric, 'd' - dirichlet\n",
    "#.  5. tolerance - accuracy of the numerical solver, defaults to 1e-4. \n",
    "#.  6. maxiter - maximum number of iterations, defaults to 10,000\n",
    "#.  7. solver_type - the iterative solver used. Can be 'bicgstab', 'cg', 'gmres', or 'direct'. Defaults to 'bicgstab'\n",
    "\n",
    "n_eff_x, Deff_x, poro, C_x = puma.compute_continuum_tortuosity(ws_fiberform, (0,0), 'x', side_bc='s', tolerance=1e-2, solver_type='cg')\n",
    "n_eff_y, Deff_y, poro, C_y = puma.compute_continuum_tortuosity(ws_fiberform, (0,0), 'y', side_bc='s', tolerance=1e-2, solver_type='cg')\n",
    "n_eff_z, Deff_z, poro, C_z = puma.compute_continuum_tortuosity(ws_fiberform, (0,0), 'z', side_bc='s', tolerance=1e-2, solver_type='cg')\n",
    "\n",
    "print(\"\\nEffective tortuosity factors:\")\n",
    "print(n_eff_x)\n",
    "print(n_eff_y)\n",
    "print(n_eff_z)\n",
    "\n",
    "print(\"Porosity of the material:\", poro)"
   ]
  },
  {
   "cell_type": "code",
   "execution_count": null,
   "metadata": {},
   "outputs": [],
   "source": [
    "# Visualizing the Concentration field: \n",
    "puma.render_volume(C_x, solid_color=None, notebook=True, cmap='jet')"
   ]
  },
  {
   "cell_type": "markdown",
   "metadata": {},
   "source": [
    "## Tutorial: Elasticity\n",
    "In this tutorial we demonstrate the use of the compute_elasticity and compute_stress_analysis functions. These functions rely on a stress analysis solver that uses the finite volume Multi-Point Stress Approximation (MPSA) method."
   ]
  },
  {
   "cell_type": "markdown",
   "metadata": {},
   "source": [
    "We will run four different verification cases. Change the path of the file outputs:"
   ]
  },
  {
   "cell_type": "code",
   "execution_count": null,
   "metadata": {},
   "outputs": [],
   "source": [
    "export_path = \"out\"  # CHANGE THIS PATH\n",
    "\n",
    "if not os.path.exists(export_path):\n",
    "    os.makedirs(export_path)"
   ]
  },
  {
   "cell_type": "markdown",
   "metadata": {},
   "source": [
    "### Example 1: harmonic averaging, in series along x with free sides\n",
    "\n",
    "The first example that we run is for a block of material split into two phases with different properties."
   ]
  },
  {
   "cell_type": "code",
   "execution_count": null,
   "metadata": {},
   "outputs": [],
   "source": [
    "export_name = 'halfmat'\n",
    "X = 20\n",
    "Y = 20\n",
    "Z = 20\n",
    "ws = puma.Workspace.from_shape_value((X, Y, Z), 1)\n",
    "ws[int(X / 2):] = 2\n",
    "# ws.show_matrix()\n",
    "\n",
    "puma.render_volume(ws, notebook=True, style='edges', cmap='jet')"
   ]
  },
  {
   "cell_type": "markdown",
   "metadata": {},
   "source": [
    "We can now assign the elasticity of the two materials and compute the resulting overall elasticity of the two phases combined as follows:"
   ]
  },
  {
   "cell_type": "code",
   "execution_count": null,
   "metadata": {},
   "outputs": [],
   "source": [
    "elast_map = puma.ElasticityMap()\n",
    "elast_map.add_isotropic_material((1, 1), 200, 0.3)\n",
    "elast_map.add_isotropic_material((2, 2), 400, 0.1)"
   ]
  },
  {
   "cell_type": "markdown",
   "metadata": {},
   "source": [
    " In this example, we use the compute_elasticity function, which is useful specifically to compute the homogenized (or effective) elasticity of a multi-phase material. This function imposes a unit displacement along the direction specified by holding the last slice of voxels in place with dirichlet boundary conditions. The side boundary conditions can be set as either 'p'eriodic, 's'ymmetric or 'f'ree. In this case we set them as free with 'f'."
   ]
  },
  {
   "cell_type": "code",
   "execution_count": null,
   "metadata": {},
   "outputs": [],
   "source": [
    "C, u, s, t = puma.compute_elasticity(ws, elast_map, direction='x', side_bc='f', solver_type=\"direct\")\n",
    "print(C)"
   ]
  },
  {
   "cell_type": "markdown",
   "metadata": {},
   "source": [
    "Now we can visualize the displacement field as:"
   ]
  },
  {
   "cell_type": "code",
   "execution_count": null,
   "metadata": {
    "scrolled": true
   },
   "outputs": [],
   "source": [
    "p = pv.Plotter(shape=(1, 3))\n",
    "p.subplot(0, 0)\n",
    "p.add_text(\"Displacement in x\")\n",
    "puma.render_volume(u[:, :, :, 0], notebook=True, add_to_plot=p, plot_directly=False, cmap='jet')\n",
    "p.subplot(0, 1)\n",
    "p.add_text(\"Displacement in y\")\n",
    "puma.render_volume(u[:, :, :, 1], notebook=True, add_to_plot=p, plot_directly=False, cmap='jet')\n",
    "p.subplot(0, 2)\n",
    "p.add_text(\"Displacement in z\")\n",
    "puma.render_volume(u[:, :, :, 2], notebook=True, add_to_plot=p, plot_directly=False, cmap='jet')\n",
    "p.show()"
   ]
  },
  {
   "cell_type": "markdown",
   "metadata": {},
   "source": [
    "And the stress fields as:"
   ]
  },
  {
   "cell_type": "code",
   "execution_count": null,
   "metadata": {},
   "outputs": [],
   "source": [
    "p = pv.Plotter(shape=(1, 3))\n",
    "p.subplot(0, 0)\n",
    "p.add_text(\"XX stress\")\n",
    "puma.render_volume(s[:, :10, :, 0], notebook=True, add_to_plot=p, plot_directly=False, cmap='jet')\n",
    "p.subplot(0, 1)\n",
    "p.add_text(\"YY stress\")\n",
    "puma.render_volume(s[:, :10, :, 1], notebook=True, add_to_plot=p, plot_directly=False, cmap='jet')\n",
    "p.subplot(0, 2)\n",
    "p.add_text(\"ZZ stress\")\n",
    "puma.render_volume(s[:, :10, :, 2], notebook=True, add_to_plot=p, plot_directly=False, cmap='jet')\n",
    "p.show()"
   ]
  },
  {
   "cell_type": "code",
   "execution_count": null,
   "metadata": {},
   "outputs": [],
   "source": [
    "p = pv.Plotter(shape=(1, 3))\n",
    "p.subplot(0, 0)\n",
    "p.add_text(\"YZ stress\")\n",
    "puma.render_volume(t[:, :10, :, 0], notebook=True, add_to_plot=p, plot_directly=False, cmap='jet')\n",
    "p.subplot(0, 1)\n",
    "p.add_text(\"XZ stress\")\n",
    "puma.render_volume(t[:, :10, :, 1], notebook=True, add_to_plot=p, plot_directly=False, cmap='jet')\n",
    "p.subplot(0, 2)\n",
    "p.add_text(\"XY stress\")\n",
    "puma.render_volume(t[:, :10, :, 2], notebook=True, add_to_plot=p, plot_directly=False, cmap='jet')\n",
    "p.show()"
   ]
  },
  {
   "cell_type": "markdown",
   "metadata": {},
   "source": [
    "Finally, we can export all of this data (domain, displacement, direct stress, shear stress) in a single .vti file as: "
   ]
  },
  {
   "cell_type": "code",
   "execution_count": null,
   "metadata": {},
   "outputs": [],
   "source": [
    "puma.export_vti(os.path.join(export_path, export_name), {\"ws\": ws, \"disp\": u, \"sigma\": s, \"tau\": t})"
   ]
  },
  {
   "cell_type": "markdown",
   "metadata": {},
   "source": [
    "### Example 2: full built-in beam"
   ]
  },
  {
   "cell_type": "markdown",
   "metadata": {},
   "source": [
    "The second case is for a fully built-in homogeneous beam with a z displacement in the middle. Because of the simmetry of this case, we only model only half of it."
   ]
  },
  {
   "cell_type": "code",
   "execution_count": null,
   "metadata": {},
   "outputs": [],
   "source": [
    "export_name = 'builtinbeam'\n",
    "X = 10\n",
    "Y = 50\n",
    "Z = 10\n",
    "ws = puma.Workspace.from_shape_value((X, Y, Z), 1)\n",
    "ws.voxel_length = 1\n",
    "\n",
    "puma.render_volume(ws, cutoff=(0, 255), style='edges', notebook=True)"
   ]
  },
  {
   "cell_type": "markdown",
   "metadata": {},
   "source": [
    "We then run set its elasticity as:"
   ]
  },
  {
   "cell_type": "code",
   "execution_count": null,
   "metadata": {},
   "outputs": [],
   "source": [
    "elast_map = puma.ElasticityMap()\n",
    "elast_map.add_isotropic_material((1, 1), 200, 0.3)"
   ]
  },
  {
   "cell_type": "markdown",
   "metadata": {},
   "source": [
    "Since we want to set a specific displacement, we need to have more control on the type of boundary conditions we set. This can be done by creating an ElasticityBC object as:"
   ]
  },
  {
   "cell_type": "code",
   "execution_count": null,
   "metadata": {},
   "outputs": [],
   "source": [
    "bc = puma.ElasticityBC.from_workspace(ws)\n",
    "bc[:, 0] = 0  # dirichlet displacement to zero on the y -ve face (i.e. hold in place)\n",
    "bc[:, -1, :, :2] = 0  # dirichlet y and z displacements on y +ve face (i.e. free slip in x)\n",
    "bc[:, -1, :, 2] = -1  # dirichlet z displacement of -1 on y +ve face\n",
    "# puma.Workspace.show_orientation(bc)\n",
    "\n",
    "# Plot the boundary conditions array inside the ElasticityBC object\n",
    "dir_copy = bc.dirichlet.copy()\n",
    "# the unset DOF are usually set to Inf, but for plotting purposes we set them to NaN\n",
    "dir_copy[np.isinf(dir_copy)] = np.NaN\n",
    "p = pv.Plotter(shape=(1, 3))\n",
    "p.subplot(0, 0)\n",
    "p.add_text(\"Dirichlet displacement in x\")\n",
    "puma.render_volume(dir_copy[:,:,:,0], notebook=True, add_to_plot=p, plot_directly=False, cmap='jet')\n",
    "p.subplot(0, 1)\n",
    "p.add_text(\"Dirichlet displacement in y\")\n",
    "puma.render_volume(dir_copy[:,:,:,1], notebook=True, add_to_plot=p, plot_directly=False, cmap='jet')\n",
    "p.subplot(0, 2)\n",
    "p.add_text(\"Dirichlet displacement in z\")\n",
    "puma.render_volume(dir_copy[:,:,:,2], notebook=True, add_to_plot=p, plot_directly=False, cmap='jet')\n",
    "p.show()"
   ]
  },
  {
   "cell_type": "code",
   "execution_count": null,
   "metadata": {},
   "outputs": [],
   "source": [
    " u, s, t = puma.compute_stress_analysis(ws, elast_map, bc, side_bc='f', solver_type=\"direct\")"
   ]
  },
  {
   "cell_type": "code",
   "execution_count": null,
   "metadata": {},
   "outputs": [],
   "source": [
    "p = pv.Plotter(shape=(1, 3))\n",
    "p.subplot(0, 0)\n",
    "p.add_text(\"Displacement in x\")\n",
    "puma.render_volume(u[:, :, :, 0], notebook=True, add_to_plot=p, plot_directly=False, cmap='jet')\n",
    "p.subplot(0, 1)\n",
    "p.add_text(\"Displacement in y\")\n",
    "puma.render_volume(u[:, :, :, 1], notebook=True, add_to_plot=p, plot_directly=False, cmap='jet')\n",
    "p.subplot(0, 2)\n",
    "p.add_text(\"Displacement in z\")\n",
    "puma.render_volume(u[:, :, :, 2], notebook=True, add_to_plot=p, plot_directly=False, cmap='jet')\n",
    "p.show()"
   ]
  },
  {
   "cell_type": "code",
   "execution_count": null,
   "metadata": {},
   "outputs": [],
   "source": [
    "p = pv.Plotter(shape=(1, 3))\n",
    "p.subplot(0, 0)\n",
    "p.add_text(\"XX stress\")\n",
    "puma.render_volume(s[:5, :, :, 0], notebook=True, add_to_plot=p, plot_directly=False, cmap='jet')\n",
    "p.subplot(0, 1)\n",
    "p.add_text(\"YY stress\")\n",
    "puma.render_volume(s[:5, :, :, 1], notebook=True, add_to_plot=p, plot_directly=False, cmap='jet')\n",
    "p.subplot(0, 2)\n",
    "p.add_text(\"ZZ stress\")\n",
    "puma.render_volume(s[:5, :, :, 2], notebook=True, add_to_plot=p, plot_directly=False, cmap='jet')\n",
    "p.show()"
   ]
  },
  {
   "cell_type": "code",
   "execution_count": null,
   "metadata": {},
   "outputs": [],
   "source": [
    "p = pv.Plotter(shape=(1, 3))\n",
    "p.subplot(0, 0)\n",
    "p.add_text(\"YZ stress\")\n",
    "puma.render_volume(t[:5, :, :, 0], notebook=True, add_to_plot=p, plot_directly=False, cmap='jet')\n",
    "p.subplot(0, 1)\n",
    "p.add_text(\"XZ stress\")\n",
    "puma.render_volume(t[:5, :, :, 1], notebook=True, add_to_plot=p, plot_directly=False, cmap='jet')\n",
    "p.subplot(0, 2)\n",
    "p.add_text(\"XY stress\")\n",
    "puma.render_volume(t[:5, :, :, 2], notebook=True, add_to_plot=p, plot_directly=False, cmap='jet')\n",
    "p.show()"
   ]
  },
  {
   "cell_type": "code",
   "execution_count": null,
   "metadata": {},
   "outputs": [],
   "source": [
    "puma.export_vti(os.path.join(export_path, export_name), {\"ws\": ws, \"disp\": u, \"sigma\": s, \"tau\": t})"
   ]
  },
  {
   "cell_type": "markdown",
   "metadata": {},
   "source": [
    "### Example 3: plate with a hole\n",
    "\n",
    "In this example, we model a plate with a hole in the middle pulled in the x direction by a certain displacement."
   ]
  },
  {
   "cell_type": "code",
   "execution_count": null,
   "metadata": {},
   "outputs": [],
   "source": [
    "export_name = 'platehole'\n",
    "X = 50\n",
    "Y = 50\n",
    "Z = 3\n",
    "ws = puma.Workspace.from_shape_value((X, Y, Z), 1)\n",
    "ws.voxel_length = 1\n",
    "\n",
    "# creating circular hole\n",
    "mask = np.ones((X, Y, Z), dtype=bool)\n",
    "mask[X//2, Y//2] = 0\n",
    "distance_mask = nd.morphology.distance_transform_edt(mask)\n",
    "max_distance = np.max(distance_mask)\n",
    "distance_mask_display = (distance_mask*255./max_distance).astype(dtype=np.uint8)\n",
    "in_range = distance_mask <= 17  # this sets how big is the hole with a threshold\n",
    "ws[in_range] = 0\n",
    "\n",
    "# setting material\n",
    "elast_map = puma.ElasticityMap()\n",
    "elast_map.add_isotropic_material((1, 1), 200, 0.3)\n",
    "\n",
    "# setting dirichlet boundary conditions\n",
    "bc = puma.ElasticityBC.from_workspace(ws)\n",
    "bc[0, :, :, 0] = 0\n",
    "bc[-1, :, :, 0] = 1\n",
    "\n",
    "u, s, t = puma.compute_stress_analysis(ws, elast_map, bc, side_bc='f', solver_type=\"direct\")"
   ]
  },
  {
   "cell_type": "code",
   "execution_count": null,
   "metadata": {},
   "outputs": [],
   "source": [
    "u[ws.matrix == 0] = np.NaN\n",
    "p = pv.Plotter(shape=(1, 3))\n",
    "p.subplot(0, 0)\n",
    "p.add_text(\"Displacement in x\")\n",
    "puma.render_volume(u[:, :, :, 0], notebook=True, add_to_plot=p, plot_directly=False, cmap='jet')\n",
    "p.subplot(0, 1)\n",
    "p.add_text(\"Displacement in y\")\n",
    "puma.render_volume(u[:, :, :, 1], notebook=True, add_to_plot=p, plot_directly=False, cmap='jet')\n",
    "p.subplot(0, 2)\n",
    "p.add_text(\"Displacement in z\")\n",
    "puma.render_volume(u[:, :, :, 2], notebook=True, add_to_plot=p, plot_directly=False, cmap='jet')\n",
    "p.show(cpos=\"xy\")"
   ]
  },
  {
   "cell_type": "code",
   "execution_count": null,
   "metadata": {},
   "outputs": [],
   "source": [
    "s[ws.matrix == 0] = np.NaN  # in order to avoid plotting the hole\n",
    "p = pv.Plotter(shape=(1, 3))\n",
    "p.subplot(0, 0)\n",
    "p.add_text(\"XX stress\")\n",
    "puma.render_volume(s[:, :, 1:, 0], notebook=True, add_to_plot=p, plot_directly=False, cmap='jet')\n",
    "p.subplot(0, 1)\n",
    "p.add_text(\"YY stress\")\n",
    "puma.render_volume(s[:, :, 1:, 1], notebook=True, add_to_plot=p, plot_directly=False, cmap='jet')\n",
    "p.subplot(0, 2)\n",
    "p.add_text(\"ZZ stress\")\n",
    "puma.render_volume(s[:, :, 1:, 2], notebook=True, add_to_plot=p, plot_directly=False, cmap='jet')\n",
    "p.show(cpos=\"xy\")"
   ]
  },
  {
   "cell_type": "code",
   "execution_count": null,
   "metadata": {},
   "outputs": [],
   "source": [
    "t[ws.matrix == 0] = np.NaN  # in order to avoid plotting the hole\n",
    "p = pv.Plotter(shape=(1, 3))\n",
    "p.subplot(0, 0)\n",
    "p.add_text(\"YZ stress\")\n",
    "puma.render_volume(t[:, :, 1:, 0], notebook=True, add_to_plot=p, plot_directly=False, cmap='jet')\n",
    "p.subplot(0, 1)\n",
    "p.add_text(\"XZ stress\")\n",
    "puma.render_volume(t[:, :, 1:, 1], notebook=True, add_to_plot=p, plot_directly=False, cmap='jet')\n",
    "p.subplot(0, 2)\n",
    "p.add_text(\"XY stress\")\n",
    "puma.render_volume(t[:, :, 1:, 2], notebook=True, add_to_plot=p, plot_directly=False, cmap='jet')\n",
    "p.show(cpos=\"xy\")"
   ]
  },
  {
   "cell_type": "code",
   "execution_count": null,
   "metadata": {},
   "outputs": [],
   "source": [
    "puma.export_vti(os.path.join(export_path, export_name), {\"ws\": ws, \"disp\": u, \"sigma\": s, \"tau\": t})"
   ]
  },
  {
   "cell_type": "markdown",
   "metadata": {},
   "source": [
    "### Example 4: cracked plate\n",
    "\n",
    "In this final example, we model a plate with a single row of voxels removed, mimicking a crack. "
   ]
  },
  {
   "cell_type": "code",
   "execution_count": null,
   "metadata": {},
   "outputs": [],
   "source": [
    "export_name = 'crackedplate'\n",
    "X = 25\n",
    "Y = 100\n",
    "Z = 3\n",
    "ws = puma.Workspace.from_shape_value((X, Y, Z), 1)\n",
    "ws.voxel_length = 1\n",
    "\n",
    "ws[:10, Y//2-1:Y//2+1] = 0\n",
    "\n",
    "elast_map = puma.ElasticityMap()\n",
    "elast_map.add_isotropic_material((1, 1), 200, 0.3)\n",
    "\n",
    "bc = puma.ElasticityBC.from_workspace(ws)\n",
    "bc[:, 0, :, 1] = 0\n",
    "bc[:, -1, :, 1] = 1\n",
    "\n",
    "u, s, t = puma.compute_stress_analysis(ws, elast_map, bc, side_bc='f', solver_type=\"direct\")"
   ]
  },
  {
   "cell_type": "code",
   "execution_count": null,
   "metadata": {},
   "outputs": [],
   "source": [
    "u[ws.matrix == 0] = np.NaN  # in order to avoid plotting the crack\n",
    "p = pv.Plotter(shape=(1, 3))\n",
    "p.subplot(0, 0)\n",
    "p.add_text(\"Displacement in x\")\n",
    "puma.render_volume(u[:, :, :, 0], notebook=True, add_to_plot=p, plot_directly=False, cmap='jet')\n",
    "p.subplot(0, 1)\n",
    "p.add_text(\"Displacement in y\")\n",
    "puma.render_volume(u[:, :, :, 1], notebook=True, add_to_plot=p, plot_directly=False, cmap='jet')\n",
    "p.subplot(0, 2)\n",
    "p.add_text(\"Displacement in z\")\n",
    "puma.render_volume(u[:, :, :, 2], notebook=True, add_to_plot=p, plot_directly=False, cmap='jet')\n",
    "p.show(cpos=\"xy\")"
   ]
  },
  {
   "cell_type": "code",
   "execution_count": null,
   "metadata": {},
   "outputs": [],
   "source": [
    "s[ws.matrix == 0] = np.NaN  # in order to avoid plotting the crack\n",
    "p = pv.Plotter(shape=(1, 3))\n",
    "p.subplot(0, 0)\n",
    "p.add_text(\"XX stress\")\n",
    "puma.render_volume(s[:, :, 1:, 0], notebook=True, add_to_plot=p, plot_directly=False, cmap='jet')\n",
    "p.subplot(0, 1)\n",
    "p.add_text(\"YY stress\")\n",
    "puma.render_volume(s[:, :, 1:, 1], notebook=True, add_to_plot=p, plot_directly=False, cmap='jet')\n",
    "p.subplot(0, 2)\n",
    "p.add_text(\"ZZ stress\")\n",
    "puma.render_volume(s[:, :, 1:, 2], notebook=True, add_to_plot=p, plot_directly=False, cmap='jet')\n",
    "p.show(cpos=\"xy\")"
   ]
  },
  {
   "cell_type": "code",
   "execution_count": null,
   "metadata": {},
   "outputs": [],
   "source": [
    "t[ws.matrix == 0] = np.NaN  # in order to avoid plotting the crack\n",
    "p = pv.Plotter(shape=(1, 3))\n",
    "p.subplot(0, 0)\n",
    "p.add_text(\"YZ stress\")\n",
    "puma.render_volume(t[:, :, 1:, 0], notebook=True, add_to_plot=p, plot_directly=False, cmap='jet')\n",
    "p.subplot(0, 1)\n",
    "p.add_text(\"XZ stress\")\n",
    "puma.render_volume(t[:, :, 1:, 1], notebook=True, add_to_plot=p, plot_directly=False, cmap='jet')\n",
    "p.subplot(0, 2)\n",
    "p.add_text(\"XY stress\")\n",
    "puma.render_volume(t[:, :, 1:, 2], notebook=True, add_to_plot=p, plot_directly=False, cmap='jet')\n",
    "p.show(cpos=\"xy\")"
   ]
  },
  {
   "cell_type": "code",
   "execution_count": null,
   "metadata": {},
   "outputs": [],
   "source": [
    "puma.export_vti(os.path.join(export_path, export_name), {\"ws\": ws, \"disp\": u, \"sigma\": s, \"tau\": t})"
   ]
  },
  {
   "cell_type": "markdown",
   "metadata": {
    "pycharm": {
     "name": "#%% md\n"
    }
   },
   "source": [
    "## Tutorial: Multi-phase material\n",
    "Although all of the required information for performing simulations on a multi-phase material are already present in the other tutorials, this tutorial is designed to help understand how to perform basic visualizations and simulations on a material with more than one solid phase. \n",
    "\n",
    "For the example here, we are using an artifically generated material with three phases: Random fibers, a binding material between the fibers, and randomly populated spheres "
   ]
  },
  {
   "cell_type": "markdown",
   "metadata": {},
   "source": [
    "### Material Generation\n",
    "\n",
    "First, we will generate a material with 2 different types of fibers, and one type of sphere. \n",
    "\n",
    "The two fibers will be stored with material ID 1, and 2, and the sphere will be stored with material ID 3. \n",
    "\n",
    "Specify the output directory for the files to be generated:"
   ]
  },
  {
   "cell_type": "code",
   "execution_count": null,
   "metadata": {},
   "outputs": [],
   "source": [
    "export_path = \"out\"\n",
    "\n",
    "if not os.path.exists(export_path):\n",
    "    os.makedirs(export_path)"
   ]
  },
  {
   "cell_type": "code",
   "execution_count": null,
   "metadata": {
    "pycharm": {
     "name": "#%%\n"
    }
   },
   "outputs": [],
   "source": [
    "size = (200, 200, 200)  # size of the domain, in voxels. \n",
    "radius = 8  # radius of the fibers to be generated, in voxels\n",
    "nFibers = None # Can specify either the number of fibers or the porosity\n",
    "porosity = 0.9  # porosity of the overall structure\n",
    "phi = 90 # A value between 0 and 90 that controls the amount that the fibers lie *out of* the XY plane,\n",
    "         # with 0 meaning all fibers lie in the XY plane, and 90 meaning that cylinders are randomly oriented out of the\n",
    "         # plane by as much as +/- 90 degrees.\n",
    "theta = 90 # A value between 0 and 90 that controls the amount of rotation *in the* XY plane,\n",
    "           # with 0 meaning all fibers point in the X-direction, and 90 meaning they are randomly rotated about the\n",
    "           # Z axis by as much as +/- 90 degrees.\n",
    "length = 200 # Length of the fibers to be generated\n",
    "\n",
    "ws_fibers1 = puma.generate_random_fibers(size, radius, nFibers, porosity, phi, theta, length)\n",
    "\n",
    "radius = 5  # creating smaller fibers for material #2\n",
    "length = 50\n",
    "\n",
    "ws_fibers2 = puma.generate_random_fibers(size, radius, nFibers, porosity, phi, theta, length)\n",
    "ws_fibers2.set_material_id((1, 1), 2)\n",
    "\n",
    "# combining fibers #1 and fibers #2 into a single domain, and setting the overlap to default to fibers #1\n",
    "ws_fibers1.matrix = ws_fibers1.matrix + ws_fibers2.matrix\n",
    "ws_fibers1.set_material_id((3, 3), 1) # setting the overlap, which would be 3, equal to 1\n",
    "\n",
    "\n",
    "# Generating the spheres\n",
    "diameter = 20  # diameter of the spheres to be generated, in voxels\n",
    "porosity = 0.8  # porosity of the overall structure\n",
    "allow_intersections = True # flag on whether to allow intersections between spheres. \n",
    "# Note: If allow_intersections is set to false, it will be significantly slower to generate,\n",
    "#.      and will usually require a fairly high porosity value to be generated\n",
    "\n",
    "ws_spheres = puma.generate_random_spheres(size, diameter, porosity, allow_intersections)\n",
    "ws_spheres.set_material_id((0, 127), 0)\n",
    "ws_spheres.set_material_id((128, 255), 3)\n",
    "\n",
    "# combining all three materials, with overlap defaulting to the sphere material\n",
    "ws_fibers1.matrix = ws_fibers1.matrix + ws_spheres.matrix\n",
    "ws_fibers1.set_material_id((4, 5), 3) # setting the overlap, which would be either 4 or 5, equal to 3\n",
    "\n",
    "puma.export_3Dtiff(os.path.join(export_path, \"multiphase.tif\"), ws_fibers1)\n",
    "\n",
    "ws_multiphase = ws_fibers1"
   ]
  },
  {
   "cell_type": "markdown",
   "metadata": {},
   "source": [
    "### Material Visualization\n",
    "\n",
    "Now we will plot a slice of the material and visualize each of the three phases:"
   ]
  },
  {
   "cell_type": "code",
   "execution_count": null,
   "metadata": {},
   "outputs": [],
   "source": [
    "slices = puma.plot_slices(ws_multiphase, index=100)"
   ]
  },
  {
   "cell_type": "code",
   "execution_count": null,
   "metadata": {},
   "outputs": [],
   "source": [
    "puma.render_contour(ws_multiphase, cutoff=(1, 1), notebook=True)"
   ]
  },
  {
   "cell_type": "code",
   "execution_count": null,
   "metadata": {},
   "outputs": [],
   "source": [
    "puma.render_contour(ws_multiphase, cutoff=(2, 2), notebook=True)"
   ]
  },
  {
   "cell_type": "code",
   "execution_count": null,
   "metadata": {},
   "outputs": [],
   "source": [
    "puma.render_contour(ws_multiphase, cutoff=(3, 3), notebook=True)"
   ]
  },
  {
   "cell_type": "markdown",
   "metadata": {},
   "source": [
    "We can also visualize the three-phase material using either the volume_render for showing a voxel representation or the puma.render_contour_multiphase function for a smooth triangulated surface representation: "
   ]
  },
  {
   "cell_type": "code",
   "execution_count": null,
   "metadata": {},
   "outputs": [],
   "source": [
    "puma.render_volume(ws_multiphase, cutoff=(1, 3), solid_color=None, notebook=True, cmap='gray')"
   ]
  },
  {
   "cell_type": "code",
   "execution_count": null,
   "metadata": {},
   "outputs": [],
   "source": [
    "cutoffs = [(1, 1)]  # material phase 1\n",
    "cutoffs.append((2, 2)) # material phase 2\n",
    "cutoffs.append((3, 3)) # material phase 3\n",
    "\n",
    "# if solid_colors is not provided, the color of the phases is randomized\n",
    "puma.render_contour_multiphase(ws_multiphase, cutoffs, notebook=True, \n",
    "                               solid_colors=((0., 0., 0.), (0.5, 0.5, 0.5), (1., 1., 1.)))"
   ]
  },
  {
   "cell_type": "markdown",
   "metadata": {},
   "source": [
    "### Volume Fractions\n",
    "\n",
    "To calculate the volume fractions of each material phase, we will use the puma.compute_volume_fraction function and specify the grayscale range of each material: "
   ]
  },
  {
   "cell_type": "code",
   "execution_count": null,
   "metadata": {},
   "outputs": [],
   "source": [
    "vf_void = puma.compute_volume_fraction(ws_multiphase, (0,0))\n",
    "vf_phase1 = puma.compute_volume_fraction(ws_multiphase, (1,1))\n",
    "vf_phase2 = puma.compute_volume_fraction(ws_multiphase, (2,2))\n",
    "vf_phase3 = puma.compute_volume_fraction(ws_multiphase, (3,3))\n",
    "vf_solid = puma.compute_volume_fraction(ws_multiphase, (1,3))\n",
    "\n",
    "print(\"Volume Fraction of Void (Porosity):\", vf_void)\n",
    "print(\"Volume Fraction of Phase 1:\", vf_phase1)\n",
    "print(\"Volume Fraction of Phase 2:\", vf_phase2)\n",
    "print(\"Volume Fraction of Phase 3:\", vf_phase3)\n",
    "print(\"Volume Fraction of All Three Phases:\", vf_solid)"
   ]
  },
  {
   "cell_type": "markdown",
   "metadata": {},
   "source": [
    "### Surface Area\n",
    "\n",
    "To calculate the total surface area of the entire material phase, we can use the puma.compute_surface_area function with the material cutoff of (1,3) which includes all 3 material phases"
   ]
  },
  {
   "cell_type": "code",
   "execution_count": null,
   "metadata": {},
   "outputs": [],
   "source": [
    "area, specific_area = puma.compute_surface_area(ws_multiphase, (1, 3))\n",
    "print(\"Areas:\", area, specific_area)"
   ]
  },
  {
   "cell_type": "markdown",
   "metadata": {},
   "source": [
    "Computing the surface area of each individual phase is a little bit more tricky. To demonstrate, refer to the simple 2D schematic below of a 2-phase material.\n",
    "\n",
    "![image info](https://github.com/nasa/puma/raw/main/python/tutorials/pictures/multiphase.png)\n",
    "\n",
    "The materials are each labeled, 1, and 2, and the edge lengths are labeled a, b, and c. The total surface area of both materials is defined as A<sub>total</sub> = a + b. Assuming that your materials are stored with grayscale values 1 and 2, this total surface area is calculated as before in the 3-material example: \n",
    "\n",
    "    puma.compute_surface_area(ws_multiphase, (1,2))\n",
    "\n",
    "However, if you want to know the surface area of an individual phase, there are two options. You can compute the total surface area of the individual phase, including the surface area contact with other material phases, or you can compute only the exposed surface area to the void phase. The latter would be the relevant quantity when computing, for example, the effective reactive surface area for chemical reactions. In the first case, the surface area can be calculated as\n",
    "\n",
    "Area = A<sub>1</sub> = a + c = puma.compute_surface_area(ws_multiphase, (1,2))\n",
    "\n",
    "Area = 0.5 ( A<sub>1</sub> + A<sub>1-2</sub> - A<sub>2</sub> ) = 0.5 * (a + b + a + c - b - c) = a\n",
    "\n",
    "which, written in puma commands, becomes:\n",
    "\n",
    "    Area = puma.compute_surface_area(ws_multiphase, (1,1)) + puma.compute_surface_area(ws_multiphase, (1,2)) - puma.compute_surface_area(ws_multiphase, (2,2))\n",
    "\n",
    "For our 3-phase material, it is quite similar:\n",
    "\n",
    "To compute the surface area of material 1 exposed to the void, \n",
    "\n",
    "Area = 0.5 ( A<sub>1</sub> + A<sub>1-2-3</sub> - A<sub>2-3</sub> ) = 0.5 * (a + d + f + a + b + c - d - b - c - f) = a\n",
    "\n",
    "    "
   ]
  },
  {
   "cell_type": "markdown",
   "metadata": {},
   "source": [
    "Below, we compute the exposed to void surface area of each of the three phases: note that computing the surface area of the union between 1 and 3 requires extra steps, since using the surface area calculation on the domain with cutoffs (1,3) would include phase 2. Instead we copy the domain, set material 3 to an ID of 1, and then compute the surface area of material 1, which now includes material 3"
   ]
  },
  {
   "cell_type": "code",
   "execution_count": null,
   "metadata": {},
   "outputs": [],
   "source": [
    "# Raw and specific surface area calculations\n",
    "Area_1, SSA_1 = puma.compute_surface_area(ws_multiphase, (1,1))  # a + d + f\n",
    "Area_2, SSA_2 = puma.compute_surface_area(ws_multiphase, (2,2))  # d + b + e\n",
    "Area_3, SSA_3 = puma.compute_surface_area(ws_multiphase, (3,3))  # f + e + c\n",
    "\n",
    "Area_12, SSA_12 = puma.compute_surface_area(ws_multiphase, (1,2))  # a + b + e + f\n",
    "Area_23, SSA_23 = puma.compute_surface_area(ws_multiphase, (2,3))  # d + b + c + f\n",
    "Area_123, SSA_123 = puma.compute_surface_area(ws_multiphase, (1,3)) # a \n",
    "\n",
    "ws_copy = ws_multiphase.copy()\n",
    "ws_copy.set_material_id((3,3),1)  # setting all of phase 3 to be equal to ID 1\n",
    "Area_13, SSA_13 = puma.compute_surface_area(ws_copy, (1,1))  # a + d + e + c\n",
    "\n",
    "# Now to compute the exposed surface areas for each phase: \n",
    "Exposed_Area_1 = 0.5 * (Area_1 + Area_123 - Area_23)\n",
    "Exposed_SSA_1 = 0.5 * (SSA_1 + SSA_123 - SSA_23)\n",
    "\n",
    "Exposed_Area_2 = 0.5 * (Area_2 + Area_123 - Area_13)\n",
    "Exposed_SSA_2 = 0.5 * (SSA_2 + SSA_123 - SSA_13)\n",
    "\n",
    "Exposed_Area_3 = 0.5 * (Area_3 + Area_123 - Area_12)\n",
    "Exposed_SSA_3 = 0.5 * (SSA_3 + SSA_123 - SSA_12)\n",
    "\n",
    "print(\"Exposed Areas for Phase 1:\", Exposed_Area_1, Exposed_SSA_1)\n",
    "print(\"Exposed Areas for Phase 2:\", Exposed_Area_2, Exposed_SSA_2)\n",
    "print(\"Exposed Areas for Phase 3:\", Exposed_Area_3, Exposed_SSA_3)"
   ]
  },
  {
   "cell_type": "markdown",
   "metadata": {},
   "source": [
    "As a check, we will test to make sure that the total exposed areas of each phase sum up to the total surface area of all of the material phases: "
   ]
  },
  {
   "cell_type": "code",
   "execution_count": null,
   "metadata": {},
   "outputs": [],
   "source": [
    "print(\"Sum of Exposed Phase Area:\", Exposed_SSA_1 + Exposed_SSA_2 + Exposed_SSA_3)\n",
    "print(\"Total Area:\", SSA_123)\n",
    "print(\"Percent Error: \", np.abs((Exposed_SSA_1 + Exposed_SSA_2 + Exposed_SSA_3 - SSA_123)) / SSA_123 * 100.)"
   ]
  },
  {
   "cell_type": "markdown",
   "metadata": {},
   "source": [
    "We can see that the two values are very close but not exactly the same. This slight difference is simply numerical error from the triangulations and accounts for a 0.28% error in this case, which should not be too significant. "
   ]
  },
  {
   "cell_type": "markdown",
   "metadata": {},
   "source": [
    "### Tortuosity Factors\n",
    "\n",
    "Computing the tortuosity factors for a multi-phase material is not different than for a single phase material, since it is only the void phase that is specified for the calculation. \n",
    "\n",
    "To speed up the simulation, we will take a 100<sup>3</sup> subsection of the domain in order to perform the tortuosity simulation. Please note that this domain size is almost certainly not a representative volume, and a far larger size should be used when performing production simulations"
   ]
  },
  {
   "cell_type": "code",
   "execution_count": null,
   "metadata": {},
   "outputs": [],
   "source": [
    "# The tortuosity calculation needs to be run for each of the three simulation directions. \n",
    "# For each simulation, a concentration gradient is forced in the simulation direction, and converged to steady state\n",
    "\n",
    "# Simulation inputs: \n",
    "#.  1. workspace - the computational domain for the simulation, containing your material microstructure\n",
    "#.  2. cutoff - the grayscale values for the void phase. [0,0] for this sample\n",
    "#.  3. direction - the simulation direction, 'x', 'y', or 'z'\n",
    "#.  4. side_bc - boundary condition in the non-simulation direction. Can be 'p' - periodic, 's' - symmetric, 'd' - dirichlet\n",
    "#.  5. tolerance - accuracy of the numerical solver, defaults to 1e-4. \n",
    "#.  6. maxiter - maximum number of iterations, defaults to 10,000\n",
    "#.  7. solver_type - the iterative solver used. Can be 'bicgstab', 'cg', 'gmres', or 'direct'. Defaults to 'bicgstab'\n",
    "\n",
    "ws_cropped = ws_multiphase.copy()  # creating a copy of the workspace to crop\n",
    "ws_cropped.matrix = ws_cropped.matrix[50:150,50:150,50:150]  # cropping the sample to 100^3\n",
    "\n",
    "n_eff_x, Deff_x, poro, C_x = puma.compute_continuum_tortuosity(ws_cropped, (0,0), 'x', side_bc='s', tolerance=1e-2, solver_type='cg')\n",
    "n_eff_y, Deff_y, poro, C_y = puma.compute_continuum_tortuosity(ws_cropped, (0,0), 'y', side_bc='s', tolerance=1e-2, solver_type='cg')\n",
    "n_eff_z, Deff_z, poro, C_z = puma.compute_continuum_tortuosity(ws_cropped, (0,0), 'z', side_bc='s', tolerance=1e-2, solver_type='cg')\n",
    "\n",
    "print(\"Effective tortuosity factors:\")\n",
    "print(n_eff_x)\n",
    "print(n_eff_y)\n",
    "print(n_eff_z)\n",
    "\n",
    "print(\"Porosity of the material:\", poro)"
   ]
  },
  {
   "cell_type": "code",
   "execution_count": null,
   "metadata": {},
   "outputs": [],
   "source": [
    "# Visualizing the Concentration field for the simulation along the x-axis:  \n",
    "puma.render_volume(C_x, solid_color=None, notebook=True, cmap='jet')"
   ]
  },
  {
   "cell_type": "markdown",
   "metadata": {},
   "source": [
    "### Effective Thermal Conductivity\n",
    "\n",
    "Computing the effective thermal conductivity is also very similar to in a single-phase case. The only difference is that rather than two materials being specified (void and solid) in the conductivity map, an entry must be made for each material phase, and the corresponding constituent thermal conductivity must be set. "
   ]
  },
  {
   "cell_type": "code",
   "execution_count": null,
   "metadata": {},
   "outputs": [],
   "source": [
    "# Generating a conductivity map. This stores the conductivity values for each phase of the material\n",
    "cond_map = puma.IsotropicConductivityMap()\n",
    "# First, we set the conductivity of the void phase to be 0.0257 (air at STP)\n",
    "cond_map.add_material((0, 0), 0.0257)\n",
    "# Next we set the conductivity of each of the three material phases\n",
    "cond_map.add_material((1, 1), 10)\n",
    "cond_map.add_material((2, 2), 20)\n",
    "cond_map.add_material((3, 3), 100)\n",
    "\n",
    "# The thermal conductivity calculation needs to be run for each of the three simulation directions. \n",
    "# For each simulation, a temperature gradient is forced in the simulation direction, and converged to steady state\n",
    "\n",
    "# Simulation inputs: \n",
    "#.  1. workspace - the computational domain for the simulation, containing your material microstructure\n",
    "#.  2. cond_map - the conductivity values for each material phase\n",
    "#.  3. direction - the simulation direction, 'x', 'y', or 'z'\n",
    "#.  4. side_bc - boundary condition in the non-simulation direction. Can be 'p' - periodic, 's' - symmetric, 'd' - dirichlet\n",
    "#.  5. tolerance - accuracy of the numerical solver, defaults to 1e-4. \n",
    "#.  6. maxiter - maximum number of iterations, defaults to 10,000\n",
    "#.  7. solver_type - the iterative solver used. Can be 'bicgstab', 'cg', 'gmres', or 'direct'. Defaults to 'bicgstab'\n",
    "\n",
    "k_eff_x, T_x, q_x = puma.compute_thermal_conductivity(ws_cropped,cond_map, 'x', 's', tolerance=1e-2, solver_type='bicgstab')\n",
    "k_eff_y, T_y, q_y = puma.compute_thermal_conductivity(ws_cropped,cond_map, 'y', 's', tolerance=1e-2, solver_type='bicgstab')\n",
    "k_eff_z, T_z, q_z = puma.compute_thermal_conductivity(ws_cropped,cond_map, 'z', 's', tolerance=1e-2, solver_type='bicgstab')\n",
    "\n",
    "print(\"Effective thermal conductivity tensor:\")\n",
    "print(k_eff_x)\n",
    "print(k_eff_y)\n",
    "print(k_eff_z)"
   ]
  },
  {
   "cell_type": "code",
   "execution_count": 2,
   "metadata": {},
   "outputs": [
    {
     "ename": "NameError",
     "evalue": "name 'T_y' is not defined",
     "output_type": "error",
     "traceback": [
      "\u001b[0;31m---------------------------------------------------------------------------\u001b[0m",
      "\u001b[0;31mNameError\u001b[0m                                 Traceback (most recent call last)",
      "\u001b[0;32m<ipython-input-2-b35ecd12bafe>\u001b[0m in \u001b[0;36m<module>\u001b[0;34m\u001b[0m\n\u001b[1;32m      1\u001b[0m \u001b[0;31m# Visualizing the temperature field for the simulation along the y-axis:\u001b[0m\u001b[0;34m\u001b[0m\u001b[0;34m\u001b[0m\u001b[0;34m\u001b[0m\u001b[0m\n\u001b[0;32m----> 2\u001b[0;31m \u001b[0mpuma\u001b[0m\u001b[0;34m.\u001b[0m\u001b[0mrender_volume\u001b[0m\u001b[0;34m(\u001b[0m\u001b[0mT_y\u001b[0m\u001b[0;34m,\u001b[0m \u001b[0msolid_color\u001b[0m\u001b[0;34m=\u001b[0m\u001b[0;32mNone\u001b[0m\u001b[0;34m,\u001b[0m \u001b[0mnotebook\u001b[0m\u001b[0;34m=\u001b[0m\u001b[0;32mTrue\u001b[0m\u001b[0;34m,\u001b[0m \u001b[0mcmap\u001b[0m\u001b[0;34m=\u001b[0m\u001b[0;34m'jet'\u001b[0m\u001b[0;34m)\u001b[0m\u001b[0;34m\u001b[0m\u001b[0;34m\u001b[0m\u001b[0m\n\u001b[0m",
      "\u001b[0;31mNameError\u001b[0m: name 'T_y' is not defined"
     ]
    }
   ],
   "source": [
    "# Visualizing the temperature field for the simulation along the y-axis: \n",
    "puma.render_volume(T_y, solid_color=None, notebook=True, cmap='jet')"
   ]
  },
  {
   "cell_type": "markdown",
   "metadata": {},
   "source": [
    "## Tutorial: Segmentation (WIP)\n",
    "\n",
    "In this tutorial we introduce pumapy's segmentation capabilities. This is currently a work in progress capability and new updates about weave segmentation should be expected soon. "
   ]
  },
  {
   "cell_type": "markdown",
   "metadata": {},
   "source": [
    "### Porespace identification\n",
    "\n",
    "When dealing with porous materials, it is often useful to distinguish between closed and open porosity. This is particularly relevant when particle or ray casting simulations need to be performed. In these cases, closed porosity throughout a domain becomes a problem, because particles get trapped inside these pockets, inevitable altering the output of a simulation. For this reason, a method to identify and fill the closed porosity was implemented in both C++ PuMA and pumapy.\n",
    "Let's first create a 50% dense sample full of hollowed out spheres and visualize it:"
   ]
  },
  {
   "cell_type": "code",
   "execution_count": 29,
   "metadata": {
    "scrolled": false
   },
   "outputs": [
    {
     "name": "stdout",
     "output_type": "stream",
     "text": [
      "Approximately 1909.8593171027442 spheres to be generated\n",
      "Spheres Generated 2258  Porosity = 0.499564125 "
     ]
    },
    {
     "data": {
      "application/vnd.jupyter.widget-view+json": {
       "model_id": "85054790b9ca44ebbf4300c239c44ec9",
       "version_major": 2,
       "version_minor": 0
      },
      "text/plain": [
       "ViewInteractiveWidget(height=1200, layout=Layout(height='auto', width='100%'), width=1920)"
      ]
     },
     "metadata": {},
     "output_type": "display_data"
    }
   ],
   "source": [
    "ws = puma.generate_random_spheres((200, 200, 200), diameter=20, porosity=0.5, allow_intersect=True)\n",
    "\n",
    "# void is 0, solid is 255, but the material does not jump from 0-255, it gradually does so\n",
    "# we therefore use this gradient to select the shell of each sphere\n",
    "ws.binarize_range((1, 254))\n",
    "\n",
    "puma.render_volume(ws, cutoff=(1, 1), notebook=True)"
   ]
  },
  {
   "cell_type": "markdown",
   "metadata": {},
   "source": [
    "Now we can run the pore filling algorithm (i.e. connected component analysis). The fill_closed_pores function needs to be given the solid range (in this case only 1 since we have already binarized the workspace) and the ID value to fill the closed porosity throughout the workspace (in this case we set 2)."
   ]
  },
  {
   "cell_type": "code",
   "execution_count": 30,
   "metadata": {},
   "outputs": [],
   "source": [
    "filled_ws, pores = puma.fill_closed_pores(ws, (1, 1), 2, return_pores=True)"
   ]
  },
  {
   "cell_type": "markdown",
   "metadata": {},
   "source": [
    "When the return_pores flag is True, then it returns both the already filled workspace and a Numpy array of pores with IDs: solid == 0, largest pore (likely open porosity) == 1, smaller pores (likely closed porosity) == 2-N. We can visualize both these outputs as:"
   ]
  },
  {
   "cell_type": "code",
   "execution_count": 41,
   "metadata": {
    "scrolled": true
   },
   "outputs": [
    {
     "data": {
      "application/vnd.jupyter.widget-view+json": {
       "model_id": "abd208df85cd490e879421497275bf32",
       "version_major": 2,
       "version_minor": 0
      },
      "text/plain": [
       "ViewInteractiveWidget(height=1200, layout=Layout(height='auto', width='100%'), width=1920)"
      ]
     },
     "metadata": {},
     "output_type": "display_data"
    }
   ],
   "source": [
    "puma.render_volume(pores[:pores.shape[0]//2], cutoff=(1, 10), solid_color=None, notebook=True, cmap='jet')"
   ]
  },
  {
   "cell_type": "code",
   "execution_count": 42,
   "metadata": {},
   "outputs": [
    {
     "data": {
      "application/vnd.jupyter.widget-view+json": {
       "model_id": "0b16463b0f654dbfac3e12816c5c72d2",
       "version_major": 2,
       "version_minor": 0
      },
      "text/plain": [
       "ViewInteractiveWidget(height=1200, layout=Layout(height='auto', width='100%'), width=1920)"
      ]
     },
     "metadata": {},
     "output_type": "display_data"
    }
   ],
   "source": [
    "puma.render_volume(filled_ws, notebook=True, cmap='jet')"
   ]
  },
  {
   "cell_type": "markdown",
   "metadata": {},
   "source": [
    "Note that the identify_porespace function performs the same operation as the fill_closed_pores, except that it does not fill the closed pores throughout the workspace, it only returns the labelled pores identified. "
   ]
  }
 ],
 "metadata": {
  "kernelspec": {
   "display_name": "Python 3",
   "language": "python",
   "name": "python3"
  },
  "language_info": {
   "codemirror_mode": {
    "name": "ipython",
    "version": 3
   },
   "file_extension": ".py",
   "mimetype": "text/x-python",
   "name": "python",
   "nbconvert_exporter": "python",
   "pygments_lexer": "ipython3",
   "version": "3.7.9"
  }
 },
 "nbformat": 4,
 "nbformat_minor": 4
}
