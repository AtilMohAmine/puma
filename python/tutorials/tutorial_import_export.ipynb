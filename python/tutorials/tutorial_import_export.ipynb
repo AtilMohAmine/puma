{
 "cells": [
  {
   "cell_type": "markdown",
   "metadata": {
    "pycharm": {
     "name": "#%% md\n"
    }
   },
   "source": [
    "# Tutorial: import and export\n",
    "\n",
    "In this tutorial we demonstrate how to input and output a computational domain in PuMA"
   ]
  },
  {
   "cell_type": "code",
   "execution_count": null,
   "metadata": {},
   "outputs": [],
   "source": [
    "# Run this line only the first time you open a tutorial in Google Colab\n",
    "!pip install 'git+https://github.com/nasa/puma.git'"
   ]
  },
  {
   "cell_type": "markdown",
   "metadata": {},
   "source": [
    "First, we must import puma:"
   ]
  },
  {
   "cell_type": "code",
   "execution_count": 8,
   "metadata": {
    "pycharm": {
     "name": "#%%\n"
    }
   },
   "outputs": [],
   "source": [
    "import numpy as np\n",
    "import os\n",
    "import sys\n",
    "import pumapy as puma"
   ]
  },
  {
   "cell_type": "markdown",
   "metadata": {},
   "source": [
    "## Explanation of data structures\n",
    "First, we give a brief explanation of the PuMA data structures\n",
    "\n",
    "Microstructures in PuMA are stored in a data structure called a \"workspace\". The workspace class includes all of the data about the material microstructure, including a 3D matrix of grayscale values, which can be either raw data from tomographic images, or segmented values. Examples of unsegmented and segmented workspaces are demonstrated below: "
   ]
  },
  {
   "cell_type": "code",
   "execution_count": null,
   "metadata": {
    "pycharm": {
     "name": "#%%\n"
    }
   },
   "outputs": [],
   "source": [
    "ws_unsegmented = puma.import_3Dtiff(\"../tests/testdata/200_FiberForm.tif\", 1.3e-6)\n",
    "ws_segmented = ws_unsegmented.copy()\n",
    "ws_segmented.binarize(90)\n",
    "\n",
    "%matplotlib widget\n",
    "plot = puma.plot_slices(ws_unsegmented,'z')\n",
    "plot = puma.plot_slices(ws_segmented,'z')\n"
   ]
  },
  {
   "cell_type": "markdown",
   "metadata": {},
   "source": [
    "the PuMA workspace class also contains other important information about the workspace. This includes the voxel length, which is the physical length, in meters, of each voxel of the image. Typical tomography data ranges from 1e-4 to 1e-7 meters in voxel length. If no value is provided to PuMA, the workspace class defaults to 1e-6 meters as a voxel length. This value can either be set during import-output or it can be set directly for the workspace class. \n",
    "\n",
    "An example is shown below, where the voxel length of a workspace class is manually changed"
   ]
  },
  {
   "cell_type": "code",
   "execution_count": null,
   "metadata": {},
   "outputs": [],
   "source": [
    "ws_unsegmented.voxel_length = 1.5e-6"
   ]
  },
  {
   "cell_type": "markdown",
   "metadata": {},
   "source": [
    "The workspace class can also store the material orientation for each voxel in the domain. This data can either be imported, or can be computed using puma.compute_orientation_st, which applies the structure-tensor method to estimate the material orientation. "
   ]
  },
  {
   "cell_type": "markdown",
   "metadata": {},
   "source": [
    "## Workspace import and export\n",
    "Now we will give examples of input and output for the workspace class. \n",
    "\n",
    "PuMA import and export uses three different file types: 3D tiff, vti, and binary (extension is .pumapy)\n",
    "\n",
    "The 3D tiff images only include the 3d matrix data for the grayscale values. vti and binary, however, includes all data associated with the puma workspace class, including the matrix data, the orientation data (if used) and the voxel length. \n",
    "\n",
    "3D tiff images are often the exported data format for tomography imaging, so they are included in PuMA. If you have a tomographic image that uses a different file format, it is recommended to use an external image processing software (FIJI is recommended - https://imagej.net/software/fiji/) and convert the image to a 3D tiff before importing into pumapy.\n",
    "\n",
    "Below we will show an example of importing, visualizing, and exporting each of the three different file formats:\n",
    "\n"
   ]
  },
  {
   "cell_type": "code",
   "execution_count": null,
   "metadata": {},
   "outputs": [],
   "source": [
    "ws_vtk = puma.import_vti(\"../tests/testdata/fibers_with_orientation.vti\")\n",
    "\n",
    "puma.plot_slices(ws_vtk, index=10)\n",
    "puma.render_contour(ws_vtk,(128,255))\n",
    "puma.render_orientation(ws_vtk)\n",
    "\n",
    "print(\"Voxel Length: \", ws_vtk.voxel_length)\n",
    "\n",
    "puma.export_vti(\"../tests/testdata/fibers_with_orientation.vti\", ws_vtk)\n",
    "\n",
    "# Note - there is a known bug with visualizations on MacOS where the visualization is unresponsive when first opened.\n",
    "# This is an issue with the VTK conda installation. To solve the problem, simply shrink then re-open the window, and\n",
    "# the visualization should work properly"
   ]
  },
  {
   "cell_type": "code",
   "execution_count": null,
   "metadata": {},
   "outputs": [],
   "source": [
    "ws_binary = puma.import_bin(\"../tests/testdata/fibers_with_orientation.pumapy\")\n",
    "\n",
    "puma.plot_slices(ws_binary, index=10)\n",
    "puma.render_contour(ws_binary,(128,255))\n",
    "puma.render_orientation(ws_binary)\n",
    "\n",
    "print(\"Voxel Length: \", ws_binary.voxel_length)\n",
    "\n",
    "puma.export_bin(\"../tests/testdata/fibers_with_orientation.vti\", ws_binary)\n"
   ]
  },
  {
   "cell_type": "code",
   "execution_count": null,
   "metadata": {},
   "outputs": [],
   "source": [
    "ws_tiff = puma.import_3Dtiff(\"../tests/testdata/fibers.tiff\")\n",
    "\n",
    "puma.plot_slices(ws_tiff, index=10)\n",
    "puma.render_contour(ws_tiff,(128,255))\n",
    "\n",
    "print(\"Voxel Length: \", ws_tiff.voxel_length)\n",
    "\n",
    "puma.export_3Dtiff(\"../tests/testdata/fibers.tiff\", ws_tiff)"
   ]
  },
  {
   "cell_type": "markdown",
   "metadata": {},
   "source": [
    "As you can see, with the 3D tiff import, the voxel length of the original workspace and the orientation is not preserved. The voxel length can be set by either adding it as an option to the 3D tiff import call, or by setting it directly: "
   ]
  },
  {
   "cell_type": "code",
   "execution_count": null,
   "metadata": {},
   "outputs": [],
   "source": [
    "ws_tiff = puma.import_3Dtiff(\"../tests/testdata/fibers.tiff\",1.3e-6)\n",
    "print(\"Voxel Length - passed to input function: \", ws_tiff.voxel_length)\n",
    "\n",
    "ws_tiff = puma.import_3Dtiff(\"../tests/testdata/fibers.tiff\")\n",
    "print(\"Voxel Length - no input set: \", ws_tiff.voxel_length)\n",
    "ws_tiff.voxel_length = 1.3e-6\n",
    "print(\"Voxel Length - manually changed: \", ws_tiff.voxel_length)\n"
   ]
  },
  {
   "cell_type": "code",
   "execution_count": null,
   "metadata": {},
   "outputs": [],
   "source": []
  }
 ],
 "metadata": {
  "kernelspec": {
   "display_name": "Python 3",
   "language": "python",
   "name": "python3"
  },
  "language_info": {
   "codemirror_mode": {
    "name": "ipython",
    "version": 3
   },
   "file_extension": ".py",
   "mimetype": "text/x-python",
   "name": "python",
   "nbconvert_exporter": "python",
   "pygments_lexer": "ipython3",
   "version": "3.7.4"
  }
 },
 "nbformat": 4,
 "nbformat_minor": 4
}
