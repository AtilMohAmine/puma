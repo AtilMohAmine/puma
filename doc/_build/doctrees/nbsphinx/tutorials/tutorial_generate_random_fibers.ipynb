{
 "cells": [
  {
   "cell_type": "markdown",
   "metadata": {
    "pycharm": {
     "name": "#%% md\n"
    }
   },
   "source": [
    "# Tutorial: Generating Random Fiber Structures\n",
    "In this tutorial we demonstrate how to generate a microstructure of random intersecting fibers"
   ]
  },
  {
   "cell_type": "markdown",
   "metadata": {},
   "source": [
    "First, we must import puma:"
   ]
  },
  {
   "cell_type": "code",
   "execution_count": 1,
   "metadata": {
    "pycharm": {
     "name": "#%%\n"
    }
   },
   "outputs": [],
   "source": [
    "import numpy as np\n",
    "import os\n",
    "import sys\n",
    "\n",
    "# Note - \"conda activate pumapy\" must be run prior to calling pumapy\n",
    "import pumapy as puma\n"
   ]
  },
  {
   "cell_type": "markdown",
   "metadata": {},
   "source": [
    "Next we generate the fiber structure and store it into the PuMA workspace class. "
   ]
  },
  {
   "cell_type": "code",
   "execution_count": null,
   "metadata": {
    "pycharm": {
     "name": "#%%\n"
    }
   },
   "outputs": [],
   "source": [
    "size = (400,400,400)  # size of the domain, in voxels. \n",
    "radius = 8  # radius of the fibers to be generated, in voxels\n",
    "nFibers = None # Can specify either the number of fibers or the porosity\n",
    "porosity = 0.8  # porosity of the overall structure\n",
    "phi = 90 # A value between 0 and 90 that controls the amount that the fibers lie *out of* the XY plane,\n",
    "         # with 0 meaning all fibers lie in the XY plane, and 90 meaning that cylinders are randomly oriented out of the\n",
    "         # plane by as much as +/- 90 degrees.\n",
    "theta = 90 # A value between 0 and 90 that controls the amount of rotation *in the* XY plane,\n",
    "           # with 0 meaning all fibers point in the X-direction, and 90 meaning they are randomly rotated about the\n",
    "           # Z axis by as much as +/- 90 degrees.\n",
    "length = 200 # Length of the fibers to be generated\n",
    "\n",
    "ws_fibers = puma.generate_random_fibers(size,radius,nFibers,porosity,phi,theta,length)\n",
    "\n"
   ]
  },
  {
   "cell_type": "markdown",
   "metadata": {},
   "source": [
    "The material is now stored in the puma workspace, ws_fibers. By default, the grayscale value of 0 is assigned to the void space and a grayscale value of 1 is assigned to the material. \n",
    "\n",
    "Next we will visualize the domain: "
   ]
  },
  {
   "cell_type": "code",
   "execution_count": null,
   "metadata": {},
   "outputs": [],
   "source": [
    "# visualizing the solid domain\n",
    "puma.render_contour(ws_fibers, (1,1))"
   ]
  },
  {
   "cell_type": "markdown",
   "metadata": {},
   "source": [
    "If you would like to visualize the individual sices, this can be done using the plot_slices function"
   ]
  },
  {
   "cell_type": "code",
   "execution_count": null,
   "metadata": {},
   "outputs": [],
   "source": [
    "puma.plot_slices(ws_fibers)\n"
   ]
  },
  {
   "cell_type": "code",
   "execution_count": null,
   "metadata": {},
   "outputs": [],
   "source": []
  }
 ],
 "metadata": {
  "kernelspec": {
   "display_name": "Python 3",
   "language": "python",
   "name": "python3"
  },
  "language_info": {
   "codemirror_mode": {
    "name": "ipython",
    "version": 3
   },
   "file_extension": ".py",
   "mimetype": "text/x-python",
   "name": "python",
   "nbconvert_exporter": "python",
   "pygments_lexer": "ipython3",
   "version": "3.7.4"
  }
 },
 "nbformat": 4,
 "nbformat_minor": 4
}
