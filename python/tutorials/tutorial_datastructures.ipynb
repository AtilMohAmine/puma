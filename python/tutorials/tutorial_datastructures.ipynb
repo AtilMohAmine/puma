{
 "cells": [
  {
   "cell_type": "markdown",
   "metadata": {
    "pycharm": {
     "name": "#%% md\n"
    }
   },
   "source": [
    "# Tutorial: Data structures\n",
    "In this tutorial we demonstrate the use of the data structures at the basis of PuMA, i.e. matrix\n",
    "(which in PuMApy is just a 3D numpy array) and workspace classes. Let's start by importing the project,\n",
    "which is stored one directory upward:"
   ]
  },
  {
   "cell_type": "code",
   "execution_count": 1,
   "metadata": {
    "pycharm": {
     "name": "#%%\n"
    }
   },
   "outputs": [],
   "source": [
    "import numpy as np\n",
    "import pumapy as puma\n",
    "%matplotlib widget"
   ]
  },
  {
   "cell_type": "markdown",
   "metadata": {},
   "source": [
    "Next we show the different ways we have implemented to define a workspace class:"
   ]
  },
  {
   "cell_type": "code",
   "execution_count": null,
   "metadata": {
    "pycharm": {
     "name": "#%%\n"
    }
   },
   "outputs": [],
   "source": [
    "ws1 = puma.Workspace.from_shape((10, 11, 12))\n",
    "ws2 = puma.Workspace.from_shape_value((10, 11, 12), 0)\n",
    "ws3 = puma.Workspace.from_array(np.random.randint(5, size=(10, 10, 10)))\n",
    "ws4 = puma.Workspace()\n",
    "ws4.matrix = np.random.randint(5, size=(10, 10, 10))"
   ]
  },
  {
   "cell_type": "code",
   "execution_count": null,
   "metadata": {},
   "outputs": [],
   "source": [
    "plot = puma.plot_slices(ws3)  # need to save object to keep it interactive\n",
    "compare = puma.compare_slices(ws3, ws4)"
   ]
  }
 ],
 "metadata": {
  "kernelspec": {
   "display_name": "Python 3",
   "language": "python",
   "name": "python3"
  },
  "language_info": {
   "codemirror_mode": {
    "name": "ipython",
    "version": 3
   },
   "file_extension": ".py",
   "mimetype": "text/x-python",
   "name": "python",
   "nbconvert_exporter": "python",
   "pygments_lexer": "ipython3",
   "version": "3.7.4"
  }
 },
 "nbformat": 4,
 "nbformat_minor": 4
}
