{
 "cells": [
  {
   "cell_type": "markdown",
   "metadata": {
    "pycharm": {
     "name": "#%% md\n"
    }
   },
   "source": [
    "# Tutorial: Generating Random Sphere Structures\n",
    "In this tutorial we demonstrate how to generate a microstructure of random intersecting spheres"
   ]
  },
  {
   "cell_type": "code",
   "execution_count": null,
   "metadata": {},
   "outputs": [],
   "source": [
    "# Run this line only the first time you open a tutorial in Google Colab\n",
    "!pip install 'git+https://github.com/nasa/puma.git'"
   ]
  },
  {
   "cell_type": "markdown",
   "metadata": {},
   "source": [
    "First, we must import puma:"
   ]
  },
  {
   "cell_type": "code",
   "execution_count": 1,
   "metadata": {
    "pycharm": {
     "name": "#%%\n"
    }
   },
   "outputs": [],
   "source": [
    "import pumapy as puma"
   ]
  },
  {
   "cell_type": "markdown",
   "metadata": {},
   "source": [
    "Next we generate the sphere structure and store it into the PuMA workspace class. "
   ]
  },
  {
   "cell_type": "code",
   "execution_count": null,
   "metadata": {
    "pycharm": {
     "name": "#%%\n"
    }
   },
   "outputs": [],
   "source": [
    "size = (400,400,400)  # size of the domain, in voxels. \n",
    "diameter = 20  # diameter of the spheres to be generated, in voxels\n",
    "porosity = 0.8  # porosity of the overall structure\n",
    "allow_intersections = True # flag on whether to allow intersections between spheres. \n",
    "# Note: If allow_intersections is set to false, it will be significantly slower to generate,\n",
    "#.      and will usually require a fairly high porosity value to be generated\n",
    "\n",
    "ws_spheres = puma.generate_random_spheres(size, diameter, porosity, allow_intersections)\n",
    "\n"
   ]
  },
  {
   "cell_type": "markdown",
   "metadata": {},
   "source": [
    "The material is now stored in the puma workspace, ws_spheres. By default, the grayscale range of [0,127] corresponds to the void space, and [128,255] contains the material. \n",
    "\n",
    "Next we will visualize the domain: "
   ]
  },
  {
   "cell_type": "code",
   "execution_count": null,
   "metadata": {},
   "outputs": [],
   "source": [
    "# visualizing the solid domain, contained in [128,255] grayscale range. \n",
    "puma.render_contour(ws_spheres, (128,255))"
   ]
  },
  {
   "cell_type": "markdown",
   "metadata": {},
   "source": [
    "If you would like to segment the domain, that can be done using the binarize function, or the set_material_id function. "
   ]
  },
  {
   "cell_type": "code",
   "execution_count": null,
   "metadata": {},
   "outputs": [],
   "source": [
    "puma.plot_slices(ws_spheres)\n",
    "\n",
    "# binarize(128) sets all grayscale values below 128 to 0, and all grayscale values above and equal to 128 to 1\n",
    "ws_spheres.binarize(128)\n",
    "\n",
    "puma.plot_slices(ws_spheres)"
   ]
  },
  {
   "cell_type": "code",
   "execution_count": null,
   "metadata": {},
   "outputs": [],
   "source": []
  }
 ],
 "metadata": {
  "kernelspec": {
   "display_name": "Python 3",
   "language": "python",
   "name": "python3"
  },
  "language_info": {
   "codemirror_mode": {
    "name": "ipython",
    "version": 3
   },
   "file_extension": ".py",
   "mimetype": "text/x-python",
   "name": "python",
   "nbconvert_exporter": "python",
   "pygments_lexer": "ipython3",
   "version": "3.7.9"
  }
 },
 "nbformat": 4,
 "nbformat_minor": 4
}