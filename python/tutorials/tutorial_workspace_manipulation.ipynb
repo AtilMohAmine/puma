{
 "cells": [
  {
   "cell_type": "markdown",
   "metadata": {
    "pycharm": {
     "name": "#%% md\n"
    }
   },
   "source": [
    "# Tutorial: Workspace Manipulations\n",
    "In this tutorial we demonstrate how to create a workspace and perform basic operations on it, including cropping, rotation, thresholding."
   ]
  },
  {
   "cell_type": "markdown",
   "metadata": {},
   "source": [
    "First, we import puma. Note that in order to run pumapy, the pumapy conda environment must first be activated, by executing \"conda activate puma\" in a terminal"
   ]
  },
  {
   "cell_type": "code",
   "execution_count": 2,
   "metadata": {
    "pycharm": {
     "name": "#%%\n"
    }
   },
   "outputs": [],
   "source": [
    "import numpy as np\n",
    "import pumapy as puma\n",
    "import os\n",
    "%matplotlib widget"
   ]
  },
  {
   "cell_type": "markdown",
   "metadata": {},
   "source": [
    "A workspace is the datastructure at the basis of both PuMA and pumapy and it is basically a container for the material sample that you want to analyze. A workspace is made of little cubes, or voxels (i.e. 3D pixels), holding a value. This simple element definition (formally called Cartesian grid) allows for very fast operations. Inside a workspace object, two different arrays are defined: one called \"matrix\" and the other called \"orientation\". Both of these are nothing but a 3D Numpy array for the matrix (X,Y,Z dimensions of the domain) and a 4D Numpy array for the orientation (dimensions of X,Y,Z,3 for vectors throughout the domain). \n",
    "\n",
    "Next we show the different ways we have implemented to define a workspace class:"
   ]
  },
  {
   "cell_type": "code",
   "execution_count": 21,
   "metadata": {},
   "outputs": [
    {
     "name": "stdout",
     "output_type": "stream",
     "text": [
      "Shape of workspace 1: (20, 31, 212)\n",
      "\n",
      "Shape of workspace 2: (20, 31, 212)\n",
      "\n",
      "Matrix shape of workspace 3: (5, 6, 2)\n",
      "Orientation shape of workspace 3: (5, 6, 2, 3)\n",
      "Display Workspace 3 matrix\n",
      "\n",
      "3D Workspace:\n",
      "  o---> y\n",
      "  |\n",
      "x v\n",
      "[(:,:,0)\n",
      "[[1 1 1 1 1 1]\n",
      "[1 1 1 1 1 1]\n",
      "[1 1 1 1 1 1]\n",
      "[1 1 1 1 1 1]\n",
      "[1 1 1 1 1 1]\n",
      "\n",
      "(:,:,1)\n",
      "[[1 1 1 1 1 1]\n",
      "[1 1 1 1 1 1]\n",
      "[1 1 1 1 1 1]\n",
      "[1 1 1 1 1 1]\n",
      "[1 1 1 1 1 1]]\n",
      "\n",
      " Display Workspace 3 orientation\n",
      "\n",
      "3D Orientation:\n",
      "  o---> y\n",
      "  |\n",
      "x v\n",
      "[(:,:,0)\n",
      "[[(0.4, 2.0, 5.0) (0.4, 2.0, 5.0) (0.4, 2.0, 5.0) (0.4, 2.0, 5.0) (0.4, 2.0, 5.0) (0.4, 2.0, 5.0)]\n",
      "[(0.4, 2.0, 5.0) (0.4, 2.0, 5.0) (0.4, 2.0, 5.0) (0.4, 2.0, 5.0) (0.4, 2.0, 5.0) (0.4, 2.0, 5.0)]\n",
      "[(0.4, 2.0, 5.0) (0.4, 2.0, 5.0) (0.4, 2.0, 5.0) (0.4, 2.0, 5.0) (0.4, 2.0, 5.0) (0.4, 2.0, 5.0)]\n",
      "[(0.4, 2.0, 5.0) (0.4, 2.0, 5.0) (0.4, 2.0, 5.0) (0.4, 2.0, 5.0) (0.4, 2.0, 5.0) (0.4, 2.0, 5.0)]\n",
      "[(0.4, 2.0, 5.0) (0.4, 2.0, 5.0) (0.4, 2.0, 5.0) (0.4, 2.0, 5.0) (0.4, 2.0, 5.0) (0.4, 2.0, 5.0)]\n",
      "\n",
      "(:,:,1)\n",
      "[[(0.4, 2.0, 5.0) (0.4, 2.0, 5.0) (0.4, 2.0, 5.0) (0.4, 2.0, 5.0) (0.4, 2.0, 5.0) (0.4, 2.0, 5.0)]\n",
      "[(0.4, 2.0, 5.0) (0.4, 2.0, 5.0) (0.4, 2.0, 5.0) (0.4, 2.0, 5.0) (0.4, 2.0, 5.0) (0.4, 2.0, 5.0)]\n",
      "[(0.4, 2.0, 5.0) (0.4, 2.0, 5.0) (0.4, 2.0, 5.0) (0.4, 2.0, 5.0) (0.4, 2.0, 5.0) (0.4, 2.0, 5.0)]\n",
      "[(0.4, 2.0, 5.0) (0.4, 2.0, 5.0) (0.4, 2.0, 5.0) (0.4, 2.0, 5.0) (0.4, 2.0, 5.0) (0.4, 2.0, 5.0)]\n",
      "[(0.4, 2.0, 5.0) (0.4, 2.0, 5.0) (0.4, 2.0, 5.0) (0.4, 2.0, 5.0) (0.4, 2.0, 5.0) (0.4, 2.0, 5.0)]]\n",
      "\n",
      " Display Workspace 5\n",
      "\n",
      "3D Workspace:\n",
      "  o---> y\n",
      "  |\n",
      "x v\n",
      "[(:,:,0)\n",
      "[[0 4 1 3 3 3 3 2 2 2]\n",
      "[1 1 2 0 4 4 1 4 2 2]\n",
      "[2 3 0 3 1 2 4 0 3 1]\n",
      "[2 4 0 2 3 0 0 3 0 4]\n",
      "[1 4 1 4 2 3 3 3 4 3]\n",
      "[2 2 1 0 0 3 3 2 1 1]\n",
      "[3 2 2 4 0 1 4 1 0 2]\n",
      "[0 2 3 1 4 3 4 3 2 3]\n",
      "[4 4 2 0 4 4 2 1 2 0]\n",
      "[3 1 2 1 3 3 4 1 3 0]\n",
      "\n",
      "(:,:,1)\n",
      "[[0 4 2 1 4 3 4 2 0 1]\n",
      "[0 3 4 1 1 4 3 1 2 1]\n",
      "[0 3 4 0 2 1 1 4 1 3]\n",
      "[1 2 4 1 2 3 1 2 2 1]\n",
      "[3 3 3 3 0 1 0 2 3 3]\n",
      "[2 2 3 2 1 2 4 4 0 1]\n",
      "[0 1 1 1 4 2 2 2 3 0]\n",
      "[3 0 1 2 4 2 0 1 4 3]\n",
      "[4 2 4 1 2 2 2 1 0 1]\n",
      "[2 0 1 3 3 2 1 1 1 3]\n",
      "\n",
      "(:,:,2)\n",
      "[[4 2 3 1 1 0 2 3 0 3]\n",
      "[4 3 4 4 4 3 3 0 2 0]\n",
      "[3 3 2 1 0 4 4 3 3 3]\n",
      "[3 3 4 4 4 0 0 4 0 1]\n",
      "[4 2 2 2 2 3 3 2 3 3]\n",
      "[2 3 0 3 1 0 3 3 2 1]\n",
      "[0 3 3 1 0 4 1 1 3 2]\n",
      "[3 0 4 3 1 2 3 0 3 3]\n",
      "[3 2 3 2 2 4 4 1 1 0]\n",
      "[0 2 4 4 3 0 3 1 1 0]]\n"
     ]
    }
   ],
   "source": [
    "# defines a workspace full of zeros of shape 10x11x12\n",
    "ws1 = puma.Workspace.from_shape((10, 11, 12))\n",
    "print(\"Shape of workspace 1: {}\\n\".format(ws2.matrix.shape))\n",
    "\n",
    "# defines a workspace of shape 10x11x12, full of a custom value (in this case ones)\n",
    "ws2 = puma.Workspace.from_shape_value((20, 31, 212), 1)\n",
    "print(\"Shape of workspace 2: {}\\n\".format(ws2.matrix.shape))\n",
    "\n",
    "# defines a workspace of shape 10x11x12, full of a custom value (in this case ones)\n",
    "ws3 = puma.Workspace.from_shape_value_vector((5, 6, 2), 1, (0.4, 2, 5))\n",
    "print(\"Matrix shape of workspace 3: {}\".format(ws3.matrix.shape))\n",
    "print(\"Orientation shape of workspace 3: {}\".format(ws3.orientation.shape))\n",
    "print(\"Display Workspace 3 matrix\")\n",
    "ws3.show_matrix()\n",
    "print(\"\\n Display Workspace 3 orientation\")\n",
    "ws3.show_orientation()\n",
    "\n",
    "# we can also convert a Numpy array into a Workspace as follows:\n",
    "array = np.random.randint(5, size=(10, 10, 10))\n",
    "ws4 = puma.Workspace.from_array(array)\n",
    "\n",
    "# finally, we can also create an empty workspace object and assign its matrix directly as:\n",
    "ws5 = puma.Workspace()\n",
    "ws5.matrix = np.random.randint(5, size=(10, 10, 3))\n",
    "print(\"\\n Display Workspace 5\")\n",
    "ws5.show_matrix()"
   ]
  },
  {
   "cell_type": "markdown",
   "metadata": {},
   "source": [
    "It is important to keep the first three dimensions (X,Y,Z) of the matrix and orientation class variables the same. This is automatically enforced by using the class methods, but it is not when assigning them directly as in the last two examples. \n",
    "\n",
    "We can import a tomography image directly into a workspace: "
   ]
  },
  {
   "cell_type": "code",
   "execution_count": 4,
   "metadata": {
    "pycharm": {
     "name": "#%%\n"
    }
   },
   "outputs": [
    {
     "name": "stdout",
     "output_type": "stream",
     "text": [
      "Importing /Users/fsemerar/Documents/PuMA_playground/puma-dev/python/tests/testdata/200_FiberForm.tif ... Done\n"
     ]
    }
   ],
   "source": [
    "ws_raw = puma.import_3Dtiff(os.environ['PuMA_DIR'] + \"/python/tests/testdata/200_FiberForm.tif\", 1.3e-6)"
   ]
  },
  {
   "cell_type": "markdown",
   "metadata": {},
   "source": [
    "The voxel length of the workspace can either be set during import of a 3D tiff, or manually afterwards, as shown below: "
   ]
  },
  {
   "cell_type": "code",
   "execution_count": 5,
   "metadata": {},
   "outputs": [],
   "source": [
    "ws_raw.voxel_length = 1.3e-6"
   ]
  },
  {
   "cell_type": "markdown",
   "metadata": {},
   "source": [
    "We can visualize its slices by running the command below. By scrolling on top of the plot, you can slice through the material along the z axis. You can also use the left/right arrows on the keyboard to skip +/-10 slices or the up/down arrows to skip +/-100 slices. In addition, on the bottom of the plot, the (x,y) coordinates are shown along with the corresponding grayscale value. "
   ]
  },
  {
   "cell_type": "code",
   "execution_count": 7,
   "metadata": {
    "scrolled": true
   },
   "outputs": [
    {
     "data": {
      "application/vnd.jupyter.widget-view+json": {
       "model_id": "628222292efe447ea9c855e85cbda59b",
       "version_major": 2,
       "version_minor": 0
      },
      "text/plain": [
       "Canvas(toolbar=Toolbar(toolitems=[('Home', 'Reset original view', 'home', 'home'), ('Back', 'Back to previous …"
      ]
     },
     "metadata": {},
     "output_type": "display_data"
    },
    {
     "data": {
      "text/plain": [
       "<pumapy.visualization.slicer.PlotSlicer at 0x7fcb893db7d0>"
      ]
     },
     "execution_count": 7,
     "metadata": {},
     "output_type": "execute_result"
    }
   ],
   "source": [
    "puma.plot_slices(ws_raw)"
   ]
  },
  {
   "cell_type": "markdown",
   "metadata": {},
   "source": [
    "Next, we show how to manipulate the domain, e.g. crop, rescale, resize and rotate it. \n",
    "\n",
    "An approach to crop a domain is the following:"
   ]
  },
  {
   "cell_type": "code",
   "execution_count": 33,
   "metadata": {},
   "outputs": [
    {
     "name": "stdout",
     "output_type": "stream",
     "text": [
      "Original workspace shape: (200, 200, 200)\n",
      "Crop of copied workspace shape: (30, 165, 20)\n"
     ]
    }
   ],
   "source": [
    "ws_copy = ws_raw.copy()\n",
    "ws_copy.matrix = ws_copy.matrix[10:40, 35:, -20:]\n",
    "print(\"Shape of original workspace: {}\".format(ws_raw.get_shape()))\n",
    "print(\"Shape of cropped workspace: {}\".format(ws_copy.get_shape()))"
   ]
  },
  {
   "cell_type": "markdown",
   "metadata": {},
   "source": [
    "However, it is important to not fall in the trap of referencing the same Numpy array. Here is an example of how YOU SHOULDN'T perform cropping:"
   ]
  },
  {
   "cell_type": "code",
   "execution_count": null,
   "metadata": {},
   "outputs": [],
   "source": [
    "ws_bad = puma.Workspace()\n",
    "ws_bad.matrix = ws_raw[10:40, 35:, -20:]\n",
    "ws_bad[0, 0, 0] = np.random.randint(0, 255)\n",
    "print(ws_raw.matrix[10, 35, -20])\n",
    "print(ws_bad.matrix[0, 0, 0])"
   ]
  },
  {
   "cell_type": "markdown",
   "metadata": {},
   "source": [
    "As you can see from the output, now both the original Workspace and the newly created one share the same Numpy array for the matrix class variable (the second one is only a section of it). This way, when one is changed, the other one is changed as well. It is important to make a copy of a domain if the original workspace needs to be kept.\n",
    "\n",
    "Next, we show how we can rescale a domain by a factor or resize it to a specified size. "
   ]
  },
  {
   "cell_type": "code",
   "execution_count": 38,
   "metadata": {},
   "outputs": [
    {
     "name": "stdout",
     "output_type": "stream",
     "text": [
      "Rescaled workspace size: (100, 100, 100)\n"
     ]
    },
    {
     "ename": "Exception",
     "evalue": "Slice direction can only be along 'x', 'y' or 'z'",
     "output_type": "error",
     "traceback": [
      "\u001b[0;31m---------------------------------------------------------------------------\u001b[0m",
      "\u001b[0;31mException\u001b[0m                                 Traceback (most recent call last)",
      "\u001b[0;32m<ipython-input-38-645eadaf3220>\u001b[0m in \u001b[0;36m<module>\u001b[0;34m\u001b[0m\n\u001b[1;32m      3\u001b[0m \u001b[0;34m\u001b[0m\u001b[0m\n\u001b[1;32m      4\u001b[0m \u001b[0;31m# help(puma.compare_slices)\u001b[0m\u001b[0;34m\u001b[0m\u001b[0;34m\u001b[0m\u001b[0;34m\u001b[0m\u001b[0m\n\u001b[0;32m----> 5\u001b[0;31m \u001b[0mpuma\u001b[0m\u001b[0;34m.\u001b[0m\u001b[0mcompare_slices\u001b[0m\u001b[0;34m(\u001b[0m\u001b[0mws_raw\u001b[0m\u001b[0;34m,\u001b[0m \u001b[0mws_copy\u001b[0m\u001b[0;34m)\u001b[0m\u001b[0;34m\u001b[0m\u001b[0;34m\u001b[0m\u001b[0m\n\u001b[0m",
      "\u001b[0;32m~/opt/anaconda3/envs/pumapy/lib/python3.7/site-packages/pumapy-1.0-py3.7-macosx-10.9-x86_64.egg/pumapy/visualization/slicer.py\u001b[0m in \u001b[0;36mcompare_slices\u001b[0;34m(ws_nparray1, ws_nparray2, slice_direction, crange1, cmap1, crange2, cmap2, index)\u001b[0m\n\u001b[1;32m     54\u001b[0m     \"\"\"\n\u001b[1;32m     55\u001b[0m \u001b[0;34m\u001b[0m\u001b[0m\n\u001b[0;32m---> 56\u001b[0;31m     \u001b[0mimg1\u001b[0m\u001b[0;34m,\u001b[0m \u001b[0mimg2\u001b[0m \u001b[0;34m=\u001b[0m \u001b[0mCompareSlicer\u001b[0m\u001b[0;34m.\u001b[0m\u001b[0merror_checks\u001b[0m\u001b[0;34m(\u001b[0m\u001b[0mws_nparray1\u001b[0m\u001b[0;34m,\u001b[0m \u001b[0mws_nparray2\u001b[0m\u001b[0;34m,\u001b[0m \u001b[0mslice_direction\u001b[0m\u001b[0;34m)\u001b[0m\u001b[0;34m\u001b[0m\u001b[0;34m\u001b[0m\u001b[0m\n\u001b[0m\u001b[1;32m     57\u001b[0m     \u001b[0;32mif\u001b[0m \u001b[0mimg1\u001b[0m \u001b[0;32mis\u001b[0m \u001b[0;32mNone\u001b[0m\u001b[0;34m:\u001b[0m\u001b[0;34m\u001b[0m\u001b[0;34m\u001b[0m\u001b[0m\n\u001b[1;32m     58\u001b[0m         \u001b[0;32mreturn\u001b[0m\u001b[0;34m\u001b[0m\u001b[0;34m\u001b[0m\u001b[0m\n",
      "\u001b[0;32m~/opt/anaconda3/envs/pumapy/lib/python3.7/site-packages/pumapy-1.0-py3.7-macosx-10.9-x86_64.egg/pumapy/visualization/slicer.py\u001b[0m in \u001b[0;36merror_checks\u001b[0;34m(img, img2, slice_direction)\u001b[0m\n\u001b[1;32m    156\u001b[0m                     \u001b[0;34m(\u001b[0m\u001b[0mslice_direction\u001b[0m \u001b[0;34m==\u001b[0m \u001b[0;34m'y'\u001b[0m \u001b[0;32mand\u001b[0m \u001b[0mimg\u001b[0m\u001b[0;34m.\u001b[0m\u001b[0mshape\u001b[0m\u001b[0;34m[\u001b[0m\u001b[0;36m1\u001b[0m\u001b[0;34m]\u001b[0m \u001b[0;34m!=\u001b[0m \u001b[0mimg2\u001b[0m\u001b[0;34m.\u001b[0m\u001b[0mshape\u001b[0m\u001b[0;34m[\u001b[0m\u001b[0;36m1\u001b[0m\u001b[0;34m]\u001b[0m\u001b[0;34m)\u001b[0m \u001b[0;32mor\u001b[0m\u001b[0;34m\u001b[0m\u001b[0;34m\u001b[0m\u001b[0m\n\u001b[1;32m    157\u001b[0m                     (slice_direction == 'z' and img.shape[2] != img2.shape[2])):\n\u001b[0;32m--> 158\u001b[0;31m                 \u001b[0;32mraise\u001b[0m \u001b[0mException\u001b[0m\u001b[0;34m(\u001b[0m\u001b[0;34m\"Slice direction can only be along 'x', 'y' or 'z'\"\u001b[0m\u001b[0;34m)\u001b[0m\u001b[0;34m\u001b[0m\u001b[0;34m\u001b[0m\u001b[0m\n\u001b[0m\u001b[1;32m    159\u001b[0m         \u001b[0;32mreturn\u001b[0m \u001b[0mimg\u001b[0m\u001b[0;34m,\u001b[0m \u001b[0mimg2\u001b[0m\u001b[0;34m\u001b[0m\u001b[0;34m\u001b[0m\u001b[0m\n\u001b[1;32m    160\u001b[0m \u001b[0;34m\u001b[0m\u001b[0m\n",
      "\u001b[0;31mException\u001b[0m: Slice direction can only be along 'x', 'y' or 'z'"
     ]
    }
   ],
   "source": [
    "ws_copy = ws_raw.copy()\n",
    "ws_copy.rescale(scale=0.5, segmented=False)\n",
    "\n",
    "# help(puma.compare_slices)\n",
    "# puma.compare_slices(ws_raw, ws_copy)"
   ]
  }
 ],
 "metadata": {
  "kernelspec": {
   "display_name": "Python 3",
   "language": "python",
   "name": "python3"
  },
  "language_info": {
   "codemirror_mode": {
    "name": "ipython",
    "version": 3
   },
   "file_extension": ".py",
   "mimetype": "text/x-python",
   "name": "python",
   "nbconvert_exporter": "python",
   "pygments_lexer": "ipython3",
   "version": "3.7.4"
  }
 },
 "nbformat": 4,
 "nbformat_minor": 4
}
