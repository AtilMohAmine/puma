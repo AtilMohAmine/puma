{
 "cells": [
  {
   "cell_type": "markdown",
   "metadata": {},
   "source": [
    "# Tutorial: Permeability\n",
    "In this tutorial we demonstrate the use of the compute_permeability function. "
   ]
  },
  {
   "cell_type": "code",
   "execution_count": 1,
   "metadata": {
    "pycharm": {
     "is_executing": true
    }
   },
   "outputs": [],
   "source": [
    "import os\n",
    "import pumapy as puma\n",
    "import numpy as np\n",
    "from matplotlib import pyplot as plt\n",
    "%matplotlib widget"
   ]
  },
  {
   "cell_type": "code",
   "execution_count": 2,
   "metadata": {},
   "outputs": [
    {
     "ename": "NameError",
     "evalue": "name 'pumadir' is not defined",
     "output_type": "error",
     "traceback": [
      "\u001b[0;31m---------------------------------------------------------------------------\u001b[0m",
      "\u001b[0;31mNameError\u001b[0m                                 Traceback (most recent call last)",
      "\u001b[0;32m<ipython-input-2-c6aa4cc1ae11>\u001b[0m in \u001b[0;36m<module>\u001b[0;34m\u001b[0m\n\u001b[0;32m----> 1\u001b[0;31m \u001b[0mexport_path\u001b[0m \u001b[0;34m=\u001b[0m \u001b[0mpumadir\u001b[0m \u001b[0;34m+\u001b[0m \u001b[0;34m\"/tests/out/\"\u001b[0m\u001b[0;34m\u001b[0m\u001b[0;34m\u001b[0m\u001b[0m\n\u001b[0m",
      "\u001b[0;31mNameError\u001b[0m: name 'pumadir' is not defined"
     ]
    }
   ],
   "source": [
    "pumadir = 'python'\n",
    "export_path = pumadir + \"/tests/out/\""
   ]
  },
  {
   "cell_type": "markdown",
   "metadata": {},
   "source": [
    "### Analytical Solution"
   ]
  },
  {
   "cell_type": "code",
   "execution_count": null,
   "metadata": {},
   "outputs": [],
   "source": [
    "r = 0.1  # circles radius\n",
    "c = 0.0632  # solid volume fraction\n",
    "analytical = (r**2)*(-np.log(c) - 1.47633597 + (2*c) - 1.77428264 * (c**2) +\n",
    "                     4.07770444 * (c**3) - 4.84227402 * (c**4))/(8*c)\n",
    "print(\"Analytical solution: {}, {}\\n\".format(analytical, 0))"
   ]
  },
  {
   "cell_type": "code",
   "execution_count": null,
   "metadata": {},
   "outputs": [],
   "source": [
    "ws = puma.generate_2d_square_array(100, 1. - c)\n",
    "ws.binarize_range((140, 255))\n",
    "ws.set_voxel_length(1e-2)\n",
    "ws.plot_slices()"
   ]
  },
  {
   "cell_type": "code",
   "execution_count": null,
   "metadata": {},
   "outputs": [],
   "source": [
    "keff, pressure, velocity = puma.compute_permeability(ws, \"x\", (1, 1), side_bc=\"p\", pressure_driven=False)\n",
    "print(\"Computational result: {}, {}\\n\".format(keff[0], keff[1]))"
   ]
  },
  {
   "cell_type": "code",
   "execution_count": null,
   "metadata": {},
   "outputs": [],
   "source": [
    "X, Y = np.meshgrid(np.arange(ws.len_x() + 1), np.arange(0, ws.len_y() + 1))\n",
    "\n",
    "fig, ax = plt.subplots(1, 3, figsize=(15, 5))\n",
    "fig.tight_layout(pad=4, w_pad=4, h_pad=0)\n",
    "plt.rcParams['pcolor.shading'] ='nearest'\n",
    "im1 = ax[0].pcolormesh(X, Y, pressure[:, :, 0].transpose(1, 0), vmin=-5e-3, vmax=5e-3, linewidth=0, rasterized=True)\n",
    "ax[0].set_aspect('equal', 'box')\n",
    "from mpl_toolkits.axes_grid1 import make_axes_locatable\n",
    "divider = make_axes_locatable(ax[0])\n",
    "cax = divider.append_axes('right', size='5%', pad=0.05)\n",
    "plt.colorbar(im1, aspect=20, ax=ax[0], cax=cax)\n",
    "levels = np.arange(-5e-3, 5e-3, 0.001)\n",
    "ax[0].contour(pressure[:, :, 0].transpose(1, 0), levels, linewidths=0.5, colors='k')\n",
    "\n",
    "im2 = ax[1].pcolormesh(X, Y, velocity[:, :, 0, 0].transpose(1, 0), vmin=0., vmax=0.045, linewidth=0, rasterized=True)\n",
    "ax[1].set_aspect('equal', 'box')\n",
    "divider = make_axes_locatable(ax[1])\n",
    "cax = divider.append_axes('right', size='5%', pad=0.05)\n",
    "plt.colorbar(im2, aspect=20, ax=ax[1], cax=cax)\n",
    "\n",
    "im3 = ax[2].pcolormesh(X, Y, velocity[:, :, 0, 1].transpose(1, 0), vmin=-0.016, vmax=0.016, linewidth=0, rasterized=True)\n",
    "ax[2].set_aspect('equal', 'box')\n",
    "divider = make_axes_locatable(ax[2])\n",
    "cax = divider.append_axes('right', size='5%', pad=0.05)\n",
    "plt.colorbar(im3, aspect=20, ax=ax[2], cax=cax)"
   ]
  }
 ],
 "metadata": {
  "kernelspec": {
   "display_name": "Python 3",
   "language": "python",
   "name": "python3"
  },
  "language_info": {
   "codemirror_mode": {
    "name": "ipython",
    "version": 3
   },
   "file_extension": ".py",
   "mimetype": "text/x-python",
   "name": "python",
   "nbconvert_exporter": "python",
   "pygments_lexer": "ipython3",
   "version": "3.7.4"
  }
 },
 "nbformat": 4,
 "nbformat_minor": 4
}
