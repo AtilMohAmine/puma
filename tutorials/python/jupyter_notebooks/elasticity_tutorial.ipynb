{
 "cells": [
  {
   "cell_type": "markdown",
   "metadata": {
    "pycharm": {
     "name": "#%% md\n"
    }
   },
   "source": [
    "![puma logo](https://github.com/nasa/puma/raw/main/doc/source/puma_logo.png)"
   ]
  },
  {
   "cell_type": "markdown",
   "metadata": {},
   "source": [
    "# Elasticity"
   ]
  },
  {
   "cell_type": "markdown",
   "metadata": {
    "pycharm": {
     "name": "#%% md\n"
    }
   },
   "source": [
    "The objective of this notebook is to familiarize new users with the main datastructures that stand at the basis of the\n",
    "PuMA project, and outline the functions to compute material properties (please refer to these papers\n",
    "([1](https://www.sciencedirect.com/science/article/pii/S2352711018300281),\n",
    "[2](https://www.sciencedirect.com/science/article/pii/S235271102100090X)) for more details on the software)."
   ]
  },
  {
   "cell_type": "markdown",
   "metadata": {
    "pycharm": {
     "name": "#%% md\n"
    }
   },
   "source": [
    "## Installation setup and imports"
   ]
  },
  {
   "cell_type": "markdown",
   "metadata": {
    "pycharm": {
     "name": "#%% md\n"
    }
   },
   "source": [
    "The first code block will execute the necessary installation and package import.\n",
    "\n",
    "If you are running this jupyter notebook locally on your machine, assuming you have already installed the software,\n",
    "then the installation step will be skipped"
   ]
  },
  {
   "cell_type": "code",
   "execution_count": 1,
   "metadata": {
    "pycharm": {
     "name": "#%%\n"
    }
   },
   "outputs": [],
   "source": [
    "# for interactive slicer\n",
    "%matplotlib widget\n",
    "import numpy as np\n",
    "import pumapy as puma\n",
    "import os\n",
    "\n",
    "if 'BINDER_SERVICE_HOST' in os.environ:  # ONLINE JUPYTER ON BINDER\n",
    "    from pyvirtualdisplay import Display\n",
    "    display = Display(visible=0, size=(600, 400))\n",
    "    display.start()  # necessary for pyvista interactive plots\n",
    "    notebook = True\n",
    "\n",
    "else:  # LOCAL JUPYTER NOTEBOOK\n",
    "    notebook = False  # when running locally, actually open pyvista window"
   ]
  },
  {
   "cell_type": "markdown",
   "metadata": {
    "pycharm": {
     "name": "#%% md\n"
    }
   },
   "source": [
    "## Tutorial\n",
    "\n",
    "In this tutorial we demonstrate the use of the compute_elasticity and compute_stress_analysis functions.\n",
    "These functions rely on a stress analysis solver that uses the finite volume Multi-Point Stress Approximation (MPSA) method."
   ]
  },
  {
   "cell_type": "markdown",
   "metadata": {
    "pycharm": {
     "name": "#%% md\n"
    }
   },
   "source": [
    "We will run four different verification cases. Change the path of the file outputs:"
   ]
  },
  {
   "cell_type": "code",
   "execution_count": 2,
   "metadata": {
    "pycharm": {
     "name": "#%%\n"
    }
   },
   "outputs": [],
   "source": [
    "export_path = \"out\"  # CHANGE THIS PATH\n",
    "\n",
    "if not os.path.exists(export_path):\n",
    "    os.makedirs(export_path)"
   ]
  },
  {
   "cell_type": "markdown",
   "metadata": {},
   "source": [
    "### MPSA Elasticity"
   ]
  },
  {
   "cell_type": "markdown",
   "metadata": {},
   "source": [
    "#### Example: characterizing periodic square cylinder array\n",
    "\n",
    "In this example we compute the 6x6 C tensor for a square array of cylinders and show how to convert this tensor into its\n",
    "mechanical properties (Young's moduli, Poison's ratios, Shear moduli). The results match with what is reported in\n",
    "[this paper](https://link.springer.com/article/10.1007/s00366-018-0616-4)."
   ]
  },
  {
   "cell_type": "code",
   "execution_count": 3,
   "metadata": {},
   "outputs": [
    {
     "name": "stdout",
     "output_type": "stream",
     "text": [
      "Generated in: 0.0009658159979153425 seconds\n"
     ]
    },
    {
     "name": "stderr",
     "output_type": "stream",
     "text": [
      "\u001b[0m\u001b[33m2022-11-30 13:35:47.622 (   4.383s) [        1519F740]       vtkThreshold.cxx:96    WARN| vtkThreshold::ThresholdBetween was deprecated for VTK 9.1 and will be removed in a future version.\u001b[0m\n"
     ]
    }
   ],
   "source": [
    "dim = 50\n",
    "ws = puma.generate_cylinder_square_array(dim, 0.44)\n",
    "ws.matrix = np.repeat(ws.matrix, 5, axis=2)\n",
    "puma.render_volume(ws, notebook=notebook)\n",
    "\n",
    "mat_elast = puma.ElasticityMap()\n",
    "mat_elast.add_isotropic_material((0, 0), 68.3, 0.3)\n",
    "mat_elast.add_isotropic_material((1, 1), 379.3, 0.1)"
   ]
  },
  {
   "cell_type": "code",
   "execution_count": 9,
   "metadata": {},
   "outputs": [
    {
     "name": "stdout",
     "output_type": "stream",
     "text": [
      "Approximate memory requirement for simulation: 140.99 MB\n",
      "Creating system:\n",
      "Initializing large data structures ... Done\n",
      "Creating indices ... 100.0% \n",
      "Assembling sparse matrices ... Done\n",
      "Time to assemble matrices:  3.9049086360028014\n",
      "Solving Ax=b using bicgstab solver\n",
      "Iteration: 59, driving modified residual = 0.3601610658 --> target = 0.3871264006 ... Done\n",
      "Time to solve:  0.6355472349969205\n",
      "Computing stresses ... 2.0% "
     ]
    },
    {
     "ename": "KeyboardInterrupt",
     "evalue": "",
     "output_type": "error",
     "traceback": [
      "\u001b[0;31m---------------------------------------------------------------------------\u001b[0m",
      "\u001b[0;31mKeyboardInterrupt\u001b[0m                         Traceback (most recent call last)",
      "Cell \u001b[0;32mIn [9], line 6\u001b[0m\n\u001b[1;32m      3\u001b[0m solver \u001b[38;5;241m=\u001b[39m \u001b[38;5;124m\"\u001b[39m\u001b[38;5;124mbicgstab\u001b[39m\u001b[38;5;124m\"\u001b[39m\n\u001b[1;32m      5\u001b[0m C \u001b[38;5;241m=\u001b[39m np\u001b[38;5;241m.\u001b[39mzeros((\u001b[38;5;241m6\u001b[39m, \u001b[38;5;241m6\u001b[39m))\n\u001b[0;32m----> 6\u001b[0m C[:, \u001b[38;5;241m0\u001b[39m], u, s, t \u001b[38;5;241m=\u001b[39m \u001b[43mpuma\u001b[49m\u001b[38;5;241;43m.\u001b[39;49m\u001b[43mexperimental\u001b[49m\u001b[38;5;241;43m.\u001b[39;49m\u001b[43mcompute_elasticity\u001b[49m\u001b[43m(\u001b[49m\u001b[43mws\u001b[49m\u001b[43m,\u001b[49m\u001b[43m \u001b[49m\u001b[43mmat_elast\u001b[49m\u001b[43m,\u001b[49m\u001b[43m \u001b[49m\u001b[43mdirection\u001b[49m\u001b[38;5;241;43m=\u001b[39;49m\u001b[38;5;124;43m'\u001b[39;49m\u001b[38;5;124;43mx\u001b[39;49m\u001b[38;5;124;43m'\u001b[39;49m\u001b[43m,\u001b[49m\u001b[43m \u001b[49m\u001b[43mside_bc\u001b[49m\u001b[38;5;241;43m=\u001b[39;49m\u001b[38;5;124;43m'\u001b[39;49m\u001b[38;5;124;43mp\u001b[39;49m\u001b[38;5;124;43m'\u001b[39;49m\u001b[43m,\u001b[49m\u001b[43m \u001b[49m\u001b[43msolver_type\u001b[49m\u001b[38;5;241;43m=\u001b[39;49m\u001b[43msolver\u001b[49m\u001b[43m)\u001b[49m\n\u001b[1;32m      7\u001b[0m pumax\u001b[38;5;241m.\u001b[39mwarp_elasticity_fields(ws, u, s, t, scale_factor\u001b[38;5;241m=\u001b[39m\u001b[38;5;241m10\u001b[39m, xy_view\u001b[38;5;241m=\u001b[39m\u001b[38;5;28;01mTrue\u001b[39;00m, notebook\u001b[38;5;241m=\u001b[39mnotebook)\n",
      "File \u001b[0;32m~/miniconda/envs/puma/lib/python3.10/site-packages/pumapy/material_properties/elasticity.py:84\u001b[0m, in \u001b[0;36mcompute_elasticity\u001b[0;34m(workspace, elast_map, direction, side_bc, tolerance, maxiter, solver_type, display_iter, method, matrix_free)\u001b[0m\n\u001b[1;32m     81\u001b[0m solver\u001b[38;5;241m.\u001b[39merror_check()\n\u001b[1;32m     83\u001b[0m solver\u001b[38;5;241m.\u001b[39mlog_input()\n\u001b[0;32m---> 84\u001b[0m \u001b[43msolver\u001b[49m\u001b[38;5;241;43m.\u001b[39;49m\u001b[43mcompute\u001b[49m\u001b[43m(\u001b[49m\u001b[43m)\u001b[49m\n\u001b[1;32m     85\u001b[0m solver\u001b[38;5;241m.\u001b[39mlog_output()\n\u001b[1;32m     87\u001b[0m d \u001b[38;5;241m=\u001b[39m {\u001b[38;5;124m'\u001b[39m\u001b[38;5;124mx\u001b[39m\u001b[38;5;124m'\u001b[39m: \u001b[38;5;124m'\u001b[39m\u001b[38;5;124mfirst\u001b[39m\u001b[38;5;124m'\u001b[39m, \u001b[38;5;124m'\u001b[39m\u001b[38;5;124my\u001b[39m\u001b[38;5;124m'\u001b[39m: \u001b[38;5;124m'\u001b[39m\u001b[38;5;124msecond\u001b[39m\u001b[38;5;124m'\u001b[39m, \u001b[38;5;124m'\u001b[39m\u001b[38;5;124mz\u001b[39m\u001b[38;5;124m'\u001b[39m: \u001b[38;5;124m'\u001b[39m\u001b[38;5;124mthird\u001b[39m\u001b[38;5;124m'\u001b[39m, \u001b[38;5;124m'\u001b[39m\u001b[38;5;124myz\u001b[39m\u001b[38;5;124m'\u001b[39m: \u001b[38;5;124m'\u001b[39m\u001b[38;5;124mfourth\u001b[39m\u001b[38;5;124m'\u001b[39m, \u001b[38;5;124m'\u001b[39m\u001b[38;5;124mxz\u001b[39m\u001b[38;5;124m'\u001b[39m: \u001b[38;5;124m'\u001b[39m\u001b[38;5;124mfifth\u001b[39m\u001b[38;5;124m'\u001b[39m, \u001b[38;5;124m'\u001b[39m\u001b[38;5;124mxy\u001b[39m\u001b[38;5;124m'\u001b[39m: \u001b[38;5;124m'\u001b[39m\u001b[38;5;124msixth\u001b[39m\u001b[38;5;124m'\u001b[39m}\n",
      "File \u001b[0;32m~/miniconda/envs/puma/lib/python3.10/site-packages/pumapy/physics_models/finite_volume/mpsa_elasticity.py:56\u001b[0m, in \u001b[0;36mElasticity.compute\u001b[0;34m(self)\u001b[0m\n\u001b[1;32m     54\u001b[0m \u001b[38;5;28msuper\u001b[39m()\u001b[38;5;241m.\u001b[39msolve()\n\u001b[1;32m     55\u001b[0m \u001b[38;5;28mprint\u001b[39m(\u001b[38;5;124m\"\u001b[39m\u001b[38;5;124mTime to solve: \u001b[39m\u001b[38;5;124m\"\u001b[39m, t\u001b[38;5;241m.\u001b[39melapsed())\n\u001b[0;32m---> 56\u001b[0m \u001b[38;5;28;43mself\u001b[39;49m\u001b[38;5;241;43m.\u001b[39;49m\u001b[43mcompute_stresses\u001b[49m\u001b[43m(\u001b[49m\u001b[43m)\u001b[49m\n\u001b[1;32m     57\u001b[0m \u001b[38;5;28;01mif\u001b[39;00m \u001b[38;5;28mself\u001b[39m\u001b[38;5;241m.\u001b[39mdirection \u001b[38;5;241m!=\u001b[39m \u001b[38;5;124m'\u001b[39m\u001b[38;5;124m'\u001b[39m:\n\u001b[1;32m     58\u001b[0m     \u001b[38;5;28mself\u001b[39m\u001b[38;5;241m.\u001b[39mcompute_effective_coefficient()\n",
      "File \u001b[0;32m~/miniconda/envs/puma/lib/python3.10/site-packages/pumapy/physics_models/finite_volume/mpsa_elasticity.py:374\u001b[0m, in \u001b[0;36mElasticity.compute_stresses\u001b[0;34m(self)\u001b[0m\n\u001b[1;32m    371\u001b[0m sys\u001b[38;5;241m.\u001b[39mstdout\u001b[38;5;241m.\u001b[39mwrite(\u001b[38;5;124m\"\u001b[39m\u001b[38;5;130;01m\\r\u001b[39;00m\u001b[38;5;124mComputing stresses ... \u001b[39m\u001b[38;5;132;01m{:.1f}\u001b[39;00m\u001b[38;5;124m%\u001b[39m\u001b[38;5;124m \u001b[39m\u001b[38;5;124m\"\u001b[39m\u001b[38;5;241m.\u001b[39mformat(\u001b[38;5;28mmax\u001b[39m(\u001b[38;5;241m1\u001b[39m, i_cv) \u001b[38;5;241m/\u001b[39m \u001b[38;5;28mmax\u001b[39m(\u001b[38;5;241m1\u001b[39m, \u001b[38;5;28mself\u001b[39m\u001b[38;5;241m.\u001b[39mlen_x \u001b[38;5;241m-\u001b[39m \u001b[38;5;241m1\u001b[39m) \u001b[38;5;241m*\u001b[39m \u001b[38;5;241m100\u001b[39m))\n\u001b[1;32m    373\u001b[0m \u001b[38;5;28mself\u001b[39m\u001b[38;5;241m.\u001b[39mcompute_Cmat(\u001b[38;5;241m1\u001b[39m, i_cv \u001b[38;5;241m+\u001b[39m \u001b[38;5;241m2\u001b[39m)\n\u001b[0;32m--> 374\u001b[0m \u001b[38;5;28;43mself\u001b[39;49m\u001b[38;5;241;43m.\u001b[39;49m\u001b[43mcompute_transmissibility\u001b[49m\u001b[43m(\u001b[49m\u001b[38;5;241;43m1\u001b[39;49m\u001b[43m,\u001b[49m\u001b[43m \u001b[49m\u001b[43mi_cv\u001b[49m\u001b[43m)\u001b[49m\n\u001b[1;32m    376\u001b[0m create_u_ivs_cy(\u001b[38;5;28mself\u001b[39m\u001b[38;5;241m.\u001b[39mu, uf, i_cv, \u001b[38;5;28mself\u001b[39m\u001b[38;5;241m.\u001b[39mlen_x, \u001b[38;5;28mself\u001b[39m\u001b[38;5;241m.\u001b[39mlen_y, \u001b[38;5;28mself\u001b[39m\u001b[38;5;241m.\u001b[39mlen_z, \u001b[38;5;28mself\u001b[39m\u001b[38;5;241m.\u001b[39mlen_xyz, \u001b[38;5;28mself\u001b[39m\u001b[38;5;241m.\u001b[39mside_bc,\n\u001b[1;32m    377\u001b[0m                 u_sw, u_se, u_nw, u_ne, u_tsw, u_tse, u_tnw, u_tne)\n\u001b[1;32m    379\u001b[0m \u001b[38;5;66;03m# Computing: stresses = Eu @ u + End\u001b[39;00m\n",
      "File \u001b[0;32m~/miniconda/envs/puma/lib/python3.10/site-packages/pumapy/physics_models/finite_volume/mpsa_elasticity.py:254\u001b[0m, in \u001b[0;36mElasticity.compute_transmissibility\u001b[0;34m(self, i, i_cv_in)\u001b[0m\n\u001b[1;32m    252\u001b[0m \u001b[38;5;66;03m# mpsa36x36 = Cinv\u001b[39;00m\n\u001b[1;32m    253\u001b[0m \u001b[38;5;28;01mtry\u001b[39;00m:\n\u001b[0;32m--> 254\u001b[0m     \u001b[38;5;28mself\u001b[39m\u001b[38;5;241m.\u001b[39mmpsa36x36[:] \u001b[38;5;241m=\u001b[39m \u001b[43mnp\u001b[49m\u001b[38;5;241;43m.\u001b[39;49m\u001b[43mlinalg\u001b[49m\u001b[38;5;241;43m.\u001b[39;49m\u001b[43minv\u001b[49m\u001b[43m(\u001b[49m\u001b[38;5;28;43mself\u001b[39;49m\u001b[38;5;241;43m.\u001b[39;49m\u001b[43mmpsa36x36\u001b[49m\u001b[43m)\u001b[49m\n\u001b[1;32m    255\u001b[0m \u001b[38;5;28;01mexcept\u001b[39;00m np\u001b[38;5;241m.\u001b[39mlinalg\u001b[38;5;241m.\u001b[39mLinAlgError:\n\u001b[1;32m    256\u001b[0m     \u001b[38;5;28;01mraise\u001b[39;00m \u001b[38;5;167;01mException\u001b[39;00m(\u001b[38;5;124m\"\u001b[39m\u001b[38;5;124mSingular MPSA matrix: remember that air cannot be exactly 0 (set it to a low value e.g. 1e-5).\u001b[39m\u001b[38;5;124m\"\u001b[39m)\n",
      "File \u001b[0;32m<__array_function__ internals>:180\u001b[0m, in \u001b[0;36minv\u001b[0;34m(*args, **kwargs)\u001b[0m\n",
      "File \u001b[0;32m~/miniconda/envs/puma/lib/python3.10/site-packages/numpy/linalg/linalg.py:552\u001b[0m, in \u001b[0;36minv\u001b[0;34m(a)\u001b[0m\n\u001b[1;32m    550\u001b[0m signature \u001b[38;5;241m=\u001b[39m \u001b[38;5;124m'\u001b[39m\u001b[38;5;124mD->D\u001b[39m\u001b[38;5;124m'\u001b[39m \u001b[38;5;28;01mif\u001b[39;00m isComplexType(t) \u001b[38;5;28;01melse\u001b[39;00m \u001b[38;5;124m'\u001b[39m\u001b[38;5;124md->d\u001b[39m\u001b[38;5;124m'\u001b[39m\n\u001b[1;32m    551\u001b[0m extobj \u001b[38;5;241m=\u001b[39m get_linalg_error_extobj(_raise_linalgerror_singular)\n\u001b[0;32m--> 552\u001b[0m ainv \u001b[38;5;241m=\u001b[39m \u001b[43m_umath_linalg\u001b[49m\u001b[38;5;241;43m.\u001b[39;49m\u001b[43minv\u001b[49m\u001b[43m(\u001b[49m\u001b[43ma\u001b[49m\u001b[43m,\u001b[49m\u001b[43m \u001b[49m\u001b[43msignature\u001b[49m\u001b[38;5;241;43m=\u001b[39;49m\u001b[43msignature\u001b[49m\u001b[43m,\u001b[49m\u001b[43m \u001b[49m\u001b[43mextobj\u001b[49m\u001b[38;5;241;43m=\u001b[39;49m\u001b[43mextobj\u001b[49m\u001b[43m)\u001b[49m\n\u001b[1;32m    553\u001b[0m \u001b[38;5;28;01mreturn\u001b[39;00m wrap(ainv\u001b[38;5;241m.\u001b[39mastype(result_t, copy\u001b[38;5;241m=\u001b[39m\u001b[38;5;28;01mFalse\u001b[39;00m))\n",
      "\u001b[0;31mKeyboardInterrupt\u001b[0m: "
     ]
    }
   ],
   "source": [
    "import pumapy as puma\n",
    "\n",
    "solver = \"bicgstab\"\n",
    "\n",
    "C = np.zeros((6, 6))\n",
    "C[:, 0], u, s, t = puma.compute_elasticity(ws, mat_elast, direction='x', side_bc='p', solver_type=solver)\n",
    "pumax.warp_elasticity_fields(ws, u, s, t, scale_factor=10, xy_view=True, notebook=notebook)"
   ]
  },
  {
   "cell_type": "code",
   "execution_count": null,
   "metadata": {},
   "outputs": [],
   "source": [
    "C[:, 1], u, s, t = puma.compute_elasticity(ws, mat_elast, direction='y',  side_bc='p', solver_type=solver)\n",
    "C[:, 2], u, s, t = puma.compute_elasticity(ws, mat_elast, direction='z',  side_bc='p', solver_type=solver)\n",
    "C[:, 3], u, s, t = puma.compute_elasticity(ws, mat_elast, direction='yz', side_bc='p', solver_type=solver)\n",
    "C[:, 4], u, s, t = puma.compute_elasticity(ws, mat_elast, direction='xz', side_bc='p', solver_type=solver)\n",
    "C[:, 5], u, s, t = puma.compute_elasticity(ws, mat_elast, direction='xy', side_bc='p', solver_type=solver)\n",
    "puma.warp_elasticity_fields(ws, u, s, t, scale_factor=10, xy_view=True, notebook=notebook)"
   ]
  },
  {
   "cell_type": "code",
   "execution_count": null,
   "metadata": {},
   "outputs": [],
   "source": [
    "print(C)\n",
    "coeffs = puma.get_E_nu_from_elasticity(C)"
   ]
  },
  {
   "cell_type": "markdown",
   "metadata": {
    "pycharm": {
     "name": "#%% md\n"
    }
   },
   "source": [
    "#### Example: harmonic averaging, in series along x with free sides\n",
    "\n",
    "We now run a block of material split into two phases with different properties."
   ]
  },
  {
   "cell_type": "code",
   "execution_count": null,
   "metadata": {
    "pycharm": {
     "name": "#%%\n"
    }
   },
   "outputs": [],
   "source": [
    "export_name = 'halfmat'\n",
    "X = 20\n",
    "Y = 22\n",
    "Z = 22\n",
    "ws = puma.Workspace.from_shape_value((X, Y, Z), 1)\n",
    "ws[int(X / 2):] = 2\n",
    "ws[:, [0, -1]] = 0  # air voxels\n",
    "ws[:, :, [0, -1]] = 0\n",
    "\n",
    "puma.render_volume(ws, solid_color=(255,255,255), notebook=notebook, style='edges', cmap='jet')"
   ]
  },
  {
   "cell_type": "markdown",
   "metadata": {
    "pycharm": {
     "name": "#%% md\n"
    }
   },
   "source": [
    "We can assign the elasticity of the two materials and compute the resulting overall elasticity of the two phases combined as follows:"
   ]
  },
  {
   "cell_type": "code",
   "execution_count": null,
   "metadata": {
    "pycharm": {
     "name": "#%%\n"
    }
   },
   "outputs": [],
   "source": [
    "elast_map = puma.ElasticityMap()\n",
    "elast_map.add_isotropic_material((0, 0), 1e-5, 0.3)  # N.B. air has to be assigned a very low Young modulus, not exactly zero\n",
    "elast_map.add_isotropic_material((1, 1), 200, 0.3)\n",
    "elast_map.add_isotropic_material((2, 2), 400, 0.1)"
   ]
  },
  {
   "cell_type": "markdown",
   "metadata": {
    "pycharm": {
     "name": "#%% md\n"
    }
   },
   "source": [
    " In this example, we use the compute_elasticity function, which is useful specifically to compute the homogenized\n",
    " (or effective) elasticity of a multi-phase material. This function imposes a unit displacement along the direction\n",
    " specified by holding the last slice of voxels in place with dirichlet boundary conditions. The side boundary conditions\n",
    " can be set as either 'p'eriodic or 's'ymmetric."
   ]
  },
  {
   "cell_type": "code",
   "execution_count": null,
   "metadata": {
    "pycharm": {
     "name": "#%%\n"
    }
   },
   "outputs": [],
   "source": [
    "C, u, s, t = puma.compute_elasticity(ws, elast_map, direction='x', side_bc='p', solver_type=\"direct\")"
   ]
  },
  {
   "cell_type": "markdown",
   "metadata": {
    "pycharm": {
     "name": "#%% md\n"
    }
   },
   "source": [
    "Now we can visualize the displacement and stress fields as:"
   ]
  },
  {
   "cell_type": "code",
   "execution_count": null,
   "metadata": {
    "pycharm": {
     "name": "#%%\n"
    },
    "scrolled": true
   },
   "outputs": [],
   "source": [
    "puma.warp_elasticity_fields(ws[:, 1:-1, 1:-1], u[:, 1:-1, 1:-1], s[:, 1:-1, 1:-1], t[:, 1:-1, 1:-1], 20, show_original=0.,\n",
    "                            show_edges=False, notebook=notebook)"
   ]
  },
  {
   "cell_type": "markdown",
   "metadata": {
    "pycharm": {
     "name": "#%% md\n"
    }
   },
   "source": [
    "Finally, we can export all of this data (domain, displacement, direct stress, shear stress) in a single .vti file as: "
   ]
  },
  {
   "cell_type": "code",
   "execution_count": null,
   "metadata": {
    "pycharm": {
     "name": "#%%\n"
    }
   },
   "outputs": [],
   "source": [
    "puma.export_elasticity_fields_vti(os.path.join(export_path, export_name), ws, u, s, t)"
   ]
  },
  {
   "cell_type": "markdown",
   "metadata": {
    "pycharm": {
     "name": "#%% md\n"
    }
   },
   "source": [
    "#### Example: full built-in beam\n",
    "This case is for a fully built-in homogeneous beam with a y displacement in the middle. Because of the symmetry of this\n",
    "case, we only model half of it."
   ]
  },
  {
   "cell_type": "code",
   "execution_count": null,
   "metadata": {
    "pycharm": {
     "name": "#%%\n"
    }
   },
   "outputs": [],
   "source": [
    "export_name = 'builtinbeam'\n",
    "X = 100\n",
    "Y = 12\n",
    "Z = 12\n",
    "ws = puma.Workspace.from_shape_value((X, Y, Z), 1)\n",
    "ws.voxel_length = 1\n",
    "\n",
    "ws[:, [0, -1]] = 0\n",
    "ws[:, :, [0, -1]] = 0\n",
    "\n",
    "puma.render_volume(ws, cutoff=(0, 255), solid_color=(255,255,255), style='edges', notebook=notebook)"
   ]
  },
  {
   "cell_type": "markdown",
   "metadata": {
    "pycharm": {
     "name": "#%% md\n"
    }
   },
   "source": [
    "We then run set its elasticity as:"
   ]
  },
  {
   "cell_type": "code",
   "execution_count": null,
   "metadata": {
    "pycharm": {
     "name": "#%%\n"
    }
   },
   "outputs": [],
   "source": [
    "elast_map = puma.ElasticityMap()\n",
    "elast_map.add_isotropic_material((0, 0), 1e-5, 0.3)\n",
    "elast_map.add_isotropic_material((1, 1), 200, 0.3)"
   ]
  },
  {
   "cell_type": "markdown",
   "metadata": {
    "pycharm": {
     "name": "#%% md\n"
    }
   },
   "source": [
    "Since we want to set a specific displacement, we need to have more control on the type of boundary conditions we set.\n",
    "This can be done by creating an ElasticityBC object as:"
   ]
  },
  {
   "cell_type": "code",
   "execution_count": null,
   "metadata": {
    "pycharm": {
     "name": "#%%\n"
    }
   },
   "outputs": [],
   "source": [
    "bc = puma.ElasticityBC(ws)\n",
    "bc.xfaces[0, :, :, 0] = 0  # dirichlet displacement to zero on the x -ve face\n",
    "bc.xfaces[0, :, :, 1] = 0\n",
    "bc.xfaces[0, :, :, 2] = 0\n",
    "bc.xfaces[1, :, :, 0] = 0   # dirichlet x and z displacements to zero on x +ve face\n",
    "bc.xfaces[1, :, :, 1] = -1  # dirichlet y displacement of -1 on x +ve face\n",
    "bc.xfaces[1, :, :, 2] = 0"
   ]
  },
  {
   "cell_type": "code",
   "execution_count": null,
   "metadata": {
    "pycharm": {
     "name": "#%%\n"
    }
   },
   "outputs": [],
   "source": [
    "u, s, t = puma.compute_stress_analysis(ws, elast_map, bc, side_bc='s', solver_type=\"bicgstab\")"
   ]
  },
  {
   "cell_type": "code",
   "execution_count": null,
   "metadata": {
    "pycharm": {
     "name": "#%%\n"
    }
   },
   "outputs": [],
   "source": [
    "puma.warp_elasticity_fields(ws[:, 1:-1, 1:-1], u[:, 1:-1, 1:-1], s[:, 1:-1, 1:-1], t[:, 1:-1, 1:-1], 20, show_original=0., show_edges=False, xy_view=True, notebook=notebook)"
   ]
  },
  {
   "cell_type": "code",
   "execution_count": null,
   "metadata": {
    "pycharm": {
     "name": "#%%\n"
    }
   },
   "outputs": [],
   "source": [
    "puma.export_elasticity_fields_vti(os.path.join(export_path, export_name), ws, u, s, t)"
   ]
  },
  {
   "cell_type": "markdown",
   "metadata": {
    "pycharm": {
     "name": "#%% md\n"
    }
   },
   "source": [
    "#### Example: plate with a hole\n",
    "\n",
    "In this example, we model a plate with a hole in the middle pulled in the x direction by an input displacement."
   ]
  },
  {
   "cell_type": "code",
   "execution_count": null,
   "metadata": {
    "pycharm": {
     "name": "#%%\n"
    }
   },
   "outputs": [],
   "source": [
    "export_name = 'platehole'\n",
    "X = 100\n",
    "Y = 102\n",
    "Z = 3\n",
    "ws = puma.Workspace.from_shape_value((X, Y, Z), 1)\n",
    "ws.voxel_length = 1\n",
    "\n",
    "ws[:, [0, -1]] = 0\n",
    "ws[:, :, [0, -1]] = 0\n",
    "\n",
    "# creating circular hole\n",
    "mask = np.ones((X, Y, Z), dtype=bool)\n",
    "mask[X//2, Y//2] = 0\n",
    "from scipy import ndimage as nd\n",
    "distance_mask = nd.morphology.distance_transform_edt(mask)\n",
    "max_distance = np.max(distance_mask)\n",
    "distance_mask_display = (distance_mask*255./max_distance).astype(dtype=np.uint8)\n",
    "in_range = distance_mask <= 35  # this sets how big is the hole with a threshold\n",
    "ws[in_range] = 0\n",
    "\n",
    "puma.render_volume(ws.matrix[:, :, 1:2])\n",
    "\n",
    "# setting material\n",
    "elast_map = puma.ElasticityMap()\n",
    "elast_map.add_isotropic_material((0, 0), 1e-5, 0.3)\n",
    "elast_map.add_isotropic_material((1, 1), 200, 0.3)\n",
    "\n",
    "# setting dirichlet boundary conditions\n",
    "bc = puma.ElasticityBC(ws)\n",
    "bc.xfaces[0, :, :, 0] = 0\n",
    "bc.xfaces[0, :, :, 1] = 0\n",
    "bc.xfaces[0, :, :, 2] = 0\n",
    "bc.xfaces[1, :, :, 0] = 1\n",
    "bc.xfaces[1, :, :, 1] = 0\n",
    "bc.xfaces[1, :, :, 2] = 0\n",
    "\n",
    "u, s, t = puma.compute_stress_analysis(ws, elast_map, bc, side_bc='s', solver_type=\"bicgstab\")"
   ]
  },
  {
   "cell_type": "code",
   "execution_count": null,
   "metadata": {
    "pycharm": {
     "name": "#%%\n"
    }
   },
   "outputs": [],
   "source": [
    "u[ws.matrix == 0] = 0  # set air to zero\n",
    "puma.warp_elasticity_fields(ws[:, 1:-1, 1:2], u[:, 1:-1, 1:2], s[:, 1:-1, 1:2], t[:, 1:-1, 1:2], 5, show_original=0., show_edges=False, xy_view=True, rm_id=0, notebook=notebook)"
   ]
  },
  {
   "cell_type": "code",
   "execution_count": null,
   "metadata": {
    "pycharm": {
     "name": "#%%\n"
    }
   },
   "outputs": [],
   "source": [
    "puma.export_elasticity_fields_vti(os.path.join(export_path, export_name), ws, u, s, t)"
   ]
  },
  {
   "cell_type": "markdown",
   "metadata": {
    "pycharm": {
     "name": "#%% md\n"
    }
   },
   "source": [
    "#### Example: cracked plate\n",
    "\n",
    "In this example, we model a plate with a single row of voxels removed, mimicking a crack. "
   ]
  },
  {
   "cell_type": "code",
   "execution_count": null,
   "metadata": {
    "pycharm": {
     "name": "#%%\n"
    }
   },
   "outputs": [],
   "source": [
    "export_name = 'crackedplate'\n",
    "X = 200\n",
    "Y = 52\n",
    "Z = 5\n",
    "crack = 10\n",
    "ws = puma.Workspace.from_shape_value((X, Y, Z), 1)\n",
    "ws.voxel_length = 1\n",
    "ws[X//2-1:X//2+1, -crack + 1:] = 0\n",
    "ws[:, [0, -1]] = 0\n",
    "ws[:, :, [0, -1]] = 0\n",
    "\n",
    "elast_map = puma.ElasticityMap()\n",
    "elast_map.add_isotropic_material((0, 0), 1e-5, 0.3)\n",
    "elast_map.add_isotropic_material((1, 1), 200, 0.3)\n",
    "\n",
    "bc = puma.ElasticityBC(ws)\n",
    "bc.xfaces[0, :, :, 0] = 0\n",
    "bc.xfaces[0, :, :, 1] = 0\n",
    "bc.xfaces[0, :, :, 2] = 0\n",
    "bc.xfaces[1, :, :, 0] = 1\n",
    "bc.xfaces[1, :, :, 1] = 0\n",
    "bc.xfaces[1, :, :, 2] = 0\n",
    "\n",
    "u, s, t = puma.compute_stress_analysis(ws, elast_map, bc, side_bc='s', solver_type=\"bicgstab\")"
   ]
  },
  {
   "cell_type": "code",
   "execution_count": null,
   "metadata": {
    "pycharm": {
     "name": "#%%\n"
    }
   },
   "outputs": [],
   "source": [
    "u[ws.matrix == 0] = 0  # set air to zero\n",
    "puma.warp_elasticity_fields(ws[:, 1:-1, 2:3], u[:, 1:-1, 2:3], s[:, 1:-1, 2:3], t[:, 1:-1, 2:3], 20, show_original=0., show_edges=False, xy_view=True, rm_id=0)"
   ]
  },
  {
   "cell_type": "code",
   "execution_count": null,
   "metadata": {
    "pycharm": {
     "name": "#%%\n"
    }
   },
   "outputs": [],
   "source": [
    "puma.export_elasticity_fields_vti(os.path.join(export_path, export_name), ws, u, s, t)"
   ]
  },
  {
   "cell_type": "markdown",
   "metadata": {},
   "source": [
    "### Finite Element Elasticity\n",
    "\n",
    "An extra method to compute the elasticity was recently added, which leverages a Finite Element solver based on a Q1-Q1\n",
    "Element-by-element implementation. To learn more about this method, please refer to the permeability tutorial.\n",
    "In order to use it, a user can simply run similar options as above, adding a flag specifying that the method to be\n",
    "used is 'fe'. Some details on the solver:\n",
    "\n",
    "- Only periodic boundary conditions are currently available, so the side_bc flag is ignored\n",
    "- A matrix-free solution approach, which is slightly slower but very memory efficient, can be run when no local orientation\n",
    "is present (i.e. when the local phases are isotropic)\n",
    "- The ligher and faster 'minres' iterative solver can be used since the matrices that are assembled are symmetric\n",
    "- The simulation imposes a residual strain on the whole domain, rather than a unitary displacement gradient on the boundaries"
   ]
  },
  {
   "cell_type": "code",
   "execution_count": null,
   "metadata": {},
   "outputs": [],
   "source": [
    "dim = 50\n",
    "ws = puma.generate_cylinder_square_array(dim, 0.44)\n",
    "ws.matrix = np.repeat(ws.matrix, 5, axis=2)\n",
    "puma.render_volume(ws, notebook=notebook)\n",
    "\n",
    "mat_elast = puma.ElasticityMap()\n",
    "mat_elast.add_isotropic_material((0, 0), 68.3, 0.3)\n",
    "mat_elast.add_isotropic_material((1, 1), 379.3, 0.1)"
   ]
  },
  {
   "cell_type": "code",
   "execution_count": null,
   "metadata": {},
   "outputs": [],
   "source": [
    "solver = \"minres\"\n",
    "C = np.zeros((6, 6))\n",
    "C[:, 0], u, s, t = puma.compute_elasticity(ws, mat_elast, direction='x',  solver_type=solver, method='fe')\n",
    "C[:, 1], u, s, t = puma.compute_elasticity(ws, mat_elast, direction='y',  solver_type=solver, method='fe')\n",
    "C[:, 2], u, s, t = puma.compute_elasticity(ws, mat_elast, direction='z',  solver_type=solver, method='fe')\n",
    "C[:, 3], u, s, t = puma.compute_elasticity(ws, mat_elast, direction='yz', solver_type=solver, method='fe')\n",
    "C[:, 4], u, s, t = puma.compute_elasticity(ws, mat_elast, direction='xz', solver_type=solver, method='fe')\n",
    "C[:, 5], u, s, t = puma.compute_elasticity(ws, mat_elast, direction='xy', solver_type=solver, method='fe')"
   ]
  },
  {
   "cell_type": "code",
   "execution_count": null,
   "metadata": {},
   "outputs": [],
   "source": [
    "print(C)\n",
    "coeffs = puma.get_E_nu_from_elasticity(C)"
   ]
  },
  {
   "cell_type": "markdown",
   "metadata": {},
   "source": [
    "#### Example: FiberForm elasticity\n",
    "\n",
    "Now let's compute the elasticity of FiberForm"
   ]
  },
  {
   "cell_type": "code",
   "execution_count": null,
   "metadata": {},
   "outputs": [],
   "source": [
    "ws = puma.import_3Dtiff(puma.path_to_example_file(\"200_fiberform.tif\"), 1.3e-6)  # import example file\n",
    "\n",
    "# scale down domain to speed up computations\n",
    "ws.rescale(0.25, segmented=False)\n",
    "\n",
    "# compute orientation\n",
    "puma.compute_orientation_st(ws, cutoff=(90, 255), sigma=0.7, rho=1.4)\n",
    "\n",
    "# threshold it to binary, 0=void 1=fibers\n",
    "ws.binarize_range((90, 255))\n",
    "\n",
    "# remove floating voxels, unconnected in a specific direction, since they would create singularities\n",
    "ws = puma.remove_rbms(ws, 0, 'x')\n",
    "\n",
    "# visualize it\n",
    "puma.render_volume(ws, cutoff=(1, ws.max()), cmap='jet', style='edges', notebook=notebook)\n",
    "\n",
    "# assign material\n",
    "mat_elast = puma.ElasticityMap()\n",
    "mat_elast.add_isotropic_material((0, 0), 1e-5, 0)\n",
    "mat_elast.add_material_to_orient((1, 1), 10, 8, 0.3, 0.3, 5)"
   ]
  },
  {
   "cell_type": "code",
   "execution_count": null,
   "metadata": {},
   "outputs": [],
   "source": [
    "C = np.zeros((6, 6))\n",
    "C[:, 0], u, s, t = puma.compute_elasticity(ws, mat_elast, direction='x', solver_type='minres', method='fe')\n",
    "u[ws.matrix == 0] = 0  # set air to zero, i.e. no displacement\n",
    "puma.warp_elasticity_fields(ws, u, s, t, scale_factor=1, notebook=notebook)"
   ]
  },
  {
   "cell_type": "code",
   "execution_count": null,
   "metadata": {},
   "outputs": [],
   "source": [
    "C[:, 1], u, s, t = puma.compute_elasticity(ws, mat_elast, direction='y', solver_type='minres', method='fe')\n",
    "C[:, 2], u, s, t = puma.compute_elasticity(ws, mat_elast, direction='z', solver_type='minres', method='fe')\n",
    "C[:, 3], u, s, t = puma.compute_elasticity(ws, mat_elast, direction='yz', solver_type='minres', method='fe')\n",
    "C[:, 4], u, s, t = puma.compute_elasticity(ws, mat_elast, direction='xz', solver_type='minres', method='fe')\n",
    "C[:, 5], u, s, t = puma.compute_elasticity(ws, mat_elast, direction='xy', solver_type='minres', method='fe')"
   ]
  },
  {
   "cell_type": "code",
   "execution_count": null,
   "metadata": {},
   "outputs": [],
   "source": [
    "print(C)\n",
    "coeffs = puma.get_E_nu_from_elasticity(C)"
   ]
  }
 ],
 "metadata": {
  "kernelspec": {
   "display_name": "Python 3 (ipykernel)",
   "language": "python",
   "name": "python3"
  },
  "language_info": {
   "codemirror_mode": {
    "name": "ipython",
    "version": 3
   },
   "file_extension": ".py",
   "mimetype": "text/x-python",
   "name": "python",
   "nbconvert_exporter": "python",
   "pygments_lexer": "ipython3",
   "version": "3.10.8"
  },
  "toc-autonumbering": true
 },
 "nbformat": 4,
 "nbformat_minor": 4
}
