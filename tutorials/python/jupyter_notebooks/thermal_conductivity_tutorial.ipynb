{
 "cells": [
  {
   "cell_type": "markdown",
   "metadata": {
    "pycharm": {
     "name": "#%% md\n"
    }
   },
   "source": [
    "![puma logo](https://github.com/nasa/puma/raw/main/doc/source/puma_logo.png)"
   ]
  },
  {
   "cell_type": "markdown",
   "metadata": {},
   "source": [
    "# Thermal Conductivity"
   ]
  },
  {
   "cell_type": "markdown",
   "metadata": {
    "pycharm": {
     "name": "#%% md\n"
    }
   },
   "source": [
    "The objective of this notebook is to familiarize new users with the main datastructures that stand at the basis of the\n",
    "PuMA project, and outline the functions to compute material properties (please refer to these papers\n",
    "([1](https://www.sciencedirect.com/science/article/pii/S2352711018300281),\n",
    "[2](https://www.sciencedirect.com/science/article/pii/S235271102100090X)) for more details on the software)."
   ]
  },
  {
   "cell_type": "markdown",
   "metadata": {
    "pycharm": {
     "name": "#%% md\n"
    }
   },
   "source": [
    "## Installation setup and imports"
   ]
  },
  {
   "cell_type": "markdown",
   "metadata": {
    "pycharm": {
     "name": "#%% md\n"
    }
   },
   "source": [
    "The first code block will execute the necessary installation and package import. \n",
    "\n",
    "If you are running this jupyter notebook locally on your machine, assuming you have already installed the software,\n",
    "then the installation step will be skipped."
   ]
  },
  {
   "cell_type": "code",
   "execution_count": 2,
   "metadata": {
    "pycharm": {
     "name": "#%%\n"
    }
   },
   "outputs": [],
   "source": [
    "# for interactive slicer\n",
    "%matplotlib widget\n",
    "import numpy as np\n",
    "import pumapy as puma\n",
    "import pyvista as pv\n",
    "import os\n",
    "\n",
    "if 'BINDER_SERVICE_HOST' in os.environ:  # ONLINE JUPYTER ON BINDER\n",
    "    from pyvirtualdisplay import Display\n",
    "    display = Display(visible=0, size=(600, 400))\n",
    "    display.start()  # necessary for pyvista interactive plots\n",
    "    notebook = True\n",
    "    \n",
    "else:  # LOCAL JUPYTER NOTEBOOK\n",
    "    notebook = False  # when running locally, actually open pyvista window"
   ]
  },
  {
   "cell_type": "markdown",
   "metadata": {
    "pycharm": {
     "name": "#%% md\n"
    }
   },
   "source": [
    "## Tutorial\n",
    "\n",
    "In this tutorial we demonstrate how to compute the effective thermal conductivity of a material based on its\n",
    "microstructure and constituent properties. In this example, we compute the thermal conductivity of FiberForm, a\n",
    "carbon fiber based material.\n",
    "\n",
    "Note: The sample size used in this example is very small, well below the size needed for a representative volume of the sample. "
   ]
  },
  {
   "cell_type": "markdown",
   "metadata": {
    "pycharm": {
     "name": "#%% md\n"
    }
   },
   "source": [
    "### Isotropic conductivity"
   ]
  },
  {
   "cell_type": "markdown",
   "metadata": {
    "pycharm": {
     "name": "#%% md\n"
    }
   },
   "source": [
    "We will show a thermal conductivity simulation based on a non-segmented representation of the material. In the example\n",
    "material used, the void phase is contained in grayscale range [0,89] and the solid phase is contained in the grayscale\n",
    "range of [90,255]. This range varies for each tomography sample.\n",
    "\n",
    "The outputs of the thermal conductivity simulation are the effective thermal conductivity tensor, the steady state\n",
    "temperature profile, and the steady state heat flux. Note that we are solving this problem using an iterative solver\n",
    "(Scipy's conjugate gradient) and a matrix-free approach, in which we don't statically allocate any large sparse matrix,\n",
    "but instead we compute the residual dynamically."
   ]
  },
  {
   "cell_type": "code",
   "execution_count": 8,
   "metadata": {
    "pycharm": {
     "name": "#%%\n"
    }
   },
   "outputs": [
    {
     "name": "stdout",
     "output_type": "stream",
     "text": [
      "Importing /home/jcfergus/miniconda/envs/puma/lib/python3.10/site-packages/pumapy/data/200_fiberform.tif ... Done\n",
      "Approximate memory requirement for simulation: 227.13 MB\n",
      "Creating conductivity matrix ... Done\n",
      "Initializing temperature field ... Done\n",
      "Setting up b matrix ... Done\n"
     ]
    },
    {
     "ename": "ZeroDivisionError",
     "evalue": "float division",
     "output_type": "error",
     "traceback": [
      "\u001b[0;31m---------------------------------------------------------------------------\u001b[0m",
      "\u001b[0;31mZeroDivisionError\u001b[0m                         Traceback (most recent call last)",
      "Cell \u001b[0;32mIn [8], line 29\u001b[0m\n\u001b[1;32m     12\u001b[0m cond_map\u001b[38;5;241m.\u001b[39madd_material((\u001b[38;5;241m90\u001b[39m, \u001b[38;5;241m255\u001b[39m), \u001b[38;5;241m0\u001b[39m)\n\u001b[1;32m     14\u001b[0m \u001b[38;5;66;03m# The thermal conductivity calculation needs to be run for each of the three simulation directions. \u001b[39;00m\n\u001b[1;32m     15\u001b[0m \u001b[38;5;66;03m# For each simulation, a temperature gradient is forced in the simulation direction, and converged to steady state\u001b[39;00m\n\u001b[1;32m     16\u001b[0m \n\u001b[0;32m   (...)\u001b[0m\n\u001b[1;32m     26\u001b[0m \u001b[38;5;66;03m#.  9. method - whether to use finite volume (\"fv\") or finite element (\"fe\") solver\u001b[39;00m\n\u001b[1;32m     27\u001b[0m \u001b[38;5;66;03m#.  10. prescribed_bc - has to be of type IsotropicConductivityBC, and it provides a more flexible way of specifying dirichlet BC, which can be imposed on any voxel of the domain\u001b[39;00m\n\u001b[0;32m---> 29\u001b[0m k_eff_x, T_x, q_x \u001b[38;5;241m=\u001b[39m \u001b[43mpuma\u001b[49m\u001b[38;5;241;43m.\u001b[39;49m\u001b[43mcompute_thermal_conductivity\u001b[49m\u001b[43m(\u001b[49m\u001b[43mws_fiberform\u001b[49m\u001b[43m,\u001b[49m\u001b[43m \u001b[49m\u001b[43mcond_map\u001b[49m\u001b[43m,\u001b[49m\u001b[43m \u001b[49m\u001b[38;5;124;43m'\u001b[39;49m\u001b[38;5;124;43mx\u001b[39;49m\u001b[38;5;124;43m'\u001b[39;49m\u001b[43m,\u001b[49m\u001b[43m \u001b[49m\u001b[38;5;124;43m'\u001b[39;49m\u001b[38;5;124;43mp\u001b[39;49m\u001b[38;5;124;43m'\u001b[39;49m\u001b[43m,\u001b[49m\u001b[43m \u001b[49m\u001b[43mtolerance\u001b[49m\u001b[38;5;241;43m=\u001b[39;49m\u001b[38;5;241;43m1e-3\u001b[39;49m\u001b[43m,\u001b[49m\u001b[43m \u001b[49m\u001b[43msolver_type\u001b[49m\u001b[38;5;241;43m=\u001b[39;49m\u001b[38;5;124;43m'\u001b[39;49m\u001b[38;5;124;43mcg\u001b[39;49m\u001b[38;5;124;43m'\u001b[39;49m\u001b[43m,\u001b[49m\u001b[43m \u001b[49m\u001b[43mmatrix_free\u001b[49m\u001b[38;5;241;43m=\u001b[39;49m\u001b[38;5;28;43;01mTrue\u001b[39;49;00m\u001b[43m,\u001b[49m\u001b[43m \u001b[49m\u001b[43mmethod\u001b[49m\u001b[38;5;241;43m=\u001b[39;49m\u001b[38;5;124;43m'\u001b[39;49m\u001b[38;5;124;43mfv\u001b[39;49m\u001b[38;5;124;43m'\u001b[39;49m\u001b[43m)\u001b[49m\n\u001b[1;32m     30\u001b[0m k_eff_y, T_y, q_y \u001b[38;5;241m=\u001b[39m puma\u001b[38;5;241m.\u001b[39mcompute_thermal_conductivity(ws_fiberform, cond_map, \u001b[38;5;124m'\u001b[39m\u001b[38;5;124my\u001b[39m\u001b[38;5;124m'\u001b[39m, \u001b[38;5;124m'\u001b[39m\u001b[38;5;124mp\u001b[39m\u001b[38;5;124m'\u001b[39m, tolerance\u001b[38;5;241m=\u001b[39m\u001b[38;5;241m1e-3\u001b[39m, solver_type\u001b[38;5;241m=\u001b[39m\u001b[38;5;124m'\u001b[39m\u001b[38;5;124mcg\u001b[39m\u001b[38;5;124m'\u001b[39m, matrix_free\u001b[38;5;241m=\u001b[39m\u001b[38;5;28;01mTrue\u001b[39;00m, method\u001b[38;5;241m=\u001b[39m\u001b[38;5;124m'\u001b[39m\u001b[38;5;124mfv\u001b[39m\u001b[38;5;124m'\u001b[39m)\n\u001b[1;32m     31\u001b[0m k_eff_z, T_z, q_z \u001b[38;5;241m=\u001b[39m puma\u001b[38;5;241m.\u001b[39mcompute_thermal_conductivity(ws_fiberform, cond_map, \u001b[38;5;124m'\u001b[39m\u001b[38;5;124mz\u001b[39m\u001b[38;5;124m'\u001b[39m, \u001b[38;5;124m'\u001b[39m\u001b[38;5;124mp\u001b[39m\u001b[38;5;124m'\u001b[39m, tolerance\u001b[38;5;241m=\u001b[39m\u001b[38;5;241m1e-3\u001b[39m, solver_type\u001b[38;5;241m=\u001b[39m\u001b[38;5;124m'\u001b[39m\u001b[38;5;124mcg\u001b[39m\u001b[38;5;124m'\u001b[39m, matrix_free\u001b[38;5;241m=\u001b[39m\u001b[38;5;28;01mTrue\u001b[39;00m, method\u001b[38;5;241m=\u001b[39m\u001b[38;5;124m'\u001b[39m\u001b[38;5;124mfv\u001b[39m\u001b[38;5;124m'\u001b[39m)\n",
      "File \u001b[0;32m~/miniconda/envs/puma/lib/python3.10/site-packages/pumapy/material_properties/conductivity.py:88\u001b[0m, in \u001b[0;36mcompute_thermal_conductivity\u001b[0;34m(workspace, cond_map, direction, side_bc, prescribed_bc, tolerance, maxiter, solver_type, display_iter, method, matrix_free)\u001b[0m\n\u001b[1;32m     85\u001b[0m solver\u001b[38;5;241m.\u001b[39merror_check()\n\u001b[1;32m     87\u001b[0m solver\u001b[38;5;241m.\u001b[39mlog_input()\n\u001b[0;32m---> 88\u001b[0m \u001b[43msolver\u001b[49m\u001b[38;5;241;43m.\u001b[39;49m\u001b[43mcompute\u001b[49m\u001b[43m(\u001b[49m\u001b[43m)\u001b[49m\n\u001b[1;32m     89\u001b[0m solver\u001b[38;5;241m.\u001b[39mlog_output()\n\u001b[1;32m     91\u001b[0m \u001b[38;5;28;01mif\u001b[39;00m direction \u001b[38;5;241m!=\u001b[39m \u001b[38;5;124m'\u001b[39m\u001b[38;5;124m'\u001b[39m:\n",
      "File \u001b[0;32m~/miniconda/envs/puma/lib/python3.10/site-packages/pumapy/physics_models/finite_volume/isotropic_conductivity.py:57\u001b[0m, in \u001b[0;36mIsotropicConductivity.compute\u001b[0;34m(self)\u001b[0m\n\u001b[1;32m     55\u001b[0m \u001b[38;5;28mself\u001b[39m\u001b[38;5;241m.\u001b[39minitialize()\n\u001b[1;32m     56\u001b[0m \u001b[38;5;28mself\u001b[39m\u001b[38;5;241m.\u001b[39massemble_bvector()  \u001b[38;5;66;03m# needs to be first because of prescribed_bc\u001b[39;00m\n\u001b[0;32m---> 57\u001b[0m \u001b[38;5;28;43mself\u001b[39;49m\u001b[38;5;241;43m.\u001b[39;49m\u001b[43massemble_Amatrix\u001b[49m\u001b[43m(\u001b[49m\u001b[43m)\u001b[49m\n\u001b[1;32m     58\u001b[0m \u001b[38;5;28mprint\u001b[39m(\u001b[38;5;124m\"\u001b[39m\u001b[38;5;124mTime to assemble matrices: \u001b[39m\u001b[38;5;124m\"\u001b[39m, t\u001b[38;5;241m.\u001b[39melapsed()); t\u001b[38;5;241m.\u001b[39mreset()\n\u001b[1;32m     59\u001b[0m \u001b[38;5;28msuper\u001b[39m()\u001b[38;5;241m.\u001b[39msolve()\n",
      "File \u001b[0;32m~/miniconda/envs/puma/lib/python3.10/site-packages/pumapy/physics_models/finite_volume/isotropic_conductivity.py:139\u001b[0m, in \u001b[0;36mIsotropicConductivity.assemble_Amatrix\u001b[0;34m(self)\u001b[0m\n\u001b[1;32m    137\u001b[0m     vecvec_prec_cy(kf, x, y, \u001b[38;5;28mself\u001b[39m\u001b[38;5;241m.\u001b[39mlen_x, \u001b[38;5;28mself\u001b[39m\u001b[38;5;241m.\u001b[39mlen_y, \u001b[38;5;28mself\u001b[39m\u001b[38;5;241m.\u001b[39mlen_z, \u001b[38;5;28mself\u001b[39m\u001b[38;5;241m.\u001b[39mbc_check, \u001b[38;5;28mself\u001b[39m\u001b[38;5;241m.\u001b[39mprescribed_bc, \u001b[38;5;28mself\u001b[39m\u001b[38;5;241m.\u001b[39mside_bc)\n\u001b[1;32m    138\u001b[0m     \u001b[38;5;28;01mreturn\u001b[39;00m y\n\u001b[0;32m--> 139\u001b[0m \u001b[38;5;28mself\u001b[39m\u001b[38;5;241m.\u001b[39mM \u001b[38;5;241m=\u001b[39m \u001b[43mLinearOperator\u001b[49m\u001b[43m(\u001b[49m\u001b[43mshape\u001b[49m\u001b[38;5;241;43m=\u001b[39;49m\u001b[43m(\u001b[49m\u001b[38;5;28;43mself\u001b[39;49m\u001b[38;5;241;43m.\u001b[39;49m\u001b[43mlen_xyz\u001b[49m\u001b[43m,\u001b[49m\u001b[43m \u001b[49m\u001b[38;5;28;43mself\u001b[39;49m\u001b[38;5;241;43m.\u001b[39;49m\u001b[43mlen_xyz\u001b[49m\u001b[43m)\u001b[49m\u001b[43m,\u001b[49m\u001b[43m \u001b[49m\u001b[43mmatvec\u001b[49m\u001b[38;5;241;43m=\u001b[39;49m\u001b[43mvecvec_prec\u001b[49m\u001b[43m)\u001b[49m\n",
      "File \u001b[0;32m~/miniconda/envs/puma/lib/python3.10/site-packages/scipy/sparse/linalg/_interface.py:521\u001b[0m, in \u001b[0;36m_CustomLinearOperator.__init__\u001b[0;34m(self, shape, matvec, rmatvec, matmat, dtype, rmatmat)\u001b[0m\n\u001b[1;32m    518\u001b[0m \u001b[38;5;28mself\u001b[39m\u001b[38;5;241m.\u001b[39m__rmatmat_impl \u001b[38;5;241m=\u001b[39m rmatmat\n\u001b[1;32m    519\u001b[0m \u001b[38;5;28mself\u001b[39m\u001b[38;5;241m.\u001b[39m__matmat_impl \u001b[38;5;241m=\u001b[39m matmat\n\u001b[0;32m--> 521\u001b[0m \u001b[38;5;28;43mself\u001b[39;49m\u001b[38;5;241;43m.\u001b[39;49m\u001b[43m_init_dtype\u001b[49m\u001b[43m(\u001b[49m\u001b[43m)\u001b[49m\n",
      "File \u001b[0;32m~/miniconda/envs/puma/lib/python3.10/site-packages/scipy/sparse/linalg/_interface.py:178\u001b[0m, in \u001b[0;36mLinearOperator._init_dtype\u001b[0;34m(self)\u001b[0m\n\u001b[1;32m    176\u001b[0m \u001b[38;5;28;01mif\u001b[39;00m \u001b[38;5;28mself\u001b[39m\u001b[38;5;241m.\u001b[39mdtype \u001b[38;5;129;01mis\u001b[39;00m \u001b[38;5;28;01mNone\u001b[39;00m:\n\u001b[1;32m    177\u001b[0m     v \u001b[38;5;241m=\u001b[39m np\u001b[38;5;241m.\u001b[39mzeros(\u001b[38;5;28mself\u001b[39m\u001b[38;5;241m.\u001b[39mshape[\u001b[38;5;241m-\u001b[39m\u001b[38;5;241m1\u001b[39m])\n\u001b[0;32m--> 178\u001b[0m     \u001b[38;5;28mself\u001b[39m\u001b[38;5;241m.\u001b[39mdtype \u001b[38;5;241m=\u001b[39m np\u001b[38;5;241m.\u001b[39masarray(\u001b[38;5;28;43mself\u001b[39;49m\u001b[38;5;241;43m.\u001b[39;49m\u001b[43mmatvec\u001b[49m\u001b[43m(\u001b[49m\u001b[43mv\u001b[49m\u001b[43m)\u001b[49m)\u001b[38;5;241m.\u001b[39mdtype\n",
      "File \u001b[0;32m~/miniconda/envs/puma/lib/python3.10/site-packages/scipy/sparse/linalg/_interface.py:232\u001b[0m, in \u001b[0;36mLinearOperator.matvec\u001b[0;34m(self, x)\u001b[0m\n\u001b[1;32m    229\u001b[0m \u001b[38;5;28;01mif\u001b[39;00m x\u001b[38;5;241m.\u001b[39mshape \u001b[38;5;241m!=\u001b[39m (N,) \u001b[38;5;129;01mand\u001b[39;00m x\u001b[38;5;241m.\u001b[39mshape \u001b[38;5;241m!=\u001b[39m (N,\u001b[38;5;241m1\u001b[39m):\n\u001b[1;32m    230\u001b[0m     \u001b[38;5;28;01mraise\u001b[39;00m \u001b[38;5;167;01mValueError\u001b[39;00m(\u001b[38;5;124m'\u001b[39m\u001b[38;5;124mdimension mismatch\u001b[39m\u001b[38;5;124m'\u001b[39m)\n\u001b[0;32m--> 232\u001b[0m y \u001b[38;5;241m=\u001b[39m \u001b[38;5;28;43mself\u001b[39;49m\u001b[38;5;241;43m.\u001b[39;49m\u001b[43m_matvec\u001b[49m\u001b[43m(\u001b[49m\u001b[43mx\u001b[49m\u001b[43m)\u001b[49m\n\u001b[1;32m    234\u001b[0m \u001b[38;5;28;01mif\u001b[39;00m \u001b[38;5;28misinstance\u001b[39m(x, np\u001b[38;5;241m.\u001b[39mmatrix):\n\u001b[1;32m    235\u001b[0m     y \u001b[38;5;241m=\u001b[39m asmatrix(y)\n",
      "File \u001b[0;32m~/miniconda/envs/puma/lib/python3.10/site-packages/scipy/sparse/linalg/_interface.py:530\u001b[0m, in \u001b[0;36m_CustomLinearOperator._matvec\u001b[0;34m(self, x)\u001b[0m\n\u001b[1;32m    529\u001b[0m \u001b[38;5;28;01mdef\u001b[39;00m \u001b[38;5;21m_matvec\u001b[39m(\u001b[38;5;28mself\u001b[39m, x):\n\u001b[0;32m--> 530\u001b[0m     \u001b[38;5;28;01mreturn\u001b[39;00m \u001b[38;5;28;43mself\u001b[39;49m\u001b[38;5;241;43m.\u001b[39;49m\u001b[43m__matvec_impl\u001b[49m\u001b[43m(\u001b[49m\u001b[43mx\u001b[49m\u001b[43m)\u001b[49m\n",
      "File \u001b[0;32m~/miniconda/envs/puma/lib/python3.10/site-packages/pumapy/physics_models/finite_volume/isotropic_conductivity.py:137\u001b[0m, in \u001b[0;36mIsotropicConductivity.assemble_Amatrix.<locals>.vecvec_prec\u001b[0;34m(x)\u001b[0m\n\u001b[1;32m    135\u001b[0m \u001b[38;5;28;01mdef\u001b[39;00m \u001b[38;5;21mvecvec_prec\u001b[39m(x):\n\u001b[1;32m    136\u001b[0m     y\u001b[38;5;241m.\u001b[39mfill(\u001b[38;5;241m0\u001b[39m)\n\u001b[0;32m--> 137\u001b[0m     \u001b[43mvecvec_prec_cy\u001b[49m\u001b[43m(\u001b[49m\u001b[43mkf\u001b[49m\u001b[43m,\u001b[49m\u001b[43m \u001b[49m\u001b[43mx\u001b[49m\u001b[43m,\u001b[49m\u001b[43m \u001b[49m\u001b[43my\u001b[49m\u001b[43m,\u001b[49m\u001b[43m \u001b[49m\u001b[38;5;28;43mself\u001b[39;49m\u001b[38;5;241;43m.\u001b[39;49m\u001b[43mlen_x\u001b[49m\u001b[43m,\u001b[49m\u001b[43m \u001b[49m\u001b[38;5;28;43mself\u001b[39;49m\u001b[38;5;241;43m.\u001b[39;49m\u001b[43mlen_y\u001b[49m\u001b[43m,\u001b[49m\u001b[43m \u001b[49m\u001b[38;5;28;43mself\u001b[39;49m\u001b[38;5;241;43m.\u001b[39;49m\u001b[43mlen_z\u001b[49m\u001b[43m,\u001b[49m\u001b[43m \u001b[49m\u001b[38;5;28;43mself\u001b[39;49m\u001b[38;5;241;43m.\u001b[39;49m\u001b[43mbc_check\u001b[49m\u001b[43m,\u001b[49m\u001b[43m \u001b[49m\u001b[38;5;28;43mself\u001b[39;49m\u001b[38;5;241;43m.\u001b[39;49m\u001b[43mprescribed_bc\u001b[49m\u001b[43m,\u001b[49m\u001b[43m \u001b[49m\u001b[38;5;28;43mself\u001b[39;49m\u001b[38;5;241;43m.\u001b[39;49m\u001b[43mside_bc\u001b[49m\u001b[43m)\u001b[49m\n\u001b[1;32m    138\u001b[0m     \u001b[38;5;28;01mreturn\u001b[39;00m y\n",
      "File \u001b[0;32mpython/pumapy/physics_models/finite_volume/isotropic_conductivity_utils.pyx:465\u001b[0m, in \u001b[0;36mpumapy.physics_models.finite_volume.isotropic_conductivity_utils.vecvec_prec_cy\u001b[0;34m()\u001b[0m\n",
      "\u001b[0;31mZeroDivisionError\u001b[0m: float division"
     ]
    }
   ],
   "source": [
    "# Import an example tomography file of size 200^3 and voxel length 1.3e-6\n",
    "ws_fiberform = puma.import_3Dtiff(puma.path_to_example_file(\"200_fiberform.tif\"), 1.3e-6)\n",
    "\n",
    "# Cropping the 200x200x200 image into a 100x100x100 sample\n",
    "ws_fiberform.matrix = ws_fiberform.matrix[50:150, 50:150, 50:150]\n",
    "\n",
    "# Generating a conductivity map. This stores the conductivity values for each phase of the material\n",
    "cond_map = puma.IsotropicConductivityMap()\n",
    "# First, we set the conductivity of the void phase to be 0.0257 (air at STP)\n",
    "cond_map.add_material((0, 89), 1)\n",
    "# Next we set the conductivity of the solid phase to be 12 (typical value for carbon fiber)\n",
    "cond_map.add_material((90, 255), 0)\n",
    "\n",
    "# The thermal conductivity calculation needs to be run for each of the three simulation directions. \n",
    "# For each simulation, a temperature gradient is forced in the simulation direction, and converged to steady state\n",
    "\n",
    "# Important simulation inputs: \n",
    "#.  1. workspace - the computational domain for the simulation, containing your material microstructure\n",
    "#.  2. cond_map - the conductivity values for each material phase. To use the isotropic solver, it has to be of type: IsotropicConductivityMap\n",
    "#.  3. direction - the simulation direction, 'x','y','z', or '' for prescribed_bc\n",
    "#.  4. side_bc - boundary condition in the non-simulation direction. Can be 'p' - periodic, 's' - symmetric\n",
    "#.  5. tolerance - accuracy of the numerical solver, defaults to 1e-5. \n",
    "#.  6. maxiter - maximum number of iterations, defaults to 10,000\n",
    "#.  7. solver_type - the iterative solver used. Can be 'bicgstab', 'cg', 'gmres', or 'direct'. Defaults to 'bicgstab'\n",
    "#.  8. matrix_free - whether to use the slower but lighter matrix-free approach (only available for the isotropic solver when solver_type!=\"direct\"), or instantiating the big sparse A matrix\n",
    "#.  9. method - whether to use finite volume (\"fv\") or finite element (\"fe\") solver\n",
    "#.  10. prescribed_bc - has to be of type IsotropicConductivityBC, and it provides a more flexible way of specifying dirichlet BC, which can be imposed on any voxel of the domain\n",
    "\n",
    "k_eff_x, T_x, q_x = puma.compute_thermal_conductivity(ws_fiberform, cond_map, 'x', 'p', tolerance=1e-3, solver_type='cg', matrix_free=True, method='fv')\n",
    "k_eff_y, T_y, q_y = puma.compute_thermal_conductivity(ws_fiberform, cond_map, 'y', 'p', tolerance=1e-3, solver_type='cg', matrix_free=True, method='fv')\n",
    "k_eff_z, T_z, q_z = puma.compute_thermal_conductivity(ws_fiberform, cond_map, 'z', 'p', tolerance=1e-3, solver_type='cg', matrix_free=True, method='fv')\n",
    "\n",
    "print(\"Effective thermal conductivity tensor:\")\n",
    "print(\"[\", k_eff_x[0], k_eff_y[0], k_eff_z[0], \"]\")\n",
    "print(\"[\", k_eff_x[1], k_eff_y[1], k_eff_z[1], \"]\")\n",
    "print(\"[\", k_eff_x[2], k_eff_y[2], k_eff_z[2], \"]\")"
   ]
  },
  {
   "cell_type": "code",
   "execution_count": 4,
   "metadata": {
    "pycharm": {
     "name": "#%%\n"
    }
   },
   "outputs": [
    {
     "name": "stderr",
     "output_type": "stream",
     "text": [
      "\u001b[0m\u001b[33m2022-11-30 14:24:46.247 ( 339.605s) [         D97E740]       vtkThreshold.cxx:96    WARN| vtkThreshold::ThresholdBetween was deprecated for VTK 9.1 and will be removed in a future version.\u001b[0m\n"
     ]
    }
   ],
   "source": [
    "# Visualize both the temperature field and the fibers\n",
    "p = pv.Plotter(notebook=notebook)\n",
    "p.add_text(\"Fibers with Temperature field for x simulation\")\n",
    "puma.render_contour(ws_fiberform, cutoff=(90, 255), notebook=notebook, add_to_plot=p, plot_directly=False)\n",
    "puma.render_volume(T_x[:, :2*T_x.shape[1]//3], solid_color=None, cmap='jet', notebook=notebook, add_to_plot=p, plot_directly=False)\n",
    "p.show()"
   ]
  },
  {
   "cell_type": "code",
   "execution_count": 5,
   "metadata": {
    "pycharm": {
     "name": "#%%\n"
    }
   },
   "outputs": [
    {
     "name": "stderr",
     "output_type": "stream",
     "text": [
      "\u001b[0m\u001b[33m2022-11-30 14:24:51.525 ( 344.883s) [         D97E740]       vtkThreshold.cxx:96    WARN| vtkThreshold::ThresholdBetween was deprecated for VTK 9.1 and will be removed in a future version.\u001b[0m\n"
     ]
    }
   ],
   "source": [
    "# Visualizing the flux magnitude: \n",
    "puma.render_volume(np.linalg.norm(q_x, axis=3), notebook=notebook, cmap='jet')"
   ]
  },
  {
   "cell_type": "markdown",
   "metadata": {
    "pycharm": {
     "name": "#%% md\n"
    }
   },
   "source": [
    "Below is an example of a thermal conductivity simulation, but now performed on a segmented image in order to show an\n",
    "alternative option."
   ]
  },
  {
   "cell_type": "code",
   "execution_count": 6,
   "metadata": {
    "pycharm": {
     "name": "#%%\n"
    }
   },
   "outputs": [
    {
     "name": "stdout",
     "output_type": "stream",
     "text": [
      "Approximate memory requirement for simulation: 227.13 MB\n",
      "Creating conductivity matrix ... Done\n",
      "Initializing temperature field ... Done\n",
      "Setting up b matrix ... Done\n",
      "Time to assemble matrices:  0.10946964799950365\n",
      "Solving Ax=b using cg solver\n",
      "Iteration: 313, driving modified residual = 0.0985467326 --> target = 0.1000000000 ... Done\n",
      "Time to solve:  64.34703252800682\n",
      "Computing flux from converged temperature field ... Done\n",
      "\n",
      "Effective conductivity tensor (first column): \n",
      "[0.991971308105981, -0.06598635779420328, -0.12038071680367157]\n",
      "\n",
      "Approximate memory requirement for simulation: 227.13 MB\n",
      "Creating conductivity matrix ... Done\n",
      "Initializing temperature field ... Done\n",
      "Setting up b matrix ... Done\n",
      "Time to assemble matrices:  0.12964265400660224\n",
      "Solving Ax=b using cg solver\n",
      "Iteration: 268, driving modified residual = 0.0997797745 --> target = 0.1000000000 ... Done\n",
      "Time to solve:  63.087780382003984\n",
      "Computing flux from converged temperature field ... Done\n",
      "\n",
      "Effective conductivity tensor (second column): \n",
      "[0.006518895140403481, 1.6187393665930885, 0.04355606254001129]\n",
      "\n",
      "Approximate memory requirement for simulation: 227.13 MB\n",
      "Creating conductivity matrix ... Done\n",
      "Initializing temperature field ... Done\n",
      "Setting up b matrix ... Done\n",
      "Time to assemble matrices:  0.12807091799913906\n",
      "Solving Ax=b using cg solver\n",
      "Iteration: 356, driving modified residual = 0.0997346353 --> target = 0.1000000000 ... Done\n",
      "Time to solve:  80.37879480099946\n",
      "Computing flux from converged temperature field ... Done\n",
      "\n",
      "Effective conductivity tensor (third column): \n",
      "[-0.07526660128883526, 0.007562526701285833, 0.5064422530723617]\n",
      "\n",
      "Effective thermal conductivity tensor:\n",
      "[ 0.991971308105981 0.006518895140403481 -0.07526660128883526 ]\n",
      "[ -0.06598635779420328 1.6187393665930885 0.007562526701285833 ]\n",
      "[ -0.12038071680367157 0.04355606254001129 0.5064422530723617 ]\n"
     ]
    }
   ],
   "source": [
    "# Segments the image. All values >= 90 are set to 1, and all values <90 are set to 0.\n",
    "ws_fiberform.binarize(90)\n",
    "\n",
    "# Generating a conductivity map. This stores the conductivity values for each phase of the material\n",
    "cond_map = puma.IsotropicConductivityMap()\n",
    "# First, we set the conductivity of the void phase to be 0.0257 (air at STP)\n",
    "cond_map.add_material((0, 0), 0.0257)\n",
    "# Next we set the conductivity of the solid phase to be 12 (typical value for carbon fiber)\n",
    "cond_map.add_material((1, 1), 12)\n",
    "# Note that the grayscale ranges have changed relative to the last example, since this image is already segmented\n",
    "\n",
    "# The thermal conductivity calculation needs to be run for each of the three simulation directions. \n",
    "# For each simulation, a temperature gradient is forced in the simulation direction, and converged to steady state\n",
    "k_eff_x, T_x, q_x = puma.compute_thermal_conductivity(ws_fiberform, cond_map, 'x', 'p', tolerance=1e-3, solver_type='cg')\n",
    "k_eff_y, T_y, q_y = puma.compute_thermal_conductivity(ws_fiberform, cond_map, 'y', 'p', tolerance=1e-3, solver_type='cg')\n",
    "k_eff_z, T_z, q_z = puma.compute_thermal_conductivity(ws_fiberform, cond_map, 'z', 'p', tolerance=1e-3, solver_type='cg')\n",
    "\n",
    "print(\"Effective thermal conductivity tensor:\")\n",
    "print(\"[\", k_eff_x[0], k_eff_y[0], k_eff_z[0], \"]\")\n",
    "print(\"[\", k_eff_x[1], k_eff_y[1], k_eff_z[1], \"]\")\n",
    "print(\"[\", k_eff_x[2], k_eff_y[2], k_eff_z[2], \"]\")"
   ]
  },
  {
   "cell_type": "code",
   "execution_count": 7,
   "metadata": {
    "pycharm": {
     "name": "#%%\n"
    }
   },
   "outputs": [
    {
     "name": "stderr",
     "output_type": "stream",
     "text": [
      "\u001b[0m\u001b[33m2022-11-30 14:29:16.139 ( 609.497s) [         D97E740]       vtkThreshold.cxx:96    WARN| vtkThreshold::ThresholdBetween was deprecated for VTK 9.1 and will be removed in a future version.\u001b[0m\n"
     ]
    }
   ],
   "source": [
    "# Visualizing the temperature field: \n",
    "puma.render_volume(T_y, solid_color=None, notebook=notebook, cmap='jet')"
   ]
  },
  {
   "cell_type": "code",
   "execution_count": 8,
   "metadata": {
    "pycharm": {
     "name": "#%%\n"
    }
   },
   "outputs": [
    {
     "name": "stderr",
     "output_type": "stream",
     "text": [
      "\u001b[0m\u001b[33m2022-11-30 14:29:20.792 ( 614.150s) [         D97E740]       vtkThreshold.cxx:96    WARN| vtkThreshold::ThresholdBetween was deprecated for VTK 9.1 and will be removed in a future version.\u001b[0m\n"
     ]
    }
   ],
   "source": [
    "# Visualizing the flux magnitude: \n",
    "puma.render_volume(np.linalg.norm(q_y, axis=3), notebook=notebook, cmap='jet')"
   ]
  },
  {
   "cell_type": "markdown",
   "metadata": {
    "pycharm": {
     "name": "#%% md\n"
    }
   },
   "source": [
    "### Anisotropic conductivity\n",
    "Next we show how to compute the conductivity if the constituent phases are anisotropic themselves. This solver is\n",
    "significantly slower because of the higher complexity of the numerical scheme used, namely the Multi-Point Flux\n",
    "Approximation (MPFA) (please refer to [this paper](https://www.sciencedirect.com/science/article/abs/pii/S092702562030447X)\n",
    "for more details on the anisotropic conductivity solver in PuMA). For this reason, we scale the domain by half in order\n",
    "to keep the runtime reasonable."
   ]
  },
  {
   "cell_type": "code",
   "execution_count": 9,
   "metadata": {
    "pycharm": {
     "name": "#%%\n"
    }
   },
   "outputs": [
    {
     "name": "stdout",
     "output_type": "stream",
     "text": [
      "Importing /home/jcfergus/miniconda/envs/puma/lib/python3.10/site-packages/pumapy/data/200_fiberform.tif ... Done\n",
      "Rescaled workspace size: (100, 100, 100)\n",
      "First gradient computation ... Done\n",
      "Blurring of gradients ... Done\n",
      "Computing eigenvalue analysis ... Done\n"
     ]
    },
    {
     "data": {
      "text/plain": [
       "True"
      ]
     },
     "execution_count": 9,
     "metadata": {},
     "output_type": "execute_result"
    }
   ],
   "source": [
    "# Import an example tomography file of size 100^3 and voxel length 1.3e-6\n",
    "ws_fiberform = puma.import_3Dtiff(puma.path_to_example_file(\"200_fiberform.tif\"), 1.3e-6)\n",
    "ws_fiberform.rescale(0.5, False)\n",
    "\n",
    "# detect the fiber orientation using the Structure Tensor\n",
    "puma.compute_orientation_st(ws_fiberform, cutoff=(90, 255), sigma=1.4, rho=0.7)"
   ]
  },
  {
   "cell_type": "code",
   "execution_count": null,
   "metadata": {
    "pycharm": {
     "name": "#%%\n"
    }
   },
   "outputs": [],
   "source": [
    "# visualize the detected orientation field\n",
    "puma.render_orientation(ws_fiberform, notebook=notebook)"
   ]
  },
  {
   "cell_type": "code",
   "execution_count": null,
   "metadata": {
    "pycharm": {
     "name": "#%%\n"
    }
   },
   "outputs": [],
   "source": [
    "# Generating a conductivity map. This stores the conductivity values for each phase of the material\n",
    "cond_map = puma.AnisotropicConductivityMap()\n",
    "# First, we set the conductivity of the void phase to be 0.0257 (air at STP)\n",
    "cond_map.add_isotropic_material((0, 89), 0.0257)\n",
    "# Next we set the conductivity of the fiber phase to be 12 along the fiber and 0.7 across it\n",
    "cond_map.add_material_to_orient((90, 255), 12., 0.7)\n",
    "\n",
    "# Simulation inputs: \n",
    "#.  1. workspace - the computational domain for the simulation, containing your material microstructure\n",
    "#.  2. cond_map - the conductivity values for each material phase. To use the isotropic solver, it has to be of type: AnisotropicConductivityMap\n",
    "#.  3. direction - the simulation direction, 'x','y','z', or '' for prescribed_bc\n",
    "#.  4. side_bc - boundary condition in the non-simulation direction. Can be 'p' - periodic, 's' - symmetric, 'd' - dirichlet\n",
    "#.  5. tolerance (optional) - accuracy of the numerical solver, defaults to 1e-4. \n",
    "#.  6. maxiter (optional) - maximum number of iterations, defaults to 10,000\n",
    "#.  7. solver_type (optional) - the iterative solver used. Can be 'bicgstab', 'cg', 'gmres', or 'direct'. Defaults to 'bicgstab'\n",
    "#.  8. method - whether to use finite volume (\"fv\") or finite element (\"fe\") solver\n",
    "#.  9. prescribed_bc - has to be of type AnisotropicConductivityBC, and it provides a more flexible way of specifying dirichlet BC, which can be imposed on any voxel of the domain\n",
    "\n",
    "# When an anisotropic conductivity map is fed, the solver automatically uses the MPFA finite volume method\n",
    "k_eff_x, T_x, q_x = puma.compute_thermal_conductivity(ws_fiberform, cond_map, 'x', 'p', tolerance=1e-3, solver_type='bicgstab', method='fv')\n",
    "k_eff_y, T_y, q_y = puma.compute_thermal_conductivity(ws_fiberform, cond_map, 'y', 'p', tolerance=1e-3, solver_type='bicgstab', method='fv')\n",
    "k_eff_z, T_z, q_z = puma.compute_thermal_conductivity(ws_fiberform, cond_map, 'z', 'p', tolerance=1e-3, solver_type='bicgstab', method='fv')\n",
    "\n",
    "print(\"Effective thermal conductivity tensor:\")\n",
    "print(\"[\", k_eff_x[0], k_eff_y[0], k_eff_z[0], \"]\")\n",
    "print(\"[\", k_eff_x[1], k_eff_y[1], k_eff_z[1], \"]\")\n",
    "print(\"[\", k_eff_x[2], k_eff_y[2], k_eff_z[2], \"]\")"
   ]
  },
  {
   "cell_type": "markdown",
   "metadata": {
    "pycharm": {
     "name": "#%% md\n"
    }
   },
   "source": [
    "If the local phases are isotropic, the anisotropic solver can still be used (although it would not be convenient\n",
    "because it is slower). As proof that the two solvers are actually giving the same answer, we could run the following case,\n",
    "in which we compute the orientation and then set the same conductivity to both the conductivity components (i.e. along\n",
    "and across a fiber):"
   ]
  },
  {
   "cell_type": "code",
   "execution_count": null,
   "metadata": {
    "pycharm": {
     "name": "#%%\n"
    }
   },
   "outputs": [],
   "source": [
    "ws_fiberform = puma.import_3Dtiff(puma.path_to_example_file(\"200_fiberform.tif\"), 1.3e-6)\n",
    "ws_fiberform.rescale(0.5, segmented=False)\n",
    "\n",
    "cond_map = puma.IsotropicConductivityMap()\n",
    "cond_map.add_material((0, 89), 0.0257)\n",
    "cond_map.add_material((90, 255), 12)\n",
    "\n",
    "print(\"\\nIsotropic solver\")\n",
    "k_eff_x, T_x, q_x = puma.compute_thermal_conductivity(ws_fiberform, cond_map, 'x', 'p', tolerance=1e-3)\n",
    "k_eff_y, T_y, q_y = puma.compute_thermal_conductivity(ws_fiberform, cond_map, 'y', 'p', tolerance=1e-3)\n",
    "k_eff_z, T_z, q_z = puma.compute_thermal_conductivity(ws_fiberform, cond_map, 'z', 'p', tolerance=1e-3)\n",
    "\n",
    "puma.compute_orientation_st(ws_fiberform, cutoff=(90, 255), sigma=1.4, rho=0.7)\n",
    "\n",
    "cond_map = puma.AnisotropicConductivityMap()\n",
    "cond_map.add_isotropic_material((0, 89), 0.0257)\n",
    "cond_map.add_material_to_orient((90, 255), 12., 12)\n",
    "\n",
    "print(\"\\nAnisotropic solver\")\n",
    "k_eff_x_ani, T_x_ani, q_x_ani = puma.compute_thermal_conductivity(ws_fiberform, cond_map, 'x', 'p', tolerance=1e-3)\n",
    "k_eff_y_ani, T_y_ani, q_y_ani = puma.compute_thermal_conductivity(ws_fiberform, cond_map, 'y', 'p', tolerance=1e-3)\n",
    "k_eff_z_ani, T_z_ani, q_z_ani = puma.compute_thermal_conductivity(ws_fiberform, cond_map, 'z', 'p', tolerance=1e-3)\n",
    "\n",
    "print(\"\\nEffective conductivity using isotropic solver\")\n",
    "print(\"[\", k_eff_x[0], k_eff_y[0], k_eff_z[0], \"]\")\n",
    "print(\"[\", k_eff_x[1], k_eff_y[1], k_eff_z[1], \"]\")\n",
    "print(\"[\", k_eff_x[2], k_eff_y[2], k_eff_z[2], \"]\")\n",
    "\n",
    "print(\"\\nEffective conductivity using anisotropic solver\")\n",
    "print(\"[\", k_eff_x_ani[0], k_eff_y_ani[0], k_eff_z_ani[0], \"]\")\n",
    "print(\"[\", k_eff_x_ani[1], k_eff_y_ani[1], k_eff_z_ani[1], \"]\")\n",
    "print(\"[\", k_eff_x_ani[2], k_eff_y_ani[2], k_eff_z_ani[2], \"]\")\n"
   ]
  },
  {
   "cell_type": "markdown",
   "metadata": {
    "pycharm": {
     "name": "#%% md\n"
    }
   },
   "source": [
    "As you can see, the tensors that have been estimated are very similar. The slight differences are coming from the high\n",
    "tolerance that was"
   ]
  },
  {
   "cell_type": "markdown",
   "metadata": {},
   "source": [
    "### Finite Element Conductivity\n",
    "\n",
    "An extra method to compute the thermal conductivity was recently added, which leverages a Finite Element solver based\n",
    "on a Q1-Q1 Element-by-element implementation. To learn more about this method, please refer to the permeability tutorial.\n",
    "In order to use it, a user can simply run similar options as for the anisotropic case above, adding a flag specifying\n",
    "that the method to be used is 'fe'. Some details on the solver:\n",
    "\n",
    "- Only periodic boundary conditions are currently available, so the side_bc flag is ignored\n",
    "- A matrix-free solution approach (slightly slower but very memory efficient) can be run when no local orientation is\n",
    "present, i.e. when the local phases are isotropic\n",
    "- The ligher and faster 'minres' iterative solver can be used since the matrices that are assembled are symmetric\n",
    "- The simulation imposes a residual flux on the whole domain, rather than a unitary temperature gradient on the boundaries"
   ]
  },
  {
   "cell_type": "code",
   "execution_count": 6,
   "metadata": {},
   "outputs": [
    {
     "name": "stdout",
     "output_type": "stream",
     "text": [
      "Importing /home/jcfergus/miniconda/envs/puma/lib/python3.10/site-packages/pumapy/data/100_fiberform.tif ... Done\n",
      "First gradient computation ... Done\n",
      "Blurring of gradients ... Done\n",
      "Computing eigenvalue analysis ... Done\n",
      "\n",
      "Anisotropic solver\n",
      "Approximate memory requirement for simulation: 192.87 MB\n",
      "Initializing indexing matrices ... Done\n",
      "Creating b vector ... Done\n",
      "Creating A matrix ... Done\n",
      "Time to assemble matrices:  25.94939553400036\n",
      "Solving Ax=b using minres solver\n",
      "Iteration: 471, driving either residual (0.0000000995, 0.0009206677) --> target = 0.0000001000 ... Done\n",
      "Time to solve:  22.872371354998904\n",
      "Computing stresses ... Done\n",
      "\n",
      "Effective conductivity tensor (first column): \n",
      "[0.06558660531913567, 0.012630539384798061, -0.014233475481976166]\n",
      "\n",
      "Approximate memory requirement for simulation: 192.87 MB\n",
      "Initializing indexing matrices ... Done\n",
      "Creating b vector ... Done\n",
      "Creating A matrix ... Done\n",
      "Time to assemble matrices:  24.912952115002554\n",
      "Solving Ax=b using minres solver\n",
      "Iteration: 476, driving either residual (0.0000000995, 0.0012200369) --> target = 0.0000001000 ... Done\n",
      "Time to solve:  23.412918671994703\n",
      "Computing stresses ... Done\n",
      "\n",
      "Effective conductivity tensor (second column): \n",
      "[0.013033241465841418, 0.5459176122130425, -0.05750121876401206]\n",
      "\n",
      "Approximate memory requirement for simulation: 192.87 MB\n",
      "Initializing indexing matrices ... Done\n",
      "Creating b vector ... Done\n",
      "Creating A matrix ... Done\n",
      "Time to assemble matrices:  24.736250991001725\n",
      "Solving Ax=b using minres solver\n",
      "Iteration: 441, driving either residual (0.0000000998, 0.0009831047) --> target = 0.0000001000 ... Done\n",
      "Time to solve:  21.43301524600247\n",
      "Computing stresses ... Done\n",
      "\n",
      "Effective conductivity tensor (third column): \n",
      "[-0.01619776746907926, -0.060455377501651954, 0.2571103976643983]\n",
      "\n",
      "\n",
      "Effective conductivity using anisotropic solver\n",
      "[ 0.06558660531913567 0.013033241465841418 -0.01619776746907926 ]\n",
      "[ 0.012630539384798061 0.5459176122130425 -0.060455377501651954 ]\n",
      "[ -0.014233475481976166 -0.05750121876401206 0.2571103976643983 ]\n"
     ]
    }
   ],
   "source": [
    "ws_fiberform = puma.import_3Dtiff(puma.path_to_example_file(\"100_fiberform.tif\"), 1.3e-6)\n",
    "# ws_fiberform.rescale(0.5, segmented=False)\n",
    "\n",
    "puma.compute_orientation_st(ws_fiberform, cutoff=(90, 255), sigma=1.4, rho=0.7)\n",
    "\n",
    "cond_map = puma.AnisotropicConductivityMap()\n",
    "cond_map.add_isotropic_material((0, 89), 0.0257)\n",
    "cond_map.add_material_to_orient((90, 255), 12., 12)\n",
    "\n",
    "print(\"\\nAnisotropic solver\")\n",
    "k_eff_x_ani_fe, T_x_ani, q_x_ani = puma.compute_thermal_conductivity(ws_fiberform, cond_map, 'x', tolerance=1e-7, solver_type='minres', method='fe')\n",
    "k_eff_y_ani_fe, T_y_ani, q_y_ani = puma.compute_thermal_conductivity(ws_fiberform, cond_map, 'y', tolerance=1e-7, solver_type='minres', method='fe')\n",
    "k_eff_z_ani_fe, T_z_ani, q_z_ani = puma.compute_thermal_conductivity(ws_fiberform, cond_map, 'z', tolerance=1e-7, solver_type='minres', method='fe')\n",
    "\n",
    "print(\"\\nEffective conductivity using anisotropic solver\")\n",
    "print(\"[\", k_eff_x_ani_fe[0], k_eff_y_ani_fe[0], k_eff_z_ani_fe[0], \"]\")\n",
    "print(\"[\", k_eff_x_ani_fe[1], k_eff_y_ani_fe[1], k_eff_z_ani_fe[1], \"]\")\n",
    "print(\"[\", k_eff_x_ani_fe[2], k_eff_y_ani_fe[2], k_eff_z_ani_fe[2], \"]\")"
   ]
  },
  {
   "cell_type": "code",
   "execution_count": null,
   "metadata": {},
   "outputs": [],
   "source": []
  }
 ],
 "metadata": {
  "kernelspec": {
   "display_name": "Python 3 (ipykernel)",
   "language": "python",
   "name": "python3"
  },
  "language_info": {
   "codemirror_mode": {
    "name": "ipython",
    "version": 3
   },
   "file_extension": ".py",
   "mimetype": "text/x-python",
   "name": "python",
   "nbconvert_exporter": "python",
   "pygments_lexer": "ipython3",
   "version": "3.10.8"
  },
  "toc-autonumbering": true
 },
 "nbformat": 4,
 "nbformat_minor": 4
}
